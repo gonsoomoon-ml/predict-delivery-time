{
 "cells": [
  {
   "cell_type": "markdown",
   "metadata": {},
   "source": [
    " # [Module 1.7] AutoGluon 훈련 및 추론\n",
    "\n",
    "이 노트북은 아래와 같은 작업을 합니다.\n",
    "- 데이터 로딩\n",
    "- AutoGluon 데이터 타입으로 변경\n",
    "- AutoGluon 훈련\n",
    "- 테스트 데이터 로딩 및 추론\n",
    "- 모델 평가\n",
    "- 피쳐 Importance 생성\n",
    "\n",
    "#### AutoGluon Tabular Prediction\n",
    "- 오토글루온 Tabular 공식 페이지 입니다. 자세한 내용은 아래 링크를 참조 하세요.\n",
    "    - https://autogluon.mxnet.io/stable/tutorials/tabular_prediction/index.html"
   ]
  },
  {
   "cell_type": "markdown",
   "metadata": {},
   "source": [
    "## 데이터 세트 로딩\n",
    "로컬에 저장된 파일을 로딩해서, 다시 한번 Shape(Row, column)을 확인하고 데이터를 확인 합니다."
   ]
  },
  {
   "cell_type": "code",
   "execution_count": 20,
   "metadata": {},
   "outputs": [],
   "source": [
    "import pandas as pd"
   ]
  },
  {
   "cell_type": "code",
   "execution_count": 21,
   "metadata": {},
   "outputs": [],
   "source": [
    "%store -r no_auto_train_file\n",
    "%store -r no_auto_test_file"
   ]
  },
  {
   "cell_type": "code",
   "execution_count": 22,
   "metadata": {},
   "outputs": [],
   "source": [
    "train_pd = pd.read_csv(no_auto_train_file)\n",
    "test_pd = pd.read_csv(no_auto_test_file)"
   ]
  },
  {
   "cell_type": "code",
   "execution_count": 23,
   "metadata": {},
   "outputs": [
    {
     "name": "stdout",
     "output_type": "stream",
     "text": [
      "auto_train_file:  (53740, 18)\n",
      "auto_train_file:  (13436, 18)\n"
     ]
    }
   ],
   "source": [
    "print(\"auto_train_file: \", train_pd.shape)\n",
    "print(\"auto_train_file: \", test_pd.shape)"
   ]
  },
  {
   "cell_type": "code",
   "execution_count": 24,
   "metadata": {},
   "outputs": [
    {
     "data": {
      "text/html": [
       "<div>\n",
       "<style scoped>\n",
       "    .dataframe tbody tr th:only-of-type {\n",
       "        vertical-align: middle;\n",
       "    }\n",
       "\n",
       "    .dataframe tbody tr th {\n",
       "        vertical-align: top;\n",
       "    }\n",
       "\n",
       "    .dataframe thead th {\n",
       "        text-align: right;\n",
       "    }\n",
       "</style>\n",
       "<table border=\"1\" class=\"dataframe\">\n",
       "  <thead>\n",
       "    <tr style=\"text-align: right;\">\n",
       "      <th></th>\n",
       "      <th>classes</th>\n",
       "      <th>customer_zip_code_prefix</th>\n",
       "      <th>customer_city</th>\n",
       "      <th>customer_state</th>\n",
       "      <th>price</th>\n",
       "      <th>freight_value</th>\n",
       "      <th>product_weight_g</th>\n",
       "      <th>product_category_name_english</th>\n",
       "      <th>seller_zip_code_prefix</th>\n",
       "      <th>seller_city</th>\n",
       "      <th>seller_state</th>\n",
       "      <th>order_weekday</th>\n",
       "      <th>order_day</th>\n",
       "      <th>order_month</th>\n",
       "      <th>customer_seller_state</th>\n",
       "      <th>customer_seller_city</th>\n",
       "      <th>customer_seller_zip_code_prefix</th>\n",
       "      <th>product_volume</th>\n",
       "    </tr>\n",
       "  </thead>\n",
       "  <tbody>\n",
       "    <tr>\n",
       "      <th>0</th>\n",
       "      <td>3</td>\n",
       "      <td>12030</td>\n",
       "      <td>taubate</td>\n",
       "      <td>SP</td>\n",
       "      <td>29.99</td>\n",
       "      <td>10.96</td>\n",
       "      <td>9000.0</td>\n",
       "      <td>fashion_shoes</td>\n",
       "      <td>13481</td>\n",
       "      <td>limeira</td>\n",
       "      <td>SP</td>\n",
       "      <td>1</td>\n",
       "      <td>4</td>\n",
       "      <td>10</td>\n",
       "      <td>SP_SP</td>\n",
       "      <td>taubate_limeira</td>\n",
       "      <td>12030_13481</td>\n",
       "      <td>2640.0</td>\n",
       "    </tr>\n",
       "    <tr>\n",
       "      <th>1</th>\n",
       "      <td>2</td>\n",
       "      <td>78075</td>\n",
       "      <td>cuiaba</td>\n",
       "      <td>MT</td>\n",
       "      <td>23.90</td>\n",
       "      <td>26.82</td>\n",
       "      <td>1500.0</td>\n",
       "      <td>furniture_decor</td>\n",
       "      <td>17051</td>\n",
       "      <td>bauru</td>\n",
       "      <td>SP</td>\n",
       "      <td>1</td>\n",
       "      <td>4</td>\n",
       "      <td>10</td>\n",
       "      <td>MT_SP</td>\n",
       "      <td>cuiaba_bauru</td>\n",
       "      <td>78075_17051</td>\n",
       "      <td>14625.0</td>\n",
       "    </tr>\n",
       "  </tbody>\n",
       "</table>\n",
       "</div>"
      ],
      "text/plain": [
       "   classes  customer_zip_code_prefix customer_city customer_state  price  \\\n",
       "0        3                     12030       taubate             SP  29.99   \n",
       "1        2                     78075        cuiaba             MT  23.90   \n",
       "\n",
       "   freight_value  product_weight_g product_category_name_english  \\\n",
       "0          10.96            9000.0                 fashion_shoes   \n",
       "1          26.82            1500.0               furniture_decor   \n",
       "\n",
       "   seller_zip_code_prefix seller_city seller_state  order_weekday  order_day  \\\n",
       "0                   13481     limeira           SP              1          4   \n",
       "1                   17051       bauru           SP              1          4   \n",
       "\n",
       "   order_month customer_seller_state customer_seller_city  \\\n",
       "0           10                 SP_SP      taubate_limeira   \n",
       "1           10                 MT_SP         cuiaba_bauru   \n",
       "\n",
       "  customer_seller_zip_code_prefix  product_volume  \n",
       "0                     12030_13481          2640.0  \n",
       "1                     78075_17051         14625.0  "
      ]
     },
     "metadata": {},
     "output_type": "display_data"
    },
    {
     "data": {
      "text/html": [
       "<div>\n",
       "<style scoped>\n",
       "    .dataframe tbody tr th:only-of-type {\n",
       "        vertical-align: middle;\n",
       "    }\n",
       "\n",
       "    .dataframe tbody tr th {\n",
       "        vertical-align: top;\n",
       "    }\n",
       "\n",
       "    .dataframe thead th {\n",
       "        text-align: right;\n",
       "    }\n",
       "</style>\n",
       "<table border=\"1\" class=\"dataframe\">\n",
       "  <thead>\n",
       "    <tr style=\"text-align: right;\">\n",
       "      <th></th>\n",
       "      <th>classes</th>\n",
       "      <th>customer_zip_code_prefix</th>\n",
       "      <th>customer_city</th>\n",
       "      <th>customer_state</th>\n",
       "      <th>price</th>\n",
       "      <th>freight_value</th>\n",
       "      <th>product_weight_g</th>\n",
       "      <th>product_category_name_english</th>\n",
       "      <th>seller_zip_code_prefix</th>\n",
       "      <th>seller_city</th>\n",
       "      <th>seller_state</th>\n",
       "      <th>order_weekday</th>\n",
       "      <th>order_day</th>\n",
       "      <th>order_month</th>\n",
       "      <th>customer_seller_state</th>\n",
       "      <th>customer_seller_city</th>\n",
       "      <th>customer_seller_zip_code_prefix</th>\n",
       "      <th>product_volume</th>\n",
       "    </tr>\n",
       "  </thead>\n",
       "  <tbody>\n",
       "    <tr>\n",
       "      <th>0</th>\n",
       "      <td>3</td>\n",
       "      <td>89219</td>\n",
       "      <td>joinville</td>\n",
       "      <td>SC</td>\n",
       "      <td>105.00</td>\n",
       "      <td>23.89</td>\n",
       "      <td>1000.0</td>\n",
       "      <td>watches_gifts</td>\n",
       "      <td>21840</td>\n",
       "      <td>rio de janeiro</td>\n",
       "      <td>RJ</td>\n",
       "      <td>1</td>\n",
       "      <td>19</td>\n",
       "      <td>6</td>\n",
       "      <td>SC_RJ</td>\n",
       "      <td>joinville_rio de janeiro</td>\n",
       "      <td>89219_21840</td>\n",
       "      <td>7632.0</td>\n",
       "    </tr>\n",
       "    <tr>\n",
       "      <th>1</th>\n",
       "      <td>0</td>\n",
       "      <td>9950</td>\n",
       "      <td>diadema</td>\n",
       "      <td>SP</td>\n",
       "      <td>99.97</td>\n",
       "      <td>15.80</td>\n",
       "      <td>650.0</td>\n",
       "      <td>housewares</td>\n",
       "      <td>32677</td>\n",
       "      <td>betim</td>\n",
       "      <td>MG</td>\n",
       "      <td>1</td>\n",
       "      <td>19</td>\n",
       "      <td>6</td>\n",
       "      <td>SP_MG</td>\n",
       "      <td>diadema_betim</td>\n",
       "      <td>9950_32677</td>\n",
       "      <td>9600.0</td>\n",
       "    </tr>\n",
       "  </tbody>\n",
       "</table>\n",
       "</div>"
      ],
      "text/plain": [
       "   classes  customer_zip_code_prefix customer_city customer_state   price  \\\n",
       "0        3                     89219     joinville             SC  105.00   \n",
       "1        0                      9950       diadema             SP   99.97   \n",
       "\n",
       "   freight_value  product_weight_g product_category_name_english  \\\n",
       "0          23.89            1000.0                 watches_gifts   \n",
       "1          15.80             650.0                    housewares   \n",
       "\n",
       "   seller_zip_code_prefix     seller_city seller_state  order_weekday  \\\n",
       "0                   21840  rio de janeiro           RJ              1   \n",
       "1                   32677           betim           MG              1   \n",
       "\n",
       "   order_day  order_month customer_seller_state      customer_seller_city  \\\n",
       "0         19            6                 SC_RJ  joinville_rio de janeiro   \n",
       "1         19            6                 SP_MG             diadema_betim   \n",
       "\n",
       "  customer_seller_zip_code_prefix  product_volume  \n",
       "0                     89219_21840          7632.0  \n",
       "1                      9950_32677          9600.0  "
      ]
     },
     "metadata": {},
     "output_type": "display_data"
    }
   ],
   "source": [
    "from IPython.display import display as dp\n",
    "dp(train_pd.head(2))\n",
    "dp(test_pd.head(2))"
   ]
  },
  {
   "cell_type": "code",
   "execution_count": 25,
   "metadata": {},
   "outputs": [],
   "source": [
    "import autogluon.core as ag\n",
    "from autogluon.tabular import TabularPrediction as task\n",
    "# from autogluon import TabularPrediction as task"
   ]
  },
  {
   "cell_type": "markdown",
   "metadata": {},
   "source": [
    "## 오토글루온 데이터 타입으로 변경\n",
    "로컬에 저장된 파일을 오토글로온의 Tabular 데이터 타입으로 로딩 합니다. 이후 랜덤 샘플링을 하고 데이터를 확인 합니다."
   ]
  },
  {
   "cell_type": "code",
   "execution_count": 26,
   "metadata": {},
   "outputs": [
    {
     "name": "stderr",
     "output_type": "stream",
     "text": [
      "Loaded data from: preproc_data/auto_no_fe/train.csv | Columns = 18 / 18 | Rows = 53740 -> 53740\n"
     ]
    },
    {
     "name": "stdout",
     "output_type": "stream",
     "text": [
      "       classes  customer_zip_code_prefix         customer_city customer_state  \\\n",
      "588          2                     83260              matinhos             PR   \n",
      "45386        3                     84010          ponta grossa             PR   \n",
      "9427         3                      3828             sao paulo             SP   \n",
      "46834        2                     29370  conceicao do castelo             ES   \n",
      "2383         3                     78070                cuiaba             MT   \n",
      "\n",
      "        price  freight_value  product_weight_g product_category_name_english  \\\n",
      "588     59.99          18.00             525.0                sports_leisure   \n",
      "45386  120.00          18.72            1300.0     construction_tools_lights   \n",
      "9427   189.99          23.91           12675.0              office_furniture   \n",
      "46834   49.99          18.23             500.0                 watches_gifts   \n",
      "2383   174.90          16.92             375.0           luggage_accessories   \n",
      "\n",
      "       seller_zip_code_prefix            seller_city seller_state  \\\n",
      "588                     13456  santa barbara d'oeste           SP   \n",
      "45386                   13327                  salto           SP   \n",
      "9427                     8577        itaquaquecetuba           SP   \n",
      "46834                    3573              sao paulo           SP   \n",
      "2383                    74930   aparecida de goiania           GO   \n",
      "\n",
      "       order_weekday  order_day  order_month customer_seller_state  \\\n",
      "588                0         30            1                 PR_SP   \n",
      "45386              4         27            4                 PR_SP   \n",
      "9427               5         24            6                 SP_SP   \n",
      "46834              5          5            5                 ES_SP   \n",
      "2383               5         11            3                 MT_GO   \n",
      "\n",
      "                 customer_seller_city customer_seller_zip_code_prefix  \\\n",
      "588    matinhos_santa barbara d'oeste                     83260_13456   \n",
      "45386              ponta grossa_salto                     84010_13327   \n",
      "9427        sao paulo_itaquaquecetuba                       3828_8577   \n",
      "46834  conceicao do castelo_sao paulo                      29370_3573   \n",
      "2383      cuiaba_aparecida de goiania                     78070_74930   \n",
      "\n",
      "       product_volume  \n",
      "588            9280.0  \n",
      "45386          4864.0  \n",
      "9427          94080.0  \n",
      "46834          6400.0  \n",
      "2383          15428.0  \n"
     ]
    }
   ],
   "source": [
    "train_data = task.Dataset(file_path= no_auto_train_file)\n",
    "subsample_size = train_data.shape[0]\n",
    "# subsample_size = 500  # subsample subset of data for faster demo, try setting this to much larger values\n",
    "train_data = train_data.sample(n=subsample_size, random_state=0)\n",
    "print(train_data.head())"
   ]
  },
  {
   "cell_type": "markdown",
   "metadata": {},
   "source": [
    "### 레이블 컬럼 지정\n",
    "**레이블 컬럼을 지정하여, 오토글루온이 이 컬럼을 레이블로 인식하게 합니다.**"
   ]
  },
  {
   "cell_type": "code",
   "execution_count": 27,
   "metadata": {},
   "outputs": [
    {
     "name": "stdout",
     "output_type": "stream",
     "text": [
      "Summary of class variable: \n",
      " count    53740.000000\n",
      "mean         2.178675\n",
      "std          1.152687\n",
      "min          0.000000\n",
      "25%          1.000000\n",
      "50%          2.000000\n",
      "75%          3.000000\n",
      "max          4.000000\n",
      "Name: classes, dtype: float64\n"
     ]
    }
   ],
   "source": [
    "label_column = 'classes'\n",
    "print(\"Summary of class variable: \\n\", train_data[label_column].describe())"
   ]
  },
  {
   "cell_type": "markdown",
   "metadata": {},
   "source": [
    "## 오토글루운으로 훈련\n",
    "- 시간 제약을 2시간으로 합니다. 하지만 아래 훈련은 약 5분 소요 됩니다.\n",
    "- 하지만 presets를 best_quality 으로 설정하면, 시간은 약 1시간 30분이 소요 됩니다. 하지만 이 경우에는 성능은 다소 올라갑니다. 다른 데이터 세트의 경우는 성능이 올라가는 정도가 다를 수 있습니다. "
   ]
  },
  {
   "cell_type": "code",
   "execution_count": 28,
   "metadata": {},
   "outputs": [
    {
     "name": "stderr",
     "output_type": "stream",
     "text": [
      "Beginning AutoGluon training ... Time limit = 7200s\n",
      "AutoGluon will save models to agModels-predictClass/\n",
      "AutoGluon Version:  0.0.15b20201025\n",
      "Train Data Rows:    53740\n",
      "Train Data Columns: 17\n",
      "Preprocessing data ...\n",
      "AutoGluon infers your prediction problem is: 'multiclass' (because dtype of label-column == int, but few unique label-values observed).\n",
      "\t5 unique label values:  [2, 3, 1, 0, 4]\n",
      "\tIf 'multiclass' is not the correct problem_type, please manually specify the problem_type argument in fit() (You may specify problem_type as one of: ['binary', 'multiclass', 'regression'])\n",
      "Train Data Class Count: 5\n",
      "Using Feature Generators to preprocess the data ...\n",
      "Fitting AutoMLPipelineFeatureGenerator...\n",
      "\tAvailable Memory:                    61122.4 MB\n",
      "\tTrain Data (Original)  Memory Usage: 32.8 MB (0.1% of available memory)\n",
      "\tInferring data type of each feature based on column values. Set feature_metadata_in to manually specify special dtypes of the features.\n",
      "\tStage 1 Generators:\n",
      "\t\tFitting AsTypeFeatureGenerator...\n",
      "\tStage 2 Generators:\n",
      "\t\tFitting FillNaFeatureGenerator...\n",
      "\tStage 3 Generators:\n",
      "\t\tFitting IdentityFeatureGenerator...\n",
      "\t\tFitting CategoryFeatureGenerator...\n",
      "\t\t\tFitting CategoryMemoryMinimizeFeatureGenerator...\n",
      "\tStage 4 Generators:\n",
      "\t\tFitting DropUniqueFeatureGenerator...\n",
      "\tTypes of features in original data (raw dtype, special dtypes):\n",
      "\t\t('float', [])  : 4 | ['price', 'freight_value', 'product_weight_g', 'product_volume']\n",
      "\t\t('int', [])    : 5 | ['customer_zip_code_prefix', 'seller_zip_code_prefix', 'order_weekday', 'order_day', 'order_month']\n",
      "\t\t('object', []) : 8 | ['customer_city', 'customer_state', 'product_category_name_english', 'seller_city', 'seller_state', ...]\n",
      "\tTypes of features in processed data (raw dtype, special dtypes):\n",
      "\t\t('category', []) : 8 | ['customer_city', 'customer_state', 'product_category_name_english', 'seller_city', 'seller_state', ...]\n",
      "\t\t('float', [])    : 4 | ['price', 'freight_value', 'product_weight_g', 'product_volume']\n",
      "\t\t('int', [])      : 5 | ['customer_zip_code_prefix', 'seller_zip_code_prefix', 'order_weekday', 'order_day', 'order_month']\n",
      "\t0.7s = Fit runtime\n",
      "\t17 features in original data used to generate 17 features in processed data.\n",
      "\tTrain Data (Processed) Memory Usage: 5.71 MB (0.0% of available memory)\n",
      "Data preprocessing and feature engineering runtime = 0.76s ...\n",
      "AutoGluon will gauge predictive performance using evaluation metric: 'accuracy'\n",
      "\tTo change this, specify the eval_metric argument of fit()\n",
      "AutoGluon will early stop models using evaluation metric: 'accuracy'\n",
      "Fitting model: NeuralNetClassifier ... Training model for up to 7199.24s of the 7199.24s of remaining time.\n",
      "\t0.4664\t = Validation accuracy score\n",
      "\t149.43s\t = Training runtime\n",
      "\t2.0s\t = Validation runtime\n",
      "Fitting model: KNeighborsClassifierUnif ... Training model for up to 7047.79s of the 7047.79s of remaining time.\n",
      "\t0.3292\t = Validation accuracy score\n",
      "\t0.06s\t = Training runtime\n",
      "\t0.11s\t = Validation runtime\n",
      "Fitting model: KNeighborsClassifierDist ... Training model for up to 7047.6s of the 7047.6s of remaining time.\n",
      "\t0.3112\t = Validation accuracy score\n",
      "\t0.06s\t = Training runtime\n",
      "\t0.11s\t = Validation runtime\n",
      "Fitting model: RandomForestClassifierGini ... Training model for up to 7047.41s of the 7047.41s of remaining time.\n",
      "\t0.4516\t = Validation accuracy score\n",
      "\t2.41s\t = Training runtime\n",
      "\t0.12s\t = Validation runtime\n",
      "Fitting model: RandomForestClassifierEntr ... Training model for up to 7040.62s of the 7040.61s of remaining time.\n",
      "\t0.4552\t = Validation accuracy score\n",
      "\t4.66s\t = Training runtime\n",
      "\t0.12s\t = Validation runtime\n",
      "Fitting model: ExtraTreesClassifierGini ... Training model for up to 7031.83s of the 7031.83s of remaining time.\n",
      "\t0.4356\t = Validation accuracy score\n",
      "\t1.58s\t = Training runtime\n",
      "\t0.11s\t = Validation runtime\n",
      "Fitting model: ExtraTreesClassifierEntr ... Training model for up to 7019.54s of the 7019.54s of remaining time.\n",
      "\t0.432\t = Validation accuracy score\n",
      "\t1.88s\t = Training runtime\n",
      "\t0.11s\t = Validation runtime\n",
      "Fitting model: LightGBMClassifier ... Training model for up to 7006.99s of the 7006.99s of remaining time.\n",
      "\t0.456\t = Validation accuracy score\n",
      "\t1.18s\t = Training runtime\n",
      "\t0.03s\t = Validation runtime\n",
      "Fitting model: LightGBMClassifierXT ... Training model for up to 7005.76s of the 7005.76s of remaining time.\n",
      "\t0.462\t = Validation accuracy score\n",
      "\t1.36s\t = Training runtime\n",
      "\t0.03s\t = Validation runtime\n",
      "Fitting model: CatboostClassifier ... Training model for up to 7004.34s of the 7004.34s of remaining time.\n",
      "\t0.4612\t = Validation accuracy score\n",
      "\t5.08s\t = Training runtime\n",
      "\t0.06s\t = Validation runtime\n",
      "Fitting model: LightGBMClassifierCustom ... Training model for up to 6999.17s of the 6999.17s of remaining time.\n",
      "\t0.4632\t = Validation accuracy score\n",
      "\t3.12s\t = Training runtime\n",
      "\t0.04s\t = Validation runtime\n",
      "Fitting model: weighted_ensemble_k0_l1 ... Training model for up to 719.92s of the 6986.74s of remaining time.\n",
      "\t0.4816\t = Validation accuracy score\n",
      "\t0.6s\t = Training runtime\n",
      "\t0.0s\t = Validation runtime\n",
      "AutoGluon training complete, total runtime = 213.93s ...\n"
     ]
    },
    {
     "name": "stdout",
     "output_type": "stream",
     "text": [
      "CPU times: user 28min 41s, sys: 14min 25s, total: 43min 6s\n",
      "Wall time: 3min 33s\n"
     ]
    }
   ],
   "source": [
    "%%time\n",
    "dir = 'agModels-predictClass'  # specifies folder where to store trained models\n",
    "time_limits = 7200 # seconds\n",
    "# presets = 'best선_quality'\n",
    "presets = 'medium_quality_faster_train'\n",
    "\n",
    "predictor = task.fit(train_data=train_data, label=label_column, \n",
    "                     output_directory=dir,\n",
    "                     time_limits=time_limits,\n",
    "                     presets=presets)\n",
    "\n"
   ]
  },
  {
   "cell_type": "markdown",
   "metadata": {},
   "source": [
    "## 테스트 데이터 로딩\n",
    "- 테스트 데이터를 로딩하여 모델을 평가 합니다.\n",
    "- 여기서는 y_test의 레이블만 가지고 있는 변수를 생성\n",
    "- test_data_nolab는 레이블만 없는 피쳐만으로 구성된 데이터를 생성 합니다."
   ]
  },
  {
   "cell_type": "code",
   "execution_count": 29,
   "metadata": {},
   "outputs": [
    {
     "name": "stderr",
     "output_type": "stream",
     "text": [
      "Loaded data from: preproc_data/auto_no_fe/test.csv | Columns = 18 / 18 | Rows = 13436 -> 13436\n"
     ]
    },
    {
     "name": "stdout",
     "output_type": "stream",
     "text": [
      "   customer_zip_code_prefix   customer_city customer_state   price  \\\n",
      "0                     89219       joinville             SC  105.00   \n",
      "1                      9950         diadema             SP   99.97   \n",
      "2                     25963     teresopolis             RJ   76.99   \n",
      "3                     21330  rio de janeiro             RJ   64.90   \n",
      "4                     29090         vitoria             ES   75.00   \n",
      "\n",
      "   freight_value  product_weight_g product_category_name_english  \\\n",
      "0          23.89            1000.0                 watches_gifts   \n",
      "1          15.80             650.0                    housewares   \n",
      "2          23.34            1850.0               books_technical   \n",
      "3          15.55             200.0                    cool_stuff   \n",
      "4          27.51            2550.0               furniture_decor   \n",
      "\n",
      "   seller_zip_code_prefix     seller_city seller_state  order_weekday  \\\n",
      "0                   21840  rio de janeiro           RJ              1   \n",
      "1                   32677           betim           MG              1   \n",
      "2                    2274       sao paulo           SP              1   \n",
      "3                    4809       sao paulo           SP              1   \n",
      "4                    3204       sao paulo           SP              1   \n",
      "\n",
      "   order_day  order_month customer_seller_state      customer_seller_city  \\\n",
      "0         19            6                 SC_RJ  joinville_rio de janeiro   \n",
      "1         19            6                 SP_MG             diadema_betim   \n",
      "2         19            6                 RJ_SP     teresopolis_sao paulo   \n",
      "3         19            6                 RJ_SP  rio de janeiro_sao paulo   \n",
      "4         19            6                 ES_SP         vitoria_sao paulo   \n",
      "\n",
      "  customer_seller_zip_code_prefix  product_volume  \n",
      "0                     89219_21840          7632.0  \n",
      "1                      9950_32677          9600.0  \n",
      "2                      25963_2274          3000.0  \n",
      "3                      21330_4809          4752.0  \n",
      "4                      29090_3204         31500.0  \n"
     ]
    }
   ],
   "source": [
    "test_data = task.Dataset(file_path= no_auto_test_file)\n",
    "y_test = test_data[label_column]  # values to predict\n",
    "test_data_nolab = test_data.drop(labels=[label_column],axis=1)  # delete label column to prove we're not cheating\n",
    "print(test_data_nolab.head())"
   ]
  },
  {
   "cell_type": "markdown",
   "metadata": {},
   "source": [
    "## 모델 예측\n",
    "- 생성된 모델을 통해서 추론(예측)을 합니다.\n",
    "- 진실값 (y_test), 예측값(prediction)을 제공하여 accuracy, f1, precision, recall 를 계산 합니다."
   ]
  },
  {
   "cell_type": "code",
   "execution_count": 30,
   "metadata": {},
   "outputs": [
    {
     "name": "stderr",
     "output_type": "stream",
     "text": [
      "Evaluation: accuracy on test data: 0.4272849062220899\n",
      "Evaluations on test data:\n",
      "{\n",
      "    \"accuracy\": 0.4272849062220899,\n",
      "    \"accuracy_score\": 0.4272849062220899,\n",
      "    \"balanced_accuracy_score\": 0.4157645867033414,\n",
      "    \"matthews_corrcoef\": 0.2445000202421664\n",
      "}\n",
      "Detailed (per-class) classification report:\n",
      "{\n",
      "    \"0\": {\n",
      "        \"precision\": 0.6497512437810945,\n",
      "        \"recall\": 0.38299120234604106,\n",
      "        \"f1-score\": 0.4819188191881919,\n",
      "        \"support\": 1705\n",
      "    },\n",
      "    \"1\": {\n",
      "        \"precision\": 0.5159121470192739,\n",
      "        \"recall\": 0.27654973570398844,\n",
      "        \"f1-score\": 0.3600813389644924,\n",
      "        \"support\": 4162\n",
      "    },\n",
      "    \"2\": {\n",
      "        \"precision\": 0.4427645788336933,\n",
      "        \"recall\": 0.5424476295479603,\n",
      "        \"f1-score\": 0.4875631751065305,\n",
      "        \"support\": 4535\n",
      "    },\n",
      "    \"3\": {\n",
      "        \"precision\": 0.3353915239966321,\n",
      "        \"recall\": 0.5511992619926199,\n",
      "        \"f1-score\": 0.4170301867038911,\n",
      "        \"support\": 2168\n",
      "    },\n",
      "    \"4\": {\n",
      "        \"precision\": 0.2608695652173913,\n",
      "        \"recall\": 0.325635103926097,\n",
      "        \"f1-score\": 0.2896764252696456,\n",
      "        \"support\": 866\n",
      "    },\n",
      "    \"accuracy\": 0.4272849062220899,\n",
      "    \"macro avg\": {\n",
      "        \"precision\": 0.44093781176961705,\n",
      "        \"recall\": 0.4157645867033414,\n",
      "        \"f1-score\": 0.4072539890465503,\n",
      "        \"support\": 13436\n",
      "    },\n",
      "    \"weighted avg\": {\n",
      "        \"precision\": 0.4626400311889508,\n",
      "        \"recall\": 0.4272849062220899,\n",
      "        \"f1-score\": 0.42322196692853153,\n",
      "        \"support\": 13436\n",
      "    }\n",
      "}\n"
     ]
    },
    {
     "name": "stdout",
     "output_type": "stream",
     "text": [
      "Predictions:   [2 2 2 ... 2 0 0]\n"
     ]
    }
   ],
   "source": [
    "predictor = task.load(dir)  # unnecessary, just demonstrates how to load previously-trained predictor from file\n",
    "\n",
    "prediction = predictor.predict(test_data_nolab)\n",
    "print(\"Predictions:  \", prediction)\n",
    "perf = predictor.evaluate_predictions(y_true=y_test, y_pred=prediction, auxiliary_metrics=True)"
   ]
  },
  {
   "cell_type": "markdown",
   "metadata": {},
   "source": [
    "아래는 5개의 레이블에 대한 예측 확률을 보여 줌.\n",
    "- API URL: https://auto.gluon.ai/api/autogluon.task.html#module-autogluon.tabular.tabular_prediction"
   ]
  },
  {
   "cell_type": "code",
   "execution_count": 31,
   "metadata": {},
   "outputs": [
    {
     "data": {
      "text/plain": [
       "array([[0.01553254, 0.05836663, 0.42110646, 0.29580975, 0.20918459]],\n",
       "      dtype=float32)"
      ]
     },
     "execution_count": 31,
     "metadata": {},
     "output_type": "execute_result"
    }
   ],
   "source": [
    "prediction_prob = predictor.predict_proba(test_data_nolab[0:1])\n",
    "prediction_prob"
   ]
  },
  {
   "cell_type": "markdown",
   "metadata": {},
   "source": [
    "## 리더 보드 생성\n",
    "오토글루온에서 사용된 알고리즘의 성능 관련 지표를 확인 합니다. (예: score_test)"
   ]
  },
  {
   "cell_type": "code",
   "execution_count": 32,
   "metadata": {},
   "outputs": [
    {
     "data": {
      "text/html": [
       "<div>\n",
       "<style scoped>\n",
       "    .dataframe tbody tr th:only-of-type {\n",
       "        vertical-align: middle;\n",
       "    }\n",
       "\n",
       "    .dataframe tbody tr th {\n",
       "        vertical-align: top;\n",
       "    }\n",
       "\n",
       "    .dataframe thead th {\n",
       "        text-align: right;\n",
       "    }\n",
       "</style>\n",
       "<table border=\"1\" class=\"dataframe\">\n",
       "  <thead>\n",
       "    <tr style=\"text-align: right;\">\n",
       "      <th></th>\n",
       "      <th>model</th>\n",
       "      <th>score_test</th>\n",
       "      <th>score_val</th>\n",
       "      <th>pred_time_test</th>\n",
       "      <th>pred_time_val</th>\n",
       "      <th>fit_time</th>\n",
       "      <th>pred_time_test_marginal</th>\n",
       "      <th>pred_time_val_marginal</th>\n",
       "      <th>fit_time_marginal</th>\n",
       "      <th>stack_level</th>\n",
       "      <th>can_infer</th>\n",
       "      <th>fit_order</th>\n",
       "    </tr>\n",
       "  </thead>\n",
       "  <tbody>\n",
       "    <tr>\n",
       "      <th>0</th>\n",
       "      <td>CatboostClassifier</td>\n",
       "      <td>0.456758</td>\n",
       "      <td>0.4612</td>\n",
       "      <td>0.081877</td>\n",
       "      <td>0.061523</td>\n",
       "      <td>5.079987</td>\n",
       "      <td>0.081877</td>\n",
       "      <td>0.061523</td>\n",
       "      <td>5.079987</td>\n",
       "      <td>0</td>\n",
       "      <td>True</td>\n",
       "      <td>10</td>\n",
       "    </tr>\n",
       "    <tr>\n",
       "      <th>1</th>\n",
       "      <td>LightGBMClassifierXT</td>\n",
       "      <td>0.440979</td>\n",
       "      <td>0.4620</td>\n",
       "      <td>0.091111</td>\n",
       "      <td>0.032794</td>\n",
       "      <td>1.363854</td>\n",
       "      <td>0.091111</td>\n",
       "      <td>0.032794</td>\n",
       "      <td>1.363854</td>\n",
       "      <td>0</td>\n",
       "      <td>True</td>\n",
       "      <td>9</td>\n",
       "    </tr>\n",
       "    <tr>\n",
       "      <th>2</th>\n",
       "      <td>LightGBMClassifierCustom</td>\n",
       "      <td>0.440086</td>\n",
       "      <td>0.4632</td>\n",
       "      <td>0.127292</td>\n",
       "      <td>0.036221</td>\n",
       "      <td>3.115235</td>\n",
       "      <td>0.127292</td>\n",
       "      <td>0.036221</td>\n",
       "      <td>3.115235</td>\n",
       "      <td>0</td>\n",
       "      <td>True</td>\n",
       "      <td>11</td>\n",
       "    </tr>\n",
       "    <tr>\n",
       "      <th>3</th>\n",
       "      <td>RandomForestClassifierEntr</td>\n",
       "      <td>0.439119</td>\n",
       "      <td>0.4552</td>\n",
       "      <td>0.740434</td>\n",
       "      <td>0.116301</td>\n",
       "      <td>4.664356</td>\n",
       "      <td>0.740434</td>\n",
       "      <td>0.116301</td>\n",
       "      <td>4.664356</td>\n",
       "      <td>0</td>\n",
       "      <td>True</td>\n",
       "      <td>5</td>\n",
       "    </tr>\n",
       "    <tr>\n",
       "      <th>4</th>\n",
       "      <td>LightGBMClassifier</td>\n",
       "      <td>0.436514</td>\n",
       "      <td>0.4560</td>\n",
       "      <td>0.072848</td>\n",
       "      <td>0.031136</td>\n",
       "      <td>1.182186</td>\n",
       "      <td>0.072848</td>\n",
       "      <td>0.031136</td>\n",
       "      <td>1.182186</td>\n",
       "      <td>0</td>\n",
       "      <td>True</td>\n",
       "      <td>8</td>\n",
       "    </tr>\n",
       "    <tr>\n",
       "      <th>5</th>\n",
       "      <td>RandomForestClassifierGini</td>\n",
       "      <td>0.430932</td>\n",
       "      <td>0.4516</td>\n",
       "      <td>1.033364</td>\n",
       "      <td>0.115428</td>\n",
       "      <td>2.405851</td>\n",
       "      <td>1.033364</td>\n",
       "      <td>0.115428</td>\n",
       "      <td>2.405851</td>\n",
       "      <td>0</td>\n",
       "      <td>True</td>\n",
       "      <td>4</td>\n",
       "    </tr>\n",
       "    <tr>\n",
       "      <th>6</th>\n",
       "      <td>weighted_ensemble_k0_l1</td>\n",
       "      <td>0.427285</td>\n",
       "      <td>0.4816</td>\n",
       "      <td>12.680797</td>\n",
       "      <td>2.356653</td>\n",
       "      <td>163.690503</td>\n",
       "      <td>0.054775</td>\n",
       "      <td>0.000917</td>\n",
       "      <td>0.597266</td>\n",
       "      <td>1</td>\n",
       "      <td>True</td>\n",
       "      <td>12</td>\n",
       "    </tr>\n",
       "    <tr>\n",
       "      <th>7</th>\n",
       "      <td>ExtraTreesClassifierEntr</td>\n",
       "      <td>0.420214</td>\n",
       "      <td>0.4320</td>\n",
       "      <td>2.382165</td>\n",
       "      <td>0.114398</td>\n",
       "      <td>1.884356</td>\n",
       "      <td>2.382165</td>\n",
       "      <td>0.114398</td>\n",
       "      <td>1.884356</td>\n",
       "      <td>0</td>\n",
       "      <td>True</td>\n",
       "      <td>7</td>\n",
       "    </tr>\n",
       "    <tr>\n",
       "      <th>8</th>\n",
       "      <td>ExtraTreesClassifierGini</td>\n",
       "      <td>0.414186</td>\n",
       "      <td>0.4356</td>\n",
       "      <td>2.191764</td>\n",
       "      <td>0.113517</td>\n",
       "      <td>1.583464</td>\n",
       "      <td>2.191764</td>\n",
       "      <td>0.113517</td>\n",
       "      <td>1.583464</td>\n",
       "      <td>0</td>\n",
       "      <td>True</td>\n",
       "      <td>6</td>\n",
       "    </tr>\n",
       "    <tr>\n",
       "      <th>9</th>\n",
       "      <td>KNeighborsClassifierUnif</td>\n",
       "      <td>0.333433</td>\n",
       "      <td>0.3292</td>\n",
       "      <td>0.215595</td>\n",
       "      <td>0.108770</td>\n",
       "      <td>0.062951</td>\n",
       "      <td>0.215595</td>\n",
       "      <td>0.108770</td>\n",
       "      <td>0.062951</td>\n",
       "      <td>0</td>\n",
       "      <td>True</td>\n",
       "      <td>2</td>\n",
       "    </tr>\n",
       "    <tr>\n",
       "      <th>10</th>\n",
       "      <td>NeuralNetClassifier</td>\n",
       "      <td>0.333358</td>\n",
       "      <td>0.4664</td>\n",
       "      <td>8.928476</td>\n",
       "      <td>1.997030</td>\n",
       "      <td>149.425622</td>\n",
       "      <td>8.928476</td>\n",
       "      <td>1.997030</td>\n",
       "      <td>149.425622</td>\n",
       "      <td>0</td>\n",
       "      <td>True</td>\n",
       "      <td>1</td>\n",
       "    </tr>\n",
       "    <tr>\n",
       "      <th>11</th>\n",
       "      <td>KNeighborsClassifierDist</td>\n",
       "      <td>0.304481</td>\n",
       "      <td>0.3112</td>\n",
       "      <td>0.380385</td>\n",
       "      <td>0.109764</td>\n",
       "      <td>0.062120</td>\n",
       "      <td>0.380385</td>\n",
       "      <td>0.109764</td>\n",
       "      <td>0.062120</td>\n",
       "      <td>0</td>\n",
       "      <td>True</td>\n",
       "      <td>3</td>\n",
       "    </tr>\n",
       "  </tbody>\n",
       "</table>\n",
       "</div>"
      ],
      "text/plain": [
       "                         model  score_test  score_val  pred_time_test  \\\n",
       "0           CatboostClassifier    0.456758     0.4612        0.081877   \n",
       "1         LightGBMClassifierXT    0.440979     0.4620        0.091111   \n",
       "2     LightGBMClassifierCustom    0.440086     0.4632        0.127292   \n",
       "3   RandomForestClassifierEntr    0.439119     0.4552        0.740434   \n",
       "4           LightGBMClassifier    0.436514     0.4560        0.072848   \n",
       "5   RandomForestClassifierGini    0.430932     0.4516        1.033364   \n",
       "6      weighted_ensemble_k0_l1    0.427285     0.4816       12.680797   \n",
       "7     ExtraTreesClassifierEntr    0.420214     0.4320        2.382165   \n",
       "8     ExtraTreesClassifierGini    0.414186     0.4356        2.191764   \n",
       "9     KNeighborsClassifierUnif    0.333433     0.3292        0.215595   \n",
       "10         NeuralNetClassifier    0.333358     0.4664        8.928476   \n",
       "11    KNeighborsClassifierDist    0.304481     0.3112        0.380385   \n",
       "\n",
       "    pred_time_val    fit_time  pred_time_test_marginal  \\\n",
       "0        0.061523    5.079987                 0.081877   \n",
       "1        0.032794    1.363854                 0.091111   \n",
       "2        0.036221    3.115235                 0.127292   \n",
       "3        0.116301    4.664356                 0.740434   \n",
       "4        0.031136    1.182186                 0.072848   \n",
       "5        0.115428    2.405851                 1.033364   \n",
       "6        2.356653  163.690503                 0.054775   \n",
       "7        0.114398    1.884356                 2.382165   \n",
       "8        0.113517    1.583464                 2.191764   \n",
       "9        0.108770    0.062951                 0.215595   \n",
       "10       1.997030  149.425622                 8.928476   \n",
       "11       0.109764    0.062120                 0.380385   \n",
       "\n",
       "    pred_time_val_marginal  fit_time_marginal  stack_level  can_infer  \\\n",
       "0                 0.061523           5.079987            0       True   \n",
       "1                 0.032794           1.363854            0       True   \n",
       "2                 0.036221           3.115235            0       True   \n",
       "3                 0.116301           4.664356            0       True   \n",
       "4                 0.031136           1.182186            0       True   \n",
       "5                 0.115428           2.405851            0       True   \n",
       "6                 0.000917           0.597266            1       True   \n",
       "7                 0.114398           1.884356            0       True   \n",
       "8                 0.113517           1.583464            0       True   \n",
       "9                 0.108770           0.062951            0       True   \n",
       "10                1.997030         149.425622            0       True   \n",
       "11                0.109764           0.062120            0       True   \n",
       "\n",
       "    fit_order  \n",
       "0          10  \n",
       "1           9  \n",
       "2          11  \n",
       "3           5  \n",
       "4           8  \n",
       "5           4  \n",
       "6          12  \n",
       "7           7  \n",
       "8           6  \n",
       "9           2  \n",
       "10          1  \n",
       "11          3  "
      ]
     },
     "execution_count": 32,
     "metadata": {},
     "output_type": "execute_result"
    }
   ],
   "source": [
    "predictor.leaderboard(test_data, silent=True)"
   ]
  },
  {
   "cell_type": "markdown",
   "metadata": {},
   "source": [
    "## 모델 평가 및 Confusion 매트릭스\n",
    "- SKLearn으로 accuracy, f1 score를 계산 합니다. 오토글루온의 수치와 동일한 결과가 나옵니다.\n",
    "- Confusion 매트릭스 를 통해서 어느 레이블에서 잘 예측을 했는지를 확인 합니다."
   ]
  },
  {
   "cell_type": "code",
   "execution_count": 33,
   "metadata": {},
   "outputs": [
    {
     "name": "stdout",
     "output_type": "stream",
     "text": [
      "accuracy: 0.43%\n",
      "f1_score: 0.41%\n"
     ]
    }
   ],
   "source": [
    "from sklearn.metrics import accuracy_score, f1_score\n",
    "accuracy = accuracy_score(y_test, prediction)\n",
    "f1_score = f1_score(y_test, prediction, average='macro')\n",
    "print(\"accuracy: %.2f%%\" % accuracy)\n",
    "print(\"f1_score: %.2f%%\" % f1_score)"
   ]
  },
  {
   "cell_type": "code",
   "execution_count": 34,
   "metadata": {},
   "outputs": [
    {
     "name": "stdout",
     "output_type": "stream",
     "text": [
      "[[ 653  586  438   25    3]\n",
      " [ 198 1151 1816  897  100]\n",
      " [ 107  323 2460 1181  464]\n",
      " [  35  130  576 1195  232]\n",
      " [  12   41  266  265  282]]\n"
     ]
    },
    {
     "data": {
      "text/plain": [
       "<Figure size 432x288 with 0 Axes>"
      ]
     },
     "metadata": {},
     "output_type": "display_data"
    },
    {
     "data": {
      "image/png": "[encoded data removed]",
      "text/plain": [
       "<Figure size 720x360 with 2 Axes>"
      ]
     },
     "metadata": {
      "image/png": {
       "height": 351,
       "width": 413
      },
      "needs_background": "light"
     },
     "output_type": "display_data"
    }
   ],
   "source": [
    "from utils import plot_conf_mat\n",
    "\n",
    "\n",
    "from sklearn.metrics import confusion_matrix\n",
    "import matplotlib.pyplot as plt\n",
    "%matplotlib inline\n",
    "%config InlineBackend.figure_format='retina'\n",
    "\n",
    "cm = confusion_matrix(y_true= y_test, y_pred= prediction)\n",
    "\n",
    "plt.figure()\n",
    "fig, ax = plt.subplots(figsize=(10,5))\n",
    "plot_conf_mat(cm, \n",
    "              classes=['0','1', '2', '3', '4'], \n",
    "              title='Confusion Matrix')\n",
    "plt.show()"
   ]
  },
  {
   "cell_type": "markdown",
   "metadata": {},
   "source": [
    "## Feature Importance\n",
    "- 피쳐의 중요도를 확인 합니다."
   ]
  },
  {
   "cell_type": "code",
   "execution_count": 35,
   "metadata": {},
   "outputs": [
    {
     "name": "stderr",
     "output_type": "stream",
     "text": [
      "Computing raw permutation importance for 17 features on weighted_ensemble_k0_l1 ...\n",
      "\t77.27s\t= Expected runtime\n",
      "\t77.22s\t= Actual runtime\n"
     ]
    },
    {
     "data": {
      "image/png": "[encoded data removed]",
      "text/plain": [
       "<Figure size 720x360 with 1 Axes>"
      ]
     },
     "metadata": {
      "image/png": {
       "height": 489,
       "width": 606
      }
     },
     "output_type": "display_data"
    }
   ],
   "source": [
    "import seaborn as sns\n",
    "import matplotlib.pyplot as plt\n",
    "sns.set(style=\"whitegrid\")\n",
    "\n",
    "fea_importance = predictor.feature_importance(test_data)\n",
    "\n",
    "f, ax = plt.subplots(figsize=(10,5))\n",
    "plot = sns.barplot(x=fea_importance.index, y = fea_importance.values)\n",
    "# plot = sns.barplot(x=features, y= fea_importance)\n",
    "ax.set_title('Feature Importance')\n",
    "plot.set_xticklabels(plot.get_xticklabels(),rotation='vertical')\n",
    "plt.show()"
   ]
  },
  {
   "cell_type": "code",
   "execution_count": null,
   "metadata": {},
   "outputs": [],
   "source": []
  },
  {
   "cell_type": "code",
   "execution_count": null,
   "metadata": {},
   "outputs": [],
   "source": []
  },
  {
   "cell_type": "code",
   "execution_count": null,
   "metadata": {},
   "outputs": [],
   "source": []
  },
  {
   "cell_type": "code",
   "execution_count": null,
   "metadata": {},
   "outputs": [],
   "source": []
  },
  {
   "cell_type": "code",
   "execution_count": null,
   "metadata": {},
   "outputs": [],
   "source": []
  }
 ],
 "metadata": {
  "kernelspec": {
   "display_name": "conda_python3",
   "language": "python",
   "name": "conda_python3"
  },
  "language_info": {
   "codemirror_mode": {
    "name": "ipython",
    "version": 3
   },
   "file_extension": ".py",
   "mimetype": "text/x-python",
   "name": "python",
   "nbconvert_exporter": "python",
   "pygments_lexer": "ipython3",
   "version": "3.6.10"
  }
 },
 "nbformat": 4,
 "nbformat_minor": 4
}
