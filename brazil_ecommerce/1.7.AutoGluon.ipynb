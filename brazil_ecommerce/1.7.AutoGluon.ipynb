{
 "cells": [
  {
   "cell_type": "markdown",
   "metadata": {},
   "source": [
    " # [Module 1.7] AutoGluon 훈련 및 추론\n",
    "\n",
    "이 노트북은 아래와 같은 작업을 합니다.\n",
    "- 데이터 로딩\n",
    "- AutoGluon 데이터 타입으로 변경\n",
    "- AutoGluon 훈련\n",
    "- 테스트 데이터 로딩 및 추론\n",
    "- 모델 평가\n",
    "- 피쳐 Importance 생성"
   ]
  },
  {
   "cell_type": "markdown",
   "metadata": {},
   "source": [
    "## 데이터 세트 로딩"
   ]
  },
  {
   "cell_type": "code",
   "execution_count": 57,
   "metadata": {},
   "outputs": [],
   "source": [
    "import pandas as pd"
   ]
  },
  {
   "cell_type": "code",
   "execution_count": 58,
   "metadata": {},
   "outputs": [],
   "source": [
    "%store -r no_auto_train_file\n",
    "# %store -r val_file\n",
    "%store -r no_auto_test_file"
   ]
  },
  {
   "cell_type": "code",
   "execution_count": 59,
   "metadata": {},
   "outputs": [],
   "source": [
    "train_pd = pd.read_csv(no_auto_train_file)\n",
    "test_pd = pd.read_csv(no_auto_test_file)"
   ]
  },
  {
   "cell_type": "code",
   "execution_count": 60,
   "metadata": {},
   "outputs": [
    {
     "name": "stdout",
     "output_type": "stream",
     "text": [
      "auto_train_file:  (53740, 19)\n",
      "auto_train_file:  (13436, 19)\n"
     ]
    }
   ],
   "source": [
    "print(\"auto_train_file: \", train_pd.shape)\n",
    "print(\"auto_train_file: \", test_pd.shape)"
   ]
  },
  {
   "cell_type": "code",
   "execution_count": 61,
   "metadata": {},
   "outputs": [
    {
     "data": {
      "text/html": [
       "<div>\n",
       "<style scoped>\n",
       "    .dataframe tbody tr th:only-of-type {\n",
       "        vertical-align: middle;\n",
       "    }\n",
       "\n",
       "    .dataframe tbody tr th {\n",
       "        vertical-align: top;\n",
       "    }\n",
       "\n",
       "    .dataframe thead th {\n",
       "        text-align: right;\n",
       "    }\n",
       "</style>\n",
       "<table border=\"1\" class=\"dataframe\">\n",
       "  <thead>\n",
       "    <tr style=\"text-align: right;\">\n",
       "      <th></th>\n",
       "      <th>classes</th>\n",
       "      <th>customer_zip_code_prefix</th>\n",
       "      <th>customer_city</th>\n",
       "      <th>customer_state</th>\n",
       "      <th>price</th>\n",
       "      <th>freight_value</th>\n",
       "      <th>product_weight_g</th>\n",
       "      <th>product_category_name_english</th>\n",
       "      <th>seller_zip_code_prefix</th>\n",
       "      <th>seller_city</th>\n",
       "      <th>seller_state</th>\n",
       "      <th>order_date</th>\n",
       "      <th>order_weekday</th>\n",
       "      <th>order_day</th>\n",
       "      <th>order_month</th>\n",
       "      <th>customer_seller_state</th>\n",
       "      <th>customer_seller_city</th>\n",
       "      <th>customer_seller_zip_code_prefix</th>\n",
       "      <th>product_volume</th>\n",
       "    </tr>\n",
       "  </thead>\n",
       "  <tbody>\n",
       "    <tr>\n",
       "      <th>0</th>\n",
       "      <td>3</td>\n",
       "      <td>12030</td>\n",
       "      <td>taubate</td>\n",
       "      <td>SP</td>\n",
       "      <td>29.99</td>\n",
       "      <td>10.96</td>\n",
       "      <td>9000.0</td>\n",
       "      <td>fashion_shoes</td>\n",
       "      <td>13481</td>\n",
       "      <td>limeira</td>\n",
       "      <td>SP</td>\n",
       "      <td>2016-10-04 10:19:23</td>\n",
       "      <td>1</td>\n",
       "      <td>4</td>\n",
       "      <td>10</td>\n",
       "      <td>SP_SP</td>\n",
       "      <td>taubate_limeira</td>\n",
       "      <td>12030_13481</td>\n",
       "      <td>2640.0</td>\n",
       "    </tr>\n",
       "    <tr>\n",
       "      <th>1</th>\n",
       "      <td>2</td>\n",
       "      <td>78075</td>\n",
       "      <td>cuiaba</td>\n",
       "      <td>MT</td>\n",
       "      <td>23.90</td>\n",
       "      <td>26.82</td>\n",
       "      <td>1500.0</td>\n",
       "      <td>furniture_decor</td>\n",
       "      <td>17051</td>\n",
       "      <td>bauru</td>\n",
       "      <td>SP</td>\n",
       "      <td>2016-10-04 13:46:31</td>\n",
       "      <td>1</td>\n",
       "      <td>4</td>\n",
       "      <td>10</td>\n",
       "      <td>MT_SP</td>\n",
       "      <td>cuiaba_bauru</td>\n",
       "      <td>78075_17051</td>\n",
       "      <td>14625.0</td>\n",
       "    </tr>\n",
       "  </tbody>\n",
       "</table>\n",
       "</div>"
      ],
      "text/plain": [
       "   classes  customer_zip_code_prefix customer_city customer_state  price  \\\n",
       "0        3                     12030       taubate             SP  29.99   \n",
       "1        2                     78075        cuiaba             MT  23.90   \n",
       "\n",
       "   freight_value  product_weight_g product_category_name_english  \\\n",
       "0          10.96            9000.0                 fashion_shoes   \n",
       "1          26.82            1500.0               furniture_decor   \n",
       "\n",
       "   seller_zip_code_prefix seller_city seller_state           order_date  \\\n",
       "0                   13481     limeira           SP  2016-10-04 10:19:23   \n",
       "1                   17051       bauru           SP  2016-10-04 13:46:31   \n",
       "\n",
       "   order_weekday  order_day  order_month customer_seller_state  \\\n",
       "0              1          4           10                 SP_SP   \n",
       "1              1          4           10                 MT_SP   \n",
       "\n",
       "  customer_seller_city customer_seller_zip_code_prefix  product_volume  \n",
       "0      taubate_limeira                     12030_13481          2640.0  \n",
       "1         cuiaba_bauru                     78075_17051         14625.0  "
      ]
     },
     "metadata": {},
     "output_type": "display_data"
    },
    {
     "data": {
      "text/html": [
       "<div>\n",
       "<style scoped>\n",
       "    .dataframe tbody tr th:only-of-type {\n",
       "        vertical-align: middle;\n",
       "    }\n",
       "\n",
       "    .dataframe tbody tr th {\n",
       "        vertical-align: top;\n",
       "    }\n",
       "\n",
       "    .dataframe thead th {\n",
       "        text-align: right;\n",
       "    }\n",
       "</style>\n",
       "<table border=\"1\" class=\"dataframe\">\n",
       "  <thead>\n",
       "    <tr style=\"text-align: right;\">\n",
       "      <th></th>\n",
       "      <th>classes</th>\n",
       "      <th>customer_zip_code_prefix</th>\n",
       "      <th>customer_city</th>\n",
       "      <th>customer_state</th>\n",
       "      <th>price</th>\n",
       "      <th>freight_value</th>\n",
       "      <th>product_weight_g</th>\n",
       "      <th>product_category_name_english</th>\n",
       "      <th>seller_zip_code_prefix</th>\n",
       "      <th>seller_city</th>\n",
       "      <th>seller_state</th>\n",
       "      <th>order_date</th>\n",
       "      <th>order_weekday</th>\n",
       "      <th>order_day</th>\n",
       "      <th>order_month</th>\n",
       "      <th>customer_seller_state</th>\n",
       "      <th>customer_seller_city</th>\n",
       "      <th>customer_seller_zip_code_prefix</th>\n",
       "      <th>product_volume</th>\n",
       "    </tr>\n",
       "  </thead>\n",
       "  <tbody>\n",
       "    <tr>\n",
       "      <th>0</th>\n",
       "      <td>3</td>\n",
       "      <td>89219</td>\n",
       "      <td>joinville</td>\n",
       "      <td>SC</td>\n",
       "      <td>105.00</td>\n",
       "      <td>23.89</td>\n",
       "      <td>1000.0</td>\n",
       "      <td>watches_gifts</td>\n",
       "      <td>21840</td>\n",
       "      <td>rio de janeiro</td>\n",
       "      <td>RJ</td>\n",
       "      <td>2018-06-19 03:36:38</td>\n",
       "      <td>1</td>\n",
       "      <td>19</td>\n",
       "      <td>6</td>\n",
       "      <td>SC_RJ</td>\n",
       "      <td>joinville_rio de janeiro</td>\n",
       "      <td>89219_21840</td>\n",
       "      <td>7632.0</td>\n",
       "    </tr>\n",
       "    <tr>\n",
       "      <th>1</th>\n",
       "      <td>0</td>\n",
       "      <td>9950</td>\n",
       "      <td>diadema</td>\n",
       "      <td>SP</td>\n",
       "      <td>99.97</td>\n",
       "      <td>15.80</td>\n",
       "      <td>650.0</td>\n",
       "      <td>housewares</td>\n",
       "      <td>32677</td>\n",
       "      <td>betim</td>\n",
       "      <td>MG</td>\n",
       "      <td>2018-06-19 03:36:39</td>\n",
       "      <td>1</td>\n",
       "      <td>19</td>\n",
       "      <td>6</td>\n",
       "      <td>SP_MG</td>\n",
       "      <td>diadema_betim</td>\n",
       "      <td>9950_32677</td>\n",
       "      <td>9600.0</td>\n",
       "    </tr>\n",
       "  </tbody>\n",
       "</table>\n",
       "</div>"
      ],
      "text/plain": [
       "   classes  customer_zip_code_prefix customer_city customer_state   price  \\\n",
       "0        3                     89219     joinville             SC  105.00   \n",
       "1        0                      9950       diadema             SP   99.97   \n",
       "\n",
       "   freight_value  product_weight_g product_category_name_english  \\\n",
       "0          23.89            1000.0                 watches_gifts   \n",
       "1          15.80             650.0                    housewares   \n",
       "\n",
       "   seller_zip_code_prefix     seller_city seller_state           order_date  \\\n",
       "0                   21840  rio de janeiro           RJ  2018-06-19 03:36:38   \n",
       "1                   32677           betim           MG  2018-06-19 03:36:39   \n",
       "\n",
       "   order_weekday  order_day  order_month customer_seller_state  \\\n",
       "0              1         19            6                 SC_RJ   \n",
       "1              1         19            6                 SP_MG   \n",
       "\n",
       "       customer_seller_city customer_seller_zip_code_prefix  product_volume  \n",
       "0  joinville_rio de janeiro                     89219_21840          7632.0  \n",
       "1             diadema_betim                      9950_32677          9600.0  "
      ]
     },
     "metadata": {},
     "output_type": "display_data"
    }
   ],
   "source": [
    "from IPython.display import display as dp\n",
    "dp(train_pd.head(2))\n",
    "dp(test_pd.head(2))"
   ]
  },
  {
   "cell_type": "code",
   "execution_count": 62,
   "metadata": {},
   "outputs": [],
   "source": [
    "import autogluon.core as ag\n",
    "from autogluon.tabular import TabularPrediction as task"
   ]
  },
  {
   "cell_type": "markdown",
   "metadata": {},
   "source": [
    "## 오토글루온 데이터 타입으로 변경"
   ]
  },
  {
   "cell_type": "code",
   "execution_count": 63,
   "metadata": {},
   "outputs": [
    {
     "name": "stderr",
     "output_type": "stream",
     "text": [
      "Loaded data from: preproc_data/auto_no_fe/train.csv | Columns = 19 / 19 | Rows = 53740 -> 53740\n"
     ]
    },
    {
     "name": "stdout",
     "output_type": "stream",
     "text": [
      "       classes  customer_zip_code_prefix         customer_city customer_state  \\\n",
      "588          2                     83260              matinhos             PR   \n",
      "45386        3                     84010          ponta grossa             PR   \n",
      "9427         3                      3828             sao paulo             SP   \n",
      "46834        2                     29370  conceicao do castelo             ES   \n",
      "2383         3                     78070                cuiaba             MT   \n",
      "\n",
      "        price  freight_value  product_weight_g product_category_name_english  \\\n",
      "588     59.99          18.00             525.0                sports_leisure   \n",
      "45386  120.00          18.72            1300.0     construction_tools_lights   \n",
      "9427   189.99          23.91           12675.0              office_furniture   \n",
      "46834   49.99          18.23             500.0                 watches_gifts   \n",
      "2383   174.90          16.92             375.0           luggage_accessories   \n",
      "\n",
      "       seller_zip_code_prefix            seller_city seller_state  \\\n",
      "588                     13456  santa barbara d'oeste           SP   \n",
      "45386                   13327                  salto           SP   \n",
      "9427                     8577        itaquaquecetuba           SP   \n",
      "46834                    3573              sao paulo           SP   \n",
      "2383                    74930   aparecida de goiania           GO   \n",
      "\n",
      "                order_date  order_weekday  order_day  order_month  \\\n",
      "588    2017-01-30 12:33:56              0         30            1   \n",
      "45386  2018-04-27 14:15:19              4         27            4   \n",
      "9427   2017-06-24 21:33:14              5         24            6   \n",
      "46834  2018-05-05 10:13:54              5          5            5   \n",
      "2383   2017-03-11 19:59:25              5         11            3   \n",
      "\n",
      "      customer_seller_state            customer_seller_city  \\\n",
      "588                   PR_SP  matinhos_santa barbara d'oeste   \n",
      "45386                 PR_SP              ponta grossa_salto   \n",
      "9427                  SP_SP       sao paulo_itaquaquecetuba   \n",
      "46834                 ES_SP  conceicao do castelo_sao paulo   \n",
      "2383                  MT_GO     cuiaba_aparecida de goiania   \n",
      "\n",
      "      customer_seller_zip_code_prefix  product_volume  \n",
      "588                       83260_13456          9280.0  \n",
      "45386                     84010_13327          4864.0  \n",
      "9427                        3828_8577         94080.0  \n",
      "46834                      29370_3573          6400.0  \n",
      "2383                      78070_74930         15428.0  \n"
     ]
    }
   ],
   "source": [
    "train_data = task.Dataset(file_path= no_auto_train_file)\n",
    "subsample_size = train_data.shape[0]\n",
    "# subsample_size = 500  # subsample subset of data for faster demo, try setting this to much larger values\n",
    "train_data = train_data.sample(n=subsample_size, random_state=0)\n",
    "print(train_data.head())"
   ]
  },
  {
   "cell_type": "code",
   "execution_count": 64,
   "metadata": {},
   "outputs": [
    {
     "name": "stdout",
     "output_type": "stream",
     "text": [
      "Summary of class variable: \n",
      " count    53740.000000\n",
      "mean         2.178675\n",
      "std          1.152687\n",
      "min          0.000000\n",
      "25%          1.000000\n",
      "50%          2.000000\n",
      "75%          3.000000\n",
      "max          4.000000\n",
      "Name: classes, dtype: float64\n"
     ]
    }
   ],
   "source": [
    "label_column = 'classes'\n",
    "print(\"Summary of class variable: \\n\", train_data[label_column].describe())"
   ]
  },
  {
   "cell_type": "markdown",
   "metadata": {},
   "source": [
    "## 오토글루운으로 훈련"
   ]
  },
  {
   "cell_type": "code",
   "execution_count": 65,
   "metadata": {},
   "outputs": [
    {
     "name": "stderr",
     "output_type": "stream",
     "text": [
      "Beginning AutoGluon training ... Time limit = 7200s\n",
      "AutoGluon will save models to agModels-predictClass/\n",
      "AutoGluon Version:  0.0.15b20201025\n",
      "Train Data Rows:    53740\n",
      "Train Data Columns: 18\n",
      "Preprocessing data ...\n",
      "AutoGluon infers your prediction problem is: 'multiclass' (because dtype of label-column == int, but few unique label-values observed).\n",
      "\t5 unique label values:  [2, 3, 1, 0, 4]\n",
      "\tIf 'multiclass' is not the correct problem_type, please manually specify the problem_type argument in fit() (You may specify problem_type as one of: ['binary', 'multiclass', 'regression'])\n",
      "Train Data Class Count: 5\n",
      "Using Feature Generators to preprocess the data ...\n",
      "Fitting AutoMLPipelineFeatureGenerator...\n",
      "\tAvailable Memory:                    61396.01 MB\n",
      "\tTrain Data (Original)  Memory Usage: 36.88 MB (0.1% of available memory)\n",
      "\tInferring data type of each feature based on column values. Set feature_metadata_in to manually specify special dtypes of the features.\n",
      "\tStage 1 Generators:\n",
      "\t\tFitting AsTypeFeatureGenerator...\n",
      "\tStage 2 Generators:\n",
      "\t\tFitting FillNaFeatureGenerator...\n",
      "\tStage 3 Generators:\n",
      "\t\tFitting IdentityFeatureGenerator...\n",
      "\t\tFitting CategoryFeatureGenerator...\n",
      "\t\t\tFitting CategoryMemoryMinimizeFeatureGenerator...\n",
      "\t\tFitting DatetimeFeatureGenerator...\n",
      "\tStage 4 Generators:\n",
      "\t\tFitting DropUniqueFeatureGenerator...\n",
      "\tTypes of features in original data (raw dtype, special dtypes):\n",
      "\t\t('float', [])                      : 4 | ['price', 'freight_value', 'product_weight_g', 'product_volume']\n",
      "\t\t('int', [])                        : 5 | ['customer_zip_code_prefix', 'seller_zip_code_prefix', 'order_weekday', 'order_day', 'order_month']\n",
      "\t\t('object', [])                     : 8 | ['customer_city', 'customer_state', 'product_category_name_english', 'seller_city', 'seller_state', ...]\n",
      "\t\t('object', ['datetime_as_object']) : 1 | ['order_date']\n",
      "\tTypes of features in processed data (raw dtype, special dtypes):\n",
      "\t\t('category', [])             : 8 | ['customer_city', 'customer_state', 'product_category_name_english', 'seller_city', 'seller_state', ...]\n",
      "\t\t('float', [])                : 4 | ['price', 'freight_value', 'product_weight_g', 'product_volume']\n",
      "\t\t('int', [])                  : 5 | ['customer_zip_code_prefix', 'seller_zip_code_prefix', 'order_weekday', 'order_day', 'order_month']\n",
      "\t\t('int', ['datetime_as_int']) : 1 | ['order_date']\n",
      "\t5.8s = Fit runtime\n",
      "\t18 features in original data used to generate 18 features in processed data.\n",
      "\tTrain Data (Processed) Memory Usage: 6.14 MB (0.0% of available memory)\n",
      "Data preprocessing and feature engineering runtime = 5.88s ...\n",
      "AutoGluon will gauge predictive performance using evaluation metric: 'accuracy'\n",
      "\tTo change this, specify the eval_metric argument of fit()\n",
      "AutoGluon will early stop models using evaluation metric: 'accuracy'\n",
      "Fitting model: NeuralNetClassifier ... Training model for up to 7194.11s of the 7194.11s of remaining time.\n",
      "\t0.47\t = Validation accuracy score\n",
      "\t146.0s\t = Training runtime\n",
      "\t2.08s\t = Validation runtime\n",
      "Fitting model: KNeighborsClassifierUnif ... Training model for up to 7046.01s of the 7046.01s of remaining time.\n",
      "\t0.3292\t = Validation accuracy score\n",
      "\t0.06s\t = Training runtime\n",
      "\t0.11s\t = Validation runtime\n",
      "Fitting model: KNeighborsClassifierDist ... Training model for up to 7045.82s of the 7045.82s of remaining time.\n",
      "\t0.3112\t = Validation accuracy score\n",
      "\t0.06s\t = Training runtime\n",
      "\t0.11s\t = Validation runtime\n",
      "Fitting model: RandomForestClassifierGini ... Training model for up to 7045.63s of the 7045.63s of remaining time.\n",
      "\t0.4552\t = Validation accuracy score\n",
      "\t2.36s\t = Training runtime\n",
      "\t0.11s\t = Validation runtime\n",
      "Fitting model: RandomForestClassifierEntr ... Training model for up to 7038.82s of the 7038.82s of remaining time.\n",
      "\t0.4564\t = Validation accuracy score\n",
      "\t4.96s\t = Training runtime\n",
      "\t0.11s\t = Validation runtime\n",
      "Fitting model: ExtraTreesClassifierGini ... Training model for up to 7029.76s of the 7029.76s of remaining time.\n",
      "\t0.4484\t = Validation accuracy score\n",
      "\t1.38s\t = Training runtime\n",
      "\t0.11s\t = Validation runtime\n",
      "Fitting model: ExtraTreesClassifierEntr ... Training model for up to 7017.73s of the 7017.73s of remaining time.\n",
      "\t0.45\t = Validation accuracy score\n",
      "\t1.89s\t = Training runtime\n",
      "\t0.11s\t = Validation runtime\n",
      "Fitting model: LightGBMClassifier ... Training model for up to 7005.15s of the 7005.15s of remaining time.\n",
      "\t0.4668\t = Validation accuracy score\n",
      "\t1.25s\t = Training runtime\n",
      "\t0.03s\t = Validation runtime\n",
      "Fitting model: LightGBMClassifierXT ... Training model for up to 7003.84s of the 7003.84s of remaining time.\n",
      "\t0.476\t = Validation accuracy score\n",
      "\t2.06s\t = Training runtime\n",
      "\t0.04s\t = Validation runtime\n",
      "Fitting model: CatboostClassifier ... Training model for up to 7001.7s of the 7001.7s of remaining time.\n",
      "\t0.4632\t = Validation accuracy score\n",
      "\t5.53s\t = Training runtime\n",
      "\t0.06s\t = Validation runtime\n",
      "Fitting model: LightGBMClassifierCustom ... Training model for up to 6996.08s of the 6996.07s of remaining time.\n",
      "\t0.466\t = Validation accuracy score\n",
      "\t4.63s\t = Training runtime\n",
      "\t0.04s\t = Validation runtime\n",
      "Fitting model: weighted_ensemble_k0_l1 ... Training model for up to 719.41s of the 6981.74s of remaining time.\n",
      "\t0.4848\t = Validation accuracy score\n",
      "\t0.61s\t = Training runtime\n",
      "\t0.0s\t = Validation runtime\n",
      "AutoGluon training complete, total runtime = 218.97s ...\n"
     ]
    },
    {
     "name": "stdout",
     "output_type": "stream",
     "text": [
      "CPU times: user 28min 58s, sys: 14min 11s, total: 43min 9s\n",
      "Wall time: 3min 38s\n"
     ]
    }
   ],
   "source": [
    "%%time\n",
    "dir = 'agModels-predictClass'  # specifies folder where to store trained models\n",
    "time_limits = 7200 # seconds\n",
    "# presets = 'best_quality'\n",
    "presets = 'medium_quality_faster_train'\n",
    "\n",
    "predictor = task.fit(train_data=train_data, label=label_column, \n",
    "                     output_directory=dir,\n",
    "                     time_limits=time_limits,\n",
    "                     presets=presets)\n",
    "\n"
   ]
  },
  {
   "cell_type": "markdown",
   "metadata": {},
   "source": [
    "## 테스트 데이터 로딩"
   ]
  },
  {
   "cell_type": "code",
   "execution_count": 66,
   "metadata": {},
   "outputs": [
    {
     "name": "stderr",
     "output_type": "stream",
     "text": [
      "Loaded data from: preproc_data/auto_no_fe/test.csv | Columns = 19 / 19 | Rows = 13436 -> 13436\n"
     ]
    },
    {
     "name": "stdout",
     "output_type": "stream",
     "text": [
      "   customer_zip_code_prefix   customer_city customer_state   price  \\\n",
      "0                     89219       joinville             SC  105.00   \n",
      "1                      9950         diadema             SP   99.97   \n",
      "2                     25963     teresopolis             RJ   76.99   \n",
      "3                     21330  rio de janeiro             RJ   64.90   \n",
      "4                     29090         vitoria             ES   75.00   \n",
      "\n",
      "   freight_value  product_weight_g product_category_name_english  \\\n",
      "0          23.89            1000.0                 watches_gifts   \n",
      "1          15.80             650.0                    housewares   \n",
      "2          23.34            1850.0               books_technical   \n",
      "3          15.55             200.0                    cool_stuff   \n",
      "4          27.51            2550.0               furniture_decor   \n",
      "\n",
      "   seller_zip_code_prefix     seller_city seller_state           order_date  \\\n",
      "0                   21840  rio de janeiro           RJ  2018-06-19 03:36:38   \n",
      "1                   32677           betim           MG  2018-06-19 03:36:39   \n",
      "2                    2274       sao paulo           SP  2018-06-19 03:36:40   \n",
      "3                    4809       sao paulo           SP  2018-06-19 03:36:41   \n",
      "4                    3204       sao paulo           SP  2018-06-19 03:36:42   \n",
      "\n",
      "   order_weekday  order_day  order_month customer_seller_state  \\\n",
      "0              1         19            6                 SC_RJ   \n",
      "1              1         19            6                 SP_MG   \n",
      "2              1         19            6                 RJ_SP   \n",
      "3              1         19            6                 RJ_SP   \n",
      "4              1         19            6                 ES_SP   \n",
      "\n",
      "       customer_seller_city customer_seller_zip_code_prefix  product_volume  \n",
      "0  joinville_rio de janeiro                     89219_21840          7632.0  \n",
      "1             diadema_betim                      9950_32677          9600.0  \n",
      "2     teresopolis_sao paulo                      25963_2274          3000.0  \n",
      "3  rio de janeiro_sao paulo                      21330_4809          4752.0  \n",
      "4         vitoria_sao paulo                      29090_3204         31500.0  \n"
     ]
    }
   ],
   "source": [
    "test_data = task.Dataset(file_path= no_auto_test_file)\n",
    "y_test = test_data[label_column]  # values to predict\n",
    "test_data_nolab = test_data.drop(labels=[label_column],axis=1)  # delete label column to prove we're not cheating\n",
    "print(test_data_nolab.head())"
   ]
  },
  {
   "cell_type": "markdown",
   "metadata": {},
   "source": [
    "## 모델 예측"
   ]
  },
  {
   "cell_type": "code",
   "execution_count": 67,
   "metadata": {},
   "outputs": [
    {
     "name": "stderr",
     "output_type": "stream",
     "text": [
      "Evaluation: accuracy on test data: 0.4505061030068473\n",
      "Evaluations on test data:\n",
      "{\n",
      "    \"accuracy\": 0.4505061030068473,\n",
      "    \"accuracy_score\": 0.4505061030068473,\n",
      "    \"balanced_accuracy_score\": 0.4275448220167023,\n",
      "    \"matthews_corrcoef\": 0.268146387541431\n",
      "}\n",
      "Detailed (per-class) classification report:\n",
      "{\n",
      "    \"0\": {\n",
      "        \"precision\": 0.5866842452208306,\n",
      "        \"recall\": 0.5219941348973607,\n",
      "        \"f1-score\": 0.5524518932340161,\n",
      "        \"support\": 1705\n",
      "    },\n",
      "    \"1\": {\n",
      "        \"precision\": 0.5199004975124378,\n",
      "        \"recall\": 0.3515136953387794,\n",
      "        \"f1-score\": 0.4194380733944954,\n",
      "        \"support\": 4162\n",
      "    },\n",
      "    \"2\": {\n",
      "        \"precision\": 0.46519398552069796,\n",
      "        \"recall\": 0.5525909592061742,\n",
      "        \"f1-score\": 0.5051400927232412,\n",
      "        \"support\": 4535\n",
      "    },\n",
      "    \"3\": {\n",
      "        \"precision\": 0.3508388037928519,\n",
      "        \"recall\": 0.4437269372693727,\n",
      "        \"f1-score\": 0.3918533604887983,\n",
      "        \"support\": 2168\n",
      "    },\n",
      "    \"4\": {\n",
      "        \"precision\": 0.23770491803278687,\n",
      "        \"recall\": 0.2678983833718245,\n",
      "        \"f1-score\": 0.251900108577633,\n",
      "        \"support\": 866\n",
      "    },\n",
      "    \"accuracy\": 0.4505061030068473,\n",
      "    \"macro avg\": {\n",
      "        \"precision\": 0.43206449001592107,\n",
      "        \"recall\": 0.4275448220167023,\n",
      "        \"f1-score\": 0.42415670568363684,\n",
      "        \"support\": 13436\n",
      "    },\n",
      "    \"weighted avg\": {\n",
      "        \"precision\": 0.46444240984846263,\n",
      "        \"recall\": 0.4505061030068473,\n",
      "        \"f1-score\": 0.44999446557753287,\n",
      "        \"support\": 13436\n",
      "    }\n",
      "}\n"
     ]
    },
    {
     "name": "stdout",
     "output_type": "stream",
     "text": [
      "Predictions:   [2 2 2 ... 0 0 0]\n"
     ]
    }
   ],
   "source": [
    "predictor = task.load(dir)  # unnecessary, just demonstrates how to load previously-trained predictor from file\n",
    "\n",
    "prediction = predictor.predict(test_data_nolab)\n",
    "print(\"Predictions:  \", prediction)\n",
    "perf = predictor.evaluate_predictions(y_true=y_test, y_pred=prediction, auxiliary_metrics=True)"
   ]
  },
  {
   "cell_type": "markdown",
   "metadata": {},
   "source": [
    "## 리더 보드 생성"
   ]
  },
  {
   "cell_type": "code",
   "execution_count": 68,
   "metadata": {},
   "outputs": [
    {
     "data": {
      "text/html": [
       "<div>\n",
       "<style scoped>\n",
       "    .dataframe tbody tr th:only-of-type {\n",
       "        vertical-align: middle;\n",
       "    }\n",
       "\n",
       "    .dataframe tbody tr th {\n",
       "        vertical-align: top;\n",
       "    }\n",
       "\n",
       "    .dataframe thead th {\n",
       "        text-align: right;\n",
       "    }\n",
       "</style>\n",
       "<table border=\"1\" class=\"dataframe\">\n",
       "  <thead>\n",
       "    <tr style=\"text-align: right;\">\n",
       "      <th></th>\n",
       "      <th>model</th>\n",
       "      <th>score_test</th>\n",
       "      <th>score_val</th>\n",
       "      <th>pred_time_test</th>\n",
       "      <th>pred_time_val</th>\n",
       "      <th>fit_time</th>\n",
       "      <th>pred_time_test_marginal</th>\n",
       "      <th>pred_time_val_marginal</th>\n",
       "      <th>fit_time_marginal</th>\n",
       "      <th>stack_level</th>\n",
       "      <th>can_infer</th>\n",
       "      <th>fit_order</th>\n",
       "    </tr>\n",
       "  </thead>\n",
       "  <tbody>\n",
       "    <tr>\n",
       "      <th>0</th>\n",
       "      <td>CatboostClassifier</td>\n",
       "      <td>0.473951</td>\n",
       "      <td>0.4632</td>\n",
       "      <td>0.096108</td>\n",
       "      <td>0.061951</td>\n",
       "      <td>5.526146</td>\n",
       "      <td>0.096108</td>\n",
       "      <td>0.061951</td>\n",
       "      <td>5.526146</td>\n",
       "      <td>0</td>\n",
       "      <td>True</td>\n",
       "      <td>10</td>\n",
       "    </tr>\n",
       "    <tr>\n",
       "      <th>1</th>\n",
       "      <td>RandomForestClassifierEntr</td>\n",
       "      <td>0.468592</td>\n",
       "      <td>0.4564</td>\n",
       "      <td>0.890911</td>\n",
       "      <td>0.114325</td>\n",
       "      <td>4.963329</td>\n",
       "      <td>0.890911</td>\n",
       "      <td>0.114325</td>\n",
       "      <td>4.963329</td>\n",
       "      <td>0</td>\n",
       "      <td>True</td>\n",
       "      <td>5</td>\n",
       "    </tr>\n",
       "    <tr>\n",
       "      <th>2</th>\n",
       "      <td>RandomForestClassifierGini</td>\n",
       "      <td>0.456684</td>\n",
       "      <td>0.4552</td>\n",
       "      <td>1.006819</td>\n",
       "      <td>0.114202</td>\n",
       "      <td>2.363406</td>\n",
       "      <td>1.006819</td>\n",
       "      <td>0.114202</td>\n",
       "      <td>2.363406</td>\n",
       "      <td>0</td>\n",
       "      <td>True</td>\n",
       "      <td>4</td>\n",
       "    </tr>\n",
       "    <tr>\n",
       "      <th>3</th>\n",
       "      <td>weighted_ensemble_k0_l1</td>\n",
       "      <td>0.450506</td>\n",
       "      <td>0.4848</td>\n",
       "      <td>13.312491</td>\n",
       "      <td>2.504974</td>\n",
       "      <td>162.014419</td>\n",
       "      <td>0.070395</td>\n",
       "      <td>0.000888</td>\n",
       "      <td>0.614595</td>\n",
       "      <td>1</td>\n",
       "      <td>True</td>\n",
       "      <td>12</td>\n",
       "    </tr>\n",
       "    <tr>\n",
       "      <th>4</th>\n",
       "      <td>LightGBMClassifierCustom</td>\n",
       "      <td>0.449315</td>\n",
       "      <td>0.4660</td>\n",
       "      <td>0.129616</td>\n",
       "      <td>0.041748</td>\n",
       "      <td>4.626267</td>\n",
       "      <td>0.129616</td>\n",
       "      <td>0.041748</td>\n",
       "      <td>4.626267</td>\n",
       "      <td>0</td>\n",
       "      <td>True</td>\n",
       "      <td>11</td>\n",
       "    </tr>\n",
       "    <tr>\n",
       "      <th>5</th>\n",
       "      <td>LightGBMClassifierXT</td>\n",
       "      <td>0.446636</td>\n",
       "      <td>0.4760</td>\n",
       "      <td>0.111821</td>\n",
       "      <td>0.040991</td>\n",
       "      <td>2.063390</td>\n",
       "      <td>0.111821</td>\n",
       "      <td>0.040991</td>\n",
       "      <td>2.063390</td>\n",
       "      <td>0</td>\n",
       "      <td>True</td>\n",
       "      <td>9</td>\n",
       "    </tr>\n",
       "    <tr>\n",
       "      <th>6</th>\n",
       "      <td>ExtraTreesClassifierGini</td>\n",
       "      <td>0.444999</td>\n",
       "      <td>0.4484</td>\n",
       "      <td>2.142941</td>\n",
       "      <td>0.113184</td>\n",
       "      <td>1.381922</td>\n",
       "      <td>2.142941</td>\n",
       "      <td>0.113184</td>\n",
       "      <td>1.381922</td>\n",
       "      <td>0</td>\n",
       "      <td>True</td>\n",
       "      <td>6</td>\n",
       "    </tr>\n",
       "    <tr>\n",
       "      <th>7</th>\n",
       "      <td>ExtraTreesClassifierEntr</td>\n",
       "      <td>0.443436</td>\n",
       "      <td>0.4500</td>\n",
       "      <td>2.551584</td>\n",
       "      <td>0.114788</td>\n",
       "      <td>1.887380</td>\n",
       "      <td>2.551584</td>\n",
       "      <td>0.114788</td>\n",
       "      <td>1.887380</td>\n",
       "      <td>0</td>\n",
       "      <td>True</td>\n",
       "      <td>7</td>\n",
       "    </tr>\n",
       "    <tr>\n",
       "      <th>8</th>\n",
       "      <td>LightGBMClassifier</td>\n",
       "      <td>0.437109</td>\n",
       "      <td>0.4668</td>\n",
       "      <td>0.048184</td>\n",
       "      <td>0.030767</td>\n",
       "      <td>1.246939</td>\n",
       "      <td>0.048184</td>\n",
       "      <td>0.030767</td>\n",
       "      <td>1.246939</td>\n",
       "      <td>0</td>\n",
       "      <td>True</td>\n",
       "      <td>8</td>\n",
       "    </tr>\n",
       "    <tr>\n",
       "      <th>9</th>\n",
       "      <td>KNeighborsClassifierUnif</td>\n",
       "      <td>0.333433</td>\n",
       "      <td>0.3292</td>\n",
       "      <td>0.328350</td>\n",
       "      <td>0.107862</td>\n",
       "      <td>0.064815</td>\n",
       "      <td>0.328350</td>\n",
       "      <td>0.107862</td>\n",
       "      <td>0.064815</td>\n",
       "      <td>0</td>\n",
       "      <td>True</td>\n",
       "      <td>2</td>\n",
       "    </tr>\n",
       "    <tr>\n",
       "      <th>10</th>\n",
       "      <td>KNeighborsClassifierDist</td>\n",
       "      <td>0.304481</td>\n",
       "      <td>0.3112</td>\n",
       "      <td>0.279377</td>\n",
       "      <td>0.109624</td>\n",
       "      <td>0.062313</td>\n",
       "      <td>0.279377</td>\n",
       "      <td>0.109624</td>\n",
       "      <td>0.062313</td>\n",
       "      <td>0</td>\n",
       "      <td>True</td>\n",
       "      <td>3</td>\n",
       "    </tr>\n",
       "    <tr>\n",
       "      <th>11</th>\n",
       "      <td>NeuralNetClassifier</td>\n",
       "      <td>0.275603</td>\n",
       "      <td>0.4700</td>\n",
       "      <td>8.959988</td>\n",
       "      <td>2.079636</td>\n",
       "      <td>146.001511</td>\n",
       "      <td>8.959988</td>\n",
       "      <td>2.079636</td>\n",
       "      <td>146.001511</td>\n",
       "      <td>0</td>\n",
       "      <td>True</td>\n",
       "      <td>1</td>\n",
       "    </tr>\n",
       "  </tbody>\n",
       "</table>\n",
       "</div>"
      ],
      "text/plain": [
       "                         model  score_test  score_val  pred_time_test  \\\n",
       "0           CatboostClassifier    0.473951     0.4632        0.096108   \n",
       "1   RandomForestClassifierEntr    0.468592     0.4564        0.890911   \n",
       "2   RandomForestClassifierGini    0.456684     0.4552        1.006819   \n",
       "3      weighted_ensemble_k0_l1    0.450506     0.4848       13.312491   \n",
       "4     LightGBMClassifierCustom    0.449315     0.4660        0.129616   \n",
       "5         LightGBMClassifierXT    0.446636     0.4760        0.111821   \n",
       "6     ExtraTreesClassifierGini    0.444999     0.4484        2.142941   \n",
       "7     ExtraTreesClassifierEntr    0.443436     0.4500        2.551584   \n",
       "8           LightGBMClassifier    0.437109     0.4668        0.048184   \n",
       "9     KNeighborsClassifierUnif    0.333433     0.3292        0.328350   \n",
       "10    KNeighborsClassifierDist    0.304481     0.3112        0.279377   \n",
       "11         NeuralNetClassifier    0.275603     0.4700        8.959988   \n",
       "\n",
       "    pred_time_val    fit_time  pred_time_test_marginal  \\\n",
       "0        0.061951    5.526146                 0.096108   \n",
       "1        0.114325    4.963329                 0.890911   \n",
       "2        0.114202    2.363406                 1.006819   \n",
       "3        2.504974  162.014419                 0.070395   \n",
       "4        0.041748    4.626267                 0.129616   \n",
       "5        0.040991    2.063390                 0.111821   \n",
       "6        0.113184    1.381922                 2.142941   \n",
       "7        0.114788    1.887380                 2.551584   \n",
       "8        0.030767    1.246939                 0.048184   \n",
       "9        0.107862    0.064815                 0.328350   \n",
       "10       0.109624    0.062313                 0.279377   \n",
       "11       2.079636  146.001511                 8.959988   \n",
       "\n",
       "    pred_time_val_marginal  fit_time_marginal  stack_level  can_infer  \\\n",
       "0                 0.061951           5.526146            0       True   \n",
       "1                 0.114325           4.963329            0       True   \n",
       "2                 0.114202           2.363406            0       True   \n",
       "3                 0.000888           0.614595            1       True   \n",
       "4                 0.041748           4.626267            0       True   \n",
       "5                 0.040991           2.063390            0       True   \n",
       "6                 0.113184           1.381922            0       True   \n",
       "7                 0.114788           1.887380            0       True   \n",
       "8                 0.030767           1.246939            0       True   \n",
       "9                 0.107862           0.064815            0       True   \n",
       "10                0.109624           0.062313            0       True   \n",
       "11                2.079636         146.001511            0       True   \n",
       "\n",
       "    fit_order  \n",
       "0          10  \n",
       "1           5  \n",
       "2           4  \n",
       "3          12  \n",
       "4          11  \n",
       "5           9  \n",
       "6           6  \n",
       "7           7  \n",
       "8           8  \n",
       "9           2  \n",
       "10          3  \n",
       "11          1  "
      ]
     },
     "execution_count": 68,
     "metadata": {},
     "output_type": "execute_result"
    }
   ],
   "source": [
    "predictor.leaderboard(test_data, silent=True)"
   ]
  },
  {
   "cell_type": "markdown",
   "metadata": {},
   "source": [
    "## 모델 평가"
   ]
  },
  {
   "cell_type": "code",
   "execution_count": 69,
   "metadata": {},
   "outputs": [
    {
     "name": "stdout",
     "output_type": "stream",
     "text": [
      "accuracy: 0.45%\n",
      "f1_score: 0.42%\n"
     ]
    }
   ],
   "source": [
    "from sklearn.metrics import accuracy_score, f1_score\n",
    "accuracy = accuracy_score(y_test, prediction)\n",
    "f1_score = f1_score(y_test, prediction, average='macro')\n",
    "print(\"accuracy: %.2f%%\" % accuracy)\n",
    "print(\"f1_score: %.2f%%\" % f1_score)"
   ]
  },
  {
   "cell_type": "code",
   "execution_count": 70,
   "metadata": {},
   "outputs": [
    {
     "name": "stdout",
     "output_type": "stream",
     "text": [
      "[[ 890  541  253   16    5]\n",
      " [ 347 1463 1637  615  100]\n",
      " [ 204  533 2506  888  404]\n",
      " [  54  219  698  962  235]\n",
      " [  22   58  293  261  232]]\n"
     ]
    },
    {
     "data": {
      "text/plain": [
       "<Figure size 432x288 with 0 Axes>"
      ]
     },
     "metadata": {},
     "output_type": "display_data"
    },
    {
     "data": {
      "image/png": "[encoded data removed]",
      "text/plain": [
       "<Figure size 720x360 with 2 Axes>"
      ]
     },
     "metadata": {
      "image/png": {
       "height": 351,
       "width": 417
      },
      "needs_background": "light"
     },
     "output_type": "display_data"
    }
   ],
   "source": [
    "from utils import plot_conf_mat\n",
    "\n",
    "\n",
    "from sklearn.metrics import confusion_matrix\n",
    "import matplotlib.pyplot as plt\n",
    "%matplotlib inline\n",
    "%config InlineBackend.figure_format='retina'\n",
    "\n",
    "cm = confusion_matrix(y_true= y_test, y_pred= prediction)\n",
    "\n",
    "plt.figure()\n",
    "fig, ax = plt.subplots(figsize=(10,5))\n",
    "plot_conf_mat(cm, \n",
    "              classes=['0','1', '2', '3', '4'], \n",
    "              title='Confusion Matrix')\n",
    "plt.show()"
   ]
  },
  {
   "cell_type": "markdown",
   "metadata": {},
   "source": [
    "## Feature Importance"
   ]
  },
  {
   "cell_type": "code",
   "execution_count": 71,
   "metadata": {},
   "outputs": [
    {
     "name": "stderr",
     "output_type": "stream",
     "text": [
      "Computing raw permutation importance for 18 features on weighted_ensemble_k0_l1 ...\n",
      "\t110.25s\t= Expected runtime\n",
      "\t109.33s\t= Actual runtime\n"
     ]
    },
    {
     "data": {
      "image/png": "[encoded data removed]",
      "text/plain": [
       "<Figure size 720x360 with 1 Axes>"
      ]
     },
     "metadata": {
      "image/png": {
       "height": 489,
       "width": 615
      }
     },
     "output_type": "display_data"
    }
   ],
   "source": [
    "import seaborn as sns\n",
    "import matplotlib.pyplot as plt\n",
    "sns.set(style=\"whitegrid\")\n",
    "\n",
    "fea_importance = predictor.feature_importance(test_data)\n",
    "\n",
    "f, ax = plt.subplots(figsize=(10,5))\n",
    "plot = sns.barplot(x=fea_importance.index, y = fea_importance.values)\n",
    "# plot = sns.barplot(x=features, y= fea_importance)\n",
    "ax.set_title('Feature Importance')\n",
    "plot.set_xticklabels(plot.get_xticklabels(),rotation='vertical')\n",
    "plt.show()"
   ]
  },
  {
   "cell_type": "code",
   "execution_count": null,
   "metadata": {},
   "outputs": [],
   "source": []
  },
  {
   "cell_type": "code",
   "execution_count": null,
   "metadata": {},
   "outputs": [],
   "source": []
  },
  {
   "cell_type": "code",
   "execution_count": null,
   "metadata": {},
   "outputs": [],
   "source": []
  },
  {
   "cell_type": "code",
   "execution_count": null,
   "metadata": {},
   "outputs": [],
   "source": []
  },
  {
   "cell_type": "code",
   "execution_count": null,
   "metadata": {},
   "outputs": [],
   "source": []
  }
 ],
 "metadata": {
  "kernelspec": {
   "display_name": "conda_python3",
   "language": "python",
   "name": "conda_python3"
  },
  "language_info": {
   "codemirror_mode": {
    "name": "ipython",
    "version": 3
   },
   "file_extension": ".py",
   "mimetype": "text/x-python",
   "name": "python",
   "nbconvert_exporter": "python",
   "pygments_lexer": "ipython3",
   "version": "3.6.10"
  }
 },
 "nbformat": 4,
 "nbformat_minor": 4
}
