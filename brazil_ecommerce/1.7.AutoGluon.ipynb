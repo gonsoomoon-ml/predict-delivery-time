{
 "cells": [
  {
   "cell_type": "markdown",
   "metadata": {},
   "source": [
    " # [Module 1.7] AutoGluon 훈련 및 추론\n",
    "\n",
    "이 노트북은 아래와 같은 작업을 합니다.\n",
    "- 데이터 로딩\n",
    "- 카테고리 피쳐의 레이블 인코딩\n",
    "    - 훈련, 테스트 데이터 인코딩 (테스트 데이터의 인코딩시에 훈련에 없는 항목은 'Unknown' 으로 인코딩)\n",
    "- AutoGluon 데이터 타입으로 변경\n",
    "- AutoGluon 훈련\n",
    "- 테스트 데이터 로딩 및 추론\n",
    "- 모델 평가\n",
    "- 피쳐 Importance 생성\n",
    "\n",
    "#### AutoGluon Tabular Prediction\n",
    "- 오토글루온 Tabular 공식 페이지 입니다. 자세한 내용은 아래 링크를 참조 하세요.\n",
    "    - https://autogluon.mxnet.io/stable/tutorials/tabular_prediction/index.html"
   ]
  },
  {
   "cell_type": "markdown",
   "metadata": {},
   "source": [
    "## 데이터 세트 로딩\n",
    "로컬에 저장된 파일을 로딩해서, 다시 한번 Shape(Row, column)을 확인하고 데이터를 확인 합니다."
   ]
  },
  {
   "cell_type": "code",
   "execution_count": 1,
   "metadata": {},
   "outputs": [],
   "source": [
    "import pandas as pd"
   ]
  },
  {
   "cell_type": "code",
   "execution_count": 2,
   "metadata": {},
   "outputs": [],
   "source": [
    "%store -r no_auto_train_file\n",
    "%store -r no_auto_test_file"
   ]
  },
  {
   "cell_type": "code",
   "execution_count": 3,
   "metadata": {},
   "outputs": [],
   "source": [
    "train_pd = pd.read_csv(no_auto_train_file)\n",
    "test_pd = pd.read_csv(no_auto_test_file)"
   ]
  },
  {
   "cell_type": "code",
   "execution_count": 4,
   "metadata": {},
   "outputs": [
    {
     "name": "stdout",
     "output_type": "stream",
     "text": [
      "auto_train_file:  (53740, 18)\n",
      "auto_train_file:  (13436, 18)\n"
     ]
    }
   ],
   "source": [
    "print(\"auto_train_file: \", train_pd.shape)\n",
    "print(\"auto_train_file: \", test_pd.shape)"
   ]
  },
  {
   "cell_type": "code",
   "execution_count": 5,
   "metadata": {},
   "outputs": [
    {
     "data": {
      "text/html": [
       "<div>\n",
       "<style scoped>\n",
       "    .dataframe tbody tr th:only-of-type {\n",
       "        vertical-align: middle;\n",
       "    }\n",
       "\n",
       "    .dataframe tbody tr th {\n",
       "        vertical-align: top;\n",
       "    }\n",
       "\n",
       "    .dataframe thead th {\n",
       "        text-align: right;\n",
       "    }\n",
       "</style>\n",
       "<table border=\"1\" class=\"dataframe\">\n",
       "  <thead>\n",
       "    <tr style=\"text-align: right;\">\n",
       "      <th></th>\n",
       "      <th>classes</th>\n",
       "      <th>customer_zip_code_prefix</th>\n",
       "      <th>customer_city</th>\n",
       "      <th>customer_state</th>\n",
       "      <th>price</th>\n",
       "      <th>freight_value</th>\n",
       "      <th>product_weight_g</th>\n",
       "      <th>product_category_name_english</th>\n",
       "      <th>seller_zip_code_prefix</th>\n",
       "      <th>seller_city</th>\n",
       "      <th>seller_state</th>\n",
       "      <th>order_weekday</th>\n",
       "      <th>order_day</th>\n",
       "      <th>order_month</th>\n",
       "      <th>customer_seller_state</th>\n",
       "      <th>customer_seller_city</th>\n",
       "      <th>customer_seller_zip_code_prefix</th>\n",
       "      <th>product_volume</th>\n",
       "    </tr>\n",
       "  </thead>\n",
       "  <tbody>\n",
       "    <tr>\n",
       "      <th>0</th>\n",
       "      <td>3</td>\n",
       "      <td>12030</td>\n",
       "      <td>taubate</td>\n",
       "      <td>SP</td>\n",
       "      <td>29.99</td>\n",
       "      <td>10.96</td>\n",
       "      <td>9000.0</td>\n",
       "      <td>fashion_shoes</td>\n",
       "      <td>13481</td>\n",
       "      <td>limeira</td>\n",
       "      <td>SP</td>\n",
       "      <td>1</td>\n",
       "      <td>4</td>\n",
       "      <td>10</td>\n",
       "      <td>SP_SP</td>\n",
       "      <td>taubate_limeira</td>\n",
       "      <td>12030_13481</td>\n",
       "      <td>2640.0</td>\n",
       "    </tr>\n",
       "    <tr>\n",
       "      <th>1</th>\n",
       "      <td>2</td>\n",
       "      <td>78075</td>\n",
       "      <td>cuiaba</td>\n",
       "      <td>MT</td>\n",
       "      <td>23.90</td>\n",
       "      <td>26.82</td>\n",
       "      <td>1500.0</td>\n",
       "      <td>furniture_decor</td>\n",
       "      <td>17051</td>\n",
       "      <td>bauru</td>\n",
       "      <td>SP</td>\n",
       "      <td>1</td>\n",
       "      <td>4</td>\n",
       "      <td>10</td>\n",
       "      <td>MT_SP</td>\n",
       "      <td>cuiaba_bauru</td>\n",
       "      <td>78075_17051</td>\n",
       "      <td>14625.0</td>\n",
       "    </tr>\n",
       "  </tbody>\n",
       "</table>\n",
       "</div>"
      ],
      "text/plain": [
       "   classes  customer_zip_code_prefix customer_city customer_state  price  \\\n",
       "0        3                     12030       taubate             SP  29.99   \n",
       "1        2                     78075        cuiaba             MT  23.90   \n",
       "\n",
       "   freight_value  product_weight_g product_category_name_english  \\\n",
       "0          10.96            9000.0                 fashion_shoes   \n",
       "1          26.82            1500.0               furniture_decor   \n",
       "\n",
       "   seller_zip_code_prefix seller_city seller_state  order_weekday  order_day  \\\n",
       "0                   13481     limeira           SP              1          4   \n",
       "1                   17051       bauru           SP              1          4   \n",
       "\n",
       "   order_month customer_seller_state customer_seller_city  \\\n",
       "0           10                 SP_SP      taubate_limeira   \n",
       "1           10                 MT_SP         cuiaba_bauru   \n",
       "\n",
       "  customer_seller_zip_code_prefix  product_volume  \n",
       "0                     12030_13481          2640.0  \n",
       "1                     78075_17051         14625.0  "
      ]
     },
     "metadata": {},
     "output_type": "display_data"
    },
    {
     "data": {
      "text/html": [
       "<div>\n",
       "<style scoped>\n",
       "    .dataframe tbody tr th:only-of-type {\n",
       "        vertical-align: middle;\n",
       "    }\n",
       "\n",
       "    .dataframe tbody tr th {\n",
       "        vertical-align: top;\n",
       "    }\n",
       "\n",
       "    .dataframe thead th {\n",
       "        text-align: right;\n",
       "    }\n",
       "</style>\n",
       "<table border=\"1\" class=\"dataframe\">\n",
       "  <thead>\n",
       "    <tr style=\"text-align: right;\">\n",
       "      <th></th>\n",
       "      <th>classes</th>\n",
       "      <th>customer_zip_code_prefix</th>\n",
       "      <th>customer_city</th>\n",
       "      <th>customer_state</th>\n",
       "      <th>price</th>\n",
       "      <th>freight_value</th>\n",
       "      <th>product_weight_g</th>\n",
       "      <th>product_category_name_english</th>\n",
       "      <th>seller_zip_code_prefix</th>\n",
       "      <th>seller_city</th>\n",
       "      <th>seller_state</th>\n",
       "      <th>order_weekday</th>\n",
       "      <th>order_day</th>\n",
       "      <th>order_month</th>\n",
       "      <th>customer_seller_state</th>\n",
       "      <th>customer_seller_city</th>\n",
       "      <th>customer_seller_zip_code_prefix</th>\n",
       "      <th>product_volume</th>\n",
       "    </tr>\n",
       "  </thead>\n",
       "  <tbody>\n",
       "    <tr>\n",
       "      <th>0</th>\n",
       "      <td>3</td>\n",
       "      <td>89219</td>\n",
       "      <td>joinville</td>\n",
       "      <td>SC</td>\n",
       "      <td>105.00</td>\n",
       "      <td>23.89</td>\n",
       "      <td>1000.0</td>\n",
       "      <td>watches_gifts</td>\n",
       "      <td>21840</td>\n",
       "      <td>rio de janeiro</td>\n",
       "      <td>RJ</td>\n",
       "      <td>1</td>\n",
       "      <td>19</td>\n",
       "      <td>6</td>\n",
       "      <td>SC_RJ</td>\n",
       "      <td>joinville_rio de janeiro</td>\n",
       "      <td>89219_21840</td>\n",
       "      <td>7632.0</td>\n",
       "    </tr>\n",
       "    <tr>\n",
       "      <th>1</th>\n",
       "      <td>0</td>\n",
       "      <td>9950</td>\n",
       "      <td>diadema</td>\n",
       "      <td>SP</td>\n",
       "      <td>99.97</td>\n",
       "      <td>15.80</td>\n",
       "      <td>650.0</td>\n",
       "      <td>housewares</td>\n",
       "      <td>32677</td>\n",
       "      <td>betim</td>\n",
       "      <td>MG</td>\n",
       "      <td>1</td>\n",
       "      <td>19</td>\n",
       "      <td>6</td>\n",
       "      <td>SP_MG</td>\n",
       "      <td>diadema_betim</td>\n",
       "      <td>9950_32677</td>\n",
       "      <td>9600.0</td>\n",
       "    </tr>\n",
       "  </tbody>\n",
       "</table>\n",
       "</div>"
      ],
      "text/plain": [
       "   classes  customer_zip_code_prefix customer_city customer_state   price  \\\n",
       "0        3                     89219     joinville             SC  105.00   \n",
       "1        0                      9950       diadema             SP   99.97   \n",
       "\n",
       "   freight_value  product_weight_g product_category_name_english  \\\n",
       "0          23.89            1000.0                 watches_gifts   \n",
       "1          15.80             650.0                    housewares   \n",
       "\n",
       "   seller_zip_code_prefix     seller_city seller_state  order_weekday  \\\n",
       "0                   21840  rio de janeiro           RJ              1   \n",
       "1                   32677           betim           MG              1   \n",
       "\n",
       "   order_day  order_month customer_seller_state      customer_seller_city  \\\n",
       "0         19            6                 SC_RJ  joinville_rio de janeiro   \n",
       "1         19            6                 SP_MG             diadema_betim   \n",
       "\n",
       "  customer_seller_zip_code_prefix  product_volume  \n",
       "0                     89219_21840          7632.0  \n",
       "1                      9950_32677          9600.0  "
      ]
     },
     "metadata": {},
     "output_type": "display_data"
    }
   ],
   "source": [
    "from IPython.display import display as dp\n",
    "dp(train_pd.head(2))\n",
    "dp(test_pd.head(2))"
   ]
  },
  {
   "cell_type": "code",
   "execution_count": 6,
   "metadata": {},
   "outputs": [
    {
     "name": "stdout",
     "output_type": "stream",
     "text": [
      "object\n",
      "object\n",
      "object\n",
      "object\n",
      "<class 'pandas.core.frame.DataFrame'>\n",
      "RangeIndex: 53740 entries, 0 to 53739\n",
      "Data columns (total 18 columns):\n",
      " #   Column                           Non-Null Count  Dtype  \n",
      "---  ------                           --------------  -----  \n",
      " 0   classes                          53740 non-null  int64  \n",
      " 1   customer_zip_code_prefix         53740 non-null  object \n",
      " 2   customer_city                    53740 non-null  object \n",
      " 3   customer_state                   53740 non-null  object \n",
      " 4   price                            53740 non-null  float64\n",
      " 5   freight_value                    53740 non-null  float64\n",
      " 6   product_weight_g                 53740 non-null  float64\n",
      " 7   product_category_name_english    53740 non-null  object \n",
      " 8   seller_zip_code_prefix           53740 non-null  object \n",
      " 9   seller_city                      53740 non-null  object \n",
      " 10  seller_state                     53740 non-null  object \n",
      " 11  order_weekday                    53740 non-null  int64  \n",
      " 12  order_day                        53740 non-null  int64  \n",
      " 13  order_month                      53740 non-null  int64  \n",
      " 14  customer_seller_state            53740 non-null  object \n",
      " 15  customer_seller_city             53740 non-null  object \n",
      " 16  customer_seller_zip_code_prefix  53740 non-null  object \n",
      " 17  product_volume                   53740 non-null  float64\n",
      "dtypes: float64(4), int64(4), object(10)\n",
      "memory usage: 7.4+ MB\n"
     ]
    }
   ],
   "source": [
    "from p_utils import convert_date_type\n",
    "\n",
    "train_pd = convert_date_type(train_pd, col1='customer_zip_code_prefix')\n",
    "test_pd = convert_date_type(test_pd, col1='customer_zip_code_prefix')\n",
    "train_pd = convert_date_type(train_pd, col1='seller_zip_code_prefix')\n",
    "test_pd = convert_date_type(test_pd, col1='seller_zip_code_prefix')\n",
    "\n",
    "train_pd.info()"
   ]
  },
  {
   "cell_type": "markdown",
   "metadata": {},
   "source": [
    "## Category 레이블 Encoding"
   ]
  },
  {
   "cell_type": "markdown",
   "metadata": {},
   "source": [
    "### Category 변수의 레이블 인코딩 실행"
   ]
  },
  {
   "cell_type": "code",
   "execution_count": 7,
   "metadata": {},
   "outputs": [
    {
     "name": "stdout",
     "output_type": "stream",
     "text": [
      "Starting:  customer_city\n",
      "new col name:  lb_customer_city\n",
      "Starting:  customer_state\n",
      "new col name:  lb_customer_state\n",
      "Starting:  customer_zip_code_prefix\n",
      "new col name:  lb_customer_zip_code_prefix\n",
      "Starting:  seller_zip_code_prefix\n",
      "new col name:  lb_seller_zip_code_prefix\n",
      "Starting:  seller_city\n",
      "new col name:  lb_seller_city\n",
      "Starting:  seller_state\n",
      "new col name:  lb_seller_state\n",
      "Starting:  customer_seller_state\n",
      "new col name:  lb_customer_seller_state\n",
      "Starting:  customer_seller_city\n",
      "new col name:  lb_customer_seller_city\n",
      "Starting:  customer_seller_zip_code_prefix\n",
      "new col name:  lb_customer_seller_zip_code_prefix\n",
      "Starting:  product_category_name_english\n",
      "new col name:  lb_product_category_name_english\n"
     ]
    }
   ],
   "source": [
    "from p_utils import make_test_label_encoding\n",
    "label_cols = ['customer_city','customer_state','customer_zip_code_prefix',\n",
    "              'seller_zip_code_prefix','seller_city','seller_state',\n",
    "              'customer_seller_state','customer_seller_city','customer_seller_zip_code_prefix',\n",
    "              'product_category_name_english',\n",
    "             ]\n",
    "# label_cols = ['customer_city','customer_state']\n",
    "# label_cols = ['customer_city']\n",
    "train_pd, test_pd = make_test_label_encoding(train_pd, test_pd, label_cols)"
   ]
  },
  {
   "cell_type": "markdown",
   "metadata": {},
   "source": [
    "### 필요 피쳐만 선택"
   ]
  },
  {
   "cell_type": "code",
   "execution_count": 8,
   "metadata": {},
   "outputs": [],
   "source": [
    "from p_utils import filter_df\n",
    "\n",
    "cols = ['classes','price', 'freight_value', 'product_weight_g',\n",
    "       'product_volume',\n",
    "       'lb_customer_state', 'lb_customer_city','lb_customer_zip_code_prefix',\n",
    "       'lb_seller_zip_code_prefix', 'lb_seller_city','lb_seller_state',    \n",
    "       'lb_customer_seller_state','lb_customer_seller_city','lb_customer_seller_zip_code_prefix' ,   \n",
    "       'lb_product_category_name_english',\n",
    "       ]\n",
    "\n",
    "train_pd = filter_df(train_pd, cols)\n",
    "test_pd = filter_df(test_pd, cols)\n"
   ]
  },
  {
   "cell_type": "code",
   "execution_count": 14,
   "metadata": {},
   "outputs": [],
   "source": [
    "from autogluon.tabular import TabularPredictor as task\n",
    "from autogluon.tabular import TabularDataset"
   ]
  },
  {
   "cell_type": "markdown",
   "metadata": {},
   "source": [
    "## 오토글루온 데이터 타입으로 변경\n",
    "로컬에 저장된 파일을 오토글로온의 Tabular 데이터 타입으로 로딩 합니다. 이후 랜덤 샘플링을 하고 데이터를 확인 합니다.\n",
    "- 아래 데이타 샘플을 모두 하면 약 4:30 초 훈련 시간이 걸림"
   ]
  },
  {
   "cell_type": "code",
   "execution_count": 15,
   "metadata": {},
   "outputs": [
    {
     "name": "stdout",
     "output_type": "stream",
     "text": [
      "     classes  price  freight_value  product_weight_g  product_volume  \\\n",
      "588        2  59.99           18.0             525.0          9280.0   \n",
      "\n",
      "    lb_customer_state lb_customer_city lb_customer_zip_code_prefix  \\\n",
      "588                17             1560                        9699   \n",
      "\n",
      "    lb_seller_zip_code_prefix lb_seller_city lb_seller_state  \\\n",
      "588                       169            388              20   \n",
      "\n",
      "    lb_customer_seller_state lb_customer_seller_city  \\\n",
      "588                      204                   10810   \n",
      "\n",
      "    lb_customer_seller_zip_code_prefix lb_product_category_name_english  \n",
      "588                              43033                               66  \n"
     ]
    }
   ],
   "source": [
    "# train_data = task.Dataset(df = train_pd)\n",
    "\n",
    "train_data = TabularDataset(train_pd)\n",
    "# subsample_size = train_data.shape[0]\n",
    "subsample_size = 500  # subsample subset of data for faster demo, try setting this to much larger values\n",
    "train_data = train_data.sample(n=subsample_size, random_state=0)\n",
    "print(train_data.head(1))"
   ]
  },
  {
   "cell_type": "markdown",
   "metadata": {},
   "source": [
    "### 레이블 컬럼 지정\n",
    "**레이블 컬럼을 지정하여, 오토글루온이 이 컬럼을 레이블로 인식하게 합니다.**"
   ]
  },
  {
   "cell_type": "code",
   "execution_count": 16,
   "metadata": {},
   "outputs": [],
   "source": [
    "label_column = 'classes'\n",
    "# print(\"Summary of class variable: \\n\", train_data[label_column].describe())"
   ]
  },
  {
   "cell_type": "markdown",
   "metadata": {},
   "source": [
    "## 오토글루운으로 훈련\n",
    "- 시간 제약을 2시간으로 합니다. 하지만 아래 훈련은 약 5분 소요 됩니다.\n",
    "- 훈련 데이터 세트의 사이즈에 따라서 시간은 다양 합니다.\n",
    "- 하지만 presets를 best_quality 으로 설정하면, 시간은 약 1시간 30분이 소요 됩니다. 하지만 이 경우에는 성능은 다소 올라갑니다. 다른 데이터 세트의 경우는 성능이 올라가는 정도가 다를 수 있습니다. "
   ]
  },
  {
   "cell_type": "code",
   "execution_count": 18,
   "metadata": {},
   "outputs": [
    {
     "name": "stderr",
     "output_type": "stream",
     "text": [
      "Presets specified: ['medium_quality_faster_train']\n",
      "Beginning AutoGluon training ...\n",
      "AutoGluon will save models to \"adv_agModels-predictClass/\"\n",
      "AutoGluon Version:  0.2.0\n",
      "Train Data Rows:    500\n",
      "Train Data Columns: 14\n",
      "Preprocessing data ...\n",
      "AutoGluon infers your prediction problem is: 'multiclass' (because dtype of label-column == int, but few unique label-values observed).\n",
      "\t5 unique label values:  [2, 3, 1, 0, 4]\n",
      "\tIf 'multiclass' is not the correct problem_type, please manually specify the problem_type argument in fit() (You may specify problem_type as one of: ['binary', 'multiclass', 'regression'])\n",
      "NumExpr defaulting to 2 threads.\n",
      "Train Data Class Count: 5\n",
      "Using Feature Generators to preprocess the data ...\n",
      "Fitting AutoMLPipelineFeatureGenerator...\n",
      "\tAvailable Memory:                    2286.84 MB\n",
      "\tTrain Data (Original)  Memory Usage: 0.32 MB (0.0% of available memory)\n",
      "\tInferring data type of each feature based on column values. Set feature_metadata_in to manually specify special dtypes of the features.\n",
      "\tStage 1 Generators:\n",
      "\t\tFitting AsTypeFeatureGenerator...\n",
      "\tStage 2 Generators:\n",
      "\t\tFitting FillNaFeatureGenerator...\n",
      "\tStage 3 Generators:\n",
      "\t\tFitting IdentityFeatureGenerator...\n",
      "\t\tFitting CategoryFeatureGenerator...\n",
      "\t\t\tFitting CategoryMemoryMinimizeFeatureGenerator...\n",
      "\tStage 4 Generators:\n",
      "\t\tFitting DropUniqueFeatureGenerator...\n",
      "\tUnused Original Features (Count: 1): ['lb_customer_seller_zip_code_prefix']\n",
      "\t\tThese features were not used to generate any of the output features. Add a feature generator compatible with these features to utilize them.\n",
      "\t\tFeatures can also be unused if they carry very little information, such as being categorical but having almost entirely unique values or being duplicates of other features.\n",
      "\t\tThese features do not need to be present at inference time.\n",
      "\t\t('object', []) : 1 | ['lb_customer_seller_zip_code_prefix']\n",
      "\tTypes of features in original data (raw dtype, special dtypes):\n",
      "\t\t('float', [])  : 4 | ['price', 'freight_value', 'product_weight_g', 'product_volume']\n",
      "\t\t('object', []) : 9 | ['lb_customer_state', 'lb_customer_city', 'lb_customer_zip_code_prefix', 'lb_seller_zip_code_prefix', 'lb_seller_city', ...]\n",
      "\tTypes of features in processed data (raw dtype, special dtypes):\n",
      "\t\t('category', []) : 9 | ['lb_customer_state', 'lb_customer_city', 'lb_customer_zip_code_prefix', 'lb_seller_zip_code_prefix', 'lb_seller_city', ...]\n",
      "\t\t('float', [])    : 4 | ['price', 'freight_value', 'product_weight_g', 'product_volume']\n",
      "\t0.2s = Fit runtime\n",
      "\t13 features in original data used to generate 13 features in processed data.\n",
      "\tTrain Data (Processed) Memory Usage: 0.04 MB (0.0% of available memory)\n",
      "Data preprocessing and feature engineering runtime = 0.27s ...\n",
      "AutoGluon will gauge predictive performance using evaluation metric: 'accuracy'\n",
      "\tTo change this, specify the eval_metric argument of fit()\n",
      "Automatically generating train/validation split with holdout_frac=0.2, Train Rows: 400, Val Rows: 100\n",
      "Excluded Model Types: ['KNN', 'GBM', 'NN', 'FASTAI', 'RF']\n",
      "\tFound 'NN' model in hyperparameters, but 'NN' is present in `excluded_model_types` and will be removed.\n",
      "\tFound 'GBM' model in hyperparameters, but 'GBM' is present in `excluded_model_types` and will be removed.\n",
      "\tFound 'GBM' model in hyperparameters, but 'GBM' is present in `excluded_model_types` and will be removed.\n",
      "\tFound 'GBM' model in hyperparameters, but 'GBM' is present in `excluded_model_types` and will be removed.\n",
      "\tFound 'FASTAI' model in hyperparameters, but 'FASTAI' is present in `excluded_model_types` and will be removed.\n",
      "\tFound 'RF' model in hyperparameters, but 'RF' is present in `excluded_model_types` and will be removed.\n",
      "\tFound 'RF' model in hyperparameters, but 'RF' is present in `excluded_model_types` and will be removed.\n",
      "\tFound 'RF' model in hyperparameters, but 'RF' is present in `excluded_model_types` and will be removed.\n",
      "\tFound 'KNN' model in hyperparameters, but 'KNN' is present in `excluded_model_types` and will be removed.\n",
      "\tFound 'KNN' model in hyperparameters, but 'KNN' is present in `excluded_model_types` and will be removed.\n",
      "Fitting model: CatBoost ...\n",
      "\t0.33\t = Validation accuracy score\n",
      "\t5.69s\t = Training runtime\n",
      "\t0.01s\t = Validation runtime\n",
      "Fitting model: ExtraTreesGini ...\n",
      "\t0.27\t = Validation accuracy score\n",
      "\t0.95s\t = Training runtime\n",
      "\t0.11s\t = Validation runtime\n",
      "Fitting model: ExtraTreesEntr ...\n",
      "\t0.27\t = Validation accuracy score\n",
      "\t0.77s\t = Training runtime\n",
      "\t0.11s\t = Validation runtime\n",
      "Fitting model: XGBoost ...\n",
      "\t0.37\t = Validation accuracy score\n",
      "\t1.76s\t = Training runtime\n",
      "\t0.01s\t = Validation runtime\n",
      "Fitting model: WeightedEnsemble_L2 ...\n",
      "\t0.38\t = Validation accuracy score\n",
      "\t0.17s\t = Training runtime\n",
      "\t0.0s\t = Validation runtime\n",
      "AutoGluon training complete, total runtime = 10.46s ...\n",
      "TabularPredictor saved. To load, use: predictor = TabularPredictor.load(\"adv_agModels-predictClass/\")\n"
     ]
    },
    {
     "name": "stdout",
     "output_type": "stream",
     "text": [
      "CPU times: user 12.1 s, sys: 586 ms, total: 12.7 s\n",
      "Wall time: 10.5 s\n"
     ]
    }
   ],
   "source": [
    "\n",
    "%%time\n",
    "save_path = 'adv_agModels-predictClass'  # specifies folder where to store trained models\n",
    "presets = 'medium_quality_faster_train'\n",
    "\n",
    "\n",
    "predictor = task(label=label_column, path = save_path).fit(train_data, presets=presets,\n",
    "                                                   excluded_model_types=['KNN','GBM','NN','FASTAI','RF']\n",
    "                                                   )\n",
    "\n"
   ]
  },
  {
   "cell_type": "markdown",
   "metadata": {},
   "source": [
    "## 테스트 데이터 로딩\n",
    "- 테스트 데이터를 로딩하여 모델을 평가 합니다.\n",
    "- 여기서는 y_test의 레이블만 가지고 있는 변수를 생성\n",
    "- test_data_nolab는 레이블만 없는 피쳐만으로 구성된 데이터를 생성 합니다."
   ]
  },
  {
   "cell_type": "code",
   "execution_count": 19,
   "metadata": {},
   "outputs": [
    {
     "name": "stdout",
     "output_type": "stream",
     "text": [
      "    price  freight_value  product_weight_g  product_volume lb_customer_state  \\\n",
      "0  105.00          23.89            1000.0          7632.0                23   \n",
      "1   99.97          15.80             650.0          9600.0                25   \n",
      "\n",
      "  lb_customer_city lb_customer_zip_code_prefix lb_seller_zip_code_prefix  \\\n",
      "0             1372                       10728                       482   \n",
      "1              784                       11737                       724   \n",
      "\n",
      "  lb_seller_city lb_seller_state lb_customer_seller_state  \\\n",
      "0            373              14                      271   \n",
      "1             56               6                      288   \n",
      "\n",
      "  lb_customer_seller_city lb_customer_seller_zip_code_prefix  \\\n",
      "0                    9397                              51403   \n",
      "1                    5468                              51403   \n",
      "\n",
      "  lb_product_category_name_english  \n",
      "0                               71  \n",
      "1                               50  \n"
     ]
    }
   ],
   "source": [
    "test_data = TabularDataset(test_pd)\n",
    "y_test = test_data[label_column]  # values to predict\n",
    "test_data_nolab = test_data.drop(labels=[label_column],axis=1)  # delete label column to prove we're not cheating\n",
    "print(test_data_nolab.head(2))"
   ]
  },
  {
   "cell_type": "markdown",
   "metadata": {},
   "source": [
    "## 모델 예측\n",
    "- 생성된 모델을 통해서 추론(예측)을 합니다.\n",
    "- 진실값 (y_test), 예측값(prediction)을 제공하여 accuracy, f1, precision, recall 를 계산 합니다."
   ]
  },
  {
   "cell_type": "code",
   "execution_count": 20,
   "metadata": {},
   "outputs": [
    {
     "name": "stderr",
     "output_type": "stream",
     "text": [
      "Evaluation: accuracy on test data: 0.3358886573384936\n",
      "Evaluations on test data:\n",
      "{\n",
      "    \"accuracy\": 0.3358886573384936,\n",
      "    \"balanced_accuracy\": 0.2748545756295234,\n",
      "    \"mcc\": 0.10020829619369806\n",
      "}\n"
     ]
    },
    {
     "name": "stdout",
     "output_type": "stream",
     "text": [
      "Predictions:   0        2\n",
      "1        2\n",
      "2        3\n",
      "3        2\n",
      "4        3\n",
      "        ..\n",
      "13431    2\n",
      "13432    2\n",
      "13433    4\n",
      "13434    1\n",
      "13435    0\n",
      "Name: classes, Length: 13436, dtype: int64\n"
     ]
    }
   ],
   "source": [
    "# predictor = task.load(dir)  # unnecessary, just demonstrates how to load previously-trained predictor from file\n",
    "\n",
    "prediction = predictor.predict(test_data_nolab)\n",
    "print(\"Predictions:  \", prediction)\n",
    "perf = predictor.evaluate_predictions(y_true=y_test, y_pred=prediction, auxiliary_metrics=True)"
   ]
  },
  {
   "cell_type": "markdown",
   "metadata": {},
   "source": [
    "예측 확률에 대한 predict_proba() 를 확인하기 위해서는 아래를 보세요\n",
    "- API URL: https://auto.gluon.ai/api/autogluon.task.html#module-autogluon.tabular.tabular_prediction"
   ]
  },
  {
   "cell_type": "markdown",
   "metadata": {},
   "source": [
    "## 리더 보드 생성\n",
    "오토글루온에서 사용된 알고리즘의 성능 관련 지표를 확인 합니다. (예: score_test)"
   ]
  },
  {
   "cell_type": "code",
   "execution_count": 21,
   "metadata": {},
   "outputs": [
    {
     "data": {
      "text/html": [
       "<div>\n",
       "<style scoped>\n",
       "    .dataframe tbody tr th:only-of-type {\n",
       "        vertical-align: middle;\n",
       "    }\n",
       "\n",
       "    .dataframe tbody tr th {\n",
       "        vertical-align: top;\n",
       "    }\n",
       "\n",
       "    .dataframe thead th {\n",
       "        text-align: right;\n",
       "    }\n",
       "</style>\n",
       "<table border=\"1\" class=\"dataframe\">\n",
       "  <thead>\n",
       "    <tr style=\"text-align: right;\">\n",
       "      <th></th>\n",
       "      <th>model</th>\n",
       "      <th>score_test</th>\n",
       "      <th>score_val</th>\n",
       "      <th>pred_time_test</th>\n",
       "      <th>pred_time_val</th>\n",
       "      <th>fit_time</th>\n",
       "      <th>pred_time_test_marginal</th>\n",
       "      <th>pred_time_val_marginal</th>\n",
       "      <th>fit_time_marginal</th>\n",
       "      <th>stack_level</th>\n",
       "      <th>can_infer</th>\n",
       "      <th>fit_order</th>\n",
       "    </tr>\n",
       "  </thead>\n",
       "  <tbody>\n",
       "    <tr>\n",
       "      <th>0</th>\n",
       "      <td>CatBoost</td>\n",
       "      <td>0.398854</td>\n",
       "      <td>0.33</td>\n",
       "      <td>0.043133</td>\n",
       "      <td>0.013830</td>\n",
       "      <td>5.687734</td>\n",
       "      <td>0.043133</td>\n",
       "      <td>0.013830</td>\n",
       "      <td>5.687734</td>\n",
       "      <td>1</td>\n",
       "      <td>True</td>\n",
       "      <td>1</td>\n",
       "    </tr>\n",
       "    <tr>\n",
       "      <th>1</th>\n",
       "      <td>ExtraTreesEntr</td>\n",
       "      <td>0.344820</td>\n",
       "      <td>0.27</td>\n",
       "      <td>0.334454</td>\n",
       "      <td>0.112472</td>\n",
       "      <td>0.766065</td>\n",
       "      <td>0.334454</td>\n",
       "      <td>0.112472</td>\n",
       "      <td>0.766065</td>\n",
       "      <td>1</td>\n",
       "      <td>True</td>\n",
       "      <td>3</td>\n",
       "    </tr>\n",
       "    <tr>\n",
       "      <th>2</th>\n",
       "      <td>ExtraTreesGini</td>\n",
       "      <td>0.338940</td>\n",
       "      <td>0.27</td>\n",
       "      <td>0.334653</td>\n",
       "      <td>0.113153</td>\n",
       "      <td>0.946318</td>\n",
       "      <td>0.334653</td>\n",
       "      <td>0.113153</td>\n",
       "      <td>0.946318</td>\n",
       "      <td>1</td>\n",
       "      <td>True</td>\n",
       "      <td>2</td>\n",
       "    </tr>\n",
       "    <tr>\n",
       "      <th>3</th>\n",
       "      <td>WeightedEnsemble_L2</td>\n",
       "      <td>0.335889</td>\n",
       "      <td>0.38</td>\n",
       "      <td>0.603507</td>\n",
       "      <td>0.139760</td>\n",
       "      <td>8.377902</td>\n",
       "      <td>0.005709</td>\n",
       "      <td>0.000624</td>\n",
       "      <td>0.167647</td>\n",
       "      <td>2</td>\n",
       "      <td>True</td>\n",
       "      <td>5</td>\n",
       "    </tr>\n",
       "    <tr>\n",
       "      <th>4</th>\n",
       "      <td>XGBoost</td>\n",
       "      <td>0.326362</td>\n",
       "      <td>0.37</td>\n",
       "      <td>0.220212</td>\n",
       "      <td>0.012834</td>\n",
       "      <td>1.756456</td>\n",
       "      <td>0.220212</td>\n",
       "      <td>0.012834</td>\n",
       "      <td>1.756456</td>\n",
       "      <td>1</td>\n",
       "      <td>True</td>\n",
       "      <td>4</td>\n",
       "    </tr>\n",
       "  </tbody>\n",
       "</table>\n",
       "</div>"
      ],
      "text/plain": [
       "                 model  score_test  score_val  pred_time_test  pred_time_val  \\\n",
       "0             CatBoost    0.398854       0.33        0.043133       0.013830   \n",
       "1       ExtraTreesEntr    0.344820       0.27        0.334454       0.112472   \n",
       "2       ExtraTreesGini    0.338940       0.27        0.334653       0.113153   \n",
       "3  WeightedEnsemble_L2    0.335889       0.38        0.603507       0.139760   \n",
       "4              XGBoost    0.326362       0.37        0.220212       0.012834   \n",
       "\n",
       "   fit_time  pred_time_test_marginal  pred_time_val_marginal  \\\n",
       "0  5.687734                 0.043133                0.013830   \n",
       "1  0.766065                 0.334454                0.112472   \n",
       "2  0.946318                 0.334653                0.113153   \n",
       "3  8.377902                 0.005709                0.000624   \n",
       "4  1.756456                 0.220212                0.012834   \n",
       "\n",
       "   fit_time_marginal  stack_level  can_infer  fit_order  \n",
       "0           5.687734            1       True          1  \n",
       "1           0.766065            1       True          3  \n",
       "2           0.946318            1       True          2  \n",
       "3           0.167647            2       True          5  \n",
       "4           1.756456            1       True          4  "
      ]
     },
     "execution_count": 21,
     "metadata": {},
     "output_type": "execute_result"
    }
   ],
   "source": [
    "predictor.leaderboard(test_data, silent=True)"
   ]
  },
  {
   "cell_type": "markdown",
   "metadata": {},
   "source": [
    "## 모델 평가 및 Confusion 매트릭스\n",
    "- SKLearn으로 accuracy, f1 score를 계산 합니다. 오토글루온의 수치와 동일한 결과가 나옵니다.\n",
    "- Confusion 매트릭스 를 통해서 어느 레이블에서 잘 예측을 했는지를 확인 합니다."
   ]
  },
  {
   "cell_type": "code",
   "execution_count": 22,
   "metadata": {},
   "outputs": [
    {
     "name": "stdout",
     "output_type": "stream",
     "text": [
      "accuracy: 0.34%\n",
      "f1_score: 0.28%\n"
     ]
    }
   ],
   "source": [
    "from sklearn.metrics import accuracy_score, f1_score\n",
    "accuracy = accuracy_score(y_test, prediction)\n",
    "f1_score = f1_score(y_test, prediction, average='macro')\n",
    "print(\"accuracy: %.2f%%\" % accuracy)\n",
    "print(\"f1_score: %.2f%%\" % f1_score)"
   ]
  },
  {
   "cell_type": "code",
   "execution_count": 23,
   "metadata": {},
   "outputs": [
    {
     "name": "stderr",
     "output_type": "stream",
     "text": [
      "/home/ec2-user/anaconda3/envs/python3/lib/python3.6/site-packages/ipykernel/pylab/config.py:79: DeprecationWarning: InlineBackend._figure_format_changed is deprecated in traitlets 4.1: use @observe and @unobserve instead.\n",
      "  def _figure_format_changed(self, name, old, new):\n"
     ]
    },
    {
     "name": "stdout",
     "output_type": "stream",
     "text": [
      "[[ 344  893  340  101   27]\n",
      " [ 290 1131 1745  827  169]\n",
      " [ 114  550 2321 1247  303]\n",
      " [  50  185 1147  633  153]\n",
      " [  13   52  448  269   84]]\n"
     ]
    },
    {
     "data": {
      "text/plain": [
       "<Figure size 432x288 with 0 Axes>"
      ]
     },
     "metadata": {},
     "output_type": "display_data"
    },
    {
     "data": {
      "image/png": "[encoded data removed]",
      "text/plain": [
       "<Figure size 720x360 with 2 Axes>"
      ]
     },
     "metadata": {
      "image/png": {
       "height": 351,
       "width": 413
      },
      "needs_background": "light"
     },
     "output_type": "display_data"
    }
   ],
   "source": [
    "from p_utils import plot_conf_mat\n",
    "\n",
    "\n",
    "from sklearn.metrics import confusion_matrix\n",
    "import matplotlib.pyplot as plt\n",
    "%matplotlib inline\n",
    "%config InlineBackend.figure_format='retina'\n",
    "\n",
    "cm = confusion_matrix(y_true= y_test, y_pred= prediction)\n",
    "\n",
    "plt.figure()\n",
    "fig, ax = plt.subplots(figsize=(10,5))\n",
    "plot_conf_mat(cm, \n",
    "              classes=['0','1', '2', '3', '4'], \n",
    "              title='Confusion Matrix')\n",
    "plt.show()"
   ]
  },
  {
   "cell_type": "markdown",
   "metadata": {},
   "source": [
    "## Feature Importance\n",
    "- 피쳐의 중요도를 확인 합니다."
   ]
  },
  {
   "cell_type": "code",
   "execution_count": 29,
   "metadata": {},
   "outputs": [
    {
     "name": "stderr",
     "output_type": "stream",
     "text": [
      "Computing feature importance via permutation shuffling for 14 features using 1000 rows with 3 shuffle sets...\n",
      "\t18.0s\t= Expected runtime (6.0s per shuffle set)\n",
      "\t3.47s\t= Actual runtime (Completed 3 of 3 shuffle sets)\n"
     ]
    },
    {
     "data": {
      "image/png": "[encoded data removed]",
      "text/plain": [
       "<Figure size 720x360 with 1 Axes>"
      ]
     },
     "metadata": {
      "image/png": {
       "height": 505,
       "width": 615
      }
     },
     "output_type": "display_data"
    }
   ],
   "source": [
    "import seaborn as sns\n",
    "import matplotlib.pyplot as plt\n",
    "sns.set(style=\"whitegrid\")\n",
    "\n",
    "fea_importance = predictor.feature_importance(test_data)\n",
    "\n",
    "fea_imp = fea_importance['importance']\n",
    "\n",
    "f, ax = plt.subplots(figsize=(10,5))\n",
    "plot = sns.barplot(x=fea_imp.index, y = fea_imp.values)\n",
    "# plot = sns.barplot(x=features, y= fea_importance)\n",
    "ax.set_title('Feature Importance')\n",
    "plot.set_xticklabels(plot.get_xticklabels(),rotation='vertical')\n",
    "plt.show()"
   ]
  },
  {
   "cell_type": "code",
   "execution_count": null,
   "metadata": {},
   "outputs": [],
   "source": []
  },
  {
   "cell_type": "code",
   "execution_count": null,
   "metadata": {},
   "outputs": [],
   "source": []
  },
  {
   "cell_type": "code",
   "execution_count": null,
   "metadata": {},
   "outputs": [],
   "source": []
  },
  {
   "cell_type": "code",
   "execution_count": null,
   "metadata": {},
   "outputs": [],
   "source": []
  },
  {
   "cell_type": "code",
   "execution_count": null,
   "metadata": {},
   "outputs": [],
   "source": []
  }
 ],
 "metadata": {
  "kernelspec": {
   "display_name": "conda_python3",
   "language": "python",
   "name": "conda_python3"
  },
  "language_info": {
   "codemirror_mode": {
    "name": "ipython",
    "version": 3
   },
   "file_extension": ".py",
   "mimetype": "text/x-python",
   "name": "python",
   "nbconvert_exporter": "python",
   "pygments_lexer": "ipython3",
   "version": "3.6.13"
  }
 },
 "nbformat": 4,
 "nbformat_minor": 4
}
