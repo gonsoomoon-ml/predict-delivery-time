{
 "cells": [
  {
   "cell_type": "code",
   "execution_count": 1,
   "metadata": {},
   "outputs": [
    {
     "name": "stderr",
     "output_type": "stream",
     "text": [
      "Loaded data from: https://autogluon.s3.amazonaws.com/datasets/Inc/train.csv | Columns = 15 / 15 | Rows = 39073 -> 39073\n"
     ]
    },
    {
     "name": "stdout",
     "output_type": "stream",
     "text": [
      "       age workclass  fnlwgt      education  education-num  \\\n",
      "6118    51   Private   39264   Some-college             10   \n",
      "23204   58   Private   51662           10th              6   \n",
      "29590   40   Private  326310   Some-college             10   \n",
      "18116   37   Private  222450        HS-grad              9   \n",
      "33964   62   Private  109190      Bachelors             13   \n",
      "\n",
      "            marital-status        occupation    relationship    race      sex  \\\n",
      "6118    Married-civ-spouse   Exec-managerial            Wife   White   Female   \n",
      "23204   Married-civ-spouse     Other-service            Wife   White   Female   \n",
      "29590   Married-civ-spouse      Craft-repair         Husband   White     Male   \n",
      "18116        Never-married             Sales   Not-in-family   White     Male   \n",
      "33964   Married-civ-spouse   Exec-managerial         Husband   White     Male   \n",
      "\n",
      "       capital-gain  capital-loss  hours-per-week  native-country   class  \n",
      "6118              0             0              40   United-States    >50K  \n",
      "23204             0             0               8   United-States   <=50K  \n",
      "29590             0             0              44   United-States   <=50K  \n",
      "18116             0          2339              40     El-Salvador   <=50K  \n",
      "33964         15024             0              40   United-States    >50K  \n",
      "Summary of occupation column: \n",
      " count                  500\n",
      "unique                  15\n",
      "top        Exec-managerial\n",
      "freq                    77\n",
      "Name: occupation, dtype: object\n"
     ]
    },
    {
     "name": "stderr",
     "output_type": "stream",
     "text": [
      "Loaded data from: https://autogluon.s3.amazonaws.com/datasets/Inc/test.csv | Columns = 15 / 15 | Rows = 9769 -> 9769\n"
     ]
    }
   ],
   "source": [
    "import autogluon.core as ag\n",
    "from autogluon.tabular import TabularPrediction as task\n",
    "\n",
    "import numpy as np\n",
    "\n",
    "train_data = task.Dataset(file_path='https://autogluon.s3.amazonaws.com/datasets/Inc/train.csv')\n",
    "subsample_size = 500  # subsample subset of data for faster demo, try setting this to much larger values\n",
    "train_data = train_data.sample(n=subsample_size, random_state=0)\n",
    "print(train_data.head())\n",
    "\n",
    "label_column = 'occupation'\n",
    "print(\"Summary of occupation column: \\n\", train_data['occupation'].describe())\n",
    "\n",
    "new_data = task.Dataset(file_path='https://autogluon.s3.amazonaws.com/datasets/Inc/test.csv')\n",
    "test_data = new_data[5000:].copy()  # this should be separate data in your applications\n",
    "y_test = test_data[label_column]\n",
    "test_data_nolabel = test_data.drop(labels=[label_column], axis=1)  # delete label column\n",
    "val_data = new_data[:5000]\n",
    "\n",
    "metric = 'accuracy' # we specify eval-metric just for demo (unnecessary as it's the default)"
   ]
  },
  {
   "cell_type": "code",
   "execution_count": 2,
   "metadata": {},
   "outputs": [
    {
     "name": "stderr",
     "output_type": "stream",
     "text": [
      "Warning: `hyperparameter_tune=True` is currently experimental and may cause the process to hang. Setting `auto_stack=True` instead is recommended to achieve maximum quality models.\n",
      "No output_directory specified. Models will be saved in: AutogluonModels/ag-20201018_101947/\n",
      "Beginning AutoGluon training ... Time limit = 120s\n",
      "AutoGluon will save models to AutogluonModels/ag-20201018_101947/\n",
      "AutoGluon Version:  0.0.15b20201017\n",
      "Train Data Rows:    500\n",
      "Train Data Columns: 14\n",
      "Tuning Data Rows:    5000\n",
      "Tuning Data Columns: 14\n",
      "Preprocessing data ...\n",
      "AutoGluon infers your prediction problem is: 'multiclass' (because dtype of label-column == object).\n",
      "\tFirst 10 (of 15) unique label values:  [' Exec-managerial', ' Other-service', ' Craft-repair', ' Sales', ' Prof-specialty', ' Protective-serv', ' ?', ' Adm-clerical', ' Machine-op-inspct', ' Tech-support']\n",
      "\tIf 'multiclass' is not the correct problem_type, please manually specify the problem_type argument in fit() (You may specify problem_type as one of: ['binary', 'multiclass', 'regression'])\n",
      "Warning: Some classes in the training set have fewer than 10 examples. AutoGluon will only keep 12 out of 15 classes for training and will not try to predict the rare classes. To keep more classes, increase the number of datapoints from these rare classes in the training data or reduce label_count_threshold.\n",
      "Fraction of data from classes with at least 10 examples that will be kept for training models: 0.978\n",
      "Train Data Class Count: 12\n",
      "Using Feature Generators to preprocess the data ...\n",
      "Fitting AutoMLPipelineFeatureGenerator...\n",
      "Note: NumExpr detected 36 cores but \"NUMEXPR_MAX_THREADS\" not set, so enforcing safe limit of 8.\n",
      "NumExpr defaulting to 8 threads.\n",
      "\tAvailable Memory:                    58378.64 MB\n",
      "\tTrain Data (Original)  Memory Usage: 3.11 MB (0.0% of available memory)\n",
      "\tInferring data type of each feature based on column values. Set feature_metadata_in to manually specify special dtypes of the features.\n",
      "\tStage 1 Generators:\n",
      "\t\tFitting AsTypeFeatureGenerator...\n",
      "\tStage 2 Generators:\n",
      "\t\tFitting FillNaFeatureGenerator...\n",
      "\tStage 3 Generators:\n",
      "\t\tFitting IdentityFeatureGenerator...\n",
      "\t\tFitting CategoryFeatureGenerator...\n",
      "\t\t\tFitting CategoryMemoryMinimizeFeatureGenerator...\n",
      "\tStage 4 Generators:\n",
      "\t\tFitting DropUniqueFeatureGenerator...\n",
      "\tTypes of features in original data (raw dtype, special dtypes):\n",
      "\t\t('int', [])    : 6 | ['age', 'fnlwgt', 'education-num', 'capital-gain', 'capital-loss', ...]\n",
      "\t\t('object', []) : 8 | ['workclass', 'education', 'marital-status', 'relationship', 'race', ...]\n",
      "\tTypes of features in processed data (raw dtype, special dtypes):\n",
      "\t\t('category', []) : 8 | ['workclass', 'education', 'marital-status', 'relationship', 'race', ...]\n",
      "\t\t('int', [])      : 6 | ['age', 'fnlwgt', 'education-num', 'capital-gain', 'capital-loss', ...]\n",
      "\t0.1s = Fit runtime\n",
      "\t14 features in original data used to generate 14 features in processed data.\n",
      "\tTrain Data (Processed) Memory Usage: 0.3 MB (0.0% of available memory)\n",
      "Data preprocessing and feature engineering runtime = 0.09s ...\n",
      "AutoGluon will gauge predictive performance using evaluation metric: 'accuracy'\n",
      "\tTo change this, specify the eval_metric argument of fit()\n",
      "AutoGluon will early stop models using evaluation metric: 'accuracy'\n",
      "scheduler_options: Key 'training_history_callback_delta_secs': Imputing default value 60\n",
      "scheduler_options: Key 'delay_get_config': Imputing default value True\n",
      "\n",
      "Starting Experiments\n",
      "Num of Finished Tasks is 0\n",
      "Num of Pending Tasks is 5\n"
     ]
    },
    {
     "data": {
      "application/vnd.jupyter.widget-view+json": {
       "model_id": "20dd0a4cb034496b8f6b4182b83e1b1e",
       "version_major": 2,
       "version_minor": 0
      },
      "text/plain": [
       "HBox(children=(FloatProgress(value=0.0, max=5.0), HTML(value='')))"
      ]
     },
     "metadata": {},
     "output_type": "display_data"
    },
    {
     "name": "stderr",
     "output_type": "stream",
     "text": [
      "Time out (secs) is 54.0\n"
     ]
    },
    {
     "name": "stdout",
     "output_type": "stream",
     "text": [
      "\n"
     ]
    },
    {
     "name": "stderr",
     "output_type": "stream",
     "text": [
      "Please either provide filename or allow plot in get_training_curves\n",
      "\t0.1714\t = Validation accuracy score\n",
      "\t4.96s\t = Training runtime\n",
      "\t0.42s\t = Validation runtime\n",
      "\t0.2155\t = Validation accuracy score\n",
      "\t5.04s\t = Training runtime\n",
      "\t0.43s\t = Validation runtime\n",
      "\t0.1663\t = Validation accuracy score\n",
      "\t5.17s\t = Training runtime\n",
      "\t0.5s\t = Validation runtime\n",
      "\t0.1831\t = Validation accuracy score\n",
      "\t4.96s\t = Training runtime\n",
      "\t0.42s\t = Validation runtime\n",
      "\t0.1419\t = Validation accuracy score\n",
      "\t5.04s\t = Training runtime\n",
      "\t0.43s\t = Validation runtime\n",
      "/home/ec2-user/anaconda3/envs/python3/lib/python3.6/site-packages/lightgbm/basic.py:1286: UserWarning: Overriding the parameters from Reference Dataset.\n",
      "  warnings.warn('Overriding the parameters from Reference Dataset.')\n",
      "/home/ec2-user/anaconda3/envs/python3/lib/python3.6/site-packages/lightgbm/basic.py:1098: UserWarning: categorical_column in param dict is overridden.\n",
      "  warnings.warn('{} in param dict is overridden.'.format(cat_alias))\n",
      "scheduler_options: Key 'training_history_callback_delta_secs': Imputing default value 60\n",
      "scheduler_options: Key 'delay_get_config': Imputing default value True\n",
      "\n",
      "Starting Experiments\n",
      "Num of Finished Tasks is 0\n",
      "Num of Pending Tasks is 5\n"
     ]
    },
    {
     "data": {
      "application/vnd.jupyter.widget-view+json": {
       "model_id": "bad41dcccb1b42638a33cf956ce1fca5",
       "version_major": 2,
       "version_minor": 0
      },
      "text/plain": [
       "HBox(children=(FloatProgress(value=0.0, max=5.0), HTML(value='')))"
      ]
     },
     "metadata": {},
     "output_type": "display_data"
    },
    {
     "name": "stderr",
     "output_type": "stream",
     "text": [
      "Time out (secs) is 54.0\n"
     ]
    },
    {
     "name": "stdout",
     "output_type": "stream",
     "text": [
      "\n"
     ]
    },
    {
     "name": "stderr",
     "output_type": "stream",
     "text": [
      "\t0.3008\t = Validation accuracy score\n",
      "\t2.08s\t = Training runtime\n",
      "\t0.05s\t = Validation runtime\n",
      "\t0.294\t = Validation accuracy score\n",
      "\t3.8s\t = Training runtime\n",
      "\t0.06s\t = Validation runtime\n",
      "\t0.3172\t = Validation accuracy score\n",
      "\t1.43s\t = Training runtime\n",
      "\t0.05s\t = Validation runtime\n",
      "\t0.2889\t = Validation accuracy score\n",
      "\t2.33s\t = Training runtime\n",
      "\t0.08s\t = Validation runtime\n",
      "\t0.3055\t = Validation accuracy score\n",
      "\t2.09s\t = Training runtime\n",
      "\t0.06s\t = Validation runtime\n",
      "Fitting model: weighted_ensemble_k0_l1 ... Training model for up to 119.91s of the 73.97s of remaining time.\n",
      "\t0.3291\t = Validation accuracy score\n",
      "\t1.23s\t = Training runtime\n",
      "\t0.0s\t = Validation runtime\n",
      "AutoGluon training complete, total runtime = 47.3s ...\n"
     ]
    },
    {
     "data": {
      "image/png": "[encoded data removed]",
      "text/plain": [
       "<Figure size 432x288 with 1 Axes>"
      ]
     },
     "metadata": {
      "needs_background": "light"
     },
     "output_type": "display_data"
    }
   ],
   "source": [
    "hp_tune = True  # whether or not to do hyperparameter optimization\n",
    "\n",
    "nn_options = {  # specifies non-default hyperparameter values for neural network models\n",
    "    'num_epochs': 10,  # number of training epochs (controls training time of NN models)\n",
    "    'learning_rate': ag.space.Real(1e-4, 1e-2, default=5e-4, log=True),  # learning rate used in training (real-valued hyperparameter searched on log-scale)\n",
    "    'activation': ag.space.Categorical('relu', 'softrelu', 'tanh'),  # activation function used in NN (categorical hyperparameter, default = first entry)\n",
    "    'layers': ag.space.Categorical([100],[1000],[200,100],[300,200,100]),  # each choice for categorical hyperparameter 'layers' corresponds to list of sizes for each NN layer to use\n",
    "    'dropout_prob': ag.space.Real(0.0, 0.5, default=0.1),  # dropout probability (real-valued hyperparameter)\n",
    "}\n",
    "\n",
    "gbm_options = {  # specifies non-default hyperparameter values for lightGBM gradient boosted trees\n",
    "    'num_boost_round': 100,  # number of boosting rounds (controls training time of GBM models)\n",
    "    'num_leaves': ag.space.Int(lower=26, upper=66, default=36),  # number of leaves in trees (integer hyperparameter)\n",
    "}\n",
    "\n",
    "hyperparameters = {  # hyperparameters of each model type\n",
    "                   'GBM': gbm_options,\n",
    "                   'NN': nn_options,  # NOTE: comment this line out if you get errors on Mac OSX\n",
    "                  }  # When these keys are missing from hyperparameters dict, no models of that type are trained\n",
    "\n",
    "time_limits = 2*60  # train various models for ~2 min\n",
    "num_trials = 5  # try at most 3 different hyperparameter configurations for each type of model\n",
    "search_strategy = 'skopt'  # to tune hyperparameters using SKopt Bayesian optimization routine\n",
    "\n",
    "predictor = task.fit(train_data=train_data, tuning_data=val_data, label=label_column,\n",
    "                     time_limits=time_limits, eval_metric=metric, num_trials=num_trials,\n",
    "                     hyperparameter_tune=hp_tune, hyperparameters=hyperparameters,\n",
    "                     search_strategy=search_strategy)"
   ]
  },
  {
   "cell_type": "code",
   "execution_count": 3,
   "metadata": {},
   "outputs": [
    {
     "name": "stderr",
     "output_type": "stream",
     "text": [
      "Evaluation: accuracy on test data: 0.3082407213252254\n"
     ]
    },
    {
     "name": "stdout",
     "output_type": "stream",
     "text": [
      "Predictions:   [' Exec-managerial', ' Craft-repair', ' Craft-repair', ' Adm-clerical', ' Sales']\n"
     ]
    }
   ],
   "source": [
    "y_pred = predictor.predict(test_data_nolabel)\n",
    "print(\"Predictions:  \", list(y_pred)[:5])\n",
    "perf = predictor.evaluate_predictions(y_true=y_test, y_pred=y_pred, auxiliary_metrics=False)"
   ]
  },
  {
   "cell_type": "code",
   "execution_count": 4,
   "metadata": {},
   "outputs": [
    {
     "name": "stdout",
     "output_type": "stream",
     "text": [
      "*** Summary of fit() ***\n",
      "Estimated performance of each model:\n",
      "                          model  score_val  pred_time_val   fit_time  pred_time_val_marginal  fit_time_marginal  stack_level  can_infer  fit_order\n",
      "0       weighted_ensemble_k0_l1   0.329096       1.458375  21.640520                0.001525           1.233692            1       True         11\n",
      "1    LightGBMClassifier/trial_7   0.317203       0.051970   1.430206                0.051970           1.430206            0       True          8\n",
      "2    LightGBMClassifier/trial_9   0.305516       0.058836   2.094256                0.058836           2.094256            0       True         10\n",
      "3    LightGBMClassifier/trial_5   0.300800       0.053770   2.083120                0.053770           2.083120            0       True          6\n",
      "4    LightGBMClassifier/trial_6   0.294033       0.060181   3.800299                0.060181           3.800299            0       True          7\n",
      "5    LightGBMClassifier/trial_8   0.288907       0.077771   2.333253                0.077771           2.333253            0       True          9\n",
      "6   NeuralNetClassifier/trial_1   0.215501       0.426059   5.041818                0.426059           5.041818            0       True          2\n",
      "7   NeuralNetClassifier/trial_3   0.183104       0.422165   4.961408                0.422165           4.961408            0       True          4\n",
      "8   NeuralNetClassifier/trial_0   0.171417       0.418334   4.964436                0.418334           4.964436            0       True          1\n",
      "9   NeuralNetClassifier/trial_2   0.166291       0.497816   5.172986                0.497816           5.172986            0       True          3\n",
      "10  NeuralNetClassifier/trial_4   0.141891       0.428550   5.038901                0.428550           5.038901            0       True          5\n",
      "Number of models trained: 11\n",
      "Types of models trained:\n",
      "{'LGBModel', 'WeightedEnsembleModel', 'TabularNeuralNetModel'}\n",
      "Bagging used: False \n",
      "Stack-ensembling used: False \n",
      "Hyperparameter-tuning used: True \n",
      "User-specified hyperparameters:\n",
      "{'default': {'GBM': [{'num_boost_round': 100, 'num_leaves': Int: lower=26, upper=66}], 'NN': [{'num_epochs': 10, 'learning_rate': Real: lower=0.0001, upper=0.01, 'activation': Categorical['relu', 'softrelu', 'tanh'], 'layers': Categorical[[100], [1000], [200, 100], [300, 200, 100]], 'dropout_prob': Real: lower=0.0, upper=0.5}]}}\n",
      "Feature Metadata (Processed):\n",
      "(raw dtype, special dtypes):\n",
      "('category', []) : 8 | ['workclass', 'education', 'marital-status', 'relationship', 'race', ...]\n",
      "('int', [])      : 6 | ['age', 'fnlwgt', 'education-num', 'capital-gain', 'capital-loss', ...]\n",
      "Plot summary of models saved to file: AutogluonModels/ag-20201018_101947/SummaryOfModels.html\n",
      "Plot summary of models saved to file: AutogluonModels/ag-20201018_101947/NeuralNetClassifier_HPOmodelsummary.html\n",
      "Plot summary of models saved to file: NeuralNetClassifier_HPOmodelsummary.html\n",
      "Plot of HPO performance saved to file: AutogluonModels/ag-20201018_101947/NeuralNetClassifier_HPOperformanceVStrials.png\n"
     ]
    },
    {
     "data": {
      "image/png": "[encoded data removed]",
      "text/plain": [
       "<Figure size 432x288 with 1 Axes>"
      ]
     },
     "metadata": {
      "needs_background": "light"
     },
     "output_type": "display_data"
    },
    {
     "name": "stdout",
     "output_type": "stream",
     "text": [
      "Plot summary of models saved to file: AutogluonModels/ag-20201018_101947/LightGBMClassifier_HPOmodelsummary.html\n",
      "Plot summary of models saved to file: LightGBMClassifier_HPOmodelsummary.html\n",
      "Plot of HPO performance saved to file: AutogluonModels/ag-20201018_101947/LightGBMClassifier_HPOperformanceVStrials.png\n"
     ]
    },
    {
     "data": {
      "image/png": "[encoded data removed]",
      "text/plain": [
       "<Figure size 432x288 with 1 Axes>"
      ]
     },
     "metadata": {
      "needs_background": "light"
     },
     "output_type": "display_data"
    },
    {
     "name": "stdout",
     "output_type": "stream",
     "text": [
      "*** Details of Hyperparameter optimization ***\n",
      "HPO for NeuralNetClassifier model:  Num. configurations tried = 5, Time spent = 29.567716598510742s, Search strategy = skopt\n",
      "Best hyperparameter-configuration (validation-performance: accuracy = 0.21550133278654912):\n",
      "{'activation▁choice': 2, 'dropout_prob': 0.1171319954718806, 'embedding_size_factor': 0.6285796516458554, 'layers▁choice': 1, 'learning_rate': 0.0031674867065318506, 'network_type▁choice': 0, 'use_batchnorm▁choice': 1, 'weight_decay': 5.723249636625901e-11}\n",
      "HPO for LightGBMClassifier model:  Num. configurations tried = 5, Time spent = 12.81477689743042s, Search strategy = skopt\n",
      "Best hyperparameter-configuration (validation-performance: accuracy = -0.7096575763789215):\n",
      "{'feature_fraction': 0.861127967974357, 'learning_rate': 0.05881021095249142, 'min_data_in_leaf': 30, 'num_leaves': 52}\n",
      "*** End of fit() summary ***\n"
     ]
    }
   ],
   "source": [
    "results = predictor.fit_summary()"
   ]
  },
  {
   "cell_type": "code",
   "execution_count": null,
   "metadata": {},
   "outputs": [],
   "source": [
    "predictor = task.fit(train_data=train_data, label=label_column, eval_metric=metric,\n",
    "                     num_bagging_folds=5, num_bagging_sets=1, stack_ensemble_levels=1,\n",
    "                     hyperparameters = {'NN': {'num_epochs': 2}, 'GBM': {'num_boost_round': 20}}  # last  argument is just for quick demo here, omit it in real applications\n",
    "                    )"
   ]
  },
  {
   "cell_type": "code",
   "execution_count": null,
   "metadata": {},
   "outputs": [],
   "source": []
  }
 ],
 "metadata": {
  "kernelspec": {
   "display_name": "conda_python3",
   "language": "python",
   "name": "conda_python3"
  },
  "language_info": {
   "codemirror_mode": {
    "name": "ipython",
    "version": 3
   },
   "file_extension": ".py",
   "mimetype": "text/x-python",
   "name": "python",
   "nbconvert_exporter": "python",
   "pygments_lexer": "ipython3",
   "version": "3.6.10"
  }
 },
 "nbformat": 4,
 "nbformat_minor": 4
}
