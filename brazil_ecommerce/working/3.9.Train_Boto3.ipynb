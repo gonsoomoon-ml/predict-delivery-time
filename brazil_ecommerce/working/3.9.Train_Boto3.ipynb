{
 "cells": [
  {
   "cell_type": "markdown",
   "metadata": {},
   "source": [
    "# Train Model using Boto3\n",
    "- AWS Boto3: create_training_job\n",
    "    - https://docs.aws.amazon.com/sagemaker/latest/APIReference/API_CreateTrainingJob.html\n",
    "- Step 5: Train a Model    \n",
    "    - Amazon SageMaker Python SDK, AWS SDK for Python (Boto3) 의 두가지 방법을 통한 모델 훈련 방법\n",
    "    - https://docs.aws.amazon.com/sagemaker/latest/dg/ex1-train-model.html"
   ]
  },
  {
   "cell_type": "code",
   "execution_count": 25,
   "metadata": {},
   "outputs": [],
   "source": [
    "import sagemaker\n",
    "from sagemaker import get_execution_role\n",
    "import json\n",
    "import os\n",
    "import boto3\n",
    "import datetime\n",
    "import logging\n",
    "\n"
   ]
  },
  {
   "cell_type": "code",
   "execution_count": null,
   "metadata": {},
   "outputs": [],
   "source": [
    "# Project name\n",
    "project_name = 'predict-deliver-time'\n",
    "str_time = datetime.datetime.now.strftime('%Y-%m-%d-%H-%M-%S-%f')[:-3]\n",
    "\n",
    "# Region\n",
    "region = boto3.Session().region_name\n",
    "# Bucket\n",
    "bucket = sagemaker.Session().default_bucket() \n",
    "# role\n",
    "role = get_execution_role()\n"
   ]
  },
  {
   "cell_type": "code",
   "execution_count": 47,
   "metadata": {},
   "outputs": [
    {
     "name": "stdout",
     "output_type": "stream",
     "text": [
      "s3_train_file_path:  s3://sagemaker-ap-northeast-2-057716757052/autogluon/predict-deliver-time/data/auto_train.csv\n",
      "s3_test_file_path:  s3://sagemaker-ap-northeast-2-057716757052/autogluon/predict-deliver-time/data/auto_test.csv\n"
     ]
    }
   ],
   "source": [
    "from utils import upload_s3\n",
    "\n",
    "# Upload train. test file\n",
    "data_prefix = 'autogluon/predict-deliver-time/data'\n",
    "train_file = 'auto_train.csv'\n",
    "test_file = 'auto_test.csv'\n",
    "s3_train_file_path = upload_s3(bucket, train_file, data_prefix)\n",
    "s3_test_file_path = upload_s3(bucket, test_file, data_prefix)\n",
    "print(\"s3_train_file_path: \", s3_train_file_path)\n",
    "print(\"s3_test_file_path: \", s3_test_file_path)"
   ]
  },
  {
   "cell_type": "code",
   "execution_count": 45,
   "metadata": {},
   "outputs": [],
   "source": [
    "from sagemaker.mxnet import MXNet\n",
    "\n",
    "# Resource Type\n",
    "instance_type = 'ml.c5.9xlarge'\n",
    "instance_type = 'local'\n",
    "training_image = '763104351884.dkr.ecr.{}.amazonaws.com/mxnet-training:1.6.0-cpu-py3'.format(region)\n",
    "\n",
    "mx_estimator = MXNet('autogluon-tab-with-test.py',\n",
    "                     image_uri = training_image,\n",
    "                     role = role,\n",
    "                     instance_type = instance_type,\n",
    "                     instance_count = 1,\n",
    "                    )\n",
    "\n",
    "                     \n",
    "                     "
   ]
  },
  {
   "cell_type": "code",
   "execution_count": 1,
   "metadata": {},
   "outputs": [],
   "source": [
    "# from sagemaker.inputs import TrainingInput\n",
    "\n",
    "# s3_train = TrainingInput(s3_train_file_path, distribution='FullyReplicated') \n",
    "# s3_test = TrainingInput(s3_test_file_path, distribution='FullyReplicated')\n",
    "# mx_estimator.fit( {'training': s3_train_file_path, 'test': s3_test_file_path})"
   ]
  },
  {
   "cell_type": "markdown",
   "metadata": {},
   "source": [
    "## Boto3"
   ]
  },
  {
   "cell_type": "code",
   "execution_count": 26,
   "metadata": {},
   "outputs": [
    {
     "name": "stdout",
     "output_type": "stream",
     "text": [
      "s3_source_path:  s3://sagemaker-ap-northeast-2-057716757052/autogluon/predict-deliver-time/source/sourcedir.tar.gz\n",
      "s3_train_file_path:  s3://sagemaker-ap-northeast-2-057716757052/autogluon/predict-deliver-time/data/auto_train.csv\n",
      "s3_test_file_path:  s3://sagemaker-ap-northeast-2-057716757052/autogluon/predict-deliver-time/data/auto_test.csv\n"
     ]
    }
   ],
   "source": [
    "from utils import upload_s3\n",
    "\n",
    "# Upload train. test file\n",
    "data_prefix = 'autogluon/predict-deliver-time/data'\n",
    "train_file = 'auto_train.csv'\n",
    "test_file = 'auto_test.csv'\n",
    "s3_train_file_path = upload_s3(bucket, train_file, data_prefix)\n",
    "s3_test_file_path = upload_s3(bucket, test_file, data_prefix)\n",
    "print(\"s3_train_file_path: \", s3_train_file_path)\n",
    "print(\"s3_test_file_path: \", s3_test_file_path)"
   ]
  },
  {
   "cell_type": "code",
   "execution_count": 33,
   "metadata": {},
   "outputs": [
    {
     "name": "stdout",
     "output_type": "stream",
     "text": [
      "s3_code_tar_path:  s3://sagemaker-ap-northeast-2-057716757052/autogluon/predict-deliver-time/source/sourcedir.tar.gz\n",
      "s3_output_path:  s3://sagemaker-ap-northeast-2-057716757052/autogluon/predict-deliver-time/output/\n",
      "model_artifact_prefix:  autogluon/predict-deliver-time/model\n",
      "training_job_params:\n",
      " {'TrainingJobName': 'predict-deliver-time-autogluon-2020-11-14-00-12-25-907', 'HyperParameters': {'filename': '\"auto_train.csv\"', 'sagemaker_container_log_level': '20', 'sagemaker_enable_cloudwatch_metrics': 'false', 'sagemaker_program': 'autogluon-tab-with-test.py', 'sagemaker_region': 'ap-northeast-2', 'sagemaker_submit_directory': 's3://sagemaker-ap-northeast-2-057716757052/autogluon/predict-deliver-time/source/sourcedir.tar.gz', 's3-output': 's3://sagemaker-ap-northeast-2-057716757052/autogluon/predict-deliver-time/output/'}, 'AlgorithmSpecification': {'TrainingImage': '763104351884.dkr.ecr.ap-northeast-2.amazonaws.com/mxnet-training:1.6.0-cpu-py3', 'TrainingInputMode': 'File', 'EnableSageMakerMetricsTimeSeries': False}, 'RoleArn': 'arn:aws:iam::057716757052:role/workshop-sagemaker-kfp-role', 'InputDataConfig': [{'ChannelName': 'training', 'DataSource': {'S3DataSource': {'S3DataType': 'S3Prefix', 'S3Uri': 's3://sagemaker-ap-northeast-2-057716757052/autogluon/predict-deliver-time/data/auto_train.csv', 'S3DataDistributionType': 'FullyReplicated'}}, 'CompressionType': 'None', 'RecordWrapperType': 'None'}], 'OutputDataConfig': {'KmsKeyId': '', 'S3OutputPath': 's3://sagemaker-ap-northeast-2-057716757052/autogluon/predict-deliver-time/model/'}, 'ResourceConfig': {'InstanceType': 'ml.c5.9xlarge', 'InstanceCount': 1, 'VolumeSizeInGB': 30}, 'StoppingCondition': {'MaxRuntimeInSeconds': 86400}, 'EnableNetworkIsolation': False, 'EnableInterContainerTrafficEncryption': False, 'EnableManagedSpotTraining': False}\n"
     ]
    }
   ],
   "source": [
    "\n",
    "## Hyperparameters\n",
    "train_code_file = 'autogluon-tab-with-test.py'\n",
    "train_file_name = 'auto_train.csv'\n",
    "\n",
    "# Upload source tar file\n",
    "source_prefix = 'autogluon/predict-deliver-time/source'\n",
    "code_tar_file = 'sourcedir.tar.gz'\n",
    "\n",
    "s3_code_tar_path = upload_s3(bucket, code_tar_file, source_prefix)\n",
    "print(\"s3_code_tar_path: \", s3_code_tar_path)\n",
    "\n",
    "\n",
    "# Ouput file\n",
    "output_prefix = 'autogluon/predict-deliver-time/output'\n",
    "s3_output_path = 's3://{}/{}/'.format(bucket, output_prefix)\n",
    "print(\"s3_output_path: \", s3_output_path)\n",
    "\n",
    "# Model Artifact\n",
    "model_artifact_prefix = 'autogluon/predict-deliver-time/model'\n",
    "s3_model_artifact_path = 's3://{}/{}/'.format(bucket, model_artifact_prefix)\n",
    "print(\"model_artifact_prefix: \", model_artifact_prefix)\n",
    "\n",
    "\n",
    "## AlgorithmSpecification\n",
    "training_image = '763104351884.dkr.ecr.{}.amazonaws.com/mxnet-training:1.6.0-cpu-py3'.format(region)\n",
    "\n",
    "training_job_params = {\n",
    "    'TrainingJobName': project_name + '-autogluon-' + str_time,\n",
    "    'HyperParameters': {\n",
    "      'filename':json.dumps(train_file_name),\n",
    "      'sagemaker_container_log_level': '20',\n",
    "      'sagemaker_enable_cloudwatch_metrics': 'false',\n",
    "      'sagemaker_program': train_code_file,\n",
    "      'sagemaker_region': region,\n",
    "      'sagemaker_submit_directory': s3_code_tar_path,\n",
    "      's3-output': s3_output_path\n",
    "    },\n",
    "    'AlgorithmSpecification': {\n",
    "      'TrainingImage': training_image,\n",
    "      'TrainingInputMode': 'File',\n",
    "      'EnableSageMakerMetricsTimeSeries': False\n",
    "    },\n",
    "    'RoleArn': role,\n",
    "    'InputDataConfig': [\n",
    "      {\n",
    "        'ChannelName': 'training',\n",
    "        'DataSource': {\n",
    "          'S3DataSource': {\n",
    "            'S3DataType': 'S3Prefix',\n",
    "            'S3Uri': s3_train_file_path,\n",
    "            'S3DataDistributionType': 'FullyReplicated'\n",
    "          }\n",
    "        },\n",
    "        'CompressionType': 'None',\n",
    "        'RecordWrapperType': 'None'\n",
    "      }\n",
    "    ],\n",
    "    'OutputDataConfig': {\n",
    "      'KmsKeyId': '',\n",
    "      'S3OutputPath': s3_model_artifact_path\n",
    "    },\n",
    "    'ResourceConfig': {\n",
    "      'InstanceType': instance_type,\n",
    "      'InstanceCount': 1,\n",
    "      'VolumeSizeInGB': 30\n",
    "    },\n",
    "    'StoppingCondition': {\n",
    "      'MaxRuntimeInSeconds': 86400\n",
    "    },\n",
    "    'EnableNetworkIsolation': False,\n",
    "    'EnableInterContainerTrafficEncryption': False,\n",
    "    'EnableManagedSpotTraining': False,\n",
    "}\n",
    "  \n",
    "print(\"training_job_params:\\n\", training_job_params)\n",
    "\n",
    "\n"
   ]
  },
  {
   "cell_type": "code",
   "execution_count": 34,
   "metadata": {},
   "outputs": [],
   "source": [
    "sm = boto3.Session().client('sagemaker')\n",
    "response = sm.create_training_job(**training_job_params)"
   ]
  },
  {
   "cell_type": "code",
   "execution_count": null,
   "metadata": {},
   "outputs": [],
   "source": [
    "import json\n",
    "import os\n",
    "import boto3\n",
    "import datetime\n",
    "from urllib.parse import unquote_plus\n",
    "import logging\n",
    "logging.basicConfig(level=logging.INFO,\n",
    "                    format='%(asctime)s %(message)s',\n",
    "                    datefmt='%Y-%m-%d %H:%M:%S')\n",
    "\n",
    "def lambda_handler(event, context):\n",
    "  for record in event['Records']:\n",
    "    bucket = record['s3']['bucket']['name']\n",
    "    key = unquote_plus(record['s3']['object']['key'])\n",
    "    tmpkey = key.replace('/', '')\n",
    "  logging.info(key)\n",
    "  logging.info(tmpkey)\n",
    "  filename = key.split('/')[-1]\n",
    "  print(filename) # auto_train.csv\n",
    "  dataset = filename.split('_')[0]\n",
    "  print(dataset) # auto\n",
    "  \n",
    "  now = datetime.datetime.now\n",
    "  str_time = now().strftime('%Y-%m-%d-%H-%M-%S-%f')[:-3]\n",
    "  sm = boto3.Session().client('sagemaker')\n",
    "  training_job_params = {\n",
    "    'TrainingJobName': dataset + '-autogluon-' + str_time,\n",
    "    'HyperParameters': {\n",
    "      'filename':json.dumps(filename),\n",
    "      'sagemaker_container_log_level': '20',\n",
    "      'sagemaker_enable_cloudwatch_metrics': 'false',\n",
    "      'sagemaker_program': 'autogluon-tab-with-test.py',\n",
    "      'sagemaker_region': os.environ['AWS_REGION'],\n",
    "      'sagemaker_submit_directory': 's3://' + bucket + '/source/sourcedir.tar.gz',\n",
    "      's3-output': os.environ['S3_OUTPUT_PATH']\n",
    "    },\n",
    "    'AlgorithmSpecification': {\n",
    "      'TrainingImage': '763104351884.dkr.ecr.' + os.environ['AWS_REGION'] + '.amazonaws.com/mxnet-training:1.6.0-cpu-py3',\n",
    "      'TrainingInputMode': 'File',\n",
    "      'EnableSageMakerMetricsTimeSeries': False\n",
    "    },\n",
    "    'RoleArn': os.environ['SAGEMAKER_ROLE_ARN'],\n",
    "    'InputDataConfig': [\n",
    "      {\n",
    "        'ChannelName': 'training',\n",
    "        'DataSource': {\n",
    "          'S3DataSource': {\n",
    "            'S3DataType': 'S3Prefix',\n",
    "            'S3Uri': os.environ['S3_TRIGGER_PATH'],\n",
    "            'S3DataDistributionType': 'FullyReplicated'\n",
    "          }\n",
    "        },\n",
    "        'CompressionType': 'None',\n",
    "        'RecordWrapperType': 'None'\n",
    "      }\n",
    "    ],\n",
    "    'OutputDataConfig': {\n",
    "      'KmsKeyId': '',\n",
    "      'S3OutputPath': os.environ['S3_OUTPUT_PATH']\n",
    "    },\n",
    "    'ResourceConfig': {\n",
    "      'InstanceType': os.environ['AG_INSTANCE_TYPE'],\n",
    "      'InstanceCount': 1,\n",
    "      'VolumeSizeInGB': 30\n",
    "    },\n",
    "    'StoppingCondition': {\n",
    "      'MaxRuntimeInSeconds': 86400\n",
    "    },\n",
    "    'EnableNetworkIsolation': False,\n",
    "    'EnableInterContainerTrafficEncryption': False,\n",
    "    'EnableManagedSpotTraining': False,\n",
    "  }\n",
    "  \n",
    "  response = sm.create_training_job(**training_job_params)\n",
    "  \n",
    "  return {\n",
    "    'statusCode': 200,\n",
    "    'body': json.dumps(key)\n",
    "  }\n"
   ]
  }
 ],
 "metadata": {
  "kernelspec": {
   "display_name": "conda_python3",
   "language": "python",
   "name": "conda_python3"
  },
  "language_info": {
   "codemirror_mode": {
    "name": "ipython",
    "version": 3
   },
   "file_extension": ".py",
   "mimetype": "text/x-python",
   "name": "python",
   "nbconvert_exporter": "python",
   "pygments_lexer": "ipython3",
   "version": "3.6.10"
  }
 },
 "nbformat": 4,
 "nbformat_minor": 4
}
