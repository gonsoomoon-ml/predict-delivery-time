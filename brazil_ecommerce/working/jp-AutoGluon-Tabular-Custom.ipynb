{
 "cells": [
  {
   "cell_type": "markdown",
   "metadata": {},
   "source": [
    "## AutoGluon-Tabularでのカスタムモデルを用いた機械学習モデルの開発"
   ]
  },
  {
   "cell_type": "markdown",
   "metadata": {},
   "source": [
    "このノートブックでは、AutoGluon-Tabular を用いて、独自のモデルの持ち込みと組み合わせた高精度な機械学習モデル構築の自動化をご体感頂きます。AutoGluon-Tabular の `AbstractModel` クラスを活用することで、お好みのアルゴリズムの学習やアンサンブルモデルの構築を(半)自動化することができます。"
   ]
  },
  {
   "cell_type": "markdown",
   "metadata": {},
   "source": [
    "## 準備\n",
    "必要となるライブラリーをインストールします。"
   ]
  },
  {
   "cell_type": "code",
   "execution_count": null,
   "metadata": {},
   "outputs": [],
   "source": [
    "!pip install --upgrade mxnet\n",
    "!pip install autogluon"
   ]
  },
  {
   "cell_type": "markdown",
   "metadata": {},
   "source": [
    "ライブラリをインポートし、必要な設定を行います。"
   ]
  },
  {
   "cell_type": "code",
   "execution_count": null,
   "metadata": {},
   "outputs": [],
   "source": [
    "import time\n",
    "\n",
    "import autogluon as ag\n",
    "from autogluon import TabularPrediction as task\n",
    "from autogluon.task.tabular_prediction.hyperparameter_configs import get_hyperparameter_config\n",
    "from autogluon.utils.tabular.data.label_cleaner import LabelCleaner\n",
    "from autogluon.utils.tabular.ml.models.abstract.abstract_model import AbstractModel\n",
    "from autogluon.utils.tabular.ml.utils import infer_problem_type\n",
    "\n",
    "# 予測対象となるカラム名を指定します。\n",
    "label_column = 'class'\n",
    "\n",
    "# 学習したモデルを保存するディレクトリを指定します。\n",
    "savedir = 'ag_models/'"
   ]
  },
  {
   "cell_type": "markdown",
   "metadata": {},
   "source": [
    "### データの取得\n",
    "このサンプルでは、ある人の年収が50Kを超えるかどうかを二値分類する機械学習モデルを構築します。そのためのデータをダウンロードし、学習用データを準備します。"
   ]
  },
  {
   "cell_type": "code",
   "execution_count": null,
   "metadata": {},
   "outputs": [],
   "source": [
    "train_data = task.Dataset(file_path='https://autogluon.s3.amazonaws.com/datasets/Inc/train.csv')\n",
    "test_data = task.Dataset(file_path='https://autogluon.s3.amazonaws.com/datasets/Inc/test.csv')\n",
    "\n",
    "train_data = train_data.head(500)\n",
    "train_data.head()"
   ]
  },
  {
   "cell_type": "markdown",
   "metadata": {},
   "source": [
    "正解ラベルと特徴量を分離します。"
   ]
  },
  {
   "cell_type": "code",
   "execution_count": null,
   "metadata": {},
   "outputs": [],
   "source": [
    "X_train = train_data.drop(columns=[label_column])\n",
    "y_train = train_data[label_column]\n",
    "\n",
    "problem_type = infer_problem_type(y=y_train)"
   ]
  },
  {
   "cell_type": "markdown",
   "metadata": {},
   "source": [
    "正解ラベルを学習や推論で活用するデータ型へ変換するために、`LabelCleaner` を作成します。str 型だったものが、int 型となっています。これを活用するとデータ型を戻すこともできます。"
   ]
  },
  {
   "cell_type": "code",
   "execution_count": null,
   "metadata": {},
   "outputs": [],
   "source": [
    "label_cleaner = LabelCleaner.construct(problem_type=problem_type, y=y_train)\n",
    "y_train_clean = label_cleaner.transform(y_train)"
   ]
  },
  {
   "cell_type": "markdown",
   "metadata": {},
   "source": [
    "テストデータも同様に準備します。"
   ]
  },
  {
   "cell_type": "code",
   "execution_count": null,
   "metadata": {},
   "outputs": [],
   "source": [
    "X_test = test_data.drop(columns=[label_column])\n",
    "y_test = test_data[label_column]\n",
    "y_test_clean = label_cleaner.transform(y_test)"
   ]
  },
  {
   "cell_type": "markdown",
   "metadata": {},
   "source": [
    "### 独自モデルの準備\n",
    "AutoGluon の組み込みアルゴリズム以外を活用する場合には、`AbstractModel` でラップします。今回の例では、 `scikit-learn` の `Naive Bayse` アルゴリズムを活用します。"
   ]
  },
  {
   "cell_type": "code",
   "execution_count": null,
   "metadata": {},
   "outputs": [],
   "source": [
    "class NaiveBayesModel(AbstractModel):\n",
    "    def preprocess(self, X):\n",
    "        cat_columns = X.select_dtypes(['category', 'object']).columns\n",
    "        X = X.drop(cat_columns, axis=1)\n",
    "        return super().preprocess(X).fillna(0)\n",
    "\n",
    "    def _fit(self, X_train, y_train, **kwargs):\n",
    "        from sklearn.naive_bayes import GaussianNB\n",
    "        X_train = self.preprocess(X_train)\n",
    "        self.model = GaussianNB(**self.params)\n",
    "        self.model.fit(X_train, y_train)"
   ]
  },
  {
   "cell_type": "markdown",
   "metadata": {},
   "source": [
    "## 独自モデルのみの学習\n",
    "まずは、先程準備した `NaiveBayesModel` のみを学習させてみましょう。"
   ]
  },
  {
   "cell_type": "code",
   "execution_count": null,
   "metadata": {},
   "outputs": [],
   "source": [
    "naive_bayes_model = NaiveBayesModel(path='AutogluonModels/', name='CustomNaiveBayes', problem_type=problem_type)\n",
    "naive_bayes_model.fit(X_train=X_train, y_train=y_train_clean)"
   ]
  },
  {
   "cell_type": "markdown",
   "metadata": {},
   "source": [
    "学習済モデルは保存することができ、使用する場合には、`predictor = task.load(savedir)` のように保存用ディレクトリからロードすることができます。"
   ]
  },
  {
   "cell_type": "markdown",
   "metadata": {},
   "source": [
    "今回学習させたモデルについて、その精度を評価してみましょう。"
   ]
  },
  {
   "cell_type": "code",
   "execution_count": null,
   "metadata": {},
   "outputs": [],
   "source": [
    "y_pred = naive_bayes_model.predict(X_test)\n",
    "y_pred_orig = label_cleaner.inverse_transform(y_pred)\n",
    "\n",
    "score = naive_bayes_model.score(X_test, y_test_clean)\n",
    "print(f'test score ({naive_bayes_model.eval_metric.name}) = {score}')"
   ]
  },
  {
   "cell_type": "code",
   "execution_count": null,
   "metadata": {},
   "outputs": [],
   "source": [
    "print(\"Summary of class variable: \\n\", train_data[label_column].describe())"
   ]
  },
  {
   "cell_type": "markdown",
   "metadata": {},
   "source": [
    "## AutoGluon の `task` クラスを使った `NaiveBayesModel` の学習\n",
    "\n",
    "### 学習\n",
    "今度は、先程と違い Autogluon の `task` クラスを使って学習を行います。これにより、異なるハイパーパラメーターでの学習や、その評価がより簡単に行えます。独自モデルを `task` クラスで活用するために、`custome_hyperparameters` 変数の中で `NaiveBayesModel` を指定しています。今回は `var_smoothing` に異なる3つの値を設定して学習を行い、評価をします。"
   ]
  },
  {
   "cell_type": "code",
   "execution_count": null,
   "metadata": {},
   "outputs": [],
   "source": [
    "custom_hyperparameters = {NaiveBayesModel: [{},{'var_smoothing': 0.00001}, {'var_smoothing': 0.000002}]}  \n",
    "\n",
    "predictor = task.fit(train_data=train_data, label=label_column, hyperparameters=custom_hyperparameters)  "
   ]
  },
  {
   "cell_type": "markdown",
   "metadata": {},
   "source": [
    "### 推論\n",
    "\n",
    "`leaderboard` メソッドを使うと学習の過程で生成されたそれぞれのモデルについて、テストデータ、バリデーションデータでの性能、時間などが表示されます。"
   ]
  },
  {
   "cell_type": "code",
   "execution_count": null,
   "metadata": {},
   "outputs": [],
   "source": [
    "predictor.leaderboard(test_data)"
   ]
  },
  {
   "cell_type": "markdown",
   "metadata": {},
   "source": [
    "今回学習させたモデルについて、その精度を評価してみましょう。"
   ]
  },
  {
   "cell_type": "code",
   "execution_count": null,
   "metadata": {},
   "outputs": [],
   "source": [
    "y_pred = predictor.predict(test_data)\n",
    "\n",
    "score = naive_bayes_model.score(X_test, y_test_clean)\n",
    "print(f'test score ({naive_bayes_model.eval_metric.name}) = {score}')"
   ]
  },
  {
   "cell_type": "markdown",
   "metadata": {},
   "source": [
    "## AutoGluon の `task` クラスを使い、`NaiveBayesModel` と他のモデルの学習\n",
    "次に、`NaiveBayesModel`  に加えて、AutoGluon の組み込みアルゴリズムも学習させます。"
   ]
  },
  {
   "cell_type": "markdown",
   "metadata": {},
   "source": [
    "ハイパーパラメーターの探索を行う場合には、`hp_tune=True` を選択します。また、調整したいハイパーパラメーターの探索領域を辞書形式で渡すことができます。その他、探索試行の回数や、時間制限の目安、探索戦略などを指定することができます。`fit` メソッドの引数に`auto_stack=True` を指定することで、複数層スタッキングを行う事ができます。"
   ]
  },
  {
   "cell_type": "code",
   "execution_count": null,
   "metadata": {},
   "outputs": [],
   "source": [
    "custom_hyperparameters"
   ]
  },
  {
   "cell_type": "markdown",
   "metadata": {},
   "source": [
    "### 学習"
   ]
  },
  {
   "cell_type": "code",
   "execution_count": null,
   "metadata": {},
   "outputs": [],
   "source": [
    "custom_hyperparameters.update(get_hyperparameter_config('default'))\n",
    "\n",
    "predictor = task.fit(train_data=train_data, label=label_column, \n",
    "                     auto_stack=True, hyperparameters=custom_hyperparameters) "
   ]
  },
  {
   "cell_type": "markdown",
   "metadata": {},
   "source": [
    "### 推論\n",
    "\n",
    "`leaderborad` メソッドや `evaluate_predictions` メソッドを使ってモデルの評価を見てみましょう。"
   ]
  },
  {
   "cell_type": "code",
   "execution_count": null,
   "metadata": {},
   "outputs": [],
   "source": [
    "predictor.leaderboard(test_data)\n",
    "\n",
    "y_pred = predictor.predict(test_data)\n",
    "perf = predictor.evaluate_predictions(y_true=y_test, y_pred=y_pred, auxiliary_metrics=True)"
   ]
  },
  {
   "cell_type": "code",
   "execution_count": null,
   "metadata": {},
   "outputs": [],
   "source": []
  }
 ],
 "metadata": {
  "kernelspec": {
   "display_name": "conda_mxnet_p36",
   "language": "python",
   "name": "conda_mxnet_p36"
  },
  "language_info": {
   "codemirror_mode": {
    "name": "ipython",
    "version": 3
   },
   "file_extension": ".py",
   "mimetype": "text/x-python",
   "name": "python",
   "nbconvert_exporter": "python",
   "pygments_lexer": "ipython3",
   "version": "3.6.10"
  }
 },
 "nbformat": 4,
 "nbformat_minor": 4
}
