{
 "cells": [
  {
   "cell_type": "markdown",
   "metadata": {
    "Collapsed": "false"
   },
   "source": [
    "# AutoGluon Tabular with SageMaker\n",
    "- AutoGluon Bring Your Own Container (BYOC) 예제\n",
    "    - https://github.com/aws/amazon-sagemaker-examples/tree/master/advanced_functionality/autogluon-tabular\n",
    "- AutoGluon 공식 Lab Git \n",
    "    - [AutoGluon](https://github.com/awslabs/autogluon) \n",
    "\n"
   ]
  },
  {
   "cell_type": "markdown",
   "metadata": {
    "Collapsed": "false"
   },
   "source": [
    "## Prerequisites\n",
    "\n",
    "If using a SageMaker hosted notebook, select kernel `conda_mxnet_p36`."
   ]
  },
  {
   "cell_type": "code",
   "execution_count": null,
   "metadata": {
    "Collapsed": "false"
   },
   "outputs": [],
   "source": [
    "# Make sure docker compose is set up properly for local mode\n",
    "!./setup.sh"
   ]
  },
  {
   "cell_type": "code",
   "execution_count": null,
   "metadata": {
    "Collapsed": "false"
   },
   "outputs": [],
   "source": [
    "# Imports\n",
    "import os\n",
    "import boto3\n",
    "import sagemaker\n",
    "from time import sleep\n",
    "from collections import Counter\n",
    "import numpy as np\n",
    "import pandas as pd\n",
    "from sagemaker import get_execution_role, local, Model, utils, fw_utils, s3\n",
    "from sagemaker.estimator import Estimator\n",
    "from sagemaker.predictor import RealTimePredictor, csv_serializer, StringDeserializer\n",
    "from sklearn.metrics import accuracy_score, classification_report\n",
    "from IPython.core.display import display, HTML\n",
    "from IPython.core.interactiveshell import InteractiveShell\n",
    "\n",
    "# Print settings\n",
    "InteractiveShell.ast_node_interactivity = \"all\"\n",
    "pd.set_option('display.max_columns', 500)\n",
    "pd.set_option('display.max_rows', 10)\n",
    "\n",
    "# Account/s3 setup\n",
    "session = sagemaker.Session()\n",
    "local_session = local.LocalSession()\n",
    "bucket = session.default_bucket()\n",
    "prefix = 'sagemaker/autogluon-tabular'\n",
    "region = session.boto_region_name\n",
    "role = get_execution_role()\n",
    "client = session.boto_session.client(\n",
    "    \"sts\", region_name=region, endpoint_url=utils.sts_regional_endpoint(region)\n",
    "    )\n",
    "account = client.get_caller_identity()['Account']\n",
    "ecr_uri_prefix = utils.get_ecr_image_uri_prefix(account, region)\n",
    "registry_id = fw_utils._registry_id(region, 'mxnet', 'py3', account, '1.6.0')\n",
    "registry_uri = utils.get_ecr_image_uri_prefix(registry_id, region)"
   ]
  },
  {
   "cell_type": "markdown",
   "metadata": {},
   "source": [
    "Docker 이미지를 빌딩시에 베이스 이미지의 계정 및 URL을 가져오기 위함"
   ]
  },
  {
   "cell_type": "code",
   "execution_count": 3,
   "metadata": {},
   "outputs": [
    {
     "data": {
      "text/plain": [
       "('763104351884', '763104351884.dkr.ecr.ap-northeast-2.amazonaws.com')"
      ]
     },
     "execution_count": 3,
     "metadata": {},
     "output_type": "execute_result"
    }
   ],
   "source": [
    "registry_id, registry_uri"
   ]
  },
  {
   "cell_type": "markdown",
   "metadata": {
    "Collapsed": "false"
   },
   "source": [
    "### Build docker images\n",
    "로컬 노트북에서 훈련 이미지를 빌딩하고 ECR에 등록"
   ]
  },
  {
   "cell_type": "code",
   "execution_count": 4,
   "metadata": {
    "Collapsed": "false"
   },
   "outputs": [],
   "source": [
    "training_algorithm_name = 'autogluon-sagemaker-training'"
   ]
  },
  {
   "cell_type": "code",
   "execution_count": 5,
   "metadata": {
    "Collapsed": "false"
   },
   "outputs": [
    {
     "name": "stdout",
     "output_type": "stream",
     "text": [
      "WARNING! Using --password via the CLI is insecure. Use --password-stdin.\n",
      "WARNING! Your password will be stored unencrypted in /home/ec2-user/.docker/config.json.\n",
      "Configure a credential helper to remove this warning. See\n",
      "https://docs.docker.com/engine/reference/commandline/login/#credentials-store\n",
      "\n",
      "Login Succeeded\n",
      "WARNING! Using --password via the CLI is insecure. Use --password-stdin.\n",
      "WARNING! Your password will be stored unencrypted in /home/ec2-user/.docker/config.json.\n",
      "Configure a credential helper to remove this warning. See\n",
      "https://docs.docker.com/engine/reference/commandline/login/#credentials-store\n",
      "\n",
      "Login Succeeded\n",
      "Sending build context to Docker daemon  14.62GB\n",
      "Step 1/9 : ARG REGISTRY_URI\n",
      "Step 2/9 : FROM ${REGISTRY_URI}/mxnet-training:1.6.0-cpu-py3\n",
      " ---> 148136370d72\n",
      "Step 3/9 : RUN pip install autogluon\n",
      " ---> Using cache\n",
      " ---> 736b04ccce0b\n",
      "Step 4/9 : RUN pip install PrettyTable\n",
      " ---> Using cache\n",
      " ---> a79327219225\n",
      "Step 5/9 : ENV PATH=\"/opt/ml/code:${PATH}\"\n",
      " ---> Using cache\n",
      " ---> 0e465987d171\n",
      "Step 6/9 : COPY container-training/train.py /opt/ml/code/train.py\n",
      " ---> 457001e9dc27\n",
      "Step 7/9 : COPY container-training/inference.py /opt/ml/code/inference.py\n",
      " ---> 6662e75d6e23\n",
      "Step 8/9 : ENV SAGEMAKER_SUBMIT_DIRECTORY /opt/ml/code\n",
      " ---> Running in f566434cb7b0\n",
      "Removing intermediate container f566434cb7b0\n",
      " ---> 17e992191e84\n",
      "Step 9/9 : ENV SAGEMAKER_PROGRAM train.py\n",
      " ---> Running in 8d28048dff35\n",
      "Removing intermediate container 8d28048dff35\n",
      " ---> ff14ae888867\n",
      "Successfully built ff14ae888867\n",
      "Successfully tagged autogluon-sagemaker-training:latest\n",
      "The push refers to repository [057716757052.dkr.ecr.ap-northeast-2.amazonaws.com/autogluon-sagemaker-training]\n",
      "\n",
      "\u001b[1B8de8e0a6: Preparing \n",
      "\u001b[1Bbafc1199: Preparing \n",
      "\u001b[1Bfe72783f: Preparing \n",
      "\u001b[1Beb856127: Preparing \n",
      "\u001b[1B6fe3b4fb: Preparing \n",
      "\u001b[1B94763e92: Preparing \n",
      "\u001b[1Bdad077dd: Preparing \n",
      "\u001b[1B8d40f51f: Preparing \n",
      "\u001b[1B91740503: Preparing \n",
      "\u001b[1B06963fdb: Preparing \n",
      "\u001b[1B7c8af503: Preparing \n",
      "\u001b[1Bda04967b: Preparing \n",
      "\u001b[1B4d2f8170: Preparing \n",
      "\u001b[1Bd309bc2e: Preparing \n",
      "\u001b[1B6bab84f0: Preparing \n",
      "\u001b[1B60933a99: Preparing \n",
      "\u001b[1B40a5867e: Preparing \n",
      "\u001b[1Bd43b0774: Preparing \n",
      "\u001b[1B62d5f9b3: Preparing \n",
      "\u001b[1B90c5c0a5: Preparing \n",
      "\u001b[1B3a32fcfb: Preparing \n",
      "\u001b[1Ba71ce233: Preparing \n",
      "\u001b[1Bddf6a67c: Preparing \n",
      "\u001b[1B6de3ff64: Preparing \n",
      "\u001b[25Bde8e0a6: Pushed lready exists 8kB\u001b[19A\u001b[2K\u001b[17A\u001b[2K\u001b[13A\u001b[2K\u001b[10A\u001b[2K\u001b[6A\u001b[2K\u001b[3A\u001b[2K\u001b[25A\u001b[2Klatest: digest: sha256:57fe88a27b21b2d0bfe01a6ca38f54ef971a73e5352eb5c522f07d734f463be9 size: 5550\n"
     ]
    }
   ],
   "source": [
    "!/bin/bash ./container-training/build_push_training.sh {account} {region} {training_algorithm_name} {ecr_uri_prefix} {registry_id} {registry_uri}"
   ]
  },
  {
   "cell_type": "markdown",
   "metadata": {
    "Collapsed": "false"
   },
   "source": [
    "### 데이타 로딩"
   ]
  },
  {
   "cell_type": "code",
   "execution_count": 6,
   "metadata": {},
   "outputs": [
    {
     "name": "stdout",
     "output_type": "stream",
     "text": [
      "auto_train_file:  (53740, 18)\n",
      "auto_train_file:  (13436, 18)\n"
     ]
    },
    {
     "data": {
      "text/html": [
       "<div>\n",
       "<style scoped>\n",
       "    .dataframe tbody tr th:only-of-type {\n",
       "        vertical-align: middle;\n",
       "    }\n",
       "\n",
       "    .dataframe tbody tr th {\n",
       "        vertical-align: top;\n",
       "    }\n",
       "\n",
       "    .dataframe thead th {\n",
       "        text-align: right;\n",
       "    }\n",
       "</style>\n",
       "<table border=\"1\" class=\"dataframe\">\n",
       "  <thead>\n",
       "    <tr style=\"text-align: right;\">\n",
       "      <th></th>\n",
       "      <th>classes</th>\n",
       "      <th>customer_zip_code_prefix</th>\n",
       "      <th>customer_city</th>\n",
       "      <th>customer_state</th>\n",
       "      <th>price</th>\n",
       "      <th>freight_value</th>\n",
       "      <th>product_weight_g</th>\n",
       "      <th>product_category_name_english</th>\n",
       "      <th>seller_zip_code_prefix</th>\n",
       "      <th>seller_city</th>\n",
       "      <th>seller_state</th>\n",
       "      <th>order_weekday</th>\n",
       "      <th>order_day</th>\n",
       "      <th>order_month</th>\n",
       "      <th>customer_seller_state</th>\n",
       "      <th>customer_seller_city</th>\n",
       "      <th>customer_seller_zip_code_prefix</th>\n",
       "      <th>product_volume</th>\n",
       "    </tr>\n",
       "  </thead>\n",
       "  <tbody>\n",
       "    <tr>\n",
       "      <th>0</th>\n",
       "      <td>3</td>\n",
       "      <td>12030</td>\n",
       "      <td>taubate</td>\n",
       "      <td>SP</td>\n",
       "      <td>29.99</td>\n",
       "      <td>10.96</td>\n",
       "      <td>9000.0</td>\n",
       "      <td>fashion_shoes</td>\n",
       "      <td>13481</td>\n",
       "      <td>limeira</td>\n",
       "      <td>SP</td>\n",
       "      <td>1</td>\n",
       "      <td>4</td>\n",
       "      <td>10</td>\n",
       "      <td>SP_SP</td>\n",
       "      <td>taubate_limeira</td>\n",
       "      <td>12030_13481</td>\n",
       "      <td>2640.0</td>\n",
       "    </tr>\n",
       "    <tr>\n",
       "      <th>1</th>\n",
       "      <td>2</td>\n",
       "      <td>78075</td>\n",
       "      <td>cuiaba</td>\n",
       "      <td>MT</td>\n",
       "      <td>23.90</td>\n",
       "      <td>26.82</td>\n",
       "      <td>1500.0</td>\n",
       "      <td>furniture_decor</td>\n",
       "      <td>17051</td>\n",
       "      <td>bauru</td>\n",
       "      <td>SP</td>\n",
       "      <td>1</td>\n",
       "      <td>4</td>\n",
       "      <td>10</td>\n",
       "      <td>MT_SP</td>\n",
       "      <td>cuiaba_bauru</td>\n",
       "      <td>78075_17051</td>\n",
       "      <td>14625.0</td>\n",
       "    </tr>\n",
       "  </tbody>\n",
       "</table>\n",
       "</div>"
      ],
      "text/plain": [
       "   classes  customer_zip_code_prefix customer_city customer_state  price  \\\n",
       "0        3                     12030       taubate             SP  29.99   \n",
       "1        2                     78075        cuiaba             MT  23.90   \n",
       "\n",
       "   freight_value  product_weight_g product_category_name_english  \\\n",
       "0          10.96            9000.0                 fashion_shoes   \n",
       "1          26.82            1500.0               furniture_decor   \n",
       "\n",
       "   seller_zip_code_prefix seller_city seller_state  order_weekday  order_day  \\\n",
       "0                   13481     limeira           SP              1          4   \n",
       "1                   17051       bauru           SP              1          4   \n",
       "\n",
       "   order_month customer_seller_state customer_seller_city  \\\n",
       "0           10                 SP_SP      taubate_limeira   \n",
       "1           10                 MT_SP         cuiaba_bauru   \n",
       "\n",
       "  customer_seller_zip_code_prefix  product_volume  \n",
       "0                     12030_13481          2640.0  \n",
       "1                     78075_17051         14625.0  "
      ]
     },
     "metadata": {},
     "output_type": "display_data"
    },
    {
     "data": {
      "text/html": [
       "<div>\n",
       "<style scoped>\n",
       "    .dataframe tbody tr th:only-of-type {\n",
       "        vertical-align: middle;\n",
       "    }\n",
       "\n",
       "    .dataframe tbody tr th {\n",
       "        vertical-align: top;\n",
       "    }\n",
       "\n",
       "    .dataframe thead th {\n",
       "        text-align: right;\n",
       "    }\n",
       "</style>\n",
       "<table border=\"1\" class=\"dataframe\">\n",
       "  <thead>\n",
       "    <tr style=\"text-align: right;\">\n",
       "      <th></th>\n",
       "      <th>classes</th>\n",
       "      <th>customer_zip_code_prefix</th>\n",
       "      <th>customer_city</th>\n",
       "      <th>customer_state</th>\n",
       "      <th>price</th>\n",
       "      <th>freight_value</th>\n",
       "      <th>product_weight_g</th>\n",
       "      <th>product_category_name_english</th>\n",
       "      <th>seller_zip_code_prefix</th>\n",
       "      <th>seller_city</th>\n",
       "      <th>seller_state</th>\n",
       "      <th>order_weekday</th>\n",
       "      <th>order_day</th>\n",
       "      <th>order_month</th>\n",
       "      <th>customer_seller_state</th>\n",
       "      <th>customer_seller_city</th>\n",
       "      <th>customer_seller_zip_code_prefix</th>\n",
       "      <th>product_volume</th>\n",
       "    </tr>\n",
       "  </thead>\n",
       "  <tbody>\n",
       "    <tr>\n",
       "      <th>0</th>\n",
       "      <td>3</td>\n",
       "      <td>89219</td>\n",
       "      <td>joinville</td>\n",
       "      <td>SC</td>\n",
       "      <td>105.00</td>\n",
       "      <td>23.89</td>\n",
       "      <td>1000.0</td>\n",
       "      <td>watches_gifts</td>\n",
       "      <td>21840</td>\n",
       "      <td>rio de janeiro</td>\n",
       "      <td>RJ</td>\n",
       "      <td>1</td>\n",
       "      <td>19</td>\n",
       "      <td>6</td>\n",
       "      <td>SC_RJ</td>\n",
       "      <td>joinville_rio de janeiro</td>\n",
       "      <td>89219_21840</td>\n",
       "      <td>7632.0</td>\n",
       "    </tr>\n",
       "    <tr>\n",
       "      <th>1</th>\n",
       "      <td>0</td>\n",
       "      <td>9950</td>\n",
       "      <td>diadema</td>\n",
       "      <td>SP</td>\n",
       "      <td>99.97</td>\n",
       "      <td>15.80</td>\n",
       "      <td>650.0</td>\n",
       "      <td>housewares</td>\n",
       "      <td>32677</td>\n",
       "      <td>betim</td>\n",
       "      <td>MG</td>\n",
       "      <td>1</td>\n",
       "      <td>19</td>\n",
       "      <td>6</td>\n",
       "      <td>SP_MG</td>\n",
       "      <td>diadema_betim</td>\n",
       "      <td>9950_32677</td>\n",
       "      <td>9600.0</td>\n",
       "    </tr>\n",
       "  </tbody>\n",
       "</table>\n",
       "</div>"
      ],
      "text/plain": [
       "   classes  customer_zip_code_prefix customer_city customer_state   price  \\\n",
       "0        3                     89219     joinville             SC  105.00   \n",
       "1        0                      9950       diadema             SP   99.97   \n",
       "\n",
       "   freight_value  product_weight_g product_category_name_english  \\\n",
       "0          23.89            1000.0                 watches_gifts   \n",
       "1          15.80             650.0                    housewares   \n",
       "\n",
       "   seller_zip_code_prefix     seller_city seller_state  order_weekday  \\\n",
       "0                   21840  rio de janeiro           RJ              1   \n",
       "1                   32677           betim           MG              1   \n",
       "\n",
       "   order_day  order_month customer_seller_state      customer_seller_city  \\\n",
       "0         19            6                 SC_RJ  joinville_rio de janeiro   \n",
       "1         19            6                 SP_MG             diadema_betim   \n",
       "\n",
       "  customer_seller_zip_code_prefix  product_volume  \n",
       "0                     89219_21840          7632.0  \n",
       "1                      9950_32677          9600.0  "
      ]
     },
     "metadata": {},
     "output_type": "display_data"
    }
   ],
   "source": [
    "%store -r no_auto_train_file\n",
    "%store -r no_auto_test_file\n",
    "\n",
    "train_pd = pd.read_csv(no_auto_train_file)\n",
    "test_pd = pd.read_csv(no_auto_test_file)\n",
    "print(\"auto_train_file: \", train_pd.shape)\n",
    "print(\"auto_train_file: \", test_pd.shape)\n",
    "\n",
    "from IPython.display import display as dp\n",
    "dp(train_pd.head(2))\n",
    "dp(test_pd.head(2))\n",
    "\n"
   ]
  },
  {
   "cell_type": "code",
   "execution_count": 7,
   "metadata": {},
   "outputs": [
    {
     "name": "stdout",
     "output_type": "stream",
     "text": [
      "s3_train_file_path:  s3://sagemaker-ap-northeast-2-057716757052/autogluon/predict-deliver-time/data/preproc_data/auto_no_fe/train/train.csv\n",
      "s3_test_file_path:  s3://sagemaker-ap-northeast-2-057716757052/autogluon/predict-deliver-time/data/preproc_data/auto_no_fe/test/test.csv\n"
     ]
    }
   ],
   "source": [
    "from utils import upload_s3\n",
    "\n",
    "# Upload train. test file\n",
    "data_prefix = 'autogluon/predict-deliver-time/data'\n",
    "\n",
    "s3_train_file_path = upload_s3(bucket, no_auto_train_file, data_prefix)\n",
    "s3_test_file_path = upload_s3(bucket, no_auto_test_file, data_prefix)\n",
    "print(\"s3_train_file_path: \", s3_train_file_path)\n",
    "print(\"s3_test_file_path: \", s3_test_file_path)"
   ]
  },
  {
   "cell_type": "code",
   "execution_count": 8,
   "metadata": {},
   "outputs": [],
   "source": [
    "## Train Rows\n",
    "train_rows = train_pd.shape[0]\n",
    "train_rows = 500\n"
   ]
  },
  {
   "cell_type": "markdown",
   "metadata": {
    "Collapsed": "false"
   },
   "source": [
    "## Hyperparameter Selection\n",
    "\n",
    "The minimum required settings for training is just a target label, `fit_args['label']`.\n",
    "\n",
    "Additional optional hyperparameters can be passed to the `autogluon.task.TabularPrediction.fit` function via `fit_args`.\n",
    "\n",
    "Below shows a more in depth example of AutoGluon-Tabular hyperparameters from the example [Predicting Columns in a Table - In Depth](https://autogluon.mxnet.io/tutorials/tabular_prediction/tabular-indepth.html#model-ensembling-with-stacking-bagging). Please see [fit parameters](https://autogluon.mxnet.io/api/autogluon.task.html?highlight=eval_metric#autogluon.task.TabularPrediction.fit) for further information. Note that in order for hyperparameter ranges to work in SageMaker, values passed to the `fit_args['hyperparameters']` must be represented as strings.\n",
    "\n",
    "```python\n",
    "nn_options = {\n",
    "    'num_epochs': \"10\",\n",
    "    'learning_rate': \"ag.space.Real(1e-4, 1e-2, default=5e-4, log=True)\",\n",
    "    'activation': \"ag.space.Categorical('relu', 'softrelu', 'tanh')\",\n",
    "    'layers': \"ag.space.Categorical([100],[1000],[200,100],[300,200,100])\",\n",
    "    'dropout_prob': \"ag.space.Real(0.0, 0.5, default=0.1)\"\n",
    "}\n",
    "\n",
    "gbm_options = {\n",
    "    'num_boost_round': \"100\",\n",
    "    'num_leaves': \"ag.space.Int(lower=26, upper=66, default=36)\"\n",
    "}\n",
    "\n",
    "model_hps = {'NN': nn_options, 'GBM': gbm_options} \n",
    "\n",
    "fit_args = {\n",
    "  'label': 'y',\n",
    "  'presets': ['best_quality', 'optimize_for_deployment'],\n",
    "  'time_limits': 60*10,\n",
    "  'hyperparameters': model_hps,\n",
    "  'hyperparameter_tune': True,\n",
    "  'search_strategy': 'skopt'\n",
    "}\n",
    "\n",
    "hyperparameters = {\n",
    "  'fit_args': fit_args,\n",
    "  'feature_importance': True\n",
    "}\n",
    "```\n",
    "**Note:** Your hyperparameter choices may affect the size of the model package, which could result in additional time taken to upload your model and complete training. Including `'optimize_for_deployment'` in the list of `fit_args['presets']` is recommended to greatly reduce upload times.\n",
    "\n",
    "<br>"
   ]
  },
  {
   "cell_type": "code",
   "execution_count": 9,
   "metadata": {
    "Collapsed": "false"
   },
   "outputs": [],
   "source": [
    "# # Define required label and optional additional parameters\n",
    "# fit_args = {\n",
    "#   'label': 'y',\n",
    "#   # Adding 'best_quality' to presets list will result in better performance (but longer runtime)\n",
    "#   'presets': ['optimize_for_deployment'],\n",
    "# }\n",
    "\n",
    "# # Pass fit_args to SageMaker estimator hyperparameters\n",
    "# hyperparameters = {\n",
    "#   'fit_args': fit_args,\n",
    "#   'feature_importance': True\n",
    "# }"
   ]
  },
  {
   "cell_type": "code",
   "execution_count": 10,
   "metadata": {},
   "outputs": [],
   "source": [
    "## S3 output path\n",
    "# output_prefix = 'autogluon/predict-deliver-time/output'\n",
    "# s3_output_path = 's3://{}/{}/'.format(bucket, output_prefix)\n",
    "# print(\"s3_output_path: \", s3_output_path)\n",
    "\n",
    "# Define required label and optional additional parameters\n",
    "fit_args = {\n",
    "  'label': 'classes',\n",
    "  # Adding 'best_quality' to presets list will result in better performance (but longer runtime)\n",
    "  'presets': ['optimize_for_deployment'],\n",
    "}\n",
    "\n",
    "hyperparameters = {\n",
    "    'fit_args' : fit_args,\n",
    "    #'presets': 'optimize_for_deployment',\n",
    "    'feature_importance': True,    \n",
    "    #'label' : 'classes', # label column name\n",
    "    'train_rows': train_rows  \n",
    "}\n",
    "\n"
   ]
  },
  {
   "cell_type": "markdown",
   "metadata": {
    "Collapsed": "false"
   },
   "source": [
    "## Train\n",
    "\n",
    "For local training set `train_instance_type` to `local` .   \n",
    "For non-local training the recommended instance type is `ml.m5.2xlarge`.   \n",
    "\n",
    "**Note:** Depending on how many underlying models are trained, `train_volume_size` may need to be increased so that they all fit on disk."
   ]
  },
  {
   "cell_type": "code",
   "execution_count": 11,
   "metadata": {},
   "outputs": [
    {
     "name": "stderr",
     "output_type": "stream",
     "text": [
      "Parameter image_name will be renamed to image_uri in SageMaker Python SDK v2.\n"
     ]
    },
    {
     "name": "stdout",
     "output_type": "stream",
     "text": [
      "sess:  None\n"
     ]
    }
   ],
   "source": [
    "# Resource Type\n",
    "# instance_type = 'ml.c5.9xlarge'\n",
    "instance_type = 'local'\n",
    "\n",
    "if instance_type == 'local':\n",
    "    sess = None\n",
    "    print(\"sess: \", sess)\n",
    "else:\n",
    "    sess = sagemaker.Session()\n",
    "    print(\"sess: \", sess)    \n",
    "    \n",
    "\n",
    "from sagemaker.mxnet import MXNet\n",
    "\n",
    "ecr_image = f'{ecr_uri_prefix}/{training_algorithm_name}:latest'\n",
    "\n",
    "estimator = Estimator(\n",
    "                    image_name =ecr_image,\n",
    "                    role = role,\n",
    "                    train_instance_type = instance_type,\n",
    "                    train_instance_count = 1,\n",
    "                    hyperparameters = hyperparameters,\n",
    "                    train_volume_size=100,\n",
    "                    # session = sess\n",
    "                    )\n",
    "\n"
   ]
  },
  {
   "cell_type": "code",
   "execution_count": 12,
   "metadata": {},
   "outputs": [
    {
     "name": "stderr",
     "output_type": "stream",
     "text": [
      "'s3_input' class will be renamed to 'TrainingInput' in SageMaker Python SDK v2.\n",
      "'s3_input' class will be renamed to 'TrainingInput' in SageMaker Python SDK v2.\n"
     ]
    },
    {
     "name": "stdout",
     "output_type": "stream",
     "text": [
      "Creating tmpf9oh9rl1_algo-1-0muwl_1 ... \n",
      "\u001b[1BAttaching to tmpf9oh9rl1_algo-1-0muwl_12mdone\u001b[0m\n",
      "\u001b[36malgo-1-0muwl_1  |\u001b[0m 2020-11-17 05:59:07,214 sagemaker-training-toolkit INFO     Imported framework sagemaker_mxnet_container.training\n",
      "\u001b[36malgo-1-0muwl_1  |\u001b[0m 2020-11-17 05:59:07,216 sagemaker-training-toolkit INFO     No GPUs detected (normal if no gpus installed)\n",
      "\u001b[36malgo-1-0muwl_1  |\u001b[0m 2020-11-17 05:59:07,216 sagemaker-training-toolkit INFO     Failed to parse hyperparameter fit_args value {'label': 'classes', 'presets': ['optimize_for_deployment']} to Json.\n",
      "\u001b[36malgo-1-0muwl_1  |\u001b[0m Returning the value itself\n",
      "\u001b[36malgo-1-0muwl_1  |\u001b[0m 2020-11-17 05:59:07,216 sagemaker-training-toolkit INFO     Failed to parse hyperparameter feature_importance value True to Json.\n",
      "\u001b[36malgo-1-0muwl_1  |\u001b[0m Returning the value itself\n",
      "\u001b[36malgo-1-0muwl_1  |\u001b[0m 2020-11-17 05:59:07,226 sagemaker_mxnet_container.training INFO     MXNet training environment: {'SM_HOSTS': '[\"algo-1-0muwl\"]', 'SM_NETWORK_INTERFACE_NAME': 'eth0', 'SM_HPS': '{\"feature_importance\":\"True\",\"fit_args\":\"{\\'label\\': \\'classes\\', \\'presets\\': [\\'optimize_for_deployment\\']}\",\"train_rows\":500}', 'SM_USER_ENTRY_POINT': 'train.py', 'SM_FRAMEWORK_PARAMS': '{}', 'SM_RESOURCE_CONFIG': '{\"current_host\":\"algo-1-0muwl\",\"hosts\":[\"algo-1-0muwl\"]}', 'SM_INPUT_DATA_CONFIG': '{\"test\":{\"TrainingInputMode\":\"File\"},\"train\":{\"TrainingInputMode\":\"File\"}}', 'SM_OUTPUT_DATA_DIR': '/opt/ml/output/data', 'SM_CHANNELS': '[\"test\",\"train\"]', 'SM_CURRENT_HOST': 'algo-1-0muwl', 'SM_MODULE_NAME': 'train', 'SM_LOG_LEVEL': '20', 'SM_FRAMEWORK_MODULE': 'sagemaker_mxnet_container.training:main', 'SM_INPUT_DIR': '/opt/ml/input', 'SM_INPUT_CONFIG_DIR': '/opt/ml/input/config', 'SM_OUTPUT_DIR': '/opt/ml/output', 'SM_NUM_CPUS': '36', 'SM_NUM_GPUS': '0', 'SM_MODEL_DIR': '/opt/ml/model', 'SM_MODULE_DIR': '/opt/ml/code', 'SM_TRAINING_ENV': '{\"additional_framework_parameters\":{},\"channel_input_dirs\":{\"test\":\"/opt/ml/input/data/test\",\"train\":\"/opt/ml/input/data/train\"},\"current_host\":\"algo-1-0muwl\",\"framework_module\":\"sagemaker_mxnet_container.training:main\",\"hosts\":[\"algo-1-0muwl\"],\"hyperparameters\":{\"feature_importance\":\"True\",\"fit_args\":\"{\\'label\\': \\'classes\\', \\'presets\\': [\\'optimize_for_deployment\\']}\",\"train_rows\":500},\"input_config_dir\":\"/opt/ml/input/config\",\"input_data_config\":{\"test\":{\"TrainingInputMode\":\"File\"},\"train\":{\"TrainingInputMode\":\"File\"}},\"input_dir\":\"/opt/ml/input\",\"is_master\":true,\"job_name\":\"autogluon-sagemaker-training-2020-11-17-05-59-03-102\",\"log_level\":20,\"master_hostname\":\"algo-1-0muwl\",\"model_dir\":\"/opt/ml/model\",\"module_dir\":\"/opt/ml/code\",\"module_name\":\"train\",\"network_interface_name\":\"eth0\",\"num_cpus\":36,\"num_gpus\":0,\"output_data_dir\":\"/opt/ml/output/data\",\"output_dir\":\"/opt/ml/output\",\"output_intermediate_dir\":\"/opt/ml/output/intermediate\",\"resource_config\":{\"current_host\":\"algo-1-0muwl\",\"hosts\":[\"algo-1-0muwl\"]},\"user_entry_point\":\"train.py\"}', 'SM_USER_ARGS': '[\"--feature_importance\",\"True\",\"--fit_args\",\"{\\'label\\': \\'classes\\', \\'presets\\': [\\'optimize_for_deployment\\']}\",\"--train_rows\",\"500\"]', 'SM_OUTPUT_INTERMEDIATE_DIR': '/opt/ml/output/intermediate', 'SM_CHANNEL_TRAIN': '/opt/ml/input/data/train', 'SM_CHANNEL_TEST': '/opt/ml/input/data/test', 'SM_HP_FIT_ARGS': \"{'label': 'classes', 'presets': ['optimize_for_deployment']}\", 'SM_HP_FEATURE_IMPORTANCE': 'True', 'SM_HP_TRAIN_ROWS': '500'}\n",
      "\u001b[36malgo-1-0muwl_1  |\u001b[0m 2020-11-17 05:59:07,228 sagemaker-training-toolkit INFO     No GPUs detected (normal if no gpus installed)\n",
      "\u001b[36malgo-1-0muwl_1  |\u001b[0m 2020-11-17 05:59:07,228 sagemaker-training-toolkit INFO     Failed to parse hyperparameter fit_args value {'label': 'classes', 'presets': ['optimize_for_deployment']} to Json.\n",
      "\u001b[36malgo-1-0muwl_1  |\u001b[0m Returning the value itself\n",
      "\u001b[36malgo-1-0muwl_1  |\u001b[0m 2020-11-17 05:59:07,228 sagemaker-training-toolkit INFO     Failed to parse hyperparameter feature_importance value True to Json.\n",
      "\u001b[36malgo-1-0muwl_1  |\u001b[0m Returning the value itself\n",
      "\u001b[36malgo-1-0muwl_1  |\u001b[0m 2020-11-17 05:59:07,242 sagemaker-training-toolkit INFO     No GPUs detected (normal if no gpus installed)\n",
      "\u001b[36malgo-1-0muwl_1  |\u001b[0m 2020-11-17 05:59:07,243 sagemaker-training-toolkit INFO     Failed to parse hyperparameter fit_args value {'label': 'classes', 'presets': ['optimize_for_deployment']} to Json.\n",
      "\u001b[36malgo-1-0muwl_1  |\u001b[0m Returning the value itself\n",
      "\u001b[36malgo-1-0muwl_1  |\u001b[0m 2020-11-17 05:59:07,243 sagemaker-training-toolkit INFO     Failed to parse hyperparameter feature_importance value True to Json.\n",
      "\u001b[36malgo-1-0muwl_1  |\u001b[0m Returning the value itself\n",
      "\u001b[36malgo-1-0muwl_1  |\u001b[0m 2020-11-17 05:59:07,254 sagemaker-training-toolkit INFO     No GPUs detected (normal if no gpus installed)\n",
      "\u001b[36malgo-1-0muwl_1  |\u001b[0m 2020-11-17 05:59:07,254 sagemaker-training-toolkit INFO     Failed to parse hyperparameter fit_args value {'label': 'classes', 'presets': ['optimize_for_deployment']} to Json.\n",
      "\u001b[36malgo-1-0muwl_1  |\u001b[0m Returning the value itself\n",
      "\u001b[36malgo-1-0muwl_1  |\u001b[0m 2020-11-17 05:59:07,254 sagemaker-training-toolkit INFO     Failed to parse hyperparameter feature_importance value True to Json.\n",
      "\u001b[36malgo-1-0muwl_1  |\u001b[0m Returning the value itself\n",
      "\u001b[36malgo-1-0muwl_1  |\u001b[0m 2020-11-17 05:59:07,264 sagemaker-training-toolkit INFO     Invoking user script\n",
      "\u001b[36malgo-1-0muwl_1  |\u001b[0m \n",
      "\u001b[36malgo-1-0muwl_1  |\u001b[0m Training Env:\n",
      "\u001b[36malgo-1-0muwl_1  |\u001b[0m \n",
      "\u001b[36malgo-1-0muwl_1  |\u001b[0m {\n",
      "\u001b[36malgo-1-0muwl_1  |\u001b[0m     \"additional_framework_parameters\": {},\n",
      "\u001b[36malgo-1-0muwl_1  |\u001b[0m     \"channel_input_dirs\": {\n",
      "\u001b[36malgo-1-0muwl_1  |\u001b[0m         \"train\": \"/opt/ml/input/data/train\",\n",
      "\u001b[36malgo-1-0muwl_1  |\u001b[0m         \"test\": \"/opt/ml/input/data/test\"\n",
      "\u001b[36malgo-1-0muwl_1  |\u001b[0m     },\n",
      "\u001b[36malgo-1-0muwl_1  |\u001b[0m     \"current_host\": \"algo-1-0muwl\",\n",
      "\u001b[36malgo-1-0muwl_1  |\u001b[0m     \"framework_module\": \"sagemaker_mxnet_container.training:main\",\n",
      "\u001b[36malgo-1-0muwl_1  |\u001b[0m     \"hosts\": [\n",
      "\u001b[36malgo-1-0muwl_1  |\u001b[0m         \"algo-1-0muwl\"\n",
      "\u001b[36malgo-1-0muwl_1  |\u001b[0m     ],\n",
      "\u001b[36malgo-1-0muwl_1  |\u001b[0m     \"hyperparameters\": {\n",
      "\u001b[36malgo-1-0muwl_1  |\u001b[0m         \"fit_args\": \"{'label': 'classes', 'presets': ['optimize_for_deployment']}\",\n",
      "\u001b[36malgo-1-0muwl_1  |\u001b[0m         \"feature_importance\": \"True\",\n",
      "\u001b[36malgo-1-0muwl_1  |\u001b[0m         \"train_rows\": 500\n",
      "\u001b[36malgo-1-0muwl_1  |\u001b[0m     },\n",
      "\u001b[36malgo-1-0muwl_1  |\u001b[0m     \"input_config_dir\": \"/opt/ml/input/config\",\n",
      "\u001b[36malgo-1-0muwl_1  |\u001b[0m     \"input_data_config\": {\n",
      "\u001b[36malgo-1-0muwl_1  |\u001b[0m         \"train\": {\n",
      "\u001b[36malgo-1-0muwl_1  |\u001b[0m             \"TrainingInputMode\": \"File\"\n",
      "\u001b[36malgo-1-0muwl_1  |\u001b[0m         },\n",
      "\u001b[36malgo-1-0muwl_1  |\u001b[0m         \"test\": {\n",
      "\u001b[36malgo-1-0muwl_1  |\u001b[0m             \"TrainingInputMode\": \"File\"\n",
      "\u001b[36malgo-1-0muwl_1  |\u001b[0m         }\n",
      "\u001b[36malgo-1-0muwl_1  |\u001b[0m     },\n",
      "\u001b[36malgo-1-0muwl_1  |\u001b[0m     \"input_dir\": \"/opt/ml/input\",\n",
      "\u001b[36malgo-1-0muwl_1  |\u001b[0m     \"is_master\": true,\n",
      "\u001b[36malgo-1-0muwl_1  |\u001b[0m     \"job_name\": \"autogluon-sagemaker-training-2020-11-17-05-59-03-102\",\n",
      "\u001b[36malgo-1-0muwl_1  |\u001b[0m     \"log_level\": 20,\n",
      "\u001b[36malgo-1-0muwl_1  |\u001b[0m     \"master_hostname\": \"algo-1-0muwl\",\n",
      "\u001b[36malgo-1-0muwl_1  |\u001b[0m     \"model_dir\": \"/opt/ml/model\",\n",
      "\u001b[36malgo-1-0muwl_1  |\u001b[0m     \"module_dir\": \"/opt/ml/code\",\n",
      "\u001b[36malgo-1-0muwl_1  |\u001b[0m     \"module_name\": \"train\",\n",
      "\u001b[36malgo-1-0muwl_1  |\u001b[0m     \"network_interface_name\": \"eth0\",\n",
      "\u001b[36malgo-1-0muwl_1  |\u001b[0m     \"num_cpus\": 36,\n",
      "\u001b[36malgo-1-0muwl_1  |\u001b[0m     \"num_gpus\": 0,\n",
      "\u001b[36malgo-1-0muwl_1  |\u001b[0m     \"output_data_dir\": \"/opt/ml/output/data\",\n",
      "\u001b[36malgo-1-0muwl_1  |\u001b[0m     \"output_dir\": \"/opt/ml/output\",\n",
      "\u001b[36malgo-1-0muwl_1  |\u001b[0m     \"output_intermediate_dir\": \"/opt/ml/output/intermediate\",\n",
      "\u001b[36malgo-1-0muwl_1  |\u001b[0m     \"resource_config\": {\n",
      "\u001b[36malgo-1-0muwl_1  |\u001b[0m         \"current_host\": \"algo-1-0muwl\",\n",
      "\u001b[36malgo-1-0muwl_1  |\u001b[0m         \"hosts\": [\n",
      "\u001b[36malgo-1-0muwl_1  |\u001b[0m             \"algo-1-0muwl\"\n",
      "\u001b[36malgo-1-0muwl_1  |\u001b[0m         ]\n",
      "\u001b[36malgo-1-0muwl_1  |\u001b[0m     },\n",
      "\u001b[36malgo-1-0muwl_1  |\u001b[0m     \"user_entry_point\": \"train.py\"\n",
      "\u001b[36malgo-1-0muwl_1  |\u001b[0m }\n",
      "\u001b[36malgo-1-0muwl_1  |\u001b[0m \n",
      "\u001b[36malgo-1-0muwl_1  |\u001b[0m Environment variables:\n",
      "\u001b[36malgo-1-0muwl_1  |\u001b[0m \n",
      "\u001b[36malgo-1-0muwl_1  |\u001b[0m SM_HOSTS=[\"algo-1-0muwl\"]\n",
      "\u001b[36malgo-1-0muwl_1  |\u001b[0m SM_NETWORK_INTERFACE_NAME=eth0\n",
      "\u001b[36malgo-1-0muwl_1  |\u001b[0m SM_HPS={\"feature_importance\":\"True\",\"fit_args\":\"{'label': 'classes', 'presets': ['optimize_for_deployment']}\",\"train_rows\":500}\n",
      "\u001b[36malgo-1-0muwl_1  |\u001b[0m SM_USER_ENTRY_POINT=train.py\n",
      "\u001b[36malgo-1-0muwl_1  |\u001b[0m SM_FRAMEWORK_PARAMS={}\n",
      "\u001b[36malgo-1-0muwl_1  |\u001b[0m SM_RESOURCE_CONFIG={\"current_host\":\"algo-1-0muwl\",\"hosts\":[\"algo-1-0muwl\"]}\n",
      "\u001b[36malgo-1-0muwl_1  |\u001b[0m SM_INPUT_DATA_CONFIG={\"test\":{\"TrainingInputMode\":\"File\"},\"train\":{\"TrainingInputMode\":\"File\"}}\n",
      "\u001b[36malgo-1-0muwl_1  |\u001b[0m SM_OUTPUT_DATA_DIR=/opt/ml/output/data\n",
      "\u001b[36malgo-1-0muwl_1  |\u001b[0m SM_CHANNELS=[\"test\",\"train\"]\n",
      "\u001b[36malgo-1-0muwl_1  |\u001b[0m SM_CURRENT_HOST=algo-1-0muwl\n",
      "\u001b[36malgo-1-0muwl_1  |\u001b[0m SM_MODULE_NAME=train\n",
      "\u001b[36malgo-1-0muwl_1  |\u001b[0m SM_LOG_LEVEL=20\n",
      "\u001b[36malgo-1-0muwl_1  |\u001b[0m SM_FRAMEWORK_MODULE=sagemaker_mxnet_container.training:main\n",
      "\u001b[36malgo-1-0muwl_1  |\u001b[0m SM_INPUT_DIR=/opt/ml/input\n",
      "\u001b[36malgo-1-0muwl_1  |\u001b[0m SM_INPUT_CONFIG_DIR=/opt/ml/input/config\n",
      "\u001b[36malgo-1-0muwl_1  |\u001b[0m SM_OUTPUT_DIR=/opt/ml/output\n",
      "\u001b[36malgo-1-0muwl_1  |\u001b[0m SM_NUM_CPUS=36\n",
      "\u001b[36malgo-1-0muwl_1  |\u001b[0m SM_NUM_GPUS=0\n",
      "\u001b[36malgo-1-0muwl_1  |\u001b[0m SM_MODEL_DIR=/opt/ml/model\n",
      "\u001b[36malgo-1-0muwl_1  |\u001b[0m SM_MODULE_DIR=/opt/ml/code\n",
      "\u001b[36malgo-1-0muwl_1  |\u001b[0m SM_TRAINING_ENV={\"additional_framework_parameters\":{},\"channel_input_dirs\":{\"test\":\"/opt/ml/input/data/test\",\"train\":\"/opt/ml/input/data/train\"},\"current_host\":\"algo-1-0muwl\",\"framework_module\":\"sagemaker_mxnet_container.training:main\",\"hosts\":[\"algo-1-0muwl\"],\"hyperparameters\":{\"feature_importance\":\"True\",\"fit_args\":\"{'label': 'classes', 'presets': ['optimize_for_deployment']}\",\"train_rows\":500},\"input_config_dir\":\"/opt/ml/input/config\",\"input_data_config\":{\"test\":{\"TrainingInputMode\":\"File\"},\"train\":{\"TrainingInputMode\":\"File\"}},\"input_dir\":\"/opt/ml/input\",\"is_master\":true,\"job_name\":\"autogluon-sagemaker-training-2020-11-17-05-59-03-102\",\"log_level\":20,\"master_hostname\":\"algo-1-0muwl\",\"model_dir\":\"/opt/ml/model\",\"module_dir\":\"/opt/ml/code\",\"module_name\":\"train\",\"network_interface_name\":\"eth0\",\"num_cpus\":36,\"num_gpus\":0,\"output_data_dir\":\"/opt/ml/output/data\",\"output_dir\":\"/opt/ml/output\",\"output_intermediate_dir\":\"/opt/ml/output/intermediate\",\"resource_config\":{\"current_host\":\"algo-1-0muwl\",\"hosts\":[\"algo-1-0muwl\"]},\"user_entry_point\":\"train.py\"}\n",
      "\u001b[36malgo-1-0muwl_1  |\u001b[0m SM_USER_ARGS=[\"--feature_importance\",\"True\",\"--fit_args\",\"{'label': 'classes', 'presets': ['optimize_for_deployment']}\",\"--train_rows\",\"500\"]\n",
      "\u001b[36malgo-1-0muwl_1  |\u001b[0m SM_OUTPUT_INTERMEDIATE_DIR=/opt/ml/output/intermediate\n",
      "\u001b[36malgo-1-0muwl_1  |\u001b[0m SM_CHANNEL_TRAIN=/opt/ml/input/data/train\n",
      "\u001b[36malgo-1-0muwl_1  |\u001b[0m SM_CHANNEL_TEST=/opt/ml/input/data/test\n",
      "\u001b[36malgo-1-0muwl_1  |\u001b[0m SM_HP_FIT_ARGS={'label': 'classes', 'presets': ['optimize_for_deployment']}\n",
      "\u001b[36malgo-1-0muwl_1  |\u001b[0m SM_HP_FEATURE_IMPORTANCE=True\n",
      "\u001b[36malgo-1-0muwl_1  |\u001b[0m SM_HP_TRAIN_ROWS=500\n",
      "\u001b[36malgo-1-0muwl_1  |\u001b[0m PYTHONPATH=/opt/ml/code:/usr/local/bin:/usr/local/lib/python36.zip:/usr/local/lib/python3.6:/usr/local/lib/python3.6/lib-dynload:/usr/local/lib/python3.6/site-packages\n",
      "\u001b[36malgo-1-0muwl_1  |\u001b[0m \n",
      "\u001b[36malgo-1-0muwl_1  |\u001b[0m Invoking script with the following command:\n",
      "\u001b[36malgo-1-0muwl_1  |\u001b[0m \n",
      "\u001b[36malgo-1-0muwl_1  |\u001b[0m /usr/local/bin/python3.6 train.py --feature_importance True --fit_args {'label': 'classes', 'presets': ['optimize_for_deployment']} --train_rows 500\n",
      "\u001b[36malgo-1-0muwl_1  |\u001b[0m \n",
      "\u001b[36malgo-1-0muwl_1  |\u001b[0m \n",
      "\u001b[36malgo-1-0muwl_1  |\u001b[0m /opt/ml/input:\n",
      "\u001b[36malgo-1-0muwl_1  |\u001b[0m total 8\n",
      "\u001b[36malgo-1-0muwl_1  |\u001b[0m drwxrwxr-x 2 500 500 4096 Nov 17 05:59 config\n",
      "\u001b[36malgo-1-0muwl_1  |\u001b[0m drwx------ 4 500 500 4096 Nov 17 05:59 data\n",
      "\u001b[36malgo-1-0muwl_1  |\u001b[0m \n",
      "\u001b[36malgo-1-0muwl_1  |\u001b[0m /opt/ml/input/config:\n",
      "\u001b[36malgo-1-0muwl_1  |\u001b[0m total 12\n",
      "\u001b[36malgo-1-0muwl_1  |\u001b[0m -rw-rw-r-- 1 500 500 127 Nov 17 05:59 hyperparameters.json\n",
      "\u001b[36malgo-1-0muwl_1  |\u001b[0m -rw-rw-r-- 1 500 500  79 Nov 17 05:59 inputdataconfig.json\n",
      "\u001b[36malgo-1-0muwl_1  |\u001b[0m -rw-rw-r-- 1 500 500  59 Nov 17 05:59 resourceconfig.json\n",
      "\u001b[36malgo-1-0muwl_1  |\u001b[0m \n",
      "\u001b[36malgo-1-0muwl_1  |\u001b[0m /opt/ml/input/data:\n",
      "\u001b[36malgo-1-0muwl_1  |\u001b[0m total 8\n",
      "\u001b[36malgo-1-0muwl_1  |\u001b[0m drwx------ 2 500 500 4096 Nov 17 05:59 test\n",
      "\u001b[36malgo-1-0muwl_1  |\u001b[0m drwx------ 2 500 500 4096 Nov 17 05:59 train\n",
      "\u001b[36malgo-1-0muwl_1  |\u001b[0m \n",
      "\u001b[36malgo-1-0muwl_1  |\u001b[0m /opt/ml/input/data/test:\n",
      "\u001b[36malgo-1-0muwl_1  |\u001b[0m total 1668\n",
      "\u001b[36malgo-1-0muwl_1  |\u001b[0m -rw-rw-r-- 1 500 500 1706447 Nov 17 05:59 test.csv\n",
      "\u001b[36malgo-1-0muwl_1  |\u001b[0m \n",
      "\u001b[36malgo-1-0muwl_1  |\u001b[0m /opt/ml/input/data/train:\n",
      "\u001b[36malgo-1-0muwl_1  |\u001b[0m total 6672\n",
      "\u001b[36malgo-1-0muwl_1  |\u001b[0m -rw-rw-r-- 1 500 500 6829951 Nov 17 05:59 train.csv\n",
      "\u001b[36malgo-1-0muwl_1  |\u001b[0m INFO:root:0\n",
      "\u001b[36malgo-1-0muwl_1  |\u001b[0m DEBUG:matplotlib:(private) matplotlib data path: /usr/local/lib/python3.6/site-packages/matplotlib/mpl-data\n",
      "\u001b[36malgo-1-0muwl_1  |\u001b[0m DEBUG:matplotlib:matplotlib data path: /usr/local/lib/python3.6/site-packages/matplotlib/mpl-data\n",
      "\u001b[36malgo-1-0muwl_1  |\u001b[0m DEBUG:matplotlib:CONFIGDIR=/root/.config/matplotlib\n",
      "\u001b[36malgo-1-0muwl_1  |\u001b[0m DEBUG:matplotlib:matplotlib version 3.3.2\n",
      "\u001b[36malgo-1-0muwl_1  |\u001b[0m DEBUG:matplotlib:interactive is False\n",
      "\u001b[36malgo-1-0muwl_1  |\u001b[0m DEBUG:matplotlib:platform is linux\n",
      "\u001b[36malgo-1-0muwl_1  |\u001b[0m DEBUG:matplotlib:loaded modules: ['builtins', 'sys', '_frozen_importlib', '_imp', '_warnings', '_thread', '_weakref', '_frozen_importlib_external', '_io', 'marshal', 'posix', 'zipimport', 'encodings', 'codecs', '_codecs', 'encodings.aliases', 'encodings.utf_8', '_signal', '__main__', 'encodings.latin_1', 'io', 'abc', '_weakrefset', 'site', 'os', 'errno', 'stat', '_stat', 'posixpath', 'genericpath', 'os.path', '_collections_abc', '_sitebuiltins', 'sysconfig', '_sysconfigdata_m_linux_x86_64-linux-gnu', '_bootlocale', '_locale', 'types', 'functools', '_functools', 'collections', 'operator', '_operator', 'keyword', 'heapq', '_heapq', 'itertools', 'reprlib', '_collections', 'weakref', 'collections.abc', 'importlib', 'importlib._bootstrap', 'importlib._bootstrap_external', 'warnings', 'importlib.util', 'importlib.abc', 'importlib.machinery', 'contextlib', 'mpl_toolkits', 'google', 'zope', 'ast', '_ast', 'argparse', 'copy', 'copyreg', 're', 'enum', 'sre_compile', '_sre', 'sre_parse', 'sre_constants', 'textwrap', 'gettext', 'locale', 'struct', '_struct', 'logging', 'time', 'traceback', 'linecache', 'tokenize', 'token', 'string', '_string', 'threading', 'atexit', 'json', 'json.decoder', 'json.scanner', '_json', 'json.encoder', 'boto3', 'boto3.session', 'botocore', 'botocore.session', 'platform', 'subprocess', 'signal', '_posixsubprocess', 'select', 'selectors', 'math', 'socket', '_socket', 'botocore.configloader', 'shlex', 'botocore.compat', 'datetime', '_datetime', 'inspect', 'dis', 'opcode', '_opcode', 'hashlib', '_hashlib', '_blake2', '_sha3', 'botocore.vendored', 'botocore.vendored.six', '__future__', 'botocore.exceptions', 'botocore.vendored.requests', 'botocore.vendored.requests.exceptions', 'botocore.vendored.requests.packages', 'botocore.vendored.requests.packages.urllib3', 'botocore.vendored.requests.packages.urllib3.exceptions', 'dateutil', 'dateutil._version', 'dateutil.tz', 'dateutil.tz.tz', 'bisect', '_bisect', 'six', 'six.moves', 'dateutil.tz._common', 'dateutil.tz._factories', 'urllib3', 'urllib3.connectionpool', 'urllib3.exceptions', 'urllib3.packages', 'urllib3.packages.ssl_match_hostname', 'ssl', 'ipaddress', '_ssl', 'base64', 'binascii', 'urllib3.packages.six', 'urllib3.packages.six.moves', 'http', 'http.client', 'email', 'email.parser', 'email.feedparser', 'email.errors', 'email._policybase', 'email.header', 'email.quoprimime', 'email.base64mime', 'email.charset', 'email.encoders', 'quopri', 'email.utils', 'random', '_random', 'urllib', 'urllib.parse', 'email._parseaddr', 'calendar', 'email.message', 'uu', 'email._encoded_words', 'email.iterators', 'urllib3.packages.six.moves.http_client', 'queue', 'urllib3.connection', 'urllib3.util', 'urllib3.util.connection', 'urllib3.util.wait', 'urllib3.contrib', 'urllib3.contrib._appengine_environ', 'urllib3.util.request', 'urllib3.util.response', 'urllib3.util.ssl_', 'hmac', 'urllib3.util.url', 'urllib3.util.timeout', 'urllib3.util.retry', 'urllib3._collections', 'urllib3.request', 'urllib3.filepost', 'urllib3.fields', 'mimetypes', 'urllib3.packages.six.moves.urllib', 'urllib3.packages.six.moves.urllib.parse', 'urllib3.response', 'zlib', 'urllib3.util.queue', 'urllib3.poolmanager', 'urllib3._version', 'botocore.vendored.six.moves', 'xml', 'xml.etree', 'xml.etree.cElementTree', 'xml.etree.ElementTree', 'xml.etree.ElementPath', 'pyexpat.errors', 'pyexpat.model', 'pyexpat', '_elementtree', 'botocore.credentials', 'getpass', 'termios', 'dateutil.parser', 'dateutil.parser._parser', 'decimal', 'numbers', '_decimal', 'dateutil.relativedelta', 'dateutil._common', 'dateutil.parser.isoparser', 'botocore.config', 'botocore.endpoint', 'botocore.awsrequest', 'botocore.utils', 'cgi', 'html', 'html.entities', 'tempfile', 'shutil', 'fnmatch', 'bz2', '_compression', '_bz2', 'lzma', '_lzma', 'pwd', 'grp', 'botocore.httpsession', 'botocore.vendored.six.moves.urllib_parse', 'certifi', 'certifi.core', 'botocore.vendored.six.moves.urllib', 'botocore.vendored.six.moves.urllib.request', 'urllib.request', 'urllib.error', 'urllib.response', 'botocore.hooks', 'botocore.history', 'botocore.response', 'botocore.parsers', 'botocore.eventstream', 'botocore.client', 'botocore.waiter', 'jmespath', 'jmespath.parser', 'jmespath.lexer', 'jmespath.exceptions', 'jmespath.compat', 'jmespath.ast', 'jmespath.visitor', 'jmespath.functions', 'botocore.docs', 'botocore.docs.service', 'botocore.docs.utils', 'botocore.docs.client', 'botocore.docs.method', 'botocore.docs.params', 'botocore.docs.shape', 'botocore.docs.example', 'botocore.docs.sharedexample', 'botocore.docs.waiter', 'botocore.docs.paginator', 'botocore.docs.bcdoc', 'botocore.docs.bcdoc.restdoc', 'botocore.docs.bcdoc.docstringparser', 'html.parser', '_markupbase', 'botocore.docs.bcdoc.style', 'botocore.docs.docstring', 'botocore.args', 'botocore.serialize', 'botocore.validate', 'botocore.signers', 'botocore.auth', 'botocore.model', 'botocore.paginate', 'botocore.discovery', 'botocore.retries', 'botocore.retries.standard', 'botocore.retries.quota', 'botocore.retries.special', 'botocore.retries.base', 'botocore.retries.adaptive', 'botocore.retries.bucket', 'botocore.retries.throttling', 'botocore.configprovider', 'botocore.errorfactory', 'botocore.handlers', 'uuid', 'ctypes', '_ctypes', 'ctypes._endian', 'ctypes.util', 'botocore.retryhandler', 'botocore.translate', 'botocore.loaders', 'botocore.regions', 'botocore.monitoring', 'boto3.utils', 'boto3.exceptions', 'boto3.resources', 'boto3.resources.factory', 'boto3.resources.action', 'boto3.resources.params', 'boto3.resources.response', 'boto3.resources.model', 'boto3.docs', 'boto3.docs.service', 'boto3.docs.client', 'boto3.docs.resource', 'boto3.docs.base', 'boto3.docs.action', 'boto3.docs.method', 'boto3.docs.utils', 'boto3.docs.waiter', 'boto3.docs.collection', 'boto3.docs.subresource', 'boto3.docs.attr', 'boto3.docs.docstring', 'boto3.resources.base', 'boto3.resources.collection', 'boto3.compat', 'pickle', '_compat_pickle', '_pickle', 'pandas', 'numpy', 'numpy._globals', 'numpy.__config__', 'numpy.version', 'numpy._distributor_init', 'numpy.core', 'numpy.core.multiarray', 'numpy.core.overrides', 'numpy.core._multiarray_umath', 'numpy.compat', 'numpy.compat._inspect', 'numpy.compat.py3k', 'pathlib', 'ntpath', 'numpy.core.umath', 'numpy.core.numerictypes', 'numpy.core._string_helpers', 'numpy.core._type_aliases', 'numpy.core._dtype', 'numpy.core.numeric', 'numpy.core.shape_base', 'numpy.core._asarray', 'numpy.core.fromnumeric', 'numpy.core._methods', 'numpy.core._exceptions', 'numpy.core._ufunc_config', 'numpy.core.arrayprint', 'numpy.core.defchararray', 'numpy.core.records', 'numpy.core.memmap', 'numpy.core.function_base', 'numpy.core.machar', 'numpy.core.getlimits', 'numpy.core.einsumfunc', 'numpy.core._add_newdocs', 'numpy.core._multiarray_tests', 'numpy.core._dtype_ctypes', 'numpy.core._internal', 'numpy._pytesttester', 'numpy.lib', 'numpy.lib.mixins', 'numpy.lib.scimath', 'numpy.lib.type_check', 'numpy.lib.ufunclike', 'numpy.lib.index_tricks', 'numpy.matrixlib', 'numpy.matrixlib.defmatrix', 'numpy.linalg', 'numpy.linalg.linalg', 'numpy.lib.twodim_base', 'numpy.linalg.lapack_lite', 'numpy.linalg._umath_linalg', 'numpy.lib.function_base', 'numpy.lib.histograms', 'numpy.lib.stride_tricks', 'numpy.lib.nanfunctions', 'numpy.lib.shape_base', 'numpy.lib.polynomial', 'numpy.lib.utils', 'numpy.lib.arraysetops', 'numpy.lib.npyio', 'numpy.lib.format', 'numpy.lib._datasource', 'numpy.lib._iotools', 'numpy.lib.financial', 'numpy.lib.arrayterator', 'numpy.lib.arraypad', 'numpy.lib._version', 'numpy.fft', 'numpy.fft._pocketfft', 'numpy.fft._pocketfft_internal', 'numpy.fft.helper', 'numpy.polynomial', 'numpy.polynomial.polynomial', 'numpy.polynomial.polyutils', 'numpy.polynomial._polybase', 'numpy.polynomial.chebyshev', 'numpy.polynomial.legendre', 'numpy.polynomial.hermite', 'numpy.polynomial.hermite_e', 'numpy.polynomial.laguerre', 'numpy.random', 'numpy.random._pickle', 'numpy.random.mtrand', 'cython_runtime', 'numpy.random.bit_generator', '_cython_0_29_21', 'numpy.random._common', 'secrets', 'numpy.random._bounded_integers', 'numpy.random._mt19937', 'numpy.random._philox', 'numpy.random._pcg64', 'numpy.random._sfc64', 'numpy.random._generator', 'numpy.ctypeslib', 'numpy.ma', 'numpy.ma.core', 'numpy.ma.extras', 'numpy.testing', 'unittest', 'unittest.result', 'unittest.util', 'unittest.case', 'difflib', 'pprint', 'unittest.suite', 'unittest.loader', 'unittest.main', 'unittest.runner', 'unittest.signals', 'numpy.testing._private', 'numpy.testing._private.utils', 'gc', 'numpy.testing._private.decorators', 'numpy.testing._private.nosetester', 'pytz', 'pytz.exceptions', 'pytz.lazy', 'pytz.tzinfo', 'pytz.tzfile', 'pandas.compat', 'pandas._typing', 'typing', 'typing.io', 'typing.re', 'pandas.compat.numpy', 'distutils', 'distutils.version', 'pandas._libs', 'pandas._libs.interval', 'pandas._libs.hashtable', 'pandas._libs.missing', 'pandas._libs.tslibs', 'pandas._libs.tslibs.dtypes', 'pandas._libs.tslibs.conversion', 'pandas._libs.tslibs.base', 'pandas._libs.tslibs.nattype', 'pandas._libs.tslibs.np_datetime', 'pandas._libs.tslibs.timezones', 'pandas._libs.tslibs.tzconversion', 'pandas._libs.tslibs.ccalendar', 'pandas._libs.tslibs.parsing', 'pandas._libs.tslibs.offsets', 'pandas._libs.tslibs.timedeltas', 'pandas._libs.tslibs.timestamps', 'pandas._libs.tslibs.fields', 'pandas._config', 'pandas._config.config', 'pandas._config.dates', 'pandas._config.display', 'pandas._config.localization', 'pandas._libs.tslibs.strptime', 'dateutil.easter', 'pandas._libs.properties', 'pandas._libs.tslibs.period', 'pandas._libs.tslibs.vectorized', 'pandas._libs.ops_dispatch', 'pandas._libs.algos', 'pandas._libs.lib', 'pandas._libs.tslib', 'pandas.core', 'pandas.core.config_init', 'pandas.core.api', 'pandas.core.dtypes', 'pandas.core.dtypes.dtypes', 'pandas.core.dtypes.base', 'pandas.errors', 'pandas.core.dtypes.generic', 'pandas.core.dtypes.inference', 'pandas.core.dtypes.missing', 'pandas.core.dtypes.common', 'pandas.core.algorithms', 'pandas.util', 'pandas.util._decorators', 'pandas.core.util', 'pandas.core.util.hashing', 'pandas._libs.hashing', 'pandas.core.dtypes.cast', 'pandas.util._validators', 'pandas.core.construction', 'pandas.core.common', 'pandas.core.indexers', 'pandas.core.arrays', 'pandas.core.arrays.base', 'pandas.compat.numpy.function', 'pandas.core.ops', 'pandas.core.ops.array_ops', 'pandas._libs.ops', 'pandas.core.ops.missing', 'pandas.core.ops.roperator', 'pandas.core.ops.dispatch', 'pandas.core.ops.invalid', 'pandas.core.ops.common', 'pandas.core.ops.docstrings', 'pandas.core.ops.mask_ops', 'pandas.core.ops.methods', 'pandas.core.missing', 'pandas.compat._optional', 'pandas.core.sorting', 'pandas.core.arrays.boolean', 'pandas.core.arrays.masked', 'pandas.core.nanops', 'pandas.core.array_algos', 'pandas.core.array_algos.masked_reductions', 'pandas.core.arrays.categorical', 'csv', '_csv', 'pandas.core.accessor', 'pandas.core.array_algos.transforms', 'pandas.core.arrays._mixins', 'pandas.core.base', 'pandas.io', 'pandas.io.formats', 'pandas.io.formats.console', 'pandas.core.arrays.datetimes', 'pandas.core.arrays.datetimelike', 'pandas.tseries', 'pandas.tseries.frequencies', 'pandas.core.arrays._ranges', 'pandas.tseries.offsets', 'pandas.core.arrays.integer', 'pandas.core.tools', 'pandas.core.tools.numeric', 'pandas.core.arrays.interval', 'pandas.core.indexes', 'pandas.core.indexes.base', 'pandas._libs.index', 'pandas._libs.join', 'pandas.core.dtypes.concat', 'pandas.core.arrays.sparse', 'pandas.core.arrays.sparse.accessor', 'pandas.core.arrays.sparse.array', 'pandas._libs.sparse', 'pandas.core.arrays.sparse.dtype', 'pandas.io.formats.printing', 'pandas.core.indexes.frozen', 'pandas.core.strings', 'pandas.core.arrays.numpy_', 'pandas.core.arrays.period', 'pandas.core.arrays.string_', 'pandas.core.arrays.timedeltas', 'pandas.core.groupby', 'pandas.core.groupby.generic', 'pandas.core.aggregation', 'pandas.core.indexes.api', 'pandas.core.indexes.category', 'pandas.core.indexes.extension', 'pandas.core.indexes.datetimes', 'pandas.core.indexes.datetimelike', 'pandas.core.indexes.numeric', 'pandas.core.tools.timedeltas', 'pandas.core.tools.times', 'pandas.core.indexes.interval', 'pandas.util._exceptions', 'pandas.core.indexes.multi', 'pandas.core.indexes.timedeltas', 'pandas.core.indexes.period', 'pandas.core.indexes.range', 'pandas.core.series', 'pandas._libs.reshape', 'pandas.core.generic', 'pandas.core.indexing', 'pandas._libs.indexing', 'pandas.core.internals', 'pandas.core.internals.blocks', 'pandas._libs.writers', 'pandas._libs.internals', 'pandas.core.internals.concat', 'pandas.core.internals.managers', 'pandas.core.internals.ops', 'pandas.core.shared_docs', 'pandas.io.formats.format', 'unicodedata', 'pandas.io.common', 'gzip', 'mmap', 'zipfile', 'pandas.core.indexes.accessors', 'pandas.core.tools.datetimes', 'pandas.arrays', 'pandas.plotting', 'pandas.plotting._core', 'pandas.plotting._misc', 'pandas.core.window', 'pandas.core.window.ewm', 'pandas._libs.window', 'pandas._libs.window.aggregations', 'pandas.core.window.common', 'pandas.core.groupby.base', 'pandas.core.window.rolling', 'pandas.core.util.numba_', 'pandas.core.window.indexers', 'pandas._libs.window.indexers', 'pandas.core.window.numba_', 'pandas.core.window.expanding', 'pandas.core.frame', 'pandas.core.internals.construction', 'pandas.core.reshape', 'pandas.core.reshape.melt', 'pandas.core.reshape.concat', 'pandas.core.reshape.util', 'pandas.io.formats.info', 'pandas.core.groupby.groupby', 'pandas._libs.groupby', 'pandas.core.groupby.ops', 'pandas._libs.reduction', 'pandas.core.groupby.grouper', 'pandas.core.groupby.categorical', 'pandas.tseries.api', 'pandas.core.computation', 'pandas.core.computation.api', 'pandas.core.computation.eval', 'pandas.core.computation.engines', 'pandas.core.computation.align', 'pandas.core.computation.common', 'pandas.core.computation.ops', 'pandas.core.computation.scope', 'pandas.compat.chainmap', 'pandas.core.computation.expr', 'pandas.core.computation.parsing', 'pandas.core.reshape.api', 'pandas.core.reshape.merge', 'pandas.core.reshape.pivot', 'pandas.core.reshape.reshape', 'pandas.core.reshape.tile', 'pandas.api', 'pandas.api.extensions', 'pandas.api.indexers', 'pandas.api.types', 'pandas.core.dtypes.api', 'pandas.util._print_versions', 'pandas.io.api', 'pandas.io.clipboards', 'pandas.io.excel', 'pandas.io.excel._base', 'pandas._libs.parsers', 'pandas.io.excel._util', 'pandas.io.parsers', 'pandas.io.date_converters', 'pandas.io.excel._odfreader', 'pandas.io.excel._openpyxl', 'pandas.io.excel._pyxlsb', 'pandas.io.excel._xlrd', 'pandas.io.excel._odswriter', 'pandas._libs.json', 'pandas.io.formats.excel', 'pandas.io.formats.css', 'pandas.io.excel._xlsxwriter', 'pandas.io.excel._xlwt', 'pandas.io.feather_format', 'pandas.io.gbq', 'pandas.io.html', 'pandas.io.json', 'pandas.io.json._json', 'pandas.io.json._normalize', 'pandas.io.json._table_schema', 'pandas.io.orc', 'pandas.io.parquet', 'pandas.io.pickle', 'pandas.compat.pickle_compat', 'pandas.io.pytables', 'pandas.core.computation.pytables', 'pandas.io.sas', 'pandas.io.sas.sasreader', 'pandas.io.spss', 'pandas.io.sql', 'pandas.io.stata', 'pandas.util._tester', 'pandas.testing', 'pandas._testing', 'pandas._libs.testing', 'pandas._version', 'prettytable', 'pkg_resources', 'pkgutil', 'plistlib', 'xml.parsers', 'xml.parsers.expat', 'xml.parsers.expat.model', 'xml.parsers.expat.errors', 'pkg_resources.extern', 'pkg_resources._vendor', 'pkg_resources._vendor.appdirs', 'pkg_resources.extern.appdirs', 'pkg_resources._vendor.packaging', 'pkg_resources._vendor.packaging.__about__', 'pkg_resources.extern.packaging', 'pkg_resources.extern.packaging.version', 'pkg_resources.extern.packaging._structures', 'pkg_resources.extern.packaging._typing', 'pkg_resources.extern.packaging.specifiers', 'pkg_resources.extern.packaging._compat', 'pkg_resources.extern.packaging.utils', 'pkg_resources.extern.packaging.requirements', 'pkg_resources._vendor.pyparsing', 'pkg_resources.extern.pyparsing', 'pkg_resources.extern.packaging.markers', 'prettytable.prettytable', 'wcwidth', 'wcwidth.wcwidth', 'wcwidth.table_wide', 'wcwidth.table_zero', 'wcwidth.unicode_versions', 'autogluon', 'autogluon.version', 'autogluon.utils', 'autogluon.utils.files', 'requests', 'chardet', 'chardet.compat', 'chardet.universaldetector', 'chardet.charsetgroupprober', 'chardet.enums', 'chardet.charsetprober', 'chardet.escprober', 'chardet.codingstatemachine', 'chardet.escsm', 'chardet.latin1prober', 'chardet.mbcsgroupprober', 'chardet.utf8prober', 'chardet.mbcssm', 'chardet.sjisprober', 'chardet.mbcharsetprober', 'chardet.chardistribution', 'chardet.euctwfreq', 'chardet.euckrfreq', 'chardet.gb2312freq', 'chardet.big5freq', 'chardet.jisfreq', 'chardet.jpcntx', 'chardet.eucjpprober', 'chardet.gb2312prober', 'chardet.euckrprober', 'chardet.cp949prober', 'chardet.big5prober', 'chardet.euctwprober', 'chardet.sbcsgroupprober', 'chardet.sbcharsetprober', 'chardet.langcyrillicmodel', 'chardet.langgreekmodel', 'chardet.langbulgarianmodel', 'chardet.langthaimodel', 'chardet.langhebrewmodel', 'chardet.hebrewprober', 'chardet.langturkishmodel', 'chardet.version', 'requests.exceptions', 'requests.__version__', 'requests.utils', 'requests.certs', 'requests._internal_utils', 'requests.compat', 'http.cookiejar', 'http.cookies', 'requests.cookies', 'requests.structures', 'requests.packages', 'requests.packages.urllib3', 'requests.packages.urllib3.connectionpool', 'requests.packages.urllib3.exceptions', 'requests.packages.urllib3.packages', 'requests.packages.urllib3.packages.ssl_match_hostname', 'requests.packages.urllib3.packages.six', 'requests.packages.urllib3.packages.six.moves', 'requests.packages.urllib3.packages.six.moves.http_client', 'requests.packages.urllib3.connection', 'requests.packages.urllib3.util', 'requests.packages.urllib3.util.connection', 'requests.packages.urllib3.util.wait', 'requests.packages.urllib3.contrib', 'requests.packages.urllib3.contrib._appengine_environ', 'requests.packages.urllib3.util.request', 'requests.packages.urllib3.util.response', 'requests.packages.urllib3.util.ssl_', 'requests.packages.urllib3.util.url', 'requests.packages.urllib3.util.timeout', 'requests.packages.urllib3.util.retry', 'requests.packages.urllib3._collections', 'requests.packages.urllib3.request', 'requests.packages.urllib3.filepost', 'requests.packages.urllib3.fields', 'requests.packages.urllib3.packages.six.moves.urllib', 'requests.packages.urllib3.packages.six.moves.urllib.parse', 'requests.packages.urllib3.response', 'requests.packages.urllib3.util.queue', 'requests.packages.urllib3.poolmanager', 'requests.packages.urllib3._version', 'idna', 'idna.package_data', 'idna.core', 'idna.idnadata', 'idna.intranges', 'requests.packages.idna', 'requests.packages.idna.package_data', 'requests.packages.idna.core', 'requests.packages.idna.idnadata', 'requests.packages.idna.intranges', 'requests.packages.chardet', 'requests.packages.chardet.compat', 'requests.packages.chardet.universaldetector', 'requests.packages.chardet.charsetgroupprober', 'requests.packages.chardet.enums', 'requests.packages.chardet.charsetprober', 'requests.packages.chardet.escprober', 'requests.packages.chardet.codingstatemachine', 'requests.packages.chardet.escsm', 'requests.packages.chardet.latin1prober', 'requests.packages.chardet.mbcsgroupprober', 'requests.packages.chardet.utf8prober', 'requests.packages.chardet.mbcssm', 'requests.packages.chardet.sjisprober', 'requests.packages.chardet.mbcharsetprober', 'requests.packages.chardet.chardistribution', 'requests.packages.chardet.euctwfreq', 'requests.packages.chardet.euckrfreq', 'requests.packages.chardet.gb2312freq', 'requests.packages.chardet.big5freq', 'requests.packages.chardet.jisfreq', 'requests.packages.chardet.jpcntx', 'requests.packages.chardet.eucjpprober', 'requests.packages.chardet.gb2312prober', 'requests.packages.chardet.euckrprober', 'requests.packages.chardet.cp949prober', 'requests.packages.chardet.big5prober', 'requests.packages.chardet.euctwprober', 'requests.packages.chardet.sbcsgroupprober', 'requests.packages.chardet.sbcharsetprober', 'requests.packages.chardet.langcyrillicmodel', 'requests.packages.chardet.langgreekmodel', 'requests.packages.chardet.langbulgarianmodel', 'requests.packages.chardet.langthaimodel', 'requests.packages.chardet.langhebrewmodel', 'requests.packages.chardet.hebrewprober', 'requests.packages.chardet.langturkishmodel', 'requests.packages.chardet.version', 'requests.models', 'encodings.idna', 'stringprep', 'requests.hooks', 'requests.auth', 'requests.status_codes', 'requests.api', 'requests.sessions', 'requests.adapters', 'autogluon.utils.tqdm', 'autogluon.utils.miscs', 'tqdm', 'tqdm.std', 'tqdm.utils', 'tqdm._monitor', 'tqdm.gui', 'tqdm._tqdm_pandas', 'tqdm.cli', 'tqdm._version', 'resource', 'autogluon.utils.plots', 'autogluon.utils.dataset', 'mxnet', 'mxnet.context', 'mxnet.base', 'mxnet.libinfo', 'mxnet.engine', 'mxnet.util', 'mxnet.library', 'mxnet.contrib', 'mxnet.contrib.symbol', 'mxnet.contrib.ndarray', 'mxnet.contrib.autograd', 'array', 'mxnet.ndarray', 'mxnet.ndarray._internal', 'mxnet._cy3', 'mxnet._ctypes', 'mxnet._ctypes.ndarray', 'mxnet.ndarray.contrib', 'mxnet.random', 'mxnet.ndarray.random', 'mxnet.ndarray.ndarray', 'mxnet.runtime', 'mxnet.ndarray.op', 'mxnet.ndarray.linalg', 'mxnet.ndarray.sparse', 'scipy', 'scipy._lib', 'scipy._lib._testutils', 'scipy._lib.deprecation', 'scipy.__config__', 'scipy.version', 'scipy._distributor_init', 'scipy._lib._pep440', 'scipy._lib._ccallback', 'scipy._lib._ccallback_c', 'scipy.fft', 'scipy.fft._basic', 'scipy._lib.uarray', 'scipy._lib._uarray', 'scipy._lib._uarray._backend', 'scipy._lib._uarray._uarray', 'scipy.fft._realtransforms', 'scipy.fft._helper', 'scipy.fft._pocketfft', 'scipy.fft._pocketfft.basic', 'scipy.fft._pocketfft.pypocketfft', 'scipy.fft._pocketfft.helper', 'scipy.fft._pocketfft.realtransforms', 'scipy.fft._backend', 'scipy.sparse', 'scipy.sparse.base', 'scipy.sparse.sputils', 'scipy._lib._util', 'multiprocessing', 'multiprocessing.context', 'multiprocessing.process', 'multiprocessing.reduction', '__mp_main__', 'scipy.sparse.csr', 'scipy.sparse._sparsetools', 'scipy.sparse.compressed', 'scipy.sparse.data', 'scipy.sparse.dia', 'scipy.sparse._index', 'scipy.sparse.csc', 'scipy.sparse.lil', 'scipy.sparse._csparsetools', 'scipy.sparse.dok', 'scipy.sparse.coo', 'scipy.sparse.bsr', 'scipy.sparse.construct', 'scipy.sparse.extract', 'scipy.sparse._matrix_io', 'scipy.sparse.csgraph', 'scipy.sparse.csgraph._laplacian', 'scipy.sparse.csgraph._shortest_path', '_cython_0_29_18', 'scipy.sparse.csgraph._validation', 'scipy.sparse.csgraph._tools', 'scipy.sparse.csgraph._traversal', 'scipy.sparse.csgraph._min_spanning_tree', 'scipy.sparse.csgraph._flow', 'scipy.sparse.csgraph._matching', 'scipy.sparse.csgraph._reordering', 'mxnet.ndarray.utils', 'mxnet.ndarray.image', 'mxnet.ndarray.numpy', 'mxnet.ndarray.numpy.random', 'mxnet.ndarray.numpy._internal', 'mxnet.ndarray.numpy.linalg', 'mxnet.ndarray.numpy._op', 'mxnet.ndarray.numpy._register', 'mxnet.ndarray.register', 'mxnet.ndarray_doc', 'mxnet._numpy_op_doc', 'mxnet.ndarray.numpy_extension', 'mxnet.ndarray.numpy_extension._op', 'mxnet.ndarray.numpy_extension.image', 'mxnet.ndarray.numpy_extension._register', 'mxnet.contrib.tensorboard', 'mxnet.contrib.text', 'mxnet.contrib.text.utils', 'mxnet.contrib.text.vocab', 'mxnet.contrib.text._constants', 'mxnet.contrib.text.embedding', 'tarfile', 'mxnet.registry', 'mxnet.numpy', 'mxnet.numpy.random', 'mxnet.numpy.linalg', 'mxnet.numpy.multiarray', 'mxnet.numpy._op', 'mxnet.numpy._register', 'mxnet.numpy.utils', 'mxnet.numpy.function_base', 'mxnet.numpy.stride_tricks', 'mxnet.numpy.io', 'mxnet.numpy.arrayprint', 'mxnet.numpy_extension', 'mxnet.numpy_extension._op', 'mxnet.numpy_extension.image', 'mxnet.image', 'mxnet.image.image', 'mxnet.io', 'mxnet.io.io', 'mxnet.io.utils', 'h5py', 'h5py._errors', 'h5py._hl', 'h5py._hl.compat', 'h5py.version', 'h5py.h5', '_cython_0_29_13', 'h5py.defs', 'h5py._objects', 'h5py._conv', 'h5py.h5r', 'h5py.h5t', 'h5py.utils', 'h5py.h5py_warnings', 'h5py.h5z', 'h5py.h5a', 'h5py.h5s', 'h5py.h5p', 'h5py.h5ac', 'h5py._proxy', 'h5py.h5d', 'h5py.h5ds', 'h5py.h5f', 'h5py.h5g', 'h5py.h5i', 'h5py.h5fd', 'h5py.h5pl', 'h5py._hl.filters', 'h5py._hl.base', 'h5py._hl.files', 'h5py._hl.group', 'h5py.h5o', 'h5py.h5l', 'h5py._hl.dataset', 'h5py._hl.selections', 'h5py._hl.selections2', 'h5py._hl.datatype', 'h5py._hl.vds', 'h5py._hl.attrs', 'mxnet.recordio', 'mxnet.image.detection', 'mxnet.numpy_extension._register', 'mxnet.numpy_extension.utils', 'mxnet.numpy_extension.random', 'mxnet.contrib.onnx', 'mxnet.contrib.onnx.onnx2mx', 'mxnet.contrib.onnx.onnx2mx.import_model', 'mxnet.contrib.onnx.onnx2mx.import_onnx', 'mxnet.symbol', 'mxnet.symbol._internal', 'mxnet._ctypes.symbol', 'mxnet.attribute', 'mxnet.name', 'mxnet.symbol.gen__internal', 'mxnet.symbol.contrib', 'mxnet.symbol.random', 'mxnet.symbol.symbol', 'mxnet.executor', 'mxnet.executor_manager', 'mxnet.symbol.op', 'mxnet.symbol.gen_op', 'mxnet.symbol.gen_contrib', 'mxnet.symbol.linalg', 'mxnet.symbol.gen_linalg', 'mxnet.symbol.sparse', 'mxnet.symbol.gen_sparse', 'mxnet.symbol.image', 'mxnet.symbol.gen_image', 'mxnet.symbol.numpy', 'mxnet.symbol.numpy.random', 'mxnet.symbol.numpy._internal', 'mxnet.symbol.numpy.linalg', 'mxnet.symbol.numpy._symbol', 'mxnet.symbol.numpy._op', 'mxnet.symbol.numpy._register', 'mxnet.symbol.register', 'mxnet.symbol_doc', 'mxnet.symbol.numpy_extension', 'mxnet.symbol.numpy_extension._op', 'mxnet.symbol.numpy_extension.image', 'mxnet.symbol.numpy_extension._register', 'mxnet.contrib.onnx.onnx2mx._import_helper', 'mxnet.contrib.onnx.onnx2mx._op_translations', 'mxnet.contrib.onnx.onnx2mx._translation_utils', 'mxnet.module', 'mxnet.module.base_module', 'mxnet.metric', 'mxnet.model', 'mxnet.optimizer', 'mxnet.optimizer.optimizer', 'mxnet.optimizer.contrib', 'mxnet.kvstore', 'mxnet.profiler', 'mxnet.initializer', 'sklearn', 'sklearn._config', 'sklearn._distributor_init', 'sklearn.__check_build', 'sklearn.__check_build._check_build', 'sklearn.base', 'sklearn.utils', 'timeit', 'sklearn.utils.murmurhash', 'sklearn.utils.class_weight', 'sklearn.utils.validation', 'joblib', 'joblib.memory', 'pydoc', 'joblib.hashing', 'joblib.func_inspect', 'joblib.logger', 'joblib.disk', 'multiprocessing.util', 'joblib._store_backends', 'joblib.backports', 'joblib.numpy_pickle', 'joblib.compressor', 'joblib.numpy_pickle_utils', 'joblib.numpy_pickle_compat', 'joblib.parallel', 'joblib._multiprocessing_helpers', '_multiprocessing', 'joblib._parallel_backends', 'joblib.my_exceptions', 'joblib._deprecated_my_exceptions', 'joblib.pool', 'joblib._memmapping_reducer', 'joblib.externals', 'joblib.externals.loky', 'joblib.externals.loky._base', 'concurrent', 'concurrent.futures', 'concurrent.futures._base', 'concurrent.futures.process', 'multiprocessing.connection', 'concurrent.futures.thread', 'joblib.externals.loky.backend', 'joblib.externals.loky.backend.context', 'joblib.externals.loky.backend.process', 'joblib.externals.loky.backend.compat', 'joblib.externals.loky.backend.compat_posix', 'multiprocessing.synchronize', 'joblib.externals.loky.backend.reduction', 'joblib.externals.loky.backend._posix_reduction', 'joblib.externals.cloudpickle', 'joblib.externals.cloudpickle.cloudpickle', 'joblib.externals.cloudpickle.compat', 'typing_extensions', 'joblib.externals.cloudpickle.cloudpickle_fast', 'joblib.externals.loky.reusable_executor', 'joblib.externals.loky.process_executor', 'joblib.externals.loky.backend.queues', 'multiprocessing.queues', 'joblib.externals.loky.backend.utils', 'psutil', 'psutil._common', 'psutil._compat', 'psutil._pslinux', 'glob', 'psutil._psposix', 'psutil._psutil_linux', 'psutil._psutil_posix', 'joblib.externals.loky.cloudpickle_wrapper', 'joblib.externals.loky.backend.resource_tracker', 'joblib.externals.loky.backend.spawn', 'runpy', 'multiprocessing.pool', 'joblib.executor', 'sklearn.utils.fixes', 'scipy.stats', 'scipy.stats.stats', 'scipy.spatial', 'scipy.spatial.kdtree', 'scipy.spatial.ckdtree', 'scipy.spatial.qhull', 'scipy._lib.messagestream', 'scipy.spatial._spherical_voronoi', 'scipy.spatial._voronoi', 'scipy.spatial._plotutils', 'scipy._lib.decorator', 'scipy.spatial._procrustes', 'scipy.linalg', 'scipy.linalg.misc', 'scipy.linalg.blas', 'scipy.linalg._fblas', 'scipy.linalg.lapack', 'scipy.linalg._flapack', 'scipy.linalg.basic', 'scipy.linalg.flinalg', 'scipy.linalg._flinalg', 'scipy.linalg.decomp', 'scipy.linalg.decomp_svd', 'scipy.linalg._solve_toeplitz', 'scipy.linalg.decomp_lu', 'scipy.linalg._decomp_ldl', 'scipy.linalg.decomp_cholesky', 'scipy.linalg.decomp_qr', 'scipy.linalg._decomp_qz', 'scipy.linalg.decomp_schur', 'scipy.linalg._decomp_polar', 'scipy.linalg.matfuncs', 'scipy.linalg.special_matrices', 'scipy.linalg._expm_frechet', 'scipy.linalg._matfuncs_sqrtm', 'scipy.linalg._solvers', 'scipy.linalg._procrustes', 'scipy.linalg._decomp_update', 'scipy.linalg.cython_blas', 'scipy.linalg.cython_lapack', 'scipy.linalg._sketches', 'scipy.linalg._decomp_cossin', 'scipy.spatial._geometric_slerp', 'scipy.spatial.distance', 'scipy.spatial._distance_wrap', 'scipy.spatial._hausdorff', 'scipy.special', 'scipy.special.sf_error', 'scipy.special._ufuncs', 'scipy.special._ufuncs_cxx', 'scipy.special._basic', 'scipy.special.specfun', 'scipy.special.orthogonal', 'scipy.special._comb', 'scipy.special._logsumexp', 'scipy.special.spfun_stats', 'scipy.special._ellip_harm', 'scipy.special._ellip_harm_2', 'scipy.special._lambertw', 'scipy.special._spherical_bessel', 'scipy.spatial.transform', 'scipy.spatial.transform.rotation', 'scipy.spatial.transform._rotation_groups', 'scipy.constants', 'scipy.constants.codata', 'scipy.constants.constants', 'scipy.spatial.transform._rotation_spline', 'scipy.ndimage', 'scipy.ndimage.filters', 'scipy.ndimage._ni_support', 'scipy.ndimage._nd_image', 'scipy.ndimage._ni_docstrings', 'scipy._lib.doccer', 'scipy.ndimage.fourier', 'scipy.ndimage.interpolation', 'scipy.ndimage.measurements', 'scipy.ndimage._ni_label', '_ni_label', 'scipy.ndimage.morphology', 'scipy.stats.distributions', 'scipy.stats._distn_infrastructure', 'scipy.stats._distr_params', 'scipy.optimize', 'scipy.optimize.optimize', 'scipy.optimize.linesearch', 'scipy.optimize.minpack2', 'scipy.optimize._numdiff', 'scipy.sparse.linalg', 'scipy.sparse.linalg.isolve', 'scipy.sparse.linalg.isolve.iterative', 'scipy.sparse.linalg.isolve._iterative', 'scipy.sparse.linalg.interface', 'scipy.sparse.linalg.isolve.utils', 'scipy._lib._threadsafety', 'scipy.sparse.linalg.isolve.minres', 'scipy.sparse.linalg.isolve.lgmres', 'scipy.sparse.linalg.isolve._gcrotmk', 'scipy.sparse.linalg.isolve.lsqr', 'scipy.sparse.linalg.isolve.lsmr', 'scipy.sparse.linalg.dsolve', 'scipy.sparse.linalg.dsolve.linsolve', 'scipy.sparse.linalg.dsolve._superlu', 'scipy.sparse.linalg.dsolve._add_newdocs', 'scipy.sparse.linalg.eigen', 'scipy.sparse.linalg.eigen.arpack', 'scipy.sparse.linalg.eigen.arpack.arpack', 'scipy.sparse.linalg.eigen.arpack._arpack', 'scipy.sparse.linalg.eigen.lobpcg', 'scipy.sparse.linalg.eigen.lobpcg.lobpcg', 'scipy.sparse.linalg.matfuncs', 'scipy.sparse.linalg._expm_multiply', 'scipy.sparse.linalg._onenormest', 'scipy.sparse.linalg._norm', 'scipy.optimize._group_columns', 'scipy.optimize._differentiable_functions', 'scipy.optimize._hessian_update_strategy', 'scipy.optimize._minimize', 'scipy.optimize._trustregion_dogleg', 'scipy.optimize._trustregion', 'scipy.optimize._trustregion_ncg', 'scipy.optimize._trustregion_krylov', 'scipy.optimize._trlib', 'scipy.optimize._trlib._trlib', 'scipy.optimize._trustregion_exact', 'scipy.optimize._trustregion_constr', 'scipy.optimize._trustregion_constr.minimize_trustregion_constr', 'scipy.optimize._constraints', 'scipy.optimize._trustregion_constr.equality_constrained_sqp', 'scipy.optimize._trustregion_constr.projections', 'scipy.optimize._trustregion_constr.qp_subproblem', 'scipy.optimize._trustregion_constr.canonical_constraint', 'scipy.optimize._trustregion_constr.tr_interior_point', 'scipy.optimize._trustregion_constr.report', 'scipy.optimize.lbfgsb', 'scipy.optimize._lbfgsb', 'scipy.optimize.tnc', 'scipy.optimize.moduleTNC', 'scipy.optimize.cobyla', 'scipy.optimize._cobyla', 'scipy.optimize.slsqp', 'scipy.optimize._slsqp', 'scipy.optimize._root', 'scipy.optimize.minpack', 'scipy.optimize._minpack', 'scipy.optimize._lsq', 'scipy.optimize._lsq.least_squares', 'scipy.optimize._lsq.trf', 'scipy.optimize._lsq.common', 'scipy.optimize._lsq.dogbox', 'scipy.optimize._lsq.lsq_linear', 'scipy.optimize._lsq.trf_linear', 'scipy.optimize._lsq.givens_elimination', 'scipy.optimize._lsq.bvls', 'scipy.optimize._spectral', 'scipy.optimize.nonlin', 'scipy.optimize._root_scalar', 'scipy.optimize.zeros', 'scipy.optimize._zeros', 'scipy.optimize._nnls', 'scipy.optimize.__nnls', 'scipy.optimize._basinhopping', 'scipy.optimize._linprog', 'scipy.optimize._linprog_ip', 'scipy.optimize._linprog_util', 'scipy.optimize._remove_redundancy', 'scipy.optimize._linprog_simplex', 'scipy.optimize._linprog_rs', 'scipy.optimize._bglu_dense', 'scipy.optimize._lsap', 'scipy.optimize._lsap_module', 'scipy.optimize._differentialevolution', 'scipy.optimize._shgo', 'scipy.optimize._shgo_lib', 'scipy.optimize._shgo_lib.sobol_seq', 'scipy.optimize._shgo_lib.triangulation', 'scipy.optimize._dual_annealing', 'scipy.integrate', 'scipy.integrate._quadrature', 'scipy.integrate.odepack', 'scipy.integrate._odepack', 'scipy.integrate.quadpack', 'scipy.integrate._quadpack', 'scipy.integrate._ode', 'scipy.integrate.vode', 'scipy.integrate._dop', 'scipy.integrate.lsoda', 'scipy.integrate._bvp', 'scipy.integrate._ivp', 'scipy.integrate._ivp.ivp', 'scipy.integrate._ivp.bdf', 'scipy.integrate._ivp.common', 'scipy.integrate._ivp.base', 'scipy.integrate._ivp.radau', 'scipy.integrate._ivp.rk', 'scipy.integrate._ivp.dop853_coefficients', 'scipy.integrate._ivp.lsoda', 'scipy.integrate._quad_vec', 'scipy.misc', 'scipy.misc.doccer', 'scipy.misc.common', 'scipy.stats._constants', 'scipy.stats._continuous_distns', 'scipy.interpolate', 'scipy.interpolate.interpolate', 'scipy.interpolate.fitpack', 'scipy.interpolate._fitpack_impl', 'scipy.interpolate._fitpack', 'scipy.interpolate.dfitpack', 'scipy.interpolate._bsplines', 'scipy.interpolate._bspl', 'scipy.interpolate.polyint', 'scipy.interpolate._ppoly', 'scipy.interpolate.fitpack2', 'scipy.interpolate.interpnd', 'scipy.interpolate.rbf', 'scipy.interpolate._cubic', 'scipy.interpolate.ndgriddata', 'scipy.interpolate._pade', 'scipy.stats._stats', 'scipy.special.cython_special', 'scipy.stats._rvs_sampling', 'scipy.stats._tukeylambda_stats', 'scipy.stats._ksstats', 'scipy.stats._discrete_distns', 'scipy.stats.mstats_basic', 'scipy.stats._stats_mstats_common', 'scipy.stats._hypotests', 'scipy.stats._wilcoxon_data', 'scipy.stats.morestats', 'scipy.stats.statlib', 'scipy.stats.contingency', 'scipy.stats._binned_statistic', 'scipy.stats.kde', 'scipy.stats.mvn', 'scipy.stats.mstats', 'scipy.stats.mstats_extras', 'scipy.stats._multivariate', 'sklearn.utils.deprecation', 'sklearn.exceptions', 'sklearn.utils._joblib', 'sklearn.utils._estimator_html_repr', 'sklearn.utils._show_versions', 'sklearn.utils._openmp_helpers', 'mxnet.callback', 'mxnet.module.module', 'mxnet.module.executor_group', 'mxnet.module.bucketing_module', 'mxnet.module.sequential_module', 'mxnet.module.python_module', 'mxnet.contrib.onnx.onnx2mx.import_to_gluon', 'mxnet.contrib.onnx.mx2onnx', 'mxnet.contrib.onnx.mx2onnx.export_model', 'mxnet.contrib.onnx.mx2onnx.export_onnx', 'mxnet.contrib.onnx.mx2onnx._export_helper', 'mxnet.contrib.onnx.mx2onnx._op_translations', 'onnx', 'onnx.onnx_cpp2py_export.defs', 'onnx.onnx_cpp2py_export.checker', 'onnx.onnx_cpp2py_export.optimizer', 'onnx.onnx_cpp2py_export.version_converter', 'onnx.onnx_cpp2py_export.shape_inference', 'onnx.onnx_cpp2py_export', 'onnx.external_data_helper', 'onnx.onnx_pb', 'onnx.onnx_ONNX_REL_1_6_ml_pb2', 'google.protobuf', 'google.protobuf.internal', 'google.protobuf.internal.enum_type_wrapper', 'google.protobuf.descriptor', 'google.protobuf.internal.api_implementation', 'google.protobuf.internal._api_implementation', 'google.protobuf.pyext', 'google.protobuf.internal.containers', 'google.protobuf.message', 'google.protobuf.pyext._message', 'google.protobuf.reflection', 'google.protobuf.message_factory', 'google.protobuf.descriptor_pool', 'google.protobuf.descriptor_database', 'google.protobuf.text_encoding', 'google.protobuf.pyext.cpp_message', 'google.protobuf.symbol_database', 'google.protobuf.descriptor_pb2', 'google.protobuf.internal.well_known_types', 'onnx.onnx_operators_pb', 'onnx.onnx_operators_ONNX_REL_1_6_ml_pb2', 'onnx.version', 'onnx.helper', 'onnx.defs', 'onnx.mapping', 'onnx.checker', 'mxnet.contrib.io', 'mxnet.contrib.quantization', 'mxnet.contrib.tensorrt', 'mxnet.operator', 'mxnet.notebook', 'mxnet.visualization', 'mxnet.lr_scheduler', 'mxnet.rtc', 'mxnet.monitor', 'mxnet.torch', 'mxnet.log', 'mxnet.test_utils', 'mxnet.rnn', 'mxnet.rnn.rnn_cell', 'mxnet.rnn.rnn', 'mxnet.rnn.io', 'mxnet.gluon', 'mxnet.gluon.parameter', 'mxnet.autograd', 'mxnet.gluon.utils', 'mxnet.gluon.block', 'mxnet.gluon.nn', 'mxnet.gluon.nn.basic_layers', 'mxnet.gluon.nn.activations', 'mxnet.gluon.nn.conv_layers', 'mxnet.gluon.rnn', 'mxnet.gluon.rnn.rnn_cell', 'mxnet.gluon.rnn.rnn_layer', 'mxnet.gluon.trainer', 'mxnet.gluon.loss', 'mxnet.gluon.data', 'mxnet.gluon.data.dataset', 'mxnet.gluon.data.sampler', 'mxnet.gluon.data.dataloader', 'multiprocessing.resource_sharer', 'mxnet.gluon.data.vision', 'mxnet.gluon.data.vision.datasets', 'mxnet.gluon.data.vision.transforms', 'mxnet.gluon.model_zoo', 'mxnet.gluon.model_zoo.model_store', 'mxnet.gluon.model_zoo.vision', 'mxnet.gluon.model_zoo.vision.alexnet', 'mxnet.gluon.model_zoo.vision.densenet', 'mxnet.gluon.contrib', 'mxnet.gluon.contrib.nn', 'mxnet.gluon.contrib.nn.basic_layers', 'mxnet.gluon.contrib.rnn', 'mxnet.gluon.contrib.rnn.conv_rnn_cell', 'mxnet.gluon.contrib.rnn.rnn_cell', 'mxnet.gluon.contrib.cnn', 'mxnet.gluon.contrib.cnn.conv_layers', 'mxnet.gluon.contrib.data', 'mxnet.gluon.contrib.data.text', 'mxnet.gluon.contrib.data._constants', 'mxnet.gluon.contrib.data.sampler', 'mxnet.gluon.contrib.estimator', 'mxnet.gluon.contrib.estimator.estimator', 'mxnet.gluon.contrib.estimator.event_handler', 'mxnet.gluon.contrib.estimator.utils', 'mxnet.gluon.contrib.estimator.batch_processor', 'mxnet.gluon.model_zoo.vision.inception', 'mxnet.gluon.model_zoo.vision.resnet', 'mxnet.gluon.model_zoo.vision.squeezenet', 'mxnet.gluon.model_zoo.vision.vgg', 'mxnet.gluon.model_zoo.vision.mobilenet', 'mxnet.tvmop', 'mxnet.kvstore_server', 'mxnet.numpy_op_signature', 'mxnet.numpy_dispatch_protocol', 'autogluon.utils.mxutils', 'autogluon.utils.deprecate', 'autogluon.utils.try_import', 'autogluon.utils.learning_rate', 'gluoncv', 'gluoncv.data', 'gluoncv.data.transforms', 'gluoncv.data.transforms.bbox', 'gluoncv.data.transforms.image', 'gluoncv.data.transforms.experimental', 'gluoncv.data.transforms.experimental.bbox', 'gluoncv.utils', 'gluoncv.utils.bbox', 'gluoncv.utils.viz', 'gluoncv.utils.viz.image', 'gluoncv.utils.viz.bbox', 'gluoncv.utils.viz.keypoints', 'gluoncv.utils.viz.mask', 'gluoncv.data.transforms.mask', 'PIL', 'PIL._version', 'PIL.Image', 'PIL.ImageMode', 'PIL.TiffTags', 'PIL._binary', 'PIL._util', 'PIL._imaging', 'cffi', 'cffi.api', 'cffi.lock', 'cffi.error', 'cffi.model', 'gluoncv.data.mscoco', 'gluoncv.data.mscoco.utils', 'gluoncv.utils.filesystem', 'gluoncv.utils.viz.segmentation', 'gluoncv.utils.viz.network', 'graphviz', 'graphviz.dot', 'graphviz.lang', 'graphviz._compat', 'graphviz.tools', 'graphviz.files', 'graphviz.backend', 'gluoncv.utils.random', 'gluoncv.utils.metrics', 'gluoncv.utils.metrics.coco_detection', 'gluoncv.utils.metrics.coco_keypoints', 'gluoncv.utils.metrics.voc_detection', 'gluoncv.utils.metrics.segmentation', 'gluoncv.utils.metrics.heatmap_accuracy', 'gluoncv.data.transforms.pose', 'gluoncv.utils.parallel', 'gluoncv.utils.download', 'gluoncv.utils.block', 'gluoncv.utils.lr_scheduler', 'gluoncv.utils.plot_history', 'gluoncv.utils.export_helper', 'gluoncv.utils.sync_loader_helper', 'gluoncv.utils.version', 'gluoncv.data.transforms.experimental.image', 'gluoncv.data.transforms.presets', 'gluoncv.data.transforms.presets.ssd', 'gluoncv.data.transforms.presets.rcnn', 'gluoncv.data.transforms.presets.yolo', 'gluoncv.data.transforms.presets.center_net', 'gluoncv.data.transforms.presets.imagenet', 'gluoncv.data.transforms.presets.simple_pose', 'gluoncv.data.transforms.presets.segmentation', 'gluoncv.data.transforms.block', 'gluoncv.data.transforms.video', 'gluoncv.data.batchify', 'gluoncv.data.imagenet', 'gluoncv.data.imagenet.classification', 'gluoncv.data.dataloader', 'gluoncv.data.pascal_voc', 'gluoncv.data.pascal_voc.detection', 'gluoncv.data.base', 'gluoncv.data.mscoco.detection', 'gluoncv.data.mscoco.instance', 'gluoncv.data.mscoco.segmentation', 'gluoncv.data.segbase', 'PIL.ImageOps', 'PIL.ImageFilter', 'gluoncv.data.mscoco.keypoints', 'gluoncv.data.cityscapes', 'gluoncv.data.pascal_voc.segmentation', 'gluoncv.data.pascal_aug', 'gluoncv.data.pascal_aug.segmentation', 'scipy.io', 'scipy.io.matlab', 'scipy.io.matlab.mio', 'scipy.io.matlab.miobase', 'scipy.io.matlab.byteordercodes', 'scipy.io.matlab.mio4', 'scipy.io.matlab.mio_utils', 'scipy.io.matlab.mio5', 'scipy.io.matlab.mio5_utils', 'scipy.io.matlab.streams', 'scipy.io.matlab.mio5_params', 'scipy.io.netcdf', 'scipy.io._fortran', 'scipy.io.mmio', 'scipy.io.idl', 'scipy.io.harwell_boeing', 'scipy.io.harwell_boeing.hb', 'scipy.io.harwell_boeing._fortran_format_parser', 'gluoncv.data.ade20k', 'gluoncv.data.ade20k.segmentation', 'gluoncv.data.recordio', 'gluoncv.data.recordio.detection', 'gluoncv.data.lst', 'gluoncv.data.lst.detection', 'gluoncv.data.mixup', 'gluoncv.data.mixup.detection', 'gluoncv.data.ucf101', 'gluoncv.data.ucf101.classification', 'gluoncv.data.kinetics400', 'gluoncv.data.kinetics400.classification', 'gluoncv.data.somethingsomethingv2', 'gluoncv.data.somethingsomethingv2.classification', 'gluoncv.data.hmdb51', 'gluoncv.data.hmdb51.classification', 'gluoncv.data.video_custom', 'gluoncv.data.video_custom.classification', 'gluoncv.data.sampler', 'gluoncv.model_zoo', 'gluoncv.model_zoo.model_zoo', 'gluoncv.model_zoo.alexnet', 'gluoncv.model_zoo.cifarresnet', 'gluoncv.model_zoo.cifarresnext', 'gluoncv.model_zoo.cifarwideresnet', 'gluoncv.model_zoo.deeplabv3', 'gluoncv.model_zoo.segbase', 'gluoncv.model_zoo.resnetv1b', 'gluoncv.model_zoo.fcn', 'gluoncv.model_zoo.deeplabv3b_plus', 'gluoncv.model_zoo.wideresnet', 'gluoncv.model_zoo.densenet', 'gluoncv.model_zoo.dla', 'gluoncv.model_zoo.faster_rcnn', 'gluoncv.model_zoo.faster_rcnn.faster_rcnn', 'gluoncv.model_zoo.faster_rcnn.rcnn_target', 'gluoncv.nn', 'gluoncv.nn.bbox', 'gluoncv.nn.coder', 'gluoncv.nn.feature', 'gluoncv.nn.matcher', 'gluoncv.nn.predictor', 'gluoncv.nn.sampler', 'gluoncv.nn.block', 'gluoncv.nn.gn', 'gluoncv.model_zoo.rcnn', 'gluoncv.model_zoo.rcnn.rcnn', 'gluoncv.model_zoo.rpn', 'gluoncv.model_zoo.rpn.rpn', 'gluoncv.model_zoo.rpn.anchor', 'gluoncv.model_zoo.rpn.proposal', 'gluoncv.model_zoo.rpn.bbox_clip', 'gluoncv.model_zoo.googlenet', 'gluoncv.model_zoo.inception', 'gluoncv.model_zoo.mask_rcnn', 'gluoncv.model_zoo.mask_rcnn.mask_rcnn', 'gluoncv.model_zoo.mask_rcnn.rcnn_target', 'gluoncv.model_zoo.mobilenet', 'gluoncv.model_zoo.mobilenetv3', 'gluoncv.model_zoo.nasnet', 'gluoncv.model_zoo.pruned_resnet', 'gluoncv.model_zoo.pruned_resnet.resnetv1b_pruned', 'gluoncv.model_zoo.pspnet', 'gluoncv.model_zoo.quantized', 'gluoncv.model_zoo.quantized.quantized', 'gluoncv.utils.compress_json', 'gluoncv.model_zoo.residual_attentionnet', 'gluoncv.model_zoo.resnet', 'gluoncv.model_zoo.resnext', 'gluoncv.model_zoo.senet', 'gluoncv.model_zoo.simple_pose', 'gluoncv.model_zoo.simple_pose.simple_pose_resnet', 'gluoncv.model_zoo.simple_pose.mobile_pose', 'gluoncv.model_zoo.squeezenet', 'gluoncv.model_zoo.ssd', 'gluoncv.model_zoo.ssd.ssd', 'gluoncv.model_zoo.ssd.anchor', 'gluoncv.model_zoo.ssd.presets', 'gluoncv.model_zoo.ssd.vgg_atrous', 'gluoncv.model_zoo.vgg', 'gluoncv.model_zoo.xception', 'gluoncv.model_zoo.yolo', 'gluoncv.model_zoo.yolo.darknet', 'gluoncv.model_zoo.yolo.yolo3', 'gluoncv.model_zoo.yolo.yolo_target', 'gluoncv.loss', 'gluoncv.model_zoo.alpha_pose', 'gluoncv.model_zoo.alpha_pose.fast_pose', 'gluoncv.model_zoo.alpha_pose.utils', 'gluoncv.model_zoo.action_recognition', 'gluoncv.model_zoo.action_recognition.actionrec_vgg16', 'gluoncv.model_zoo.action_recognition.actionrec_inceptionv1', 'gluoncv.model_zoo.action_recognition.actionrec_inceptionv3', 'gluoncv.model_zoo.action_recognition.actionrec_resnetv1b', 'gluoncv.model_zoo.action_recognition.i3d_resnet', 'gluoncv.model_zoo.action_recognition.non_local', 'gluoncv.model_zoo.action_recognition.i3d_inceptionv1', 'gluoncv.model_zoo.action_recognition.i3d_inceptionv3', 'gluoncv.model_zoo.action_recognition.slowfast', 'gluoncv.model_zoo.center_net', 'gluoncv.model_zoo.center_net.center_net', 'gluoncv.model_zoo.model_store', 'portalocker', 'portalocker.__about__', 'portalocker.constants', 'fcntl', 'portalocker.exceptions', 'portalocker.portalocker', 'portalocker.utils', 'gluoncv.model_zoo.deeplabv3_plus', 'gluoncv.model_zoo.se_resnet', 'autogluon.utils.edict', 'autogluon.utils.serialization', 'autogluon.utils.dataloader', 'autogluon.utils.sync_remote', 'autogluon.utils.custom_queue', 'autogluon.utils.file_helper', 'autogluon.utils.plot_network', 'matplotlib', 'matplotlib.cbook', 'matplotlib.cbook.deprecation', 'matplotlib.rcsetup', 'matplotlib.animation', 'matplotlib._animation_data', 'matplotlib.fontconfig_pattern', 'pyparsing', 'matplotlib.colors', 'matplotlib.docstring', 'matplotlib._color_data', 'cycler', 'matplotlib._version', 'matplotlib.ft2font', 'kiwisolver']\n",
      "\u001b[36malgo-1-0muwl_1  |\u001b[0m DEBUG:matplotlib:CACHEDIR=/root/.cache/matplotlib\n",
      "\u001b[36malgo-1-0muwl_1  |\u001b[0m INFO:matplotlib.font_manager:Generating new fontManager, this may take some time...\n",
      "\u001b[36malgo-1-0muwl_1  |\u001b[0m DEBUG:matplotlib.font_manager:font search path [PosixPath('/usr/local/lib/python3.6/site-packages/matplotlib/mpl-data/fonts/ttf'), PosixPath('/usr/local/lib/python3.6/site-packages/matplotlib/mpl-data/fonts/afm'), PosixPath('/usr/local/lib/python3.6/site-packages/matplotlib/mpl-data/fonts/pdfcorefonts')]\n",
      "\u001b[36malgo-1-0muwl_1  |\u001b[0m DEBUG:matplotlib.pyplot:Loaded backend agg version unknown.\n",
      "\u001b[36malgo-1-0muwl_1  |\u001b[0m DEBUG:matplotlib.pyplot:Loaded backend agg version unknown.\n",
      "\u001b[36malgo-1-0muwl_1  |\u001b[0m DEBUG:asyncio:Using selector: EpollSelector\n",
      "\u001b[36malgo-1-0muwl_1  |\u001b[0m fit_args:\n",
      "\u001b[36malgo-1-0muwl_1  |\u001b[0m label,  type: <class 'str'>,  value: classes\n",
      "\u001b[36malgo-1-0muwl_1  |\u001b[0m presets,  type: <class 'list'>,  value: ['optimize_for_deployment']\n",
      "\u001b[36malgo-1-0muwl_1  |\u001b[0m Train files: ['train.csv']\n",
      "\u001b[36malgo-1-0muwl_1  |\u001b[0m INFO:autogluon.utils.tabular.ml.learner.default_learner:Beginning AutoGluon training ...\n",
      "\u001b[36malgo-1-0muwl_1  |\u001b[0m INFO:autogluon.utils.tabular.ml.learner.default_learner:AutoGluon will save models to /opt/ml/model/\n",
      "\u001b[36malgo-1-0muwl_1  |\u001b[0m INFO:autogluon.utils.tabular.ml.learner.default_learner:AutoGluon Version:  0.0.14\n",
      "\u001b[36malgo-1-0muwl_1  |\u001b[0m INFO:autogluon.utils.tabular.ml.learner.default_learner:Train Data Rows:    500\n",
      "\u001b[36malgo-1-0muwl_1  |\u001b[0m INFO:autogluon.utils.tabular.ml.learner.default_learner:Train Data Columns: 17\n",
      "\u001b[36malgo-1-0muwl_1  |\u001b[0m INFO:autogluon.utils.tabular.ml.learner.default_learner:Preprocessing data ...\n",
      "\u001b[36malgo-1-0muwl_1  |\u001b[0m Level 25:autogluon.utils.tabular.ml.utils:AutoGluon infers your prediction problem is: 'multiclass' (because dtype of label-column == int, but few unique label-values observed).\n",
      "\u001b[36malgo-1-0muwl_1  |\u001b[0m INFO:autogluon.utils.tabular.ml.utils:\t5 unique label values:  [2, 3, 1, 0, 4]\n",
      "\u001b[36malgo-1-0muwl_1  |\u001b[0m Level 25:autogluon.utils.tabular.ml.utils:\tIf 'multiclass' is not the correct problem_type, please manually specify the problem_type argument in fit() (You may specify problem_type as one of: ['binary', 'multiclass', 'regression'])\n",
      "\u001b[36malgo-1-0muwl_1  |\u001b[0m INFO:autogluon.utils.tabular.ml.learner.default_learner:Train Data Class Count: 5\n",
      "\u001b[36malgo-1-0muwl_1  |\u001b[0m INFO:autogluon.utils.tabular.ml.learner.default_learner:Using Feature Generators to preprocess the data ...\n",
      "\u001b[36malgo-1-0muwl_1  |\u001b[0m INFO:autogluon.utils.tabular.features.generators.abstract:Fitting AutoMLPipelineFeatureGenerator...\n",
      "\u001b[36malgo-1-0muwl_1  |\u001b[0m INFO:autogluon.utils.tabular.features.generators.abstract:\tAvailable Memory:                    56735.48 MB\n",
      "\u001b[36malgo-1-0muwl_1  |\u001b[0m INFO:autogluon.utils.tabular.features.generators.abstract:\tTrain Data (Original)  Memory Usage: 0.31 MB (0.0% of available memory)\n",
      "\u001b[36malgo-1-0muwl_1  |\u001b[0m INFO:autogluon.utils.tabular.features.generators.abstract:\tInferring data type of each feature based on column values. Set feature_metadata_in to manually specify special dtypes of the features.\n",
      "\u001b[36malgo-1-0muwl_1  |\u001b[0m INFO:autogluon.utils.tabular.features.generators.abstract:\tStage 1 Generators:\n",
      "\u001b[36malgo-1-0muwl_1  |\u001b[0m INFO:autogluon.utils.tabular.features.generators.abstract:\t\tFitting AsTypeFeatureGenerator...\n",
      "\u001b[36malgo-1-0muwl_1  |\u001b[0m INFO:autogluon.utils.tabular.features.generators.abstract:\tStage 2 Generators:\n",
      "\u001b[36malgo-1-0muwl_1  |\u001b[0m INFO:autogluon.utils.tabular.features.generators.abstract:\t\tFitting FillNaFeatureGenerator...\n",
      "\u001b[36malgo-1-0muwl_1  |\u001b[0m INFO:autogluon.utils.tabular.features.generators.abstract:\tStage 3 Generators:\n",
      "\u001b[36malgo-1-0muwl_1  |\u001b[0m INFO:autogluon.utils.tabular.features.generators.abstract:\t\tFitting IdentityFeatureGenerator...\n",
      "\u001b[36malgo-1-0muwl_1  |\u001b[0m INFO:autogluon.utils.tabular.features.generators.abstract:\t\tFitting CategoryFeatureGenerator...\n",
      "\u001b[36malgo-1-0muwl_1  |\u001b[0m INFO:autogluon.utils.tabular.features.generators.abstract:\t\t\tFitting CategoryMemoryMinimizeFeatureGenerator...\n",
      "\u001b[36malgo-1-0muwl_1  |\u001b[0m INFO:autogluon.utils.tabular.features.generators.abstract:\tStage 4 Generators:\n",
      "\u001b[36malgo-1-0muwl_1  |\u001b[0m INFO:autogluon.utils.tabular.features.generators.abstract:\t\tFitting DropUniqueFeatureGenerator...\n",
      "\u001b[36malgo-1-0muwl_1  |\u001b[0m INFO:autogluon.utils.tabular.features.generators.abstract:\tUnused Original Features (Count: 1): ['customer_seller_zip_code_prefix']\n",
      "\u001b[36malgo-1-0muwl_1  |\u001b[0m INFO:autogluon.utils.tabular.features.generators.abstract:\t\tThese features were not used to generate any of the output features. Add a feature generator compatible with these features to utilize them.\n",
      "\u001b[36malgo-1-0muwl_1  |\u001b[0m INFO:autogluon.utils.tabular.features.generators.abstract:\t\tFeatures can also be unused if they carry very little information, such as being categorical but having almost entirely unique values or being duplicates of other features.\n",
      "\u001b[36malgo-1-0muwl_1  |\u001b[0m INFO:autogluon.utils.tabular.features.generators.abstract:\t\tThese features do not need to be present at inference time.\n",
      "\u001b[36malgo-1-0muwl_1  |\u001b[0m INFO:autogluon.utils.tabular.features.feature_metadata:\t\t('object', []) : 1 | ['customer_seller_zip_code_prefix']\n",
      "\u001b[36malgo-1-0muwl_1  |\u001b[0m INFO:autogluon.utils.tabular.features.generators.abstract:\tTypes of features in original data (raw dtype, special dtypes):\n",
      "\u001b[36malgo-1-0muwl_1  |\u001b[0m INFO:autogluon.utils.tabular.features.feature_metadata:\t\t('float', [])  : 4 | ['price', 'freight_value', 'product_weight_g', 'product_volume']\n",
      "\u001b[36malgo-1-0muwl_1  |\u001b[0m INFO:autogluon.utils.tabular.features.feature_metadata:\t\t('int', [])    : 5 | ['customer_zip_code_prefix', 'seller_zip_code_prefix', 'order_weekday', 'order_day', 'order_month']\n",
      "\u001b[36malgo-1-0muwl_1  |\u001b[0m INFO:autogluon.utils.tabular.features.feature_metadata:\t\t('object', []) : 7 | ['customer_city', 'customer_state', 'product_category_name_english', 'seller_city', 'seller_state', ...]\n",
      "\u001b[36malgo-1-0muwl_1  |\u001b[0m INFO:autogluon.utils.tabular.features.generators.abstract:\tTypes of features in processed data (raw dtype, special dtypes):\n",
      "\u001b[36malgo-1-0muwl_1  |\u001b[0m INFO:autogluon.utils.tabular.features.feature_metadata:\t\t('category', []) : 7 | ['customer_city', 'customer_state', 'product_category_name_english', 'seller_city', 'seller_state', ...]\n",
      "\u001b[36malgo-1-0muwl_1  |\u001b[0m INFO:autogluon.utils.tabular.features.feature_metadata:\t\t('float', [])    : 4 | ['price', 'freight_value', 'product_weight_g', 'product_volume']\n",
      "\u001b[36malgo-1-0muwl_1  |\u001b[0m INFO:autogluon.utils.tabular.features.feature_metadata:\t\t('int', [])      : 5 | ['customer_zip_code_prefix', 'seller_zip_code_prefix', 'order_weekday', 'order_day', 'order_month']\n",
      "\u001b[36malgo-1-0muwl_1  |\u001b[0m INFO:autogluon.utils.tabular.features.generators.abstract:\t0.1s = Fit runtime\n",
      "\u001b[36malgo-1-0muwl_1  |\u001b[0m INFO:autogluon.utils.tabular.features.generators.abstract:\t16 features in original data used to generate 16 features in processed data.\n",
      "\u001b[36malgo-1-0muwl_1  |\u001b[0m INFO:autogluon.utils.tabular.features.generators.abstract:\tTrain Data (Processed) Memory Usage: 0.05 MB (0.0% of available memory)\n",
      "\u001b[36malgo-1-0muwl_1  |\u001b[0m INFO:autogluon.utils.tabular.ml.learner.default_learner:Data preprocessing and feature engineering runtime = 0.07s ...\n",
      "\u001b[36malgo-1-0muwl_1  |\u001b[0m Level 25:autogluon.utils.tabular.ml.trainer.abstract_trainer:AutoGluon will gauge predictive performance using evaluation metric: 'accuracy'\n",
      "\u001b[36malgo-1-0muwl_1  |\u001b[0m INFO:autogluon.utils.tabular.ml.trainer.abstract_trainer:\tTo change this, specify the eval_metric argument of fit()\n",
      "\u001b[36malgo-1-0muwl_1  |\u001b[0m Level 25:autogluon.utils.tabular.ml.trainer.abstract_trainer:AutoGluon will early stop models using evaluation metric: 'accuracy'\n",
      "\u001b[36malgo-1-0muwl_1  |\u001b[0m INFO:root:Fitting model: NeuralNetClassifier ...\n",
      "\u001b[36malgo-1-0muwl_1  |\u001b[0m INFO:autogluon.utils.tabular.ml.trainer.abstract_trainer:\t0.32\t = Validation accuracy score\n",
      "\u001b[36malgo-1-0muwl_1  |\u001b[0m INFO:autogluon.utils.tabular.ml.trainer.abstract_trainer:\t4.9s\t = Training runtime\n",
      "\u001b[36malgo-1-0muwl_1  |\u001b[0m INFO:autogluon.utils.tabular.ml.trainer.abstract_trainer:\t0.03s\t = Validation runtime\n",
      "\u001b[36malgo-1-0muwl_1  |\u001b[0m INFO:root:Fitting model: KNeighborsClassifierUnif ...\n",
      "\u001b[36malgo-1-0muwl_1  |\u001b[0m INFO:autogluon.utils.tabular.ml.trainer.abstract_trainer:\t0.29\t = Validation accuracy score\n",
      "\u001b[36malgo-1-0muwl_1  |\u001b[0m INFO:autogluon.utils.tabular.ml.trainer.abstract_trainer:\t0.0s\t = Training runtime\n",
      "\u001b[36malgo-1-0muwl_1  |\u001b[0m INFO:autogluon.utils.tabular.ml.trainer.abstract_trainer:\t0.11s\t = Validation runtime\n",
      "\u001b[36malgo-1-0muwl_1  |\u001b[0m INFO:root:Fitting model: KNeighborsClassifierDist ...\n",
      "\u001b[36malgo-1-0muwl_1  |\u001b[0m INFO:autogluon.utils.tabular.ml.trainer.abstract_trainer:\t0.3\t = Validation accuracy score\n",
      "\u001b[36malgo-1-0muwl_1  |\u001b[0m INFO:autogluon.utils.tabular.ml.trainer.abstract_trainer:\t0.0s\t = Training runtime\n",
      "\u001b[36malgo-1-0muwl_1  |\u001b[0m INFO:autogluon.utils.tabular.ml.trainer.abstract_trainer:\t0.11s\t = Validation runtime\n",
      "\u001b[36malgo-1-0muwl_1  |\u001b[0m INFO:root:Fitting model: RandomForestClassifierGini ...\n",
      "\u001b[36malgo-1-0muwl_1  |\u001b[0m INFO:autogluon.utils.tabular.ml.trainer.abstract_trainer:\t0.38\t = Validation accuracy score\n",
      "\u001b[36malgo-1-0muwl_1  |\u001b[0m INFO:autogluon.utils.tabular.ml.trainer.abstract_trainer:\t0.65s\t = Training runtime\n",
      "\u001b[36malgo-1-0muwl_1  |\u001b[0m INFO:autogluon.utils.tabular.ml.trainer.abstract_trainer:\t0.11s\t = Validation runtime\n",
      "\u001b[36malgo-1-0muwl_1  |\u001b[0m INFO:root:Fitting model: RandomForestClassifierEntr ...\n",
      "\u001b[36malgo-1-0muwl_1  |\u001b[0m INFO:autogluon.utils.tabular.ml.trainer.abstract_trainer:\t0.34\t = Validation accuracy score\n",
      "\u001b[36malgo-1-0muwl_1  |\u001b[0m INFO:autogluon.utils.tabular.ml.trainer.abstract_trainer:\t0.64s\t = Training runtime\n",
      "\u001b[36malgo-1-0muwl_1  |\u001b[0m INFO:autogluon.utils.tabular.ml.trainer.abstract_trainer:\t0.12s\t = Validation runtime\n",
      "\u001b[36malgo-1-0muwl_1  |\u001b[0m INFO:root:Fitting model: ExtraTreesClassifierGini ...\n",
      "\u001b[36malgo-1-0muwl_1  |\u001b[0m INFO:autogluon.utils.tabular.ml.trainer.abstract_trainer:\t0.28\t = Validation accuracy score\n",
      "\u001b[36malgo-1-0muwl_1  |\u001b[0m INFO:autogluon.utils.tabular.ml.trainer.abstract_trainer:\t0.54s\t = Training runtime\n",
      "\u001b[36malgo-1-0muwl_1  |\u001b[0m INFO:autogluon.utils.tabular.ml.trainer.abstract_trainer:\t0.11s\t = Validation runtime\n",
      "\u001b[36malgo-1-0muwl_1  |\u001b[0m INFO:root:Fitting model: ExtraTreesClassifierEntr ...\n",
      "\u001b[36malgo-1-0muwl_1  |\u001b[0m INFO:autogluon.utils.tabular.ml.trainer.abstract_trainer:\t0.3\t = Validation accuracy score\n",
      "\u001b[36malgo-1-0muwl_1  |\u001b[0m INFO:autogluon.utils.tabular.ml.trainer.abstract_trainer:\t0.54s\t = Training runtime\n",
      "\u001b[36malgo-1-0muwl_1  |\u001b[0m INFO:autogluon.utils.tabular.ml.trainer.abstract_trainer:\t0.11s\t = Validation runtime\n",
      "\u001b[36malgo-1-0muwl_1  |\u001b[0m INFO:root:Fitting model: LightGBMClassifier ...\n",
      "\u001b[36malgo-1-0muwl_1  |\u001b[0m INFO:autogluon.utils.tabular.ml.trainer.abstract_trainer:\t0.38\t = Validation accuracy score\n",
      "\u001b[36malgo-1-0muwl_1  |\u001b[0m INFO:autogluon.utils.tabular.ml.trainer.abstract_trainer:\t0.39s\t = Training runtime\n",
      "\u001b[36malgo-1-0muwl_1  |\u001b[0m INFO:autogluon.utils.tabular.ml.trainer.abstract_trainer:\t0.01s\t = Validation runtime\n",
      "\u001b[36malgo-1-0muwl_1  |\u001b[0m INFO:root:Fitting model: LightGBMClassifierXT ...\n",
      "\u001b[36malgo-1-0muwl_1  |\u001b[0m INFO:autogluon.utils.tabular.ml.trainer.abstract_trainer:\t0.43\t = Validation accuracy score\n",
      "\u001b[36malgo-1-0muwl_1  |\u001b[0m INFO:autogluon.utils.tabular.ml.trainer.abstract_trainer:\t0.3s\t = Training runtime\n",
      "\u001b[36malgo-1-0muwl_1  |\u001b[0m INFO:autogluon.utils.tabular.ml.trainer.abstract_trainer:\t0.01s\t = Validation runtime\n",
      "\u001b[36malgo-1-0muwl_1  |\u001b[0m INFO:root:Fitting model: CatboostClassifier ...\n",
      "\u001b[36malgo-1-0muwl_1  |\u001b[0m INFO:autogluon.utils.tabular.ml.trainer.abstract_trainer:\t0.43\t = Validation accuracy score\n",
      "\u001b[36malgo-1-0muwl_1  |\u001b[0m INFO:autogluon.utils.tabular.ml.trainer.abstract_trainer:\t1.47s\t = Training runtime\n",
      "\u001b[36malgo-1-0muwl_1  |\u001b[0m INFO:autogluon.utils.tabular.ml.trainer.abstract_trainer:\t0.02s\t = Validation runtime\n",
      "\u001b[36malgo-1-0muwl_1  |\u001b[0m INFO:root:Fitting model: LightGBMClassifierCustom ...\n",
      "\u001b[36malgo-1-0muwl_1  |\u001b[0m INFO:autogluon.utils.tabular.ml.trainer.abstract_trainer:\t0.38\t = Validation accuracy score\n",
      "\u001b[36malgo-1-0muwl_1  |\u001b[0m INFO:autogluon.utils.tabular.ml.trainer.abstract_trainer:\t2.0s\t = Training runtime\n",
      "\u001b[36malgo-1-0muwl_1  |\u001b[0m INFO:autogluon.utils.tabular.ml.trainer.abstract_trainer:\t0.01s\t = Validation runtime\n",
      "\u001b[36malgo-1-0muwl_1  |\u001b[0m INFO:root:Fitting model: weighted_ensemble_k0_l1 ...\n",
      "\u001b[36malgo-1-0muwl_1  |\u001b[0m INFO:autogluon.utils.tabular.ml.trainer.abstract_trainer:\t0.44\t = Validation accuracy score\n",
      "\u001b[36malgo-1-0muwl_1  |\u001b[0m INFO:autogluon.utils.tabular.ml.trainer.abstract_trainer:\t0.23s\t = Training runtime\n",
      "\u001b[36malgo-1-0muwl_1  |\u001b[0m INFO:autogluon.utils.tabular.ml.trainer.abstract_trainer:\t0.0s\t = Validation runtime\n",
      "\u001b[36malgo-1-0muwl_1  |\u001b[0m INFO:autogluon.utils.tabular.ml.learner.default_learner:AutoGluon training complete, total runtime = 13.5s ...\n",
      "\u001b[36malgo-1-0muwl_1  |\u001b[0m WARNING:autogluon.utils.tabular.ml.models.abstract.abstract_model:Deleting model RandomForestClassifierGini. All files under /opt/ml/model/models/RandomForestClassifierGini/ will be removed.\n",
      "\u001b[36malgo-1-0muwl_1  |\u001b[0m WARNING:autogluon.utils.tabular.ml.models.abstract.abstract_model:Deleting model RandomForestClassifierEntr. All files under /opt/ml/model/models/RandomForestClassifierEntr/ will be removed.\n",
      "\u001b[36malgo-1-0muwl_1  |\u001b[0m WARNING:autogluon.utils.tabular.ml.models.abstract.abstract_model:Deleting model CatboostClassifier. All files under /opt/ml/model/models/CatboostClassifier/ will be removed.\n",
      "\u001b[36malgo-1-0muwl_1  |\u001b[0m *** Summary of fit() ***\n",
      "\u001b[36malgo-1-0muwl_1  |\u001b[0m Estimated performance of each model:\n",
      "\u001b[36malgo-1-0muwl_1  |\u001b[0m                       model  score_val  pred_time_val  fit_time  pred_time_val_marginal  fit_time_marginal  stack_level  can_infer  fit_order\n",
      "\u001b[36malgo-1-0muwl_1  |\u001b[0m 0   weighted_ensemble_k0_l1       0.44       0.513156  8.893666                0.000360           0.226817            1       True          9\n",
      "\u001b[36malgo-1-0muwl_1  |\u001b[0m 1      LightGBMClassifierXT       0.43       0.013211  0.296222                0.013211           0.296222            0       True          7\n",
      "\u001b[36malgo-1-0muwl_1  |\u001b[0m 2        LightGBMClassifier       0.38       0.013191  0.390005                0.013191           0.390005            0       True          6\n",
      "\u001b[36malgo-1-0muwl_1  |\u001b[0m 3  LightGBMClassifierCustom       0.38       0.014153  1.998256                0.014153           1.998256            0       True          8\n",
      "\u001b[36malgo-1-0muwl_1  |\u001b[0m 4       NeuralNetClassifier       0.32       0.028252  4.895054                0.028252           4.895054            0       True          1\n",
      "\u001b[36malgo-1-0muwl_1  |\u001b[0m 5  KNeighborsClassifierDist       0.30       0.108604  0.001565                0.108604           0.001565            0       True          3\n",
      "\u001b[36malgo-1-0muwl_1  |\u001b[0m 6  ExtraTreesClassifierEntr       0.30       0.113912  0.541386                0.113912           0.541386            0       True          5\n",
      "\u001b[36malgo-1-0muwl_1  |\u001b[0m 7  KNeighborsClassifierUnif       0.29       0.107950  0.001761                0.107950           0.001761            0       True          2\n",
      "\u001b[36malgo-1-0muwl_1  |\u001b[0m 8  ExtraTreesClassifierGini       0.28       0.113523  0.542601                0.113523           0.542601            0       True          4\n",
      "\u001b[36malgo-1-0muwl_1  |\u001b[0m Number of models trained: 9\n",
      "\u001b[36malgo-1-0muwl_1  |\u001b[0m Types of models trained:\n",
      "\u001b[36malgo-1-0muwl_1  |\u001b[0m {'LGBModel', 'KNNModel', 'TabularNeuralNetModel', 'XTModel', 'WeightedEnsembleModel'}\n",
      "\u001b[36malgo-1-0muwl_1  |\u001b[0m Bagging used: False \n",
      "\u001b[36malgo-1-0muwl_1  |\u001b[0m Stack-ensembling used: False \n",
      "\u001b[36malgo-1-0muwl_1  |\u001b[0m Hyperparameter-tuning used: False \n",
      "\u001b[36malgo-1-0muwl_1  |\u001b[0m User-specified hyperparameters:\n",
      "\u001b[36malgo-1-0muwl_1  |\u001b[0m {'default': {'NN': [{}], 'GBM': [{}, {'extra_trees': True, 'AG_args': {'name_suffix': 'XT'}}], 'CAT': [{}], 'RF': [{'criterion': 'gini', 'AG_args': {'name_suffix': 'Gini', 'problem_types': ['binary', 'multiclass']}}, {'criterion': 'entropy', 'AG_args': {'name_suffix': 'Entr', 'problem_types': ['binary', 'multiclass']}}], 'XT': [{'criterion': 'gini', 'AG_args': {'name_suffix': 'Gini', 'problem_types': ['binary', 'multiclass']}}, {'criterion': 'entropy', 'AG_args': {'name_suffix': 'Entr', 'problem_types': ['binary', 'multiclass']}}], 'KNN': [{'weights': 'uniform', 'AG_args': {'name_suffix': 'Unif'}}, {'weights': 'distance', 'AG_args': {'name_suffix': 'Dist'}}], 'custom': [{'num_boost_round': 10000, 'num_threads': -1, 'objective': 'multiclass', 'num_classes': 5, 'verbose': -1, 'boosting_type': 'gbdt', 'learning_rate': 0.03, 'num_leaves': 128, 'feature_fraction': 0.9, 'min_data_in_leaf': 3, 'two_round': True, 'seed_value': 0, 'AG_args': {'model_type': 'GBM', 'name_suffix': 'Custom', 'disable_in_hpo': True}}]}}\n",
      "\u001b[36malgo-1-0muwl_1  |\u001b[0m Feature Metadata (Processed):\n",
      "\u001b[36malgo-1-0muwl_1  |\u001b[0m (raw dtype, special dtypes):\n",
      "\u001b[36malgo-1-0muwl_1  |\u001b[0m ('category', []) : 7 | ['customer_city', 'customer_state', 'product_category_name_english', 'seller_city', 'seller_state', ...]\n",
      "\u001b[36malgo-1-0muwl_1  |\u001b[0m ('float', [])    : 4 | ['price', 'freight_value', 'product_weight_g', 'product_volume']\n",
      "\u001b[36malgo-1-0muwl_1  |\u001b[0m ('int', [])      : 5 | ['customer_zip_code_prefix', 'seller_zip_code_prefix', 'order_weekday', 'order_day', 'order_month']\n",
      "\u001b[36malgo-1-0muwl_1  |\u001b[0m *** End of fit() summary ***\n",
      "\u001b[36malgo-1-0muwl_1  |\u001b[0m Test files: ['test.csv']\n",
      "\u001b[36malgo-1-0muwl_1  |\u001b[0m Running model on test data and getting Leaderboard...\n",
      "\u001b[36malgo-1-0muwl_1  |\u001b[0m +--------------------------+---------------------+-----------+----------------------+----------------------+-----------------------+-------------------------+------------------------+-----------------------+-------------+-----------+-----------+\n",
      "\u001b[36malgo-1-0muwl_1  |\u001b[0m |          model           |      score_test     | score_val |    pred_time_test    |    pred_time_val     |        fit_time       | pred_time_test_marginal | pred_time_val_marginal |   fit_time_marginal   | stack_level | can_infer | fit_order |\n",
      "\u001b[36malgo-1-0muwl_1  |\u001b[0m +--------------------------+---------------------+-----------+----------------------+----------------------+-----------------------+-------------------------+------------------------+-----------------------+-------------+-----------+-----------+\n",
      "\u001b[36malgo-1-0muwl_1  |\u001b[0m |   LightGBMClassifierXT   | 0.40704078594819887 |    0.43   | 0.025800704956054688 | 0.01321101188659668  |   0.2962217330932617  |   0.025800704956054688  |  0.01321101188659668   |   0.2962217330932617  |      0      |    True   |     7     |\n",
      "\u001b[36malgo-1-0muwl_1  |\u001b[0m | weighted_ensemble_k0_l1  | 0.39840726406668653 |    0.44   |  2.034698486328125   |  0.5131556987762451  |    8.89366602897644   |   0.00828862190246582   | 0.0003604888916015625  |  0.22681665420532227  |      1      |    True   |     9     |\n",
      "\u001b[36malgo-1-0muwl_1  |\u001b[0m |    LightGBMClassifier    |  0.3668502530515034 |    0.38   | 0.022181987762451172 | 0.013190507888793945 |  0.39000535011291504  |   0.022181987762451172  |  0.013190507888793945  |  0.39000535011291504  |      0      |    True   |     6     |\n",
      "\u001b[36malgo-1-0muwl_1  |\u001b[0m |   NeuralNetClassifier    | 0.36573384935992853 |    0.32   |  1.445329189300537   | 0.02825188636779785  |   4.895053863525391   |    1.445329189300537    |  0.02825188636779785   |   4.895053863525391   |      0      |    True   |     1     |\n",
      "\u001b[36malgo-1-0muwl_1  |\u001b[0m | ExtraTreesClassifierGini | 0.35434653170586483 |    0.28   |  0.1303102970123291  | 0.11352276802062988  |   0.5426006317138672  |    0.1303102970123291   |  0.11352276802062988   |   0.5426006317138672  |      0      |    True   |     4     |\n",
      "\u001b[36malgo-1-0muwl_1  |\u001b[0m | ExtraTreesClassifierEntr |  0.3538255433164632 |    0.3    | 0.12842822074890137  | 0.11391186714172363  |   0.5413861274719238  |   0.12842822074890137   |  0.11391186714172363   |   0.5413861274719238  |      0      |    True   |     5     |\n",
      "\u001b[36malgo-1-0muwl_1  |\u001b[0m | LightGBMClassifierCustom |  0.3441500446561477 |    0.38   | 0.052895307540893555 | 0.014152765274047852 |   1.998255729675293   |   0.052895307540893555  |  0.014152765274047852  |   1.998255729675293   |      0      |    True   |     8     |\n",
      "\u001b[36malgo-1-0muwl_1  |\u001b[0m | KNeighborsClassifierUnif | 0.32725513545698126 |    0.29   |  0.1097404956817627  | 0.10795021057128906  | 0.0017611980438232422 |    0.1097404956817627   |  0.10795021057128906   | 0.0017611980438232422 |      0      |    True   |     2     |\n",
      "\u001b[36malgo-1-0muwl_1  |\u001b[0m | KNeighborsClassifierDist |  0.2935397439714201 |    0.3    | 0.11172366142272949  | 0.10860419273376465  | 0.0015647411346435547 |   0.11172366142272949   |  0.10860419273376465   | 0.0015647411346435547 |      0      |    True   |     3     |\n",
      "\u001b[36malgo-1-0muwl_1  |\u001b[0m +--------------------------+---------------------+-----------+----------------------+----------------------+-----------------------+-------------------------+------------------------+-----------------------+-------------+-----------+-----------+\n",
      "\u001b[36malgo-1-0muwl_1  |\u001b[0m \n",
      "\u001b[36malgo-1-0muwl_1  |\u001b[0m Feature importance:\n",
      "\u001b[36malgo-1-0muwl_1  |\u001b[0m INFO:autogluon.utils.tabular.ml.trainer.abstract_trainer:Computing raw permutation importance for 17 features on weighted_ensemble_k0_l1 ...\n",
      "\u001b[36malgo-1-0muwl_1  |\u001b[0m INFO:autogluon.utils.tabular.ml.trainer.abstract_trainer:\t13.35s\t= Expected runtime\n",
      "\u001b[36malgo-1-0muwl_1  |\u001b[0m INFO:autogluon.utils.tabular.ml.trainer.abstract_trainer:\t12.82s\t= Actual runtime\n",
      "\u001b[36malgo-1-0muwl_1  |\u001b[0m order_weekday                      0.042\n",
      "\u001b[36malgo-1-0muwl_1  |\u001b[0m customer_zip_code_prefix           0.021\n",
      "\u001b[36malgo-1-0muwl_1  |\u001b[0m seller_zip_code_prefix             0.021\n",
      "\u001b[36malgo-1-0muwl_1  |\u001b[0m freight_value                      0.017\n",
      "\u001b[36malgo-1-0muwl_1  |\u001b[0m customer_seller_state              0.007\n",
      "\u001b[36malgo-1-0muwl_1  |\u001b[0m product_category_name_english      0.006\n",
      "\u001b[36malgo-1-0muwl_1  |\u001b[0m product_volume                     0.004\n",
      "\u001b[36malgo-1-0muwl_1  |\u001b[0m order_month                        0.004\n",
      "\u001b[36malgo-1-0muwl_1  |\u001b[0m seller_state                       0.002\n",
      "\u001b[36malgo-1-0muwl_1  |\u001b[0m seller_city                        0.002\n",
      "\u001b[36malgo-1-0muwl_1  |\u001b[0m order_day                          0.001\n",
      "\u001b[36malgo-1-0muwl_1  |\u001b[0m customer_city                      0.001\n",
      "\u001b[36malgo-1-0muwl_1  |\u001b[0m customer_seller_zip_code_prefix    0.000\n",
      "\u001b[36malgo-1-0muwl_1  |\u001b[0m customer_seller_city              -0.001\n",
      "\u001b[36malgo-1-0muwl_1  |\u001b[0m product_weight_g                  -0.002\n",
      "\u001b[36malgo-1-0muwl_1  |\u001b[0m customer_state                    -0.006\n",
      "\u001b[36malgo-1-0muwl_1  |\u001b[0m price                             -0.010\n",
      "\u001b[36malgo-1-0muwl_1  |\u001b[0m dtype: float64\n",
      "\u001b[36malgo-1-0muwl_1  |\u001b[0m Model export summary:\n",
      "\u001b[36malgo-1-0muwl_1  |\u001b[0m /opt/ml/model/: ['learner.pkl', 'models']\n",
      "\u001b[36malgo-1-0muwl_1  |\u001b[0m /opt/ml/model/models: ['LightGBMClassifier', 'NeuralNetClassifier', 'ExtraTreesClassifierGini', 'LightGBMClassifierXT', 'KNeighborsClassifierUnif', 'weighted_ensemble_k0_l1', 'KNeighborsClassifierDist', 'ExtraTreesClassifierEntr', 'trainer.pkl', 'LightGBMClassifierCustom']\n",
      "\u001b[36malgo-1-0muwl_1  |\u001b[0m /opt/ml/model directory size: 35M\n",
      "\u001b[36malgo-1-0muwl_1  |\u001b[0m \n",
      "\u001b[36malgo-1-0muwl_1  |\u001b[0m #### Package Inference Codes #### \n",
      "\u001b[36malgo-1-0muwl_1  |\u001b[0m 2020-11-17 05:59:39,237 sagemaker-training-toolkit INFO     Reporting training SUCCESS\n",
      "\u001b[36mtmpf9oh9rl1_algo-1-0muwl_1 exited with code 0\n",
      "\u001b[0mAborting on container exit...\n",
      "===== Job Complete =====\n",
      "CPU times: user 9.38 s, sys: 59.1 ms, total: 9.44 s\n",
      "Wall time: 46 s\n"
     ]
    }
   ],
   "source": [
    "%%time \n",
    "estimator.fit( {'train': s3_train_file_path, 'test': s3_test_file_path})"
   ]
  },
  {
   "cell_type": "markdown",
   "metadata": {},
   "source": [
    "## Create Inference Image"
   ]
  },
  {
   "cell_type": "code",
   "execution_count": 13,
   "metadata": {},
   "outputs": [
    {
     "name": "stdout",
     "output_type": "stream",
     "text": [
      "057716757052 ap-northeast-2 autogluon-sagemaker-inference 057716757052.dkr.ecr.ap-northeast-2.amazonaws.com\n"
     ]
    }
   ],
   "source": [
    "inference_algorithm_name = 'autogluon-sagemaker-inference'\n",
    "print(account, region, inference_algorithm_name, ecr_uri_prefix)"
   ]
  },
  {
   "cell_type": "code",
   "execution_count": 14,
   "metadata": {},
   "outputs": [
    {
     "name": "stdout",
     "output_type": "stream",
     "text": [
      "WARNING! Using --password via the CLI is insecure. Use --password-stdin.\n",
      "WARNING! Your password will be stored unencrypted in /home/ec2-user/.docker/config.json.\n",
      "Configure a credential helper to remove this warning. See\n",
      "https://docs.docker.com/engine/reference/commandline/login/#credentials-store\n",
      "\n",
      "Login Succeeded\n",
      "WARNING! Using --password via the CLI is insecure. Use --password-stdin.\n",
      "WARNING! Your password will be stored unencrypted in /home/ec2-user/.docker/config.json.\n",
      "Configure a credential helper to remove this warning. See\n",
      "https://docs.docker.com/engine/reference/commandline/login/#credentials-store\n",
      "\n",
      "Login Succeeded\n",
      "Sending build context to Docker daemon  14.61GB\n",
      "Step 1/5 : ARG REGISTRY_URI\n",
      "Step 2/5 : FROM ${REGISTRY_URI}/mxnet-inference:1.6.0-cpu-py3\n",
      " ---> ac9d36e4dca4\n",
      "Step 3/5 : RUN pip install autogluon\n",
      " ---> Using cache\n",
      " ---> 826d2318649f\n",
      "Step 4/5 : RUN pip install PrettyTable\n",
      " ---> Using cache\n",
      " ---> 403562626280\n",
      "Step 5/5 : ENV SAGEMAKER_PROGRAM inference.py\n",
      " ---> Using cache\n",
      " ---> 58e8b04fe4df\n",
      "Successfully built 58e8b04fe4df\n",
      "Successfully tagged autogluon-sagemaker-inference:latest\n",
      "The push refers to repository [057716757052.dkr.ecr.ap-northeast-2.amazonaws.com/autogluon-sagemaker-inference]\n",
      "\n",
      "\u001b[1Bf18e7531: Preparing \n",
      "\u001b[1B57beef4c: Preparing \n",
      "\u001b[1B3ff8312b: Preparing \n",
      "\u001b[1B59ec0d8a: Preparing \n",
      "\u001b[1B12639dc5: Preparing \n",
      "\u001b[1B0e9af77f: Preparing \n",
      "\u001b[1Bbdb96df8: Preparing \n",
      "\u001b[1B34244b0d: Preparing \n",
      "\u001b[1B229eddc1: Preparing \n",
      "\u001b[1Baceca18a: Preparing \n",
      "\u001b[1Beee005c5: Preparing \n",
      "\u001b[1B2cfcc32d: Preparing \n",
      "\u001b[1Bbf2f5ca8: Preparing \n",
      "\u001b[1B1292030a: Preparing \n",
      "\u001b[1B8ef677a1: Preparing \n",
      "\u001b[1B795fc39e: Preparing \n",
      "\u001b[1Bdf18e61b: Preparing \n",
      "\u001b[1Ba71ce233: Preparing \n",
      "\u001b[1Bddf6a67c: Preparing \n",
      "\u001b[1B6de3ff64: Preparing \n",
      "\u001b[2B6de3ff64: Layer already exists \u001b[16A\u001b[2K\u001b[11A\u001b[2K\u001b[5A\u001b[2Klatest: digest: sha256:fff3949787619e301be7d0b8a77e3d544785e257015d266dbf8fb19d3c763eb6 size: 4716\n"
     ]
    }
   ],
   "source": [
    "\n",
    "!/bin/bash ./container-inference/build_push_inference.sh {account} {region} {inference_algorithm_name} {ecr_uri_prefix} {registry_id} {registry_uri}"
   ]
  },
  {
   "cell_type": "markdown",
   "metadata": {
    "Collapsed": "false"
   },
   "source": [
    "### Create Model"
   ]
  },
  {
   "cell_type": "code",
   "execution_count": 15,
   "metadata": {
    "Collapsed": "false"
   },
   "outputs": [],
   "source": [
    "# Create predictor object\n",
    "class AutoGluonTabularPredictor(RealTimePredictor):\n",
    "    def __init__(self, *args, **kwargs):\n",
    "        super().__init__(*args, content_type='text/csv', \n",
    "                         serializer=csv_serializer, \n",
    "                         deserializer=StringDeserializer(), **kwargs)"
   ]
  },
  {
   "cell_type": "code",
   "execution_count": 16,
   "metadata": {
    "Collapsed": "false"
   },
   "outputs": [
    {
     "name": "stderr",
     "output_type": "stream",
     "text": [
      "Parameter image will be renamed to image_uri in SageMaker Python SDK v2.\n"
     ]
    },
    {
     "name": "stdout",
     "output_type": "stream",
     "text": [
      "local\n"
     ]
    }
   ],
   "source": [
    "ecr_image = f'{ecr_uri_prefix}/{inference_algorithm_name}:latest'\n",
    "\n",
    "if instance_type == 'local':\n",
    "    model = estimator.create_model(image=ecr_image, role=role)\n",
    "    print(\"local\")\n",
    "else:\n",
    "    model_uri = os.path.join(estimator.output_path, estimator._current_job_name, \"output\", \"model.tar.gz\")\n",
    "    model = Model(model_uri, ecr_image, role=role, sagemaker_session=session, predictor_cls=AutoGluonTabularPredictor)\n",
    "    print(\"non-local\")"
   ]
  },
  {
   "cell_type": "markdown",
   "metadata": {
    "Collapsed": "false"
   },
   "source": [
    "### Endpoint"
   ]
  },
  {
   "cell_type": "code",
   "execution_count": 17,
   "metadata": {},
   "outputs": [
    {
     "data": {
      "text/plain": [
       "'057716757052.dkr.ecr.ap-northeast-2.amazonaws.com/autogluon-sagemaker-inference:latest'"
      ]
     },
     "execution_count": 17,
     "metadata": {},
     "output_type": "execute_result"
    }
   ],
   "source": [
    "ecr_image"
   ]
  },
  {
   "cell_type": "raw",
   "metadata": {},
   "source": []
  },
  {
   "cell_type": "markdown",
   "metadata": {
    "Collapsed": "false"
   },
   "source": [
    "##### Deploy remote or local endpoint"
   ]
  },
  {
   "cell_type": "code",
   "execution_count": 18,
   "metadata": {
    "Collapsed": "false"
   },
   "outputs": [
    {
     "name": "stdout",
     "output_type": "stream",
     "text": [
      "!"
     ]
    }
   ],
   "source": [
    "# instance_type = 'ml.m5.2xlarge'\n",
    "instance_type = 'local'\n",
    "\n",
    "predictor = model.deploy(initial_instance_count=1, \n",
    "                         instance_type=instance_type)"
   ]
  },
  {
   "cell_type": "markdown",
   "metadata": {
    "Collapsed": "false"
   },
   "source": [
    "##### Attach to endpoint (or reattach if kernel was restarted)"
   ]
  },
  {
   "cell_type": "code",
   "execution_count": 19,
   "metadata": {
    "Collapsed": "false"
   },
   "outputs": [],
   "source": [
    "# Select standard or local session based on instance_type\n",
    "if instance_type == 'local': \n",
    "    sess = local_session\n",
    "else: \n",
    "    sess = session\n",
    "\n",
    "# Attach to endpoint\n",
    "predictor = AutoGluonTabularPredictor(predictor.endpoint, sagemaker_session=sess)"
   ]
  },
  {
   "cell_type": "markdown",
   "metadata": {
    "Collapsed": "false"
   },
   "source": [
    "##### Predict on unlabeled test data"
   ]
  },
  {
   "cell_type": "code",
   "execution_count": 20,
   "metadata": {},
   "outputs": [],
   "source": [
    "# # Split test X/y\n",
    "label = 'classes'\n",
    "y_test = test_pd[label]\n",
    "test_data_nolab = test_pd.drop(columns=[label])\n",
    "\n",
    "# test_data = task.Dataset(file_path= no_auto_test_file)\n",
    "# y_test = test_data[label_column]  # values to predict\n",
    "# test_data_nolab = test_data.drop(labels=[label_column],axis=1)  # delete label column to prove we're not cheating\n",
    "# print(test_data_nolab.head())\n",
    "\n"
   ]
  },
  {
   "cell_type": "code",
   "execution_count": 25,
   "metadata": {
    "Collapsed": "false"
   },
   "outputs": [
    {
     "name": "stdout",
     "output_type": "stream",
     "text": [
      "['2']\n"
     ]
    }
   ],
   "source": [
    "results = predictor.predict(test_data_nolab[0:1].to_csv(index=False)).splitlines()\n",
    "print(results)\n",
    "# Check output\n",
    "# print(Counter(results))"
   ]
  },
  {
   "cell_type": "markdown",
   "metadata": {
    "Collapsed": "false"
   },
   "source": [
    "##### Predict on data that includes label column  \n",
    "Prediction performance metrics will be printed to endpoint logs."
   ]
  },
  {
   "cell_type": "code",
   "execution_count": null,
   "metadata": {},
   "outputs": [],
   "source": []
  },
  {
   "cell_type": "code",
   "execution_count": 22,
   "metadata": {
    "Collapsed": "false"
   },
   "outputs": [
    {
     "name": "stdout",
     "output_type": "stream",
     "text": [
      "Counter({'2': 8, '0': 1, '3': 1})\n"
     ]
    }
   ],
   "source": [
    "results = predictor.predict(test_data_nolab[0:10].to_csv(index=False)).splitlines()\n",
    "# results = predictor.predict(test_data_nolab.to_csv(index=False)).splitlines()\n",
    "\n",
    "# Check output\n",
    "print(Counter(results))"
   ]
  },
  {
   "cell_type": "markdown",
   "metadata": {
    "Collapsed": "false"
   },
   "source": [
    "##### Check that classification performance metrics match evaluation printed to endpoint logs as expected"
   ]
  },
  {
   "cell_type": "markdown",
   "metadata": {
    "Collapsed": "false"
   },
   "source": [
    "##### Clean up endpoint"
   ]
  },
  {
   "cell_type": "code",
   "execution_count": 23,
   "metadata": {
    "Collapsed": "false"
   },
   "outputs": [],
   "source": [
    "# predictor.delete_endpoint()"
   ]
  },
  {
   "cell_type": "code",
   "execution_count": null,
   "metadata": {},
   "outputs": [],
   "source": []
  },
  {
   "cell_type": "code",
   "execution_count": null,
   "metadata": {},
   "outputs": [],
   "source": []
  },
  {
   "cell_type": "code",
   "execution_count": null,
   "metadata": {},
   "outputs": [],
   "source": []
  },
  {
   "cell_type": "code",
   "execution_count": null,
   "metadata": {},
   "outputs": [],
   "source": []
  }
 ],
 "metadata": {
  "kernelspec": {
   "display_name": "conda_mxnet_p36",
   "language": "python",
   "name": "conda_mxnet_p36"
  },
  "language_info": {
   "codemirror_mode": {
    "name": "ipython",
    "version": 3
   },
   "file_extension": ".py",
   "mimetype": "text/x-python",
   "name": "python",
   "nbconvert_exporter": "python",
   "pygments_lexer": "ipython3",
   "version": "3.6.10"
  }
 },
 "nbformat": 4,
 "nbformat_minor": 4
}
