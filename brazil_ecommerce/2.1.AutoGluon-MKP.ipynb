{
 "cells": [
  {
   "cell_type": "markdown",
   "metadata": {},
   "source": [
    "# [Moduel 3.1] AutoGluon-Tabular in AWS Marketplace\n",
    "\n",
    "본 노트북은 아래 노트북의 내용을 데이타를 제외하고 대부분 가져왔습니다.\n",
    "- https://github.com/mullue/autogluon-mkp\n",
    "- https://github.com/aws/amazon-sagemaker-examples/tree/master/aws_marketplace/using_algorithms/autogluon\n",
    "\n",
    "[AutoGluon](https://github.com/awslabs/autogluon) 은 머신리닝을 자동화하여 여러분의 응용프로그램에 쉽게 강력한 예측성능을 제공할 수 있도록 합니다. 몇줄의 코드만으로 여러분은 테이블, 이미지, 텍스트데이터에 대하여 고성능의 딥러닝 모델을 학습하고 배포할 수 있습니다. 본 노트북은 테이블형식의 데이터에 대하여 AWS마켓플레이스에 있는 AutoGluon-Tabluar 를 어떻게 적용하는지 보여드립니다.\n",
    "\n",
    "### 이 노트북은 소요 시간이 약 30 분 걸립니다.\n",
    "\n",
    "\n",
    "### Contents:\n",
    "* [Step 1: Subscribe to AutoML algorithm from AWS Marketplace](#Step-1:-Subscribe-to-AutoML-algorithm-from-AWS-Marketplace)\n",
    "* [Step 2: Set up environment](#Step-2-:-Set-up-environment)\n",
    "* [Step 3: Prepare and upload data](#Step-3:-Prepare-and-upload-data)\n",
    "* [Step 4: Train a model](#Step-4:-Train-a-model)\n",
    "* [Step 5: Deploy the model and perform a real-time inference](#Step-5:-Deploy-the-model-and-perform-a-real-time-inference)\n",
    "* [Step 6: Use Batch Transform](#Step-6:-Use-Batch-Transform)\n",
    "* [Step 7: Clean-up](#Step-7:-Clean-up)"
   ]
  },
  {
   "cell_type": "markdown",
   "metadata": {},
   "source": [
    "### Step 1: Subscribe to AutoML algorithm from AWS Marketplace\n",
    "\n",
    "1. 마켓플레이스에 접속하고 [AutoGluon-Tabular](https://aws.amazon.com/marketplace/pp/prodview-n4zf5pmjt7ism) 페이지를 오픈합니다.\n",
    "2. **Highlights** 부분과 **product overview** 부분을 읽어봅니다. (알고리즘의 개요와 동작특성, 특장점 등을 설명하고 있습니다.)\n",
    "3. **usage information** 부분과 **additional resources** 부분을 살펴봅니다. (알고리즘의 사용방법이 설명됩니다.)\n",
    "4. 지원되는 인스턴스 타입을 살펴봅니다. 본 노트북의 이후 셀에서 해당 타입을 설정할 것입니다. \n",
    "5. **Continue to subscribe** 버튼을 클릭합니다.\n",
    "6. **End user license agreement**, **support terms**, **pricing information**을 읽어봅니다.\n",
    "7. 여러분의 조직에서 해당 알고리즘의 라이센스, 가격, 지원정책에 동의하는 경우 **Accept offer** 버튼을 클릭합니다. \n",
    "\n",
    "**Notes**: \n",
    "1. **Continue to configuration** 버튼이 활성회되면 여러분의 어카운트가 subscription 된 상태입니다. \n",
    "2. **Continue to configuration** 버튼을 클릭하고 리전을 선택하면 `Product Arn`을 확인할 수 있습니다. 이 값이 여러분의 학습작업에서 사용할 알고리즘 ARN입니다. (단, 본 노트북에서는 이미 리전별 ARN 값들을 **src/algorithm_arns.py** 파일에 저장해 두었기 때문에 특별히 설정할 필요는 없습니다.) \n"
   ]
  },
  {
   "cell_type": "markdown",
   "metadata": {},
   "source": [
    "### Step 2 : Set up environment"
   ]
  },
  {
   "cell_type": "code",
   "execution_count": 22,
   "metadata": {},
   "outputs": [
    {
     "name": "stdout",
     "output_type": "stream",
     "text": [
      "Requirement already up-to-date: pip in /home/ec2-user/anaconda3/envs/python3/lib/python3.6/site-packages (20.2.4)\n",
      "Name: sagemaker\n",
      "Version: 2.16.3\n",
      "Summary: Open source library for training and deploying models on Amazon SageMaker.\n",
      "Home-page: https://github.com/aws/sagemaker-python-sdk/\n",
      "Author: Amazon Web Services\n",
      "Author-email: None\n",
      "License: Apache License 2.0\n",
      "Location: /home/ec2-user/anaconda3/envs/python3/lib/python3.6/site-packages\n",
      "Requires: numpy, smdebug-rulesconfig, protobuf3-to-dict, packaging, importlib-metadata, boto3, protobuf, google-pasta\n",
      "Required-by: \n"
     ]
    }
   ],
   "source": [
    "# Import the latest sagemaker and boto3 SDKs\n",
    "import sys\n",
    "!{sys.executable} -m pip install --upgrade pip\n",
    "!{sys.executable} -m pip install -qU awscli boto3 \"sagemaker>=2.0.0\" tqdm\n",
    "!{sys.executable} -m pip show sagemaker"
   ]
  },
  {
   "cell_type": "code",
   "execution_count": 23,
   "metadata": {},
   "outputs": [],
   "source": [
    "#Import necessary libraries.\n",
    "import os\n",
    "import boto3\n",
    "import sagemaker\n",
    "from time import sleep\n",
    "from collections import Counter\n",
    "import numpy as np\n",
    "import pandas as pd\n",
    "from sagemaker import get_execution_role, local, Model, utils, fw_utils, s3\n",
    "from sagemaker import AlgorithmEstimator\n",
    "from sagemaker.predictor import RealTimePredictor, csv_serializer, StringDeserializer\n",
    "from sklearn.metrics import accuracy_score, classification_report\n",
    "from IPython.core.display import display, HTML\n",
    "from IPython.core.interactiveshell import InteractiveShell\n",
    "\n",
    "# Print settings\n",
    "InteractiveShell.ast_node_interactivity = \"all\"\n",
    "pd.set_option('display.max_columns', 500)\n",
    "pd.set_option('display.max_rows', 10)\n",
    "\n",
    "# Account/s3 setup\n",
    "session = sagemaker.Session()\n",
    "bucket = session.default_bucket()\n",
    "prefix = 'sagemaker/autogluon-tabular'\n",
    "region = session.boto_region_name\n",
    "role = get_execution_role()\n"
   ]
  },
  {
   "cell_type": "code",
   "execution_count": 24,
   "metadata": {},
   "outputs": [],
   "source": [
    "compatible_training_instance_type='ml.m5.4xlarge' \n",
    "compatible_inference_instance_type='ml.m5.4xlarge' "
   ]
  },
  {
   "cell_type": "code",
   "execution_count": 25,
   "metadata": {},
   "outputs": [],
   "source": [
    "#Specify algorithm ARN for AutoGluon-Tabular from AWS Marketplace.  However, for this notebook, the algorithm ARN \n",
    "#has been specified in src/algorithm_arns.py file and you do not need to specify the same explicitly.\n",
    "\n",
    "from src.algorithm_arns import AlgorithmArnProvider\n",
    "\n",
    "algorithm_arn = AlgorithmArnProvider.get_algorithm_arn(region)"
   ]
  },
  {
   "cell_type": "markdown",
   "metadata": {},
   "source": [
    "### Step 3: Get the data\n",
    "\n",
    "기존에 만든 데이터를 로딩하고 합니다. AutoGluon 이용시 별도의 검증(validation)셋의 생성은 필요하지 않습니다. (내부적으로 k-fold cross-validation을 이용합니다.)\n"
   ]
  },
  {
   "cell_type": "code",
   "execution_count": 27,
   "metadata": {},
   "outputs": [
    {
     "name": "stdout",
     "output_type": "stream",
     "text": [
      "auto_train_file:  (53740, 18)\n",
      "auto_train_file:  (13436, 18)\n"
     ]
    }
   ],
   "source": [
    "%store -r no_auto_train_file\n",
    "%store -r no_auto_test_file\n",
    "\n",
    "train = pd.read_csv(no_auto_train_file)\n",
    "test = pd.read_csv(no_auto_test_file)\n",
    "\n",
    "# Split test X/y\n",
    "label = 'classes'\n",
    "y_test = test[label]\n",
    "X_test = test.drop(columns=[label])\n",
    "print(\"auto_train_file: \", train.shape)\n",
    "print(\"auto_train_file: \", test.shape)\n"
   ]
  },
  {
   "cell_type": "markdown",
   "metadata": {},
   "source": [
    "- train, test 데이터는 레이블 컬럼 `classes`를 포함하고 있습니다.\n",
    "- X_test 데이터는 레이블 컬럼 `classes`를 포함하고 있지 않습니다.\n",
    "\n"
   ]
  },
  {
   "cell_type": "code",
   "execution_count": 28,
   "metadata": {},
   "outputs": [
    {
     "data": {
      "text/html": [
       "<div>\n",
       "<style scoped>\n",
       "    .dataframe tbody tr th:only-of-type {\n",
       "        vertical-align: middle;\n",
       "    }\n",
       "\n",
       "    .dataframe tbody tr th {\n",
       "        vertical-align: top;\n",
       "    }\n",
       "\n",
       "    .dataframe thead th {\n",
       "        text-align: right;\n",
       "    }\n",
       "</style>\n",
       "<table border=\"1\" class=\"dataframe\">\n",
       "  <thead>\n",
       "    <tr style=\"text-align: right;\">\n",
       "      <th></th>\n",
       "      <th>classes</th>\n",
       "      <th>customer_zip_code_prefix</th>\n",
       "      <th>customer_city</th>\n",
       "      <th>customer_state</th>\n",
       "      <th>price</th>\n",
       "      <th>freight_value</th>\n",
       "      <th>product_weight_g</th>\n",
       "      <th>product_category_name_english</th>\n",
       "      <th>seller_zip_code_prefix</th>\n",
       "      <th>seller_city</th>\n",
       "      <th>seller_state</th>\n",
       "      <th>order_weekday</th>\n",
       "      <th>order_day</th>\n",
       "      <th>order_month</th>\n",
       "      <th>customer_seller_state</th>\n",
       "      <th>customer_seller_city</th>\n",
       "      <th>customer_seller_zip_code_prefix</th>\n",
       "      <th>product_volume</th>\n",
       "    </tr>\n",
       "  </thead>\n",
       "  <tbody>\n",
       "    <tr>\n",
       "      <th>0</th>\n",
       "      <td>3</td>\n",
       "      <td>12030</td>\n",
       "      <td>taubate</td>\n",
       "      <td>SP</td>\n",
       "      <td>29.99</td>\n",
       "      <td>10.96</td>\n",
       "      <td>9000.0</td>\n",
       "      <td>fashion_shoes</td>\n",
       "      <td>13481</td>\n",
       "      <td>limeira</td>\n",
       "      <td>SP</td>\n",
       "      <td>1</td>\n",
       "      <td>4</td>\n",
       "      <td>10</td>\n",
       "      <td>SP_SP</td>\n",
       "      <td>taubate_limeira</td>\n",
       "      <td>12030_13481</td>\n",
       "      <td>2640.0</td>\n",
       "    </tr>\n",
       "    <tr>\n",
       "      <th>1</th>\n",
       "      <td>2</td>\n",
       "      <td>78075</td>\n",
       "      <td>cuiaba</td>\n",
       "      <td>MT</td>\n",
       "      <td>23.90</td>\n",
       "      <td>26.82</td>\n",
       "      <td>1500.0</td>\n",
       "      <td>furniture_decor</td>\n",
       "      <td>17051</td>\n",
       "      <td>bauru</td>\n",
       "      <td>SP</td>\n",
       "      <td>1</td>\n",
       "      <td>4</td>\n",
       "      <td>10</td>\n",
       "      <td>MT_SP</td>\n",
       "      <td>cuiaba_bauru</td>\n",
       "      <td>78075_17051</td>\n",
       "      <td>14625.0</td>\n",
       "    </tr>\n",
       "  </tbody>\n",
       "</table>\n",
       "</div>"
      ],
      "text/plain": [
       "   classes  customer_zip_code_prefix customer_city customer_state  price  \\\n",
       "0        3                     12030       taubate             SP  29.99   \n",
       "1        2                     78075        cuiaba             MT  23.90   \n",
       "\n",
       "   freight_value  product_weight_g product_category_name_english  \\\n",
       "0          10.96            9000.0                 fashion_shoes   \n",
       "1          26.82            1500.0               furniture_decor   \n",
       "\n",
       "   seller_zip_code_prefix seller_city seller_state  order_weekday  order_day  \\\n",
       "0                   13481     limeira           SP              1          4   \n",
       "1                   17051       bauru           SP              1          4   \n",
       "\n",
       "   order_month customer_seller_state customer_seller_city  \\\n",
       "0           10                 SP_SP      taubate_limeira   \n",
       "1           10                 MT_SP         cuiaba_bauru   \n",
       "\n",
       "  customer_seller_zip_code_prefix  product_volume  \n",
       "0                     12030_13481          2640.0  \n",
       "1                     78075_17051         14625.0  "
      ]
     },
     "metadata": {},
     "output_type": "display_data"
    },
    {
     "data": {
      "text/html": [
       "<div>\n",
       "<style scoped>\n",
       "    .dataframe tbody tr th:only-of-type {\n",
       "        vertical-align: middle;\n",
       "    }\n",
       "\n",
       "    .dataframe tbody tr th {\n",
       "        vertical-align: top;\n",
       "    }\n",
       "\n",
       "    .dataframe thead th {\n",
       "        text-align: right;\n",
       "    }\n",
       "</style>\n",
       "<table border=\"1\" class=\"dataframe\">\n",
       "  <thead>\n",
       "    <tr style=\"text-align: right;\">\n",
       "      <th></th>\n",
       "      <th>classes</th>\n",
       "      <th>customer_zip_code_prefix</th>\n",
       "      <th>customer_city</th>\n",
       "      <th>customer_state</th>\n",
       "      <th>price</th>\n",
       "      <th>freight_value</th>\n",
       "      <th>product_weight_g</th>\n",
       "      <th>product_category_name_english</th>\n",
       "      <th>seller_zip_code_prefix</th>\n",
       "      <th>seller_city</th>\n",
       "      <th>seller_state</th>\n",
       "      <th>order_weekday</th>\n",
       "      <th>order_day</th>\n",
       "      <th>order_month</th>\n",
       "      <th>customer_seller_state</th>\n",
       "      <th>customer_seller_city</th>\n",
       "      <th>customer_seller_zip_code_prefix</th>\n",
       "      <th>product_volume</th>\n",
       "    </tr>\n",
       "  </thead>\n",
       "  <tbody>\n",
       "    <tr>\n",
       "      <th>0</th>\n",
       "      <td>3</td>\n",
       "      <td>89219</td>\n",
       "      <td>joinville</td>\n",
       "      <td>SC</td>\n",
       "      <td>105.00</td>\n",
       "      <td>23.89</td>\n",
       "      <td>1000.0</td>\n",
       "      <td>watches_gifts</td>\n",
       "      <td>21840</td>\n",
       "      <td>rio de janeiro</td>\n",
       "      <td>RJ</td>\n",
       "      <td>1</td>\n",
       "      <td>19</td>\n",
       "      <td>6</td>\n",
       "      <td>SC_RJ</td>\n",
       "      <td>joinville_rio de janeiro</td>\n",
       "      <td>89219_21840</td>\n",
       "      <td>7632.0</td>\n",
       "    </tr>\n",
       "    <tr>\n",
       "      <th>1</th>\n",
       "      <td>0</td>\n",
       "      <td>9950</td>\n",
       "      <td>diadema</td>\n",
       "      <td>SP</td>\n",
       "      <td>99.97</td>\n",
       "      <td>15.80</td>\n",
       "      <td>650.0</td>\n",
       "      <td>housewares</td>\n",
       "      <td>32677</td>\n",
       "      <td>betim</td>\n",
       "      <td>MG</td>\n",
       "      <td>1</td>\n",
       "      <td>19</td>\n",
       "      <td>6</td>\n",
       "      <td>SP_MG</td>\n",
       "      <td>diadema_betim</td>\n",
       "      <td>9950_32677</td>\n",
       "      <td>9600.0</td>\n",
       "    </tr>\n",
       "  </tbody>\n",
       "</table>\n",
       "</div>"
      ],
      "text/plain": [
       "   classes  customer_zip_code_prefix customer_city customer_state   price  \\\n",
       "0        3                     89219     joinville             SC  105.00   \n",
       "1        0                      9950       diadema             SP   99.97   \n",
       "\n",
       "   freight_value  product_weight_g product_category_name_english  \\\n",
       "0          23.89            1000.0                 watches_gifts   \n",
       "1          15.80             650.0                    housewares   \n",
       "\n",
       "   seller_zip_code_prefix     seller_city seller_state  order_weekday  \\\n",
       "0                   21840  rio de janeiro           RJ              1   \n",
       "1                   32677           betim           MG              1   \n",
       "\n",
       "   order_day  order_month customer_seller_state      customer_seller_city  \\\n",
       "0         19            6                 SC_RJ  joinville_rio de janeiro   \n",
       "1         19            6                 SP_MG             diadema_betim   \n",
       "\n",
       "  customer_seller_zip_code_prefix  product_volume  \n",
       "0                     89219_21840          7632.0  \n",
       "1                      9950_32677          9600.0  "
      ]
     },
     "metadata": {},
     "output_type": "display_data"
    },
    {
     "data": {
      "text/html": [
       "<div>\n",
       "<style scoped>\n",
       "    .dataframe tbody tr th:only-of-type {\n",
       "        vertical-align: middle;\n",
       "    }\n",
       "\n",
       "    .dataframe tbody tr th {\n",
       "        vertical-align: top;\n",
       "    }\n",
       "\n",
       "    .dataframe thead th {\n",
       "        text-align: right;\n",
       "    }\n",
       "</style>\n",
       "<table border=\"1\" class=\"dataframe\">\n",
       "  <thead>\n",
       "    <tr style=\"text-align: right;\">\n",
       "      <th></th>\n",
       "      <th>customer_zip_code_prefix</th>\n",
       "      <th>customer_city</th>\n",
       "      <th>customer_state</th>\n",
       "      <th>price</th>\n",
       "      <th>freight_value</th>\n",
       "      <th>product_weight_g</th>\n",
       "      <th>product_category_name_english</th>\n",
       "      <th>seller_zip_code_prefix</th>\n",
       "      <th>seller_city</th>\n",
       "      <th>seller_state</th>\n",
       "      <th>order_weekday</th>\n",
       "      <th>order_day</th>\n",
       "      <th>order_month</th>\n",
       "      <th>customer_seller_state</th>\n",
       "      <th>customer_seller_city</th>\n",
       "      <th>customer_seller_zip_code_prefix</th>\n",
       "      <th>product_volume</th>\n",
       "    </tr>\n",
       "  </thead>\n",
       "  <tbody>\n",
       "    <tr>\n",
       "      <th>0</th>\n",
       "      <td>89219</td>\n",
       "      <td>joinville</td>\n",
       "      <td>SC</td>\n",
       "      <td>105.00</td>\n",
       "      <td>23.89</td>\n",
       "      <td>1000.0</td>\n",
       "      <td>watches_gifts</td>\n",
       "      <td>21840</td>\n",
       "      <td>rio de janeiro</td>\n",
       "      <td>RJ</td>\n",
       "      <td>1</td>\n",
       "      <td>19</td>\n",
       "      <td>6</td>\n",
       "      <td>SC_RJ</td>\n",
       "      <td>joinville_rio de janeiro</td>\n",
       "      <td>89219_21840</td>\n",
       "      <td>7632.0</td>\n",
       "    </tr>\n",
       "    <tr>\n",
       "      <th>1</th>\n",
       "      <td>9950</td>\n",
       "      <td>diadema</td>\n",
       "      <td>SP</td>\n",
       "      <td>99.97</td>\n",
       "      <td>15.80</td>\n",
       "      <td>650.0</td>\n",
       "      <td>housewares</td>\n",
       "      <td>32677</td>\n",
       "      <td>betim</td>\n",
       "      <td>MG</td>\n",
       "      <td>1</td>\n",
       "      <td>19</td>\n",
       "      <td>6</td>\n",
       "      <td>SP_MG</td>\n",
       "      <td>diadema_betim</td>\n",
       "      <td>9950_32677</td>\n",
       "      <td>9600.0</td>\n",
       "    </tr>\n",
       "  </tbody>\n",
       "</table>\n",
       "</div>"
      ],
      "text/plain": [
       "   customer_zip_code_prefix customer_city customer_state   price  \\\n",
       "0                     89219     joinville             SC  105.00   \n",
       "1                      9950       diadema             SP   99.97   \n",
       "\n",
       "   freight_value  product_weight_g product_category_name_english  \\\n",
       "0          23.89            1000.0                 watches_gifts   \n",
       "1          15.80             650.0                    housewares   \n",
       "\n",
       "   seller_zip_code_prefix     seller_city seller_state  order_weekday  \\\n",
       "0                   21840  rio de janeiro           RJ              1   \n",
       "1                   32677           betim           MG              1   \n",
       "\n",
       "   order_day  order_month customer_seller_state      customer_seller_city  \\\n",
       "0         19            6                 SC_RJ  joinville_rio de janeiro   \n",
       "1         19            6                 SP_MG             diadema_betim   \n",
       "\n",
       "  customer_seller_zip_code_prefix  product_volume  \n",
       "0                     89219_21840          7632.0  \n",
       "1                      9950_32677          9600.0  "
      ]
     },
     "metadata": {},
     "output_type": "display_data"
    }
   ],
   "source": [
    "from IPython.display import display as dp\n",
    "dp(train.head(2))\n",
    "dp(test.head(2))\n",
    "dp(X_test.head(2))\n",
    "\n",
    "\n"
   ]
  },
  {
   "cell_type": "markdown",
   "metadata": {},
   "source": [
    "데이터를 S3로 업로드합니다. "
   ]
  },
  {
   "cell_type": "code",
   "execution_count": 29,
   "metadata": {},
   "outputs": [
    {
     "name": "stdout",
     "output_type": "stream",
     "text": [
      "train_s3_path:  s3://sagemaker-ap-northeast-2-057716757052/autogluon/predict-deliver-time/data/preproc_data/auto_no_fe/train/train.csv\n",
      "test_s3_path:  s3://sagemaker-ap-northeast-2-057716757052/autogluon/predict-deliver-time/data/preproc_data/auto_no_fe/test/test.csv\n"
     ]
    }
   ],
   "source": [
    "from p_utils import upload_s3\n",
    "\n",
    "# Upload train. test file\n",
    "data_prefix = 'autogluon/predict-deliver-time/data'\n",
    "\n",
    "train_s3_path = upload_s3(bucket, no_auto_train_file, data_prefix)\n",
    "test_s3_path = upload_s3(bucket, no_auto_test_file, data_prefix)\n",
    "print(\"train_s3_path: \", train_s3_path)\n",
    "print(\"test_s3_path: \", test_s3_path)"
   ]
  },
  {
   "cell_type": "markdown",
   "metadata": {},
   "source": [
    "### Step 4: Train a model\n",
    "\n",
    "이제 모델을 학습하겠습니다. \n",
    "\n",
    "**주의:** 적절한 디스크 사이즈 할당을 위해 `train_volume_size`값을 조정해야 할 수 있습니다.\n"
   ]
  },
  {
   "cell_type": "code",
   "execution_count": 30,
   "metadata": {},
   "outputs": [],
   "source": [
    "# Define required label and optional additional parameters\n",
    "fit_args = {\n",
    "  'label': 'classes',\n",
    "  # Adding 'best_quality' to presets list will result in better performance (but longer runtime)\n",
    "  'presets': ['optimize_for_deployment'],\n",
    "}\n",
    "\n",
    "# Pass fit_args to SageMaker estimator hyperparameters\n",
    "hyperparameters = {\n",
    "  'fit_args': fit_args,\n",
    "  'feature_importance': True\n",
    "}"
   ]
  },
  {
   "cell_type": "code",
   "execution_count": 31,
   "metadata": {
    "collapsed": true,
    "jupyter": {
     "outputs_hidden": true
    }
   },
   "outputs": [
    {
     "name": "stdout",
     "output_type": "stream",
     "text": [
      "2020-11-17 09:23:55 Starting - Starting the training job...\n",
      "2020-11-17 09:23:57 Starting - Launching requested ML instances......\n",
      "2020-11-17 09:25:21 Starting - Preparing the instances for training...\n",
      "2020-11-17 09:25:50 Downloading - Downloading input data...\n",
      "2020-11-17 09:25:55 Training - Downloading the training image.....\u001b[34m2020-11-17 09:27:07,322 sagemaker-training-toolkit INFO     Imported framework sagemaker_mxnet_container.training\u001b[0m\n",
      "\u001b[34m2020-11-17 09:27:07,324 sagemaker-training-toolkit INFO     No GPUs detected (normal if no gpus installed)\u001b[0m\n",
      "\u001b[34m2020-11-17 09:27:07,325 sagemaker-training-toolkit INFO     Failed to parse hyperparameter fit_args value {'label': 'classes', 'presets': ['optimize_for_deployment']} to Json.\u001b[0m\n",
      "\u001b[34mReturning the value itself\u001b[0m\n",
      "\u001b[34m2020-11-17 09:27:07,325 sagemaker-training-toolkit INFO     Failed to parse hyperparameter feature_importance value True to Json.\u001b[0m\n",
      "\u001b[34mReturning the value itself\u001b[0m\n",
      "\u001b[34m2020-11-17 09:27:07,335 sagemaker_mxnet_container.training INFO     MXNet training environment: {'SM_HOSTS': '[\"algo-1\"]', 'SM_NETWORK_INTERFACE_NAME': 'eth0', 'SM_HPS': '{\"feature_importance\":\"True\",\"fit_args\":\"{\\'label\\': \\'classes\\', \\'presets\\': [\\'optimize_for_deployment\\']}\"}', 'SM_USER_ENTRY_POINT': 'train.py', 'SM_FRAMEWORK_PARAMS': '{}', 'SM_RESOURCE_CONFIG': '{\"current_host\":\"algo-1\",\"hosts\":[\"algo-1\"],\"network_interface_name\":\"eth0\"}', 'SM_INPUT_DATA_CONFIG': '{\"testing\":{\"RecordWrapperType\":\"None\",\"S3DistributionType\":\"FullyReplicated\",\"TrainingInputMode\":\"File\"},\"training\":{\"RecordWrapperType\":\"None\",\"S3DistributionType\":\"FullyReplicated\",\"TrainingInputMode\":\"File\"}}', 'SM_OUTPUT_DATA_DIR': '/opt/ml/output/data', 'SM_CHANNELS': '[\"testing\",\"training\"]', 'SM_CURRENT_HOST': 'algo-1', 'SM_MODULE_NAME': 'train', 'SM_LOG_LEVEL': '20', 'SM_FRAMEWORK_MODULE': 'sagemaker_mxnet_container.training:main', 'SM_INPUT_DIR': '/opt/ml/input', 'SM_INPUT_CONFIG_DIR': '/opt/ml/input/config', 'SM_OUTPUT_DIR': '/opt/ml/output', 'SM_NUM_CPUS': '16', 'SM_NUM_GPUS': '0', 'SM_MODEL_DIR': '/opt/ml/model', 'SM_MODULE_DIR': '/opt/ml/code', 'SM_TRAINING_ENV': '{\"additional_framework_parameters\":{},\"channel_input_dirs\":{\"testing\":\"/opt/ml/input/data/testing\",\"training\":\"/opt/ml/input/data/training\"},\"current_host\":\"algo-1\",\"framework_module\":\"sagemaker_mxnet_container.training:main\",\"hosts\":[\"algo-1\"],\"hyperparameters\":{\"feature_importance\":\"True\",\"fit_args\":\"{\\'label\\': \\'classes\\', \\'presets\\': [\\'optimize_for_deployment\\']}\"},\"input_config_dir\":\"/opt/ml/input/config\",\"input_data_config\":{\"testing\":{\"RecordWrapperType\":\"None\",\"S3DistributionType\":\"FullyReplicated\",\"TrainingInputMode\":\"File\"},\"training\":{\"RecordWrapperType\":\"None\",\"S3DistributionType\":\"FullyReplicated\",\"TrainingInputMode\":\"File\"}},\"input_dir\":\"/opt/ml/input\",\"is_master\":true,\"job_name\":\"autogluon-2020-11-17-09-23-54-849\",\"log_level\":20,\"master_hostname\":\"algo-1\",\"model_dir\":\"/opt/ml/model\",\"module_dir\":\"/opt/ml/code\",\"module_name\":\"train\",\"network_interface_name\":\"eth0\",\"num_cpus\":16,\"num_gpus\":0,\"output_data_dir\":\"/opt/ml/output/data\",\"output_dir\":\"/opt/ml/output\",\"output_intermediate_dir\":\"/opt/ml/output/intermediate\",\"resource_config\":{\"current_host\":\"algo-1\",\"hosts\":[\"algo-1\"],\"network_interface_name\":\"eth0\"},\"user_entry_point\":\"train.py\"}', 'SM_USER_ARGS': '[\"--feature_importance\",\"True\",\"--fit_args\",\"{\\'label\\': \\'classes\\', \\'presets\\': [\\'optimize_for_deployment\\']}\"]', 'SM_OUTPUT_INTERMEDIATE_DIR': '/opt/ml/output/intermediate', 'SM_CHANNEL_TESTING': '/opt/ml/input/data/testing', 'SM_CHANNEL_TRAINING': '/opt/ml/input/data/training', 'SM_HP_FIT_ARGS': \"{'label': 'classes', 'presets': ['optimize_for_deployment']}\", 'SM_HP_FEATURE_IMPORTANCE': 'True'}\u001b[0m\n",
      "\u001b[34m2020-11-17 09:27:07,337 sagemaker-training-toolkit INFO     No GPUs detected (normal if no gpus installed)\u001b[0m\n",
      "\u001b[34m2020-11-17 09:27:07,337 sagemaker-training-toolkit INFO     Failed to parse hyperparameter fit_args value {'label': 'classes', 'presets': ['optimize_for_deployment']} to Json.\u001b[0m\n",
      "\u001b[34mReturning the value itself\u001b[0m\n",
      "\u001b[34m2020-11-17 09:27:07,337 sagemaker-training-toolkit INFO     Failed to parse hyperparameter feature_importance value True to Json.\u001b[0m\n",
      "\u001b[34mReturning the value itself\u001b[0m\n",
      "\n",
      "2020-11-17 09:27:07 Training - Training image download completed. Training in progress.\u001b[34m2020-11-17 09:27:13,568 sagemaker-training-toolkit INFO     No GPUs detected (normal if no gpus installed)\u001b[0m\n",
      "\u001b[34m2020-11-17 09:27:13,569 sagemaker-training-toolkit INFO     Failed to parse hyperparameter fit_args value {'label': 'classes', 'presets': ['optimize_for_deployment']} to Json.\u001b[0m\n",
      "\u001b[34mReturning the value itself\u001b[0m\n",
      "\u001b[34m2020-11-17 09:27:13,569 sagemaker-training-toolkit INFO     Failed to parse hyperparameter feature_importance value True to Json.\u001b[0m\n",
      "\u001b[34mReturning the value itself\u001b[0m\n",
      "\u001b[34m2020-11-17 09:27:13,581 sagemaker-training-toolkit INFO     No GPUs detected (normal if no gpus installed)\u001b[0m\n",
      "\u001b[34m2020-11-17 09:27:13,581 sagemaker-training-toolkit INFO     Failed to parse hyperparameter fit_args value {'label': 'classes', 'presets': ['optimize_for_deployment']} to Json.\u001b[0m\n",
      "\u001b[34mReturning the value itself\u001b[0m\n",
      "\u001b[34m2020-11-17 09:27:13,581 sagemaker-training-toolkit INFO     Failed to parse hyperparameter feature_importance value True to Json.\u001b[0m\n",
      "\u001b[34mReturning the value itself\u001b[0m\n",
      "\u001b[34m2020-11-17 09:27:13,593 sagemaker-training-toolkit INFO     Invoking user script\n",
      "\u001b[0m\n",
      "\u001b[34mTraining Env:\n",
      "\u001b[0m\n",
      "\u001b[34m{\n",
      "    \"additional_framework_parameters\": {},\n",
      "    \"channel_input_dirs\": {\n",
      "        \"testing\": \"/opt/ml/input/data/testing\",\n",
      "        \"training\": \"/opt/ml/input/data/training\"\n",
      "    },\n",
      "    \"current_host\": \"algo-1\",\n",
      "    \"framework_module\": \"sagemaker_mxnet_container.training:main\",\n",
      "    \"hosts\": [\n",
      "        \"algo-1\"\n",
      "    ],\n",
      "    \"hyperparameters\": {\n",
      "        \"fit_args\": \"{'label': 'classes', 'presets': ['optimize_for_deployment']}\",\n",
      "        \"feature_importance\": \"True\"\n",
      "    },\n",
      "    \"input_config_dir\": \"/opt/ml/input/config\",\n",
      "    \"input_data_config\": {\n",
      "        \"testing\": {\n",
      "            \"TrainingInputMode\": \"File\",\n",
      "            \"S3DistributionType\": \"FullyReplicated\",\n",
      "            \"RecordWrapperType\": \"None\"\n",
      "        },\n",
      "        \"training\": {\n",
      "            \"TrainingInputMode\": \"File\",\n",
      "            \"S3DistributionType\": \"FullyReplicated\",\n",
      "            \"RecordWrapperType\": \"None\"\n",
      "        }\n",
      "    },\n",
      "    \"input_dir\": \"/opt/ml/input\",\n",
      "    \"is_master\": true,\n",
      "    \"job_name\": \"autogluon-2020-11-17-09-23-54-849\",\n",
      "    \"log_level\": 20,\n",
      "    \"master_hostname\": \"algo-1\",\n",
      "    \"model_dir\": \"/opt/ml/model\",\n",
      "    \"module_dir\": \"/opt/ml/code\",\n",
      "    \"module_name\": \"train\",\n",
      "    \"network_interface_name\": \"eth0\",\n",
      "    \"num_cpus\": 16,\n",
      "    \"num_gpus\": 0,\n",
      "    \"output_data_dir\": \"/opt/ml/output/data\",\n",
      "    \"output_dir\": \"/opt/ml/output\",\n",
      "    \"output_intermediate_dir\": \"/opt/ml/output/intermediate\",\n",
      "    \"resource_config\": {\n",
      "        \"current_host\": \"algo-1\",\n",
      "        \"hosts\": [\n",
      "            \"algo-1\"\n",
      "        ],\n",
      "        \"network_interface_name\": \"eth0\"\n",
      "    },\n",
      "    \"user_entry_point\": \"train.py\"\u001b[0m\n",
      "\u001b[34m}\n",
      "\u001b[0m\n",
      "\u001b[34mEnvironment variables:\n",
      "\u001b[0m\n",
      "\u001b[34mSM_HOSTS=[\"algo-1\"]\u001b[0m\n",
      "\u001b[34mSM_NETWORK_INTERFACE_NAME=eth0\u001b[0m\n",
      "\u001b[34mSM_HPS={\"feature_importance\":\"True\",\"fit_args\":\"{'label': 'classes', 'presets': ['optimize_for_deployment']}\"}\u001b[0m\n",
      "\u001b[34mSM_USER_ENTRY_POINT=train.py\u001b[0m\n",
      "\u001b[34mSM_FRAMEWORK_PARAMS={}\u001b[0m\n",
      "\u001b[34mSM_RESOURCE_CONFIG={\"current_host\":\"algo-1\",\"hosts\":[\"algo-1\"],\"network_interface_name\":\"eth0\"}\u001b[0m\n",
      "\u001b[34mSM_INPUT_DATA_CONFIG={\"testing\":{\"RecordWrapperType\":\"None\",\"S3DistributionType\":\"FullyReplicated\",\"TrainingInputMode\":\"File\"},\"training\":{\"RecordWrapperType\":\"None\",\"S3DistributionType\":\"FullyReplicated\",\"TrainingInputMode\":\"File\"}}\u001b[0m\n",
      "\u001b[34mSM_OUTPUT_DATA_DIR=/opt/ml/output/data\u001b[0m\n",
      "\u001b[34mSM_CHANNELS=[\"testing\",\"training\"]\u001b[0m\n",
      "\u001b[34mSM_CURRENT_HOST=algo-1\u001b[0m\n",
      "\u001b[34mSM_MODULE_NAME=train\u001b[0m\n",
      "\u001b[34mSM_LOG_LEVEL=20\u001b[0m\n",
      "\u001b[34mSM_FRAMEWORK_MODULE=sagemaker_mxnet_container.training:main\u001b[0m\n",
      "\u001b[34mSM_INPUT_DIR=/opt/ml/input\u001b[0m\n",
      "\u001b[34mSM_INPUT_CONFIG_DIR=/opt/ml/input/config\u001b[0m\n",
      "\u001b[34mSM_OUTPUT_DIR=/opt/ml/output\u001b[0m\n",
      "\u001b[34mSM_NUM_CPUS=16\u001b[0m\n",
      "\u001b[34mSM_NUM_GPUS=0\u001b[0m\n",
      "\u001b[34mSM_MODEL_DIR=/opt/ml/model\u001b[0m\n",
      "\u001b[34mSM_MODULE_DIR=/opt/ml/code\u001b[0m\n",
      "\u001b[34mSM_TRAINING_ENV={\"additional_framework_parameters\":{},\"channel_input_dirs\":{\"testing\":\"/opt/ml/input/data/testing\",\"training\":\"/opt/ml/input/data/training\"},\"current_host\":\"algo-1\",\"framework_module\":\"sagemaker_mxnet_container.training:main\",\"hosts\":[\"algo-1\"],\"hyperparameters\":{\"feature_importance\":\"True\",\"fit_args\":\"{'label': 'classes', 'presets': ['optimize_for_deployment']}\"},\"input_config_dir\":\"/opt/ml/input/config\",\"input_data_config\":{\"testing\":{\"RecordWrapperType\":\"None\",\"S3DistributionType\":\"FullyReplicated\",\"TrainingInputMode\":\"File\"},\"training\":{\"RecordWrapperType\":\"None\",\"S3DistributionType\":\"FullyReplicated\",\"TrainingInputMode\":\"File\"}},\"input_dir\":\"/opt/ml/input\",\"is_master\":true,\"job_name\":\"autogluon-2020-11-17-09-23-54-849\",\"log_level\":20,\"master_hostname\":\"algo-1\",\"model_dir\":\"/opt/ml/model\",\"module_dir\":\"/opt/ml/code\",\"module_name\":\"train\",\"network_interface_name\":\"eth0\",\"num_cpus\":16,\"num_gpus\":0,\"output_data_dir\":\"/opt/ml/output/data\",\"output_dir\":\"/opt/ml/output\",\"output_intermediate_dir\":\"/opt/ml/output/intermediate\",\"resource_config\":{\"current_host\":\"algo-1\",\"hosts\":[\"algo-1\"],\"network_interface_name\":\"eth0\"},\"user_entry_point\":\"train.py\"}\u001b[0m\n",
      "\u001b[34mSM_USER_ARGS=[\"--feature_importance\",\"True\",\"--fit_args\",\"{'label': 'classes', 'presets': ['optimize_for_deployment']}\"]\u001b[0m\n",
      "\u001b[34mSM_OUTPUT_INTERMEDIATE_DIR=/opt/ml/output/intermediate\u001b[0m\n",
      "\u001b[34mSM_CHANNEL_TESTING=/opt/ml/input/data/testing\u001b[0m\n",
      "\u001b[34mSM_CHANNEL_TRAINING=/opt/ml/input/data/training\u001b[0m\n",
      "\u001b[34mSM_HP_FIT_ARGS={'label': 'classes', 'presets': ['optimize_for_deployment']}\u001b[0m\n",
      "\u001b[34mSM_HP_FEATURE_IMPORTANCE=True\u001b[0m\n",
      "\u001b[34mPYTHONPATH=/opt/ml/code:/usr/local/bin:/usr/local/lib/python36.zip:/usr/local/lib/python3.6:/usr/local/lib/python3.6/lib-dynload:/usr/local/lib/python3.6/site-packages\n",
      "\u001b[0m\n",
      "\u001b[34mInvoking script with the following command:\n",
      "\u001b[0m\n",
      "\u001b[34m/usr/local/bin/python3.6 train.py --feature_importance True --fit_args {'label': 'classes', 'presets': ['optimize_for_deployment']}\n",
      "\n",
      "\u001b[0m\n",
      "\u001b[34mfit_args:\u001b[0m\n",
      "\u001b[34mlabel,  type: <class 'str'>,  value: classes\u001b[0m\n",
      "\u001b[34mpresets,  type: <class 'list'>,  value: ['optimize_for_deployment']\u001b[0m\n",
      "\u001b[34mTrain files: ['train.csv']\u001b[0m\n",
      "\u001b[34mBeginning AutoGluon training ...\u001b[0m\n",
      "\u001b[34mAutoGluon will save models to /opt/ml/model/\u001b[0m\n",
      "\u001b[34mAutoGluon Version:  0.0.12b20200702\u001b[0m\n",
      "\u001b[34mTrain Data Rows:    53740\u001b[0m\n",
      "\u001b[34mTrain Data Columns: 18\u001b[0m\n",
      "\u001b[34mPreprocessing data ...\u001b[0m\n",
      "\u001b[34mHere are the 5 unique label values in your data:  [3, 2, 4, 1, 0]\u001b[0m\n",
      "\u001b[34mAutoGluon infers your prediction problem is: multiclass  (because dtype of label-column == int, but few unique label-values observed).\u001b[0m\n",
      "\u001b[34mIf this is wrong, please specify `problem_type` argument in fit() instead (You may specify problem_type as one of: ['binary', 'multiclass', 'regression'])\n",
      "\u001b[0m\n",
      "\u001b[34mTrain Data Class Count: 5\u001b[0m\n",
      "\u001b[34mFeature Generator processed 53740 data points with 17 features\u001b[0m\n",
      "\u001b[34mOriginal Features:\u001b[0m\n",
      "\u001b[34m#011int features: 5\u001b[0m\n",
      "\u001b[34m#011object features: 8\u001b[0m\n",
      "\u001b[34m#011float features: 4\u001b[0m\n",
      "\u001b[34mGenerated Features:\u001b[0m\n",
      "\u001b[34m#011int features: 0\u001b[0m\n",
      "\u001b[34mAll Features:\u001b[0m\n",
      "\u001b[34m#011int features: 5\u001b[0m\n",
      "\u001b[34m#011object features: 8\u001b[0m\n",
      "\u001b[34m#011float features: 4\u001b[0m\n",
      "\u001b[34m#011Data preprocessing and feature engineering runtime = 0.59s ...\u001b[0m\n",
      "\u001b[34mAutoGluon will gauge predictive performance using evaluation metric: accuracy\u001b[0m\n",
      "\u001b[34mTo change this, specify the eval_metric argument of fit()\u001b[0m\n",
      "\u001b[34mAutoGluon will early stop models using evaluation metric: accuracy\u001b[0m\n",
      "\u001b[34mFitting model: RandomForestClassifierGini ...\u001b[0m\n",
      "\u001b[34m#0110.4396#011 = Validation accuracy score\u001b[0m\n",
      "\u001b[34m#0114.29s#011 = Training runtime\u001b[0m\n",
      "\u001b[34m#0110.22s#011 = Validation runtime\u001b[0m\n",
      "\u001b[34mFitting model: RandomForestClassifierEntr ...\u001b[0m\n",
      "\u001b[34m#0110.4492#011 = Validation accuracy score\u001b[0m\n",
      "\u001b[34m#0118.89s#011 = Training runtime\u001b[0m\n",
      "\u001b[34m#0110.22s#011 = Validation runtime\u001b[0m\n",
      "\u001b[34mFitting model: ExtraTreesClassifierGini ...\u001b[0m\n",
      "\u001b[34m#0110.424#011 = Validation accuracy score\u001b[0m\n",
      "\u001b[34m#0112.62s#011 = Training runtime\u001b[0m\n",
      "\u001b[34m#0110.22s#011 = Validation runtime\u001b[0m\n",
      "\u001b[34mFitting model: ExtraTreesClassifierEntr ...\u001b[0m\n",
      "\u001b[34m#0110.4276#011 = Validation accuracy score\u001b[0m\n",
      "\u001b[34m#0113.41s#011 = Training runtime\u001b[0m\n",
      "\u001b[34m#0110.22s#011 = Validation runtime\u001b[0m\n",
      "\u001b[34mFitting model: KNeighborsClassifierUnif ...\u001b[0m\n",
      "\u001b[34m#0110.3244#011 = Validation accuracy score\u001b[0m\n",
      "\u001b[34m#0110.08s#011 = Training runtime\u001b[0m\n",
      "\u001b[34m#0110.11s#011 = Validation runtime\u001b[0m\n",
      "\u001b[34mFitting model: KNeighborsClassifierDist ...\u001b[0m\n",
      "\u001b[34m#0110.322#011 = Validation accuracy score\u001b[0m\n",
      "\u001b[34m#0110.08s#011 = Training runtime\u001b[0m\n",
      "\u001b[34m#0110.11s#011 = Validation runtime\u001b[0m\n",
      "\u001b[34mFitting model: LightGBMClassifier ...\u001b[0m\n",
      "\u001b[34m#0110.4516#011 = Validation accuracy score\u001b[0m\n",
      "\u001b[34m#0111.76s#011 = Training runtime\u001b[0m\n",
      "\u001b[34m#0110.03s#011 = Validation runtime\u001b[0m\n",
      "\u001b[34mFitting model: CatboostClassifier ...\u001b[0m\n",
      "\u001b[34m#0110.4568#011 = Validation accuracy score\u001b[0m\n",
      "\u001b[34m#0119.76s#011 = Training runtime\u001b[0m\n",
      "\u001b[34m#0110.07s#011 = Validation runtime\u001b[0m\n",
      "\u001b[34mFitting model: NeuralNetClassifier ...\u001b[0m\n",
      "\u001b[34m#0110.4584#011 = Validation accuracy score\u001b[0m\n",
      "\u001b[34m#011122.35s#011 = Training runtime\u001b[0m\n",
      "\u001b[34m#0112.19s#011 = Validation runtime\u001b[0m\n",
      "\u001b[34mFitting model: LightGBMClassifierCustom ...\u001b[0m\n",
      "\u001b[34m#0110.4596#011 = Validation accuracy score\u001b[0m\n",
      "\u001b[34m#0114.34s#011 = Training runtime\u001b[0m\n",
      "\u001b[34m#0110.04s#011 = Validation runtime\u001b[0m\n",
      "\u001b[34mFitting model: weighted_ensemble_k0_l1 ...\u001b[0m\n",
      "\u001b[34m#0110.4776#011 = Validation accuracy score\u001b[0m\n",
      "\u001b[34m#0110.71s#011 = Training runtime\u001b[0m\n",
      "\u001b[34m#0110.0s#011 = Validation runtime\u001b[0m\n",
      "\u001b[34mAutoGluon training complete, total runtime = 200.3s ...\u001b[0m\n",
      "\u001b[34mDeleting model KNeighborsClassifierUnif. All files under /opt/ml/model/models/KNeighborsClassifierUnif/ will be removed.\u001b[0m\n",
      "\u001b[34mDeleting model KNeighborsClassifierDist. All files under /opt/ml/model/models/KNeighborsClassifierDist/ will be removed.\u001b[0m\n",
      "\u001b[34mDeleting model LightGBMClassifier. All files under /opt/ml/model/models/LightGBMClassifier/ will be removed.\u001b[0m\n",
      "\u001b[34m*** Summary of fit() ***\u001b[0m\n",
      "\u001b[34mEstimated performance of each model:\n",
      "                        model  score_val  pred_time_val    fit_time  pred_time_val_marginal  fit_time_marginal  stack_level  can_infer\u001b[0m\n",
      "\u001b[34m0     weighted_ensemble_k0_l1     0.4776       3.169677  156.374593                0.001068           0.712693            1       True\u001b[0m\n",
      "\u001b[34m1    LightGBMClassifierCustom     0.4596       0.044643    4.336135                0.044643           4.336135            0       True\u001b[0m\n",
      "\u001b[34m2         NeuralNetClassifier     0.4584       2.193837  122.351733                2.193837         122.351733            0       True\u001b[0m\n",
      "\u001b[34m3          CatboostClassifier     0.4568       0.066771    9.764411                0.066771           9.764411            0       True\u001b[0m\n",
      "\u001b[34m4  RandomForestClassifierEntr     0.4492       0.215729    8.893560                0.215729           8.893560            0       True\u001b[0m\n",
      "\u001b[34m5  RandomForestClassifierGini     0.4396       0.215976    4.286882                0.215976           4.286882            0       True\u001b[0m\n",
      "\u001b[34m6    ExtraTreesClassifierEntr     0.4276       0.215928    3.409926                0.215928           3.409926            0       True\u001b[0m\n",
      "\u001b[34m7    ExtraTreesClassifierGini     0.4240       0.215725    2.619253                0.215725           2.619253            0       True\u001b[0m\n",
      "\u001b[34mNumber of models trained: 8\u001b[0m\n",
      "\u001b[34mTypes of models trained:\u001b[0m\n",
      "\u001b[34m{'XTModel', 'TabularNeuralNetModel', 'KNNModel', 'LGBModel', 'RFModel', 'CatboostModel', 'WeightedEnsembleModel'}\u001b[0m\n",
      "\u001b[34mBagging used: False \u001b[0m\n",
      "\u001b[34mStack-ensembling used: False \u001b[0m\n",
      "\u001b[34mHyperparameter-tuning used: False \u001b[0m\n",
      "\u001b[34mUser-specified hyperparameters:\u001b[0m\n",
      "\u001b[34m{'default': {'NN': [{}], 'GBM': [{}], 'CAT': [{}], 'RF': [{'criterion': 'gini', 'AG_args': {'name_suffix': 'Gini', 'problem_types': ['binary', 'multiclass']}}, {'criterion': 'entropy', 'AG_args': {'name_suffix': 'Entr', 'problem_types': ['binary', 'multiclass']}}], 'XT': [{'criterion': 'gini', 'AG_args': {'name_suffix': 'Gini', 'problem_types': ['binary', 'multiclass']}}, {'criterion': 'entropy', 'AG_args': {'name_suffix': 'Entr', 'problem_types': ['binary', 'multiclass']}}], 'KNN': [{'weights': 'uniform', 'AG_args': {'name_suffix': 'Unif'}}, {'weights': 'distance', 'AG_args': {'name_suffix': 'Dist'}}], 'custom': [{'num_boost_round': 10000, 'num_threads': -1, 'objective': 'multiclass', 'num_classes': 5, 'verbose': -1, 'boosting_type': 'gbdt', 'learning_rate': 0.03, 'num_leaves': 128, 'feature_fraction': 0.9, 'min_data_in_leaf': 3, 'two_round': True, 'seed_value': 0, 'AG_args': {'model_type': 'GBM', 'name_suffix': 'Custom', 'disable_in_hpo': True}}]}}\u001b[0m\n",
      "\u001b[34m*** End of fit() summary ***\u001b[0m\n",
      "\u001b[34mTest files: ['test.csv']\u001b[0m\n",
      "\u001b[34mRunning model on test data and getting Leaderboard...\u001b[0m\n",
      "\u001b[34m+----------------------------+---------------------+-----------+---------------------+---------------------+--------------------+-------------------------+------------------------+--------------------+-------------+-----------+\u001b[0m\n",
      "\u001b[34m|           model            |      score_test     | score_val |    pred_time_test   |    pred_time_val    |      fit_time      | pred_time_test_marginal | pred_time_val_marginal | fit_time_marginal  | stack_level | can_infer |\u001b[0m\n",
      "\u001b[34m+----------------------------+---------------------+-----------+---------------------+---------------------+--------------------+-------------------------+------------------------+--------------------+-------------+-----------+\u001b[0m\n",
      "\u001b[34m|     CatboostClassifier     |  0.4575766597201548 |   0.4568  | 0.09573578834533691 | 0.06677103042602539 | 9.764411449432373  |   0.09573578834533691   |  0.06677103042602539   | 9.764411449432373  |      0      |    True   |\u001b[0m\n",
      "\u001b[34m| RandomForestClassifierEntr |  0.4372581125334921 |   0.4492  |  0.7024602890014648 |  0.2157294750213623 | 8.893559694290161  |    0.7024602890014648   |   0.2157294750213623   | 8.893559694290161  |      0      |    True   |\u001b[0m\n",
      "\u001b[34m|  LightGBMClassifierCustom  | 0.43703483179517716 |   0.4596  | 0.17748475074768066 | 0.04464268684387207 | 4.336134910583496  |   0.17748475074768066   |  0.04464268684387207   | 4.336134910583496  |      0      |    True   |\u001b[0m\n",
      "\u001b[34m| RandomForestClassifierGini |  0.4351741589758857 |   0.4396  |  0.7234241962432861 | 0.21597599983215332 | 4.286881923675537  |    0.7234241962432861   |  0.21597599983215332   | 4.286881923675537  |      0      |    True   |\u001b[0m\n",
      "\u001b[34m|  weighted_ensemble_k0_l1   |  0.4243078297112236 |   0.4776  |  14.132460594177246 |  3.169677495956421  | 156.37459325790405 |   0.011112451553344727  | 0.0010678768157958984  | 0.7126927375793457 |      1      |    True   |\u001b[0m\n",
      "\u001b[34m|  ExtraTreesClassifierEntr  | 0.41716284608514437 |   0.4276  |  1.3337993621826172 |  0.215928316116333  | 3.409926414489746  |    1.3337993621826172   |   0.215928316116333    | 3.409926414489746  |      0      |    True   |\u001b[0m\n",
      "\u001b[34m|  ExtraTreesClassifierGini  |  0.4129949389699315 |   0.424   |  1.340937852859497  | 0.21572518348693848 | 2.619253396987915  |    1.340937852859497    |  0.21572518348693848   | 2.619253396987915  |      0      |    True   |\u001b[0m\n",
      "\u001b[34m|    NeuralNetClassifier     |  0.3162399523667758 |   0.4584  |  9.747505903244019  |  2.1938369274139404 | 122.35173273086548 |    9.747505903244019    |   2.1938369274139404   | 122.35173273086548 |      0      |    True   |\u001b[0m\n",
      "\u001b[34m+----------------------------+---------------------+-----------+---------------------+---------------------+--------------------+-------------------------+------------------------+--------------------+-------------+-----------+\n",
      "\u001b[0m\n",
      "\u001b[34mFeature importance:\u001b[0m\n",
      "\u001b[34mComputing raw permutation importance for 17 features on weighted_ensemble_k0_l1 ...\u001b[0m\n",
      "\u001b[34m#01183.8s#011= Expected runtime\u001b[0m\n",
      "\u001b[34m#01182.62s#011= Actual runtime\u001b[0m\n",
      "\u001b[34morder_weekday                      0.097\u001b[0m\n",
      "\u001b[34mcustomer_seller_state              0.037\u001b[0m\n",
      "\u001b[34mfreight_value                      0.032\u001b[0m\n",
      "\u001b[34mcustomer_zip_code_prefix           0.017\u001b[0m\n",
      "\u001b[34mcustomer_state                     0.014\u001b[0m\n",
      "\u001b[34mseller_zip_code_prefix             0.011\u001b[0m\n",
      "\u001b[34mproduct_category_name_english      0.006\u001b[0m\n",
      "\u001b[34mseller_city                        0.006\u001b[0m\n",
      "\u001b[34mseller_state                       0.005\u001b[0m\n",
      "\u001b[34mcustomer_city                      0.005\u001b[0m\n",
      "\u001b[34mcustomer_seller_city               0.002\u001b[0m\n",
      "\u001b[34mcustomer_seller_zip_code_prefix   -0.002\u001b[0m\n",
      "\u001b[34morder_month                       -0.003\u001b[0m\n",
      "\u001b[34mprice                             -0.003\u001b[0m\n",
      "\u001b[34mproduct_volume                    -0.003\u001b[0m\n",
      "\u001b[34morder_day                         -0.006\u001b[0m\n",
      "\u001b[34mproduct_weight_g                  -0.007\u001b[0m\n",
      "\u001b[34mdtype: float64\u001b[0m\n",
      "\u001b[34mModel export summary:\u001b[0m\n",
      "\u001b[34m/opt/ml/model/: ['models', 'learner.pkl']\u001b[0m\n",
      "\u001b[34m/opt/ml/model/models: ['trainer.pkl', 'NeuralNetClassifier', 'RandomForestClassifierGini', 'RandomForestClassifierEntr', 'weighted_ensemble_k0_l1', 'ExtraTreesClassifierEntr', 'ExtraTreesClassifierGini', 'CatboostClassifier', 'LightGBMClassifierCustom']\u001b[0m\n",
      "\u001b[34m/opt/ml/model directory size: 5.6G\n",
      "\u001b[0m\n",
      "\u001b[34mElapsed time: 345.652 seconds. Training Completed!\u001b[0m\n",
      "\u001b[34m2020-11-17 09:33:03,725 sagemaker-training-toolkit INFO     Reporting training SUCCESS\u001b[0m\n",
      "\n",
      "2020-11-17 09:33:07 Uploading - Uploading generated training model\n",
      "2020-11-17 09:39:31 Completed - Training job completed\n",
      "Training seconds: 821\n",
      "Billable seconds: 821\n"
     ]
    }
   ],
   "source": [
    "algo = AlgorithmEstimator(algorithm_arn=algorithm_arn, \n",
    "                          role=role, \n",
    "                          instance_count=1, \n",
    "                          instance_type=compatible_training_instance_type, \n",
    "                          sagemaker_session=session, \n",
    "                          base_job_name='autogluon',\n",
    "                          hyperparameters=hyperparameters,\n",
    "                          train_volume_size=100) \n",
    "\n",
    "inputs = {'training': train_s3_path, 'testing': test_s3_path}\n",
    "\n",
    "algo.fit(inputs)"
   ]
  },
  {
   "cell_type": "markdown",
   "metadata": {},
   "source": [
    "### Step 5: Deploy the model and perform a real-time inference"
   ]
  },
  {
   "cell_type": "markdown",
   "metadata": {},
   "source": [
    "#### 추론을 위한 엔드포인트 배포"
   ]
  },
  {
   "cell_type": "code",
   "execution_count": 32,
   "metadata": {},
   "outputs": [
    {
     "name": "stdout",
     "output_type": "stream",
     "text": [
      "..........\n",
      "---------------!CPU times: user 266 ms, sys: 32.7 ms, total: 298 ms\n",
      "Wall time: 8min 17s\n"
     ]
    }
   ],
   "source": [
    "%%time\n",
    "\n",
    "from sagemaker.serializers import CSVSerializer\n",
    "from sagemaker.deserializers import StringDeserializer\n",
    "\n",
    "predictor = algo.deploy(1, \n",
    "                        compatible_inference_instance_type, \n",
    "                        serializer=CSVSerializer(), \n",
    "                        deserializer=StringDeserializer())"
   ]
  },
  {
   "cell_type": "markdown",
   "metadata": {},
   "source": [
    "#### 레이블이 없는 테스트 데이터셋을 이용하여 예측 실행 \n",
    "\n",
    "Endpoint의 생성 및 호출결과는 CloudFront에서도 모니터링 가능합니다. \n",
    "- SageMaker 콘솔의 Endpoint 메뉴에서 Ednpoint를 클릭한 후 `View Logs`를 클릭하면 CloudWatch로 연결됩니다. "
   ]
  },
  {
   "cell_type": "code",
   "execution_count": 33,
   "metadata": {},
   "outputs": [
    {
     "name": "stdout",
     "output_type": "stream",
     "text": [
      "Counter({'2': 5681, '3': 3634, '1': 2000, '0': 1104, '4': 1017})\n"
     ]
    }
   ],
   "source": [
    "results = predictor.predict(X_test.to_csv(index=False)).splitlines()\n",
    "\n",
    "# Check output\n",
    "print(Counter(results))"
   ]
  },
  {
   "cell_type": "markdown",
   "metadata": {},
   "source": [
    "#### 레이블을 포함한 데이터를 이용하여 예측 실행 \n",
    "\n",
    "엔드포인트 로그에 성능 매트릭이 함께 표시됩니다.  \n",
    "- CloudWatch Logs에 다음과 유사한 로그가 생성되는지 확인합니다. \n",
    "\n",
    "```\n",
    "...\n",
    "2020-11-16 14:36:39,356 [INFO ] W-model-1-stdout com.amazonaws.ml.mms.wlm.WorkerLifeCycle - \"precision\": 0.9108522195098212,\n",
    "2020-11-16 14:36:39,356 [INFO ] W-model-1-stdout com.amazonaws.ml.mms.wlm.WorkerLifeCycle - \"recall\": 0.9189057947555843,\n",
    "2020-11-16 14:36:39,356 [INFO ] W-9000-model ACCESS_LOG - /127.0.0.1:50338 \"POST /invocations HTTP/1.1\" 200 2346\n",
    "2020-11-16 14:36:39,356 [INFO ] W-model-1-stdout com.amazonaws.ml.mms.wlm.WorkerLifeCycle - \"f1-score\": 0.9124150939348481,\n",
    "2020-11-16 14:36:39,356 [INFO ] W-model-1-stdout com.amazonaws.ml.mms.wlm.WorkerLifeCycle - \"support\": 12356\n",
    "2020-11-16 14:36:39,356 [INFO ] W-model-1-stdout com.amazonaws.ml.mms.wlm.WorkerLifeCycle -         }\n",
    "```"
   ]
  },
  {
   "cell_type": "markdown",
   "metadata": {},
   "source": [
    "#### 엔드포인트 성능 매트릭 직접 확인\n",
    "\n",
    "실제값과 예측결과를 비교하여 실제 분류 성능을 확인해 봅니다. \n"
   ]
  },
  {
   "cell_type": "code",
   "execution_count": 34,
   "metadata": {},
   "outputs": [],
   "source": [
    "y_results = list(map(int, results)) # Convert String to int\n",
    "y_test = y_test.values"
   ]
  },
  {
   "cell_type": "code",
   "execution_count": 35,
   "metadata": {},
   "outputs": [
    {
     "name": "stdout",
     "output_type": "stream",
     "text": [
      "accuracy: 0.4243078297112236\n",
      "              precision    recall  f1-score   support\n",
      "\n",
      "           0   0.629529  0.407625  0.494838      1705\n",
      "           1   0.538500  0.258770  0.349562      4162\n",
      "           2   0.436719  0.547078  0.485709      4535\n",
      "           3   0.327188  0.548432  0.409859      2168\n",
      "           4   0.254671  0.299076  0.275093       866\n",
      "\n",
      "    accuracy                       0.424308     13436\n",
      "   macro avg   0.437321  0.412196  0.403012     13436\n",
      "weighted avg   0.463307  0.424308  0.418880     13436\n",
      "\n"
     ]
    }
   ],
   "source": [
    "# y_results = np.array(results)\n",
    "\n",
    "print(\"accuracy: {}\".format(accuracy_score(y_true=y_test, y_pred=y_results)))\n",
    "print(classification_report(y_true=y_test, y_pred=y_results, digits=6))"
   ]
  },
  {
   "cell_type": "code",
   "execution_count": 36,
   "metadata": {},
   "outputs": [
    {
     "data": {
      "text/plain": [
       "<Figure size 432x288 with 0 Axes>"
      ]
     },
     "execution_count": 36,
     "metadata": {},
     "output_type": "execute_result"
    },
    {
     "name": "stdout",
     "output_type": "stream",
     "text": [
      "[[ 695  489  487   32    2]\n",
      " [ 224 1077 1840  923   98]\n",
      " [ 128  285 2481 1200  441]\n",
      " [  43  110  609 1189  217]\n",
      " [  14   39  264  290  259]]\n"
     ]
    },
    {
     "data": {
      "text/plain": [
       "<Figure size 432x288 with 0 Axes>"
      ]
     },
     "metadata": {},
     "output_type": "display_data"
    },
    {
     "data": {
      "image/png": "[encoded data removed]",
      "text/plain": [
       "<Figure size 720x360 with 2 Axes>"
      ]
     },
     "metadata": {
      "image/png": {
       "height": 351,
       "width": 413
      },
      "needs_background": "light"
     },
     "output_type": "display_data"
    }
   ],
   "source": [
    "from p_utils import plot_conf_mat\n",
    "\n",
    "\n",
    "from sklearn.metrics import confusion_matrix\n",
    "import matplotlib.pyplot as plt\n",
    "%matplotlib inline\n",
    "%config InlineBackend.figure_format='retina'\n",
    "\n",
    "cm = confusion_matrix(y_true= y_test, y_pred= y_results)\n",
    "\n",
    "plt.figure()\n",
    "fig, ax = plt.subplots(figsize=(10,5))\n",
    "plot_conf_mat(cm, \n",
    "              classes=['0','1', '2', '3', '4'], \n",
    "              title='Confusion Matrix')\n",
    "plt.show()"
   ]
  },
  {
   "cell_type": "markdown",
   "metadata": {},
   "source": [
    "## Step 6: Use Batch Transform [현재 에러 발생]\n",
    "이번에는 배치로 추론을 실행해 봅니다. 테스트 데이터셋에 레이블 컬럼을 추가함으로써, 예측 성능을 평가할 수 있습니다. (파라미터로 X_test_s3_path가 아닌 test_s3_path 를 전달하였습니다.)"
   ]
  },
  {
   "cell_type": "code",
   "execution_count": 38,
   "metadata": {},
   "outputs": [],
   "source": [
    "# output_path = f's3://{bucket}/{prefix}/output/'\n",
    "\n",
    "# transformer = algo.transformer(instance_count=1, \n",
    "#                                instance_type=compatible_inference_instance_type,\n",
    "#                                strategy='MultiRecord',\n",
    "#                                max_payload=6,\n",
    "#                                max_concurrent_transforms=1,                              \n",
    "#                                output_path=output_path)\n",
    "\n",
    "# transformer.transform(test_s3_path, content_type='text/csv', split_type='Line')\n",
    "# transformer.wait()"
   ]
  },
  {
   "cell_type": "code",
   "execution_count": 39,
   "metadata": {},
   "outputs": [],
   "source": [
    "# !aws s3 ls {output_path}"
   ]
  },
  {
   "cell_type": "code",
   "execution_count": 40,
   "metadata": {},
   "outputs": [],
   "source": [
    "# !aws s3 cp {output_path}test.csv.out test.csv.out"
   ]
  },
  {
   "cell_type": "code",
   "execution_count": 41,
   "metadata": {},
   "outputs": [],
   "source": [
    "# !head -n 5 test.csv.out"
   ]
  },
  {
   "cell_type": "markdown",
   "metadata": {},
   "source": [
    "### Step 7: Clean-up"
   ]
  },
  {
   "cell_type": "markdown",
   "metadata": {},
   "source": [
    "예측작업이 끝나면 추가 과금을 피하기 위해 엔드포인트를 삭제합니다. \n"
   ]
  },
  {
   "cell_type": "code",
   "execution_count": 42,
   "metadata": {},
   "outputs": [],
   "source": [
    "predictor.delete_endpoint()"
   ]
  },
  {
   "cell_type": "code",
   "execution_count": 43,
   "metadata": {},
   "outputs": [],
   "source": [
    "#Finally, delete the model you created.\n",
    "# predictor.delete_model()"
   ]
  },
  {
   "cell_type": "markdown",
   "metadata": {},
   "source": [
    "마지막으로, 테스트만을 목적으로 AWS 마켓플레이스에 subscribe한 경우 테스트 이후 unsubscribe를 할 수 있습니다.  \n",
    "subscription을 취소하기 전에 해당 알고리즘이나 모델 패키지로부터 배포된 [모델](https://console.aws.amazon.com/sagemaker/home#/models)에 있지 않은지 확인합니다. - 모델과 연관된 컨테이너를 통해 이를 확인할 수 있습니다.\n",
    "\n",
    "AWS 마켓플레이스 unsubscribe 하기\n",
    "1. [__Your Software subscriptions page__](https://aws.amazon.com/marketplace/ai/library?productType=ml&ref_=lbr_tab_ml)의 __Machine Learning__ 탭으로 이동합니다.\n",
    "1. subscription을 취소하고자 하는 리스트로 이동한 후 __Cancel Subscription__을 클릭합니다.\n"
   ]
  },
  {
   "cell_type": "code",
   "execution_count": null,
   "metadata": {},
   "outputs": [],
   "source": []
  }
 ],
 "metadata": {
  "kernelspec": {
   "display_name": "conda_python3",
   "language": "python",
   "name": "conda_python3"
  },
  "language_info": {
   "codemirror_mode": {
    "name": "ipython",
    "version": 3
   },
   "file_extension": ".py",
   "mimetype": "text/x-python",
   "name": "python",
   "nbconvert_exporter": "python",
   "pygments_lexer": "ipython3",
   "version": "3.6.10"
  }
 },
 "nbformat": 4,
 "nbformat_minor": 4
}
