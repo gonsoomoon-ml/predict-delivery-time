{
 "cells": [
  {
   "cell_type": "markdown",
   "metadata": {
    "Collapsed": "false"
   },
   "source": [
    "# [Module 3.5] AutoGluon Tabular with SageMaker\n",
    "\n",
    "아래 노트북은 Bring Your Own Container(BYOC)를 구현 했습니다.**아래 공식 예제와 코드를 데이터를 제외하고 거의 같습니다.** 여러분도 데이터만 교체하여 사용하실 수 있습니다.\n",
    "\n",
    "\n",
    "- AutoGluon Bring Your Own Container (BYOC) 예제\n",
    "    - https://github.com/aws/amazon-sagemaker-examples/tree/master/advanced_functionality/autogluon-tabular\n",
    "- AutoGluon 공식 Lab Git \n",
    "    - [AutoGluon](https://github.com/awslabs/autogluon) \n",
    "    \n",
    "    \n",
    "**편읙상 원본의 영문으로 된 것을 그대로 사용하고, 필요시에 한글로 설명이 있습니다.** \n",
    "\n",
    "##### 이 노트북은 소요 시간이 약 30 분 걸립니다.\n",
    "\n",
    "#### 다커에 익숙지 않으신 분은 아래를 확인 해주세요.\n",
    "- Hello docker (for 데이터 과학자 및 개발자 by 강성문)\n",
    "- https://github.com/mullue/hello-docker/blob/master/hello_docker.ipynb"
   ]
  },
  {
   "cell_type": "markdown",
   "metadata": {
    "Collapsed": "false"
   },
   "source": [
    "## Prerequisites\n",
    "\n",
    "If using a SageMaker hosted notebook, select kernel `conda_mxnet_p36`."
   ]
  },
  {
   "cell_type": "code",
   "execution_count": 1,
   "metadata": {
    "Collapsed": "false"
   },
   "outputs": [
    {
     "name": "stdout",
     "output_type": "stream",
     "text": [
      "The user has root access.\n",
      "SageMaker instance route table setup is ok. We are good to go.\n",
      "SageMaker instance routing for Docker is ok. We are good to go!\n"
     ]
    }
   ],
   "source": [
    "# Make sure docker compose is set up properly for local mode\n",
    "!./setup.sh"
   ]
  },
  {
   "cell_type": "code",
   "execution_count": 2,
   "metadata": {
    "Collapsed": "false"
   },
   "outputs": [],
   "source": [
    "import os\n",
    "import boto3\n",
    "import sagemaker\n",
    "from time import sleep\n",
    "from collections import Counter\n",
    "import numpy as np\n",
    "import pandas as pd\n",
    "from sagemaker import get_execution_role, local, Model, utils, s3\n",
    "from sagemaker.estimator import Estimator\n",
    "from sagemaker.predictor import Predictor\n",
    "from sagemaker.serializers import CSVSerializer\n",
    "from sagemaker.deserializers import StringDeserializer\n",
    "from sklearn.metrics import accuracy_score, classification_report\n",
    "from IPython.core.display import display, HTML\n",
    "from IPython.core.interactiveshell import InteractiveShell\n",
    "\n",
    "# Print settings\n",
    "InteractiveShell.ast_node_interactivity = \"all\"\n",
    "pd.set_option('display.max_columns', 500)\n",
    "pd.set_option('display.max_rows', 10)\n",
    "\n",
    "# Account/s3 setup\n",
    "session = sagemaker.Session()\n",
    "local_session = local.LocalSession()\n",
    "bucket = session.default_bucket()\n",
    "prefix = 'sagemaker/autogluon-tabular'\n",
    "region = session.boto_region_name\n",
    "role = get_execution_role()\n",
    "client = session.boto_session.client(\n",
    "    \"sts\", region_name=region, endpoint_url=utils.sts_regional_endpoint(region)\n",
    "    )\n",
    "account = client.get_caller_identity()['Account']\n",
    "\n",
    "registry_uri_training = sagemaker.image_uris.retrieve('mxnet', region, version= '1.6.0', py_version='py3', instance_type='ml.m5.2xlarge', image_scope='training')\n",
    "registry_uri_inference = sagemaker.image_uris.retrieve('mxnet', region, version= '1.6.0', py_version='py3', instance_type='ml.m5.2xlarge', image_scope='inference')\n",
    "ecr_uri_prefix = account +'.'+'.'.join(registry_uri_training.split('/')[0].split('.')[1:])"
   ]
  },
  {
   "cell_type": "markdown",
   "metadata": {
    "Collapsed": "false"
   },
   "source": [
    "### Build docker images"
   ]
  },
  {
   "cell_type": "markdown",
   "metadata": {
    "Collapsed": "false"
   },
   "source": [
    "Build the training/inference image and push to ECR"
   ]
  },
  {
   "cell_type": "code",
   "execution_count": 3,
   "metadata": {
    "Collapsed": "false"
   },
   "outputs": [],
   "source": [
    "training_algorithm_name = 'autogluon-sagemaker-training-pdt'\n",
    "inference_algorithm_name = 'autogluon-sagemaker-inference-pdt'"
   ]
  },
  {
   "cell_type": "code",
   "execution_count": 4,
   "metadata": {
    "Collapsed": "false"
   },
   "outputs": [
    {
     "name": "stdout",
     "output_type": "stream",
     "text": [
      "##### Build Training Image ###########\n",
      "WARNING! Using --password via the CLI is insecure. Use --password-stdin.\n",
      "WARNING! Your password will be stored unencrypted in /home/ec2-user/.docker/config.json.\n",
      "Configure a credential helper to remove this warning. See\n",
      "https://docs.docker.com/engine/reference/commandline/login/#credentials-store\n",
      "\n",
      "Login Succeeded\n",
      "WARNING! Using --password via the CLI is insecure. Use --password-stdin.\n",
      "WARNING! Your password will be stored unencrypted in /home/ec2-user/.docker/config.json.\n",
      "Configure a credential helper to remove this warning. See\n",
      "https://docs.docker.com/engine/reference/commandline/login/#credentials-store\n",
      "\n",
      "Login Succeeded\n",
      "Sending build context to Docker daemon  14.61GB\n",
      "Step 1/12 : ARG REGISTRY_URI\n",
      "Step 2/12 : FROM ${REGISTRY_URI}\n",
      " ---> 148136370d72\n",
      "Step 3/12 : RUN pip install autogluon\n",
      " ---> Using cache\n",
      " ---> 736b04ccce0b\n",
      "Step 4/12 : RUN pip install PrettyTable\n",
      " ---> Using cache\n",
      " ---> a79327219225\n",
      "Step 5/12 : RUN pip install bokeh\n",
      " ---> Using cache\n",
      " ---> 5a6f3df34774\n",
      "Step 6/12 : RUN apt-get update   && apt-get install -y --no-install-recommends graphviz libgraphviz-dev pkg-config   && rm -rf /var/lib/apt/lists/*   && pip install pygraphviz\n",
      " ---> Using cache\n",
      " ---> de37c29e0c1b\n",
      "Step 7/12 : ENV PATH=\"/opt/ml/code:${PATH}\"\n",
      " ---> Using cache\n",
      " ---> c3d13419a23b\n",
      "Step 8/12 : COPY container-training/train.py /opt/ml/code/train.py\n",
      " ---> Using cache\n",
      " ---> 99d3af924567\n",
      "Step 9/12 : COPY container-training/inference.py /opt/ml/code/inference.py\n",
      " ---> Using cache\n",
      " ---> 084321c41db8\n",
      "Step 10/12 : RUN pip install seaborn\n",
      " ---> Using cache\n",
      " ---> c666abc2328f\n",
      "Step 11/12 : ENV SAGEMAKER_SUBMIT_DIRECTORY /opt/ml/code\n",
      " ---> Using cache\n",
      " ---> 699816f56f52\n",
      "Step 12/12 : ENV SAGEMAKER_PROGRAM train.py\n",
      " ---> Using cache\n",
      " ---> cd82528f33dc\n",
      "Successfully built cd82528f33dc\n",
      "Successfully tagged autogluon-sagemaker-training-pdt:latest\n",
      "The push refers to repository [057716757052.dkr.ecr.ap-northeast-2.amazonaws.com/autogluon-sagemaker-training-pdt]\n",
      "\n",
      "\u001b[1Bb0840a18: Preparing \n",
      "\u001b[1Bd18bae69: Preparing \n",
      "\u001b[1B488e86b0: Preparing \n",
      "\u001b[1Bc2fe56f6: Preparing \n",
      "\u001b[1B100fca8d: Preparing \n",
      "\u001b[1Bfe72783f: Preparing \n",
      "\u001b[1Beb856127: Preparing \n",
      "\u001b[1B6fe3b4fb: Preparing \n",
      "\u001b[1B94763e92: Preparing \n",
      "\u001b[1Bdad077dd: Preparing \n",
      "\u001b[1B8d40f51f: Preparing \n",
      "\u001b[1B91740503: Preparing \n",
      "\u001b[1B06963fdb: Preparing \n",
      "\u001b[1B7c8af503: Preparing \n",
      "\u001b[1Bda04967b: Preparing \n",
      "\u001b[1B4d2f8170: Preparing \n",
      "\u001b[7B8d40f51f: Waiting g \n",
      "\u001b[13Be72783f: Waiting g \n",
      "\u001b[4B4d2f8170: Waiting g \n",
      "\u001b[1B40a5867e: Preparing \n",
      "\u001b[1Bd43b0774: Preparing \n",
      "\u001b[1B62d5f9b3: Preparing \n",
      "\u001b[1B90c5c0a5: Preparing \n",
      "\u001b[1B3a32fcfb: Preparing \n",
      "\u001b[1Ba71ce233: Preparing \n",
      "\u001b[5B62d5f9b3: Waiting g \n",
      "\u001b[7Bd43b0774: Waiting g \n",
      "\u001b[1B7f5e6796: Layer already exists \u001b[27A\u001b[2K\u001b[22A\u001b[2K\u001b[15A\u001b[2K\u001b[11A\u001b[2K\u001b[5A\u001b[2Klatest: digest: sha256:6a3bf42df0a075b9c8fc3926c062e4d4632a6de0504c830ba55f40bbeb0dd933 size: 6183\n",
      "##### Build Inference Image ###########\n",
      "WARNING! Using --password via the CLI is insecure. Use --password-stdin.\n",
      "WARNING! Your password will be stored unencrypted in /home/ec2-user/.docker/config.json.\n",
      "Configure a credential helper to remove this warning. See\n",
      "https://docs.docker.com/engine/reference/commandline/login/#credentials-store\n",
      "\n",
      "Login Succeeded\n",
      "WARNING! Using --password via the CLI is insecure. Use --password-stdin.\n",
      "WARNING! Your password will be stored unencrypted in /home/ec2-user/.docker/config.json.\n",
      "Configure a credential helper to remove this warning. See\n",
      "https://docs.docker.com/engine/reference/commandline/login/#credentials-store\n",
      "\n",
      "Login Succeeded\n",
      "Sending build context to Docker daemon  14.61GB\n",
      "Step 1/5 : ARG REGISTRY_URI\n",
      "Step 2/5 : FROM ${REGISTRY_URI}\n",
      " ---> ac9d36e4dca4\n",
      "Step 3/5 : RUN pip install autogluon\n",
      " ---> Using cache\n",
      " ---> 826d2318649f\n",
      "Step 4/5 : RUN pip install PrettyTable\n",
      " ---> Using cache\n",
      " ---> 403562626280\n",
      "Step 5/5 : ENV SAGEMAKER_PROGRAM inference.py\n",
      " ---> Using cache\n",
      " ---> 58e8b04fe4df\n",
      "Successfully built 58e8b04fe4df\n",
      "Successfully tagged autogluon-sagemaker-inference-pdt:latest\n",
      "The push refers to repository [057716757052.dkr.ecr.ap-northeast-2.amazonaws.com/autogluon-sagemaker-inference-pdt]\n",
      "\n",
      "\u001b[1Bf18e7531: Preparing \n",
      "\u001b[1B57beef4c: Preparing \n",
      "\u001b[1B3ff8312b: Preparing \n",
      "\u001b[1B59ec0d8a: Preparing \n",
      "\u001b[1B12639dc5: Preparing \n",
      "\u001b[1B0e9af77f: Preparing \n",
      "\u001b[1Bbdb96df8: Preparing \n",
      "\u001b[1B34244b0d: Preparing \n",
      "\u001b[1B229eddc1: Preparing \n",
      "\u001b[1Baceca18a: Preparing \n",
      "\u001b[1Beee005c5: Preparing \n",
      "\u001b[1B2cfcc32d: Preparing \n",
      "\u001b[1Bbf2f5ca8: Preparing \n",
      "\u001b[1B1292030a: Preparing \n",
      "\u001b[1B8ef677a1: Preparing \n",
      "\u001b[1B795fc39e: Preparing \n",
      "\u001b[1Bdf18e61b: Preparing \n",
      "\u001b[1Ba71ce233: Preparing \n",
      "\u001b[1Bddf6a67c: Preparing \n",
      "\u001b[1B6de3ff64: Preparing \n",
      "\u001b[1B7f5e6796: Layer already exists \u001b[18A\u001b[2K\u001b[12A\u001b[2K\u001b[7A\u001b[2K\u001b[3A\u001b[2Klatest: digest: sha256:fff3949787619e301be7d0b8a77e3d544785e257015d266dbf8fb19d3c763eb6 size: 4716\n"
     ]
    }
   ],
   "source": [
    "print(\"##### Build Training Image ###########\")\n",
    "!/bin/bash ./container-training/build_push_training.sh {account} {region} {training_algorithm_name} {ecr_uri_prefix} {registry_uri_training.split('/')[0].split('.')[0]} {registry_uri_training}\n",
    "print(\"##### Build Inference Image ###########\")\n",
    "!/bin/bash ./container-inference/build_push_inference.sh {account} {region} {inference_algorithm_name} {ecr_uri_prefix} {registry_uri_training.split('/')[0].split('.')[0]} {registry_uri_inference}"
   ]
  },
  {
   "cell_type": "markdown",
   "metadata": {
    "Collapsed": "false"
   },
   "source": [
    "### 데이터 로딩"
   ]
  },
  {
   "cell_type": "markdown",
   "metadata": {
    "Collapsed": "false"
   },
   "source": [
    "기존에 만든 데이터를 로딩하고 합니다. AutoGluon 이용시 별도의 검증(validation)셋의 생성은 필요하지 않습니다. (내부적으로 k-fold cross-validation을 이용합니다.)\n"
   ]
  },
  {
   "cell_type": "code",
   "execution_count": 5,
   "metadata": {},
   "outputs": [
    {
     "name": "stdout",
     "output_type": "stream",
     "text": [
      "auto_train_file:  (53740, 18)\n",
      "auto_train_file:  (13436, 18)\n"
     ]
    },
    {
     "data": {
      "text/html": [
       "<div>\n",
       "<style scoped>\n",
       "    .dataframe tbody tr th:only-of-type {\n",
       "        vertical-align: middle;\n",
       "    }\n",
       "\n",
       "    .dataframe tbody tr th {\n",
       "        vertical-align: top;\n",
       "    }\n",
       "\n",
       "    .dataframe thead th {\n",
       "        text-align: right;\n",
       "    }\n",
       "</style>\n",
       "<table border=\"1\" class=\"dataframe\">\n",
       "  <thead>\n",
       "    <tr style=\"text-align: right;\">\n",
       "      <th></th>\n",
       "      <th>classes</th>\n",
       "      <th>customer_zip_code_prefix</th>\n",
       "      <th>customer_city</th>\n",
       "      <th>customer_state</th>\n",
       "      <th>price</th>\n",
       "      <th>freight_value</th>\n",
       "      <th>product_weight_g</th>\n",
       "      <th>product_category_name_english</th>\n",
       "      <th>seller_zip_code_prefix</th>\n",
       "      <th>seller_city</th>\n",
       "      <th>seller_state</th>\n",
       "      <th>order_weekday</th>\n",
       "      <th>order_day</th>\n",
       "      <th>order_month</th>\n",
       "      <th>customer_seller_state</th>\n",
       "      <th>customer_seller_city</th>\n",
       "      <th>customer_seller_zip_code_prefix</th>\n",
       "      <th>product_volume</th>\n",
       "    </tr>\n",
       "  </thead>\n",
       "  <tbody>\n",
       "    <tr>\n",
       "      <th>0</th>\n",
       "      <td>3</td>\n",
       "      <td>12030</td>\n",
       "      <td>taubate</td>\n",
       "      <td>SP</td>\n",
       "      <td>29.99</td>\n",
       "      <td>10.96</td>\n",
       "      <td>9000.0</td>\n",
       "      <td>fashion_shoes</td>\n",
       "      <td>13481</td>\n",
       "      <td>limeira</td>\n",
       "      <td>SP</td>\n",
       "      <td>1</td>\n",
       "      <td>4</td>\n",
       "      <td>10</td>\n",
       "      <td>SP_SP</td>\n",
       "      <td>taubate_limeira</td>\n",
       "      <td>12030_13481</td>\n",
       "      <td>2640.0</td>\n",
       "    </tr>\n",
       "    <tr>\n",
       "      <th>1</th>\n",
       "      <td>2</td>\n",
       "      <td>78075</td>\n",
       "      <td>cuiaba</td>\n",
       "      <td>MT</td>\n",
       "      <td>23.90</td>\n",
       "      <td>26.82</td>\n",
       "      <td>1500.0</td>\n",
       "      <td>furniture_decor</td>\n",
       "      <td>17051</td>\n",
       "      <td>bauru</td>\n",
       "      <td>SP</td>\n",
       "      <td>1</td>\n",
       "      <td>4</td>\n",
       "      <td>10</td>\n",
       "      <td>MT_SP</td>\n",
       "      <td>cuiaba_bauru</td>\n",
       "      <td>78075_17051</td>\n",
       "      <td>14625.0</td>\n",
       "    </tr>\n",
       "  </tbody>\n",
       "</table>\n",
       "</div>"
      ],
      "text/plain": [
       "   classes  customer_zip_code_prefix customer_city customer_state  price  \\\n",
       "0        3                     12030       taubate             SP  29.99   \n",
       "1        2                     78075        cuiaba             MT  23.90   \n",
       "\n",
       "   freight_value  product_weight_g product_category_name_english  \\\n",
       "0          10.96            9000.0                 fashion_shoes   \n",
       "1          26.82            1500.0               furniture_decor   \n",
       "\n",
       "   seller_zip_code_prefix seller_city seller_state  order_weekday  order_day  \\\n",
       "0                   13481     limeira           SP              1          4   \n",
       "1                   17051       bauru           SP              1          4   \n",
       "\n",
       "   order_month customer_seller_state customer_seller_city  \\\n",
       "0           10                 SP_SP      taubate_limeira   \n",
       "1           10                 MT_SP         cuiaba_bauru   \n",
       "\n",
       "  customer_seller_zip_code_prefix  product_volume  \n",
       "0                     12030_13481          2640.0  \n",
       "1                     78075_17051         14625.0  "
      ]
     },
     "metadata": {},
     "output_type": "display_data"
    },
    {
     "data": {
      "text/html": [
       "<div>\n",
       "<style scoped>\n",
       "    .dataframe tbody tr th:only-of-type {\n",
       "        vertical-align: middle;\n",
       "    }\n",
       "\n",
       "    .dataframe tbody tr th {\n",
       "        vertical-align: top;\n",
       "    }\n",
       "\n",
       "    .dataframe thead th {\n",
       "        text-align: right;\n",
       "    }\n",
       "</style>\n",
       "<table border=\"1\" class=\"dataframe\">\n",
       "  <thead>\n",
       "    <tr style=\"text-align: right;\">\n",
       "      <th></th>\n",
       "      <th>classes</th>\n",
       "      <th>customer_zip_code_prefix</th>\n",
       "      <th>customer_city</th>\n",
       "      <th>customer_state</th>\n",
       "      <th>price</th>\n",
       "      <th>freight_value</th>\n",
       "      <th>product_weight_g</th>\n",
       "      <th>product_category_name_english</th>\n",
       "      <th>seller_zip_code_prefix</th>\n",
       "      <th>seller_city</th>\n",
       "      <th>seller_state</th>\n",
       "      <th>order_weekday</th>\n",
       "      <th>order_day</th>\n",
       "      <th>order_month</th>\n",
       "      <th>customer_seller_state</th>\n",
       "      <th>customer_seller_city</th>\n",
       "      <th>customer_seller_zip_code_prefix</th>\n",
       "      <th>product_volume</th>\n",
       "    </tr>\n",
       "  </thead>\n",
       "  <tbody>\n",
       "    <tr>\n",
       "      <th>0</th>\n",
       "      <td>3</td>\n",
       "      <td>89219</td>\n",
       "      <td>joinville</td>\n",
       "      <td>SC</td>\n",
       "      <td>105.00</td>\n",
       "      <td>23.89</td>\n",
       "      <td>1000.0</td>\n",
       "      <td>watches_gifts</td>\n",
       "      <td>21840</td>\n",
       "      <td>rio de janeiro</td>\n",
       "      <td>RJ</td>\n",
       "      <td>1</td>\n",
       "      <td>19</td>\n",
       "      <td>6</td>\n",
       "      <td>SC_RJ</td>\n",
       "      <td>joinville_rio de janeiro</td>\n",
       "      <td>89219_21840</td>\n",
       "      <td>7632.0</td>\n",
       "    </tr>\n",
       "    <tr>\n",
       "      <th>1</th>\n",
       "      <td>0</td>\n",
       "      <td>9950</td>\n",
       "      <td>diadema</td>\n",
       "      <td>SP</td>\n",
       "      <td>99.97</td>\n",
       "      <td>15.80</td>\n",
       "      <td>650.0</td>\n",
       "      <td>housewares</td>\n",
       "      <td>32677</td>\n",
       "      <td>betim</td>\n",
       "      <td>MG</td>\n",
       "      <td>1</td>\n",
       "      <td>19</td>\n",
       "      <td>6</td>\n",
       "      <td>SP_MG</td>\n",
       "      <td>diadema_betim</td>\n",
       "      <td>9950_32677</td>\n",
       "      <td>9600.0</td>\n",
       "    </tr>\n",
       "  </tbody>\n",
       "</table>\n",
       "</div>"
      ],
      "text/plain": [
       "   classes  customer_zip_code_prefix customer_city customer_state   price  \\\n",
       "0        3                     89219     joinville             SC  105.00   \n",
       "1        0                      9950       diadema             SP   99.97   \n",
       "\n",
       "   freight_value  product_weight_g product_category_name_english  \\\n",
       "0          23.89            1000.0                 watches_gifts   \n",
       "1          15.80             650.0                    housewares   \n",
       "\n",
       "   seller_zip_code_prefix     seller_city seller_state  order_weekday  \\\n",
       "0                   21840  rio de janeiro           RJ              1   \n",
       "1                   32677           betim           MG              1   \n",
       "\n",
       "   order_day  order_month customer_seller_state      customer_seller_city  \\\n",
       "0         19            6                 SC_RJ  joinville_rio de janeiro   \n",
       "1         19            6                 SP_MG             diadema_betim   \n",
       "\n",
       "  customer_seller_zip_code_prefix  product_volume  \n",
       "0                     89219_21840          7632.0  \n",
       "1                      9950_32677          9600.0  "
      ]
     },
     "metadata": {},
     "output_type": "display_data"
    },
    {
     "data": {
      "text/html": [
       "<div>\n",
       "<style scoped>\n",
       "    .dataframe tbody tr th:only-of-type {\n",
       "        vertical-align: middle;\n",
       "    }\n",
       "\n",
       "    .dataframe tbody tr th {\n",
       "        vertical-align: top;\n",
       "    }\n",
       "\n",
       "    .dataframe thead th {\n",
       "        text-align: right;\n",
       "    }\n",
       "</style>\n",
       "<table border=\"1\" class=\"dataframe\">\n",
       "  <thead>\n",
       "    <tr style=\"text-align: right;\">\n",
       "      <th></th>\n",
       "      <th>customer_zip_code_prefix</th>\n",
       "      <th>customer_city</th>\n",
       "      <th>customer_state</th>\n",
       "      <th>price</th>\n",
       "      <th>freight_value</th>\n",
       "      <th>product_weight_g</th>\n",
       "      <th>product_category_name_english</th>\n",
       "      <th>seller_zip_code_prefix</th>\n",
       "      <th>seller_city</th>\n",
       "      <th>seller_state</th>\n",
       "      <th>order_weekday</th>\n",
       "      <th>order_day</th>\n",
       "      <th>order_month</th>\n",
       "      <th>customer_seller_state</th>\n",
       "      <th>customer_seller_city</th>\n",
       "      <th>customer_seller_zip_code_prefix</th>\n",
       "      <th>product_volume</th>\n",
       "    </tr>\n",
       "  </thead>\n",
       "  <tbody>\n",
       "    <tr>\n",
       "      <th>0</th>\n",
       "      <td>89219</td>\n",
       "      <td>joinville</td>\n",
       "      <td>SC</td>\n",
       "      <td>105.00</td>\n",
       "      <td>23.89</td>\n",
       "      <td>1000.0</td>\n",
       "      <td>watches_gifts</td>\n",
       "      <td>21840</td>\n",
       "      <td>rio de janeiro</td>\n",
       "      <td>RJ</td>\n",
       "      <td>1</td>\n",
       "      <td>19</td>\n",
       "      <td>6</td>\n",
       "      <td>SC_RJ</td>\n",
       "      <td>joinville_rio de janeiro</td>\n",
       "      <td>89219_21840</td>\n",
       "      <td>7632.0</td>\n",
       "    </tr>\n",
       "    <tr>\n",
       "      <th>1</th>\n",
       "      <td>9950</td>\n",
       "      <td>diadema</td>\n",
       "      <td>SP</td>\n",
       "      <td>99.97</td>\n",
       "      <td>15.80</td>\n",
       "      <td>650.0</td>\n",
       "      <td>housewares</td>\n",
       "      <td>32677</td>\n",
       "      <td>betim</td>\n",
       "      <td>MG</td>\n",
       "      <td>1</td>\n",
       "      <td>19</td>\n",
       "      <td>6</td>\n",
       "      <td>SP_MG</td>\n",
       "      <td>diadema_betim</td>\n",
       "      <td>9950_32677</td>\n",
       "      <td>9600.0</td>\n",
       "    </tr>\n",
       "  </tbody>\n",
       "</table>\n",
       "</div>"
      ],
      "text/plain": [
       "   customer_zip_code_prefix customer_city customer_state   price  \\\n",
       "0                     89219     joinville             SC  105.00   \n",
       "1                      9950       diadema             SP   99.97   \n",
       "\n",
       "   freight_value  product_weight_g product_category_name_english  \\\n",
       "0          23.89            1000.0                 watches_gifts   \n",
       "1          15.80             650.0                    housewares   \n",
       "\n",
       "   seller_zip_code_prefix     seller_city seller_state  order_weekday  \\\n",
       "0                   21840  rio de janeiro           RJ              1   \n",
       "1                   32677           betim           MG              1   \n",
       "\n",
       "   order_day  order_month customer_seller_state      customer_seller_city  \\\n",
       "0         19            6                 SC_RJ  joinville_rio de janeiro   \n",
       "1         19            6                 SP_MG             diadema_betim   \n",
       "\n",
       "  customer_seller_zip_code_prefix  product_volume  \n",
       "0                     89219_21840          7632.0  \n",
       "1                      9950_32677          9600.0  "
      ]
     },
     "metadata": {},
     "output_type": "display_data"
    }
   ],
   "source": [
    "%store -r no_auto_train_file\n",
    "%store -r no_auto_test_file\n",
    "\n",
    "train = pd.read_csv(no_auto_train_file)\n",
    "test = pd.read_csv(no_auto_test_file)\n",
    "\n",
    "# Split test X/y\n",
    "label = 'classes'\n",
    "y_test = test[label]\n",
    "X_test = test.drop(columns=[label])\n",
    "print(\"auto_train_file: \", train.shape)\n",
    "print(\"auto_train_file: \", test.shape)\n",
    "\n",
    "\n",
    "\n",
    "from IPython.display import display as dp\n",
    "dp(train.head(2))\n",
    "dp(test.head(2))\n",
    "dp(X_test.head(2))\n",
    "\n",
    "\n"
   ]
  },
  {
   "cell_type": "markdown",
   "metadata": {
    "Collapsed": "false"
   },
   "source": [
    "Upload the data to s3"
   ]
  },
  {
   "cell_type": "code",
   "execution_count": 6,
   "metadata": {},
   "outputs": [
    {
     "name": "stdout",
     "output_type": "stream",
     "text": [
      "train_s3_path:  s3://sagemaker-ap-northeast-2-057716757052/autogluon/predict-deliver-time/data/preproc_data/auto_no_fe/train/train.csv\n",
      "test_s3_path:  s3://sagemaker-ap-northeast-2-057716757052/autogluon/predict-deliver-time/data/preproc_data/auto_no_fe/test/test.csv\n"
     ]
    }
   ],
   "source": [
    "from p_utils import upload_s3\n",
    "\n",
    "# Upload train. test file\n",
    "data_prefix = 'autogluon/predict-deliver-time/data'\n",
    "\n",
    "train_s3_path = upload_s3(bucket, no_auto_train_file, data_prefix)\n",
    "test_s3_path = upload_s3(bucket, no_auto_test_file, data_prefix)\n",
    "print(\"train_s3_path: \", train_s3_path)\n",
    "print(\"test_s3_path: \", test_s3_path)"
   ]
  },
  {
   "cell_type": "code",
   "execution_count": 7,
   "metadata": {
    "Collapsed": "false"
   },
   "outputs": [],
   "source": [
    "# train_file = 'train.csv'\n",
    "# train.to_csv(train_file,index=False)\n",
    "# train_s3_path = session.upload_data(train_file, key_prefix='{}/data'.format(prefix))\n",
    "\n",
    "# test_file = 'test.csv'\n",
    "# test.to_csv(test_file,index=False)\n",
    "# test_s3_path = session.upload_data(test_file, key_prefix='{}/data'.format(prefix))\n",
    "\n",
    "# X_test_file = 'X_test.csv'\n",
    "# X_test.to_csv(X_test_file,index=False)\n",
    "# X_test_s3_path = session.upload_data(X_test_file, key_prefix='{}/data'.format(prefix))"
   ]
  },
  {
   "cell_type": "markdown",
   "metadata": {
    "Collapsed": "false"
   },
   "source": [
    "## 하이퍼 파라미터를 설정 \n",
    "실제 훈련을 하기 전에 훈련 이미지에 (훈련 코드 + 프레임워크 (MXNET, AutoGluon)) 파리미터를 제공 합니다. \n",
    "- 가장 중요한 파라미터는 아래와 같습니다.\n",
    "    - label에 현재 데이터 셋의 레이블 컬럼을 입력해야 합니다.\n",
    "    - presets은 모델이 '배포에 최적화' 하도록 파라미터 값을 제공 합니다. \n",
    "    - feature_importance: 추론후에 피쳐의 중요성을 프린트 합니다. (훈련 로그 참조)\n",
    "```\n",
    "fit_args = {\n",
    "  'label': 'classes',\n",
    "  # Adding 'best_quality' to presets list will result in better performance (but longer runtime)\n",
    "  'presets': ['optimize_for_deployment'],\n",
    "}\n",
    "hyperparameters = {\n",
    "  'fit_args': fit_args,\n",
    "  'feature_importance': True\n",
    "}\n",
    "```\n",
    "\n",
    "## Hyperparameter Selection\n",
    "\n",
    "The minimum required settings for training is just a target label, `fit_args['label']`.\n",
    "\n",
    "Additional optional hyperparameters can be passed to the `autogluon.task.TabularPrediction.fit` function via `fit_args`.\n",
    "\n",
    "Below shows a more in depth example of AutoGluon-Tabular hyperparameters from the example [Predicting Columns in a Table - In Depth](https://autogluon.mxnet.io/tutorials/tabular_prediction/tabular-indepth.html#model-ensembling-with-stacking-bagging). Please see [fit parameters](https://autogluon.mxnet.io/api/autogluon.task.html?highlight=eval_metric#autogluon.task.TabularPrediction.fit) for further information. Note that in order for hyperparameter ranges to work in SageMaker, values passed to the `fit_args['hyperparameters']` must be represented as strings.\n",
    "\n",
    "```python\n",
    "nn_options = {\n",
    "    'num_epochs': \"10\",\n",
    "    'learning_rate': \"ag.space.Real(1e-4, 1e-2, default=5e-4, log=True)\",\n",
    "    'activation': \"ag.space.Categorical('relu', 'softrelu', 'tanh')\",\n",
    "    'layers': \"ag.space.Categorical([100],[1000],[200,100],[300,200,100])\",\n",
    "    'dropout_prob': \"ag.space.Real(0.0, 0.5, default=0.1)\"\n",
    "}\n",
    "\n",
    "gbm_options = {\n",
    "    'num_boost_round': \"100\",\n",
    "    'num_leaves': \"ag.space.Int(lower=26, upper=66, default=36)\"\n",
    "}\n",
    "\n",
    "model_hps = {'NN': nn_options, 'GBM': gbm_options} \n",
    "\n",
    "fit_args = {\n",
    "  'label': 'y',\n",
    "  'presets': ['best_quality', 'optimize_for_deployment'],\n",
    "  'time_limits': 60*10,\n",
    "  'hyperparameters': model_hps,\n",
    "  'hyperparameter_tune': True,\n",
    "  'search_strategy': 'skopt'\n",
    "}\n",
    "\n",
    "hyperparameters = {\n",
    "  'fit_args': fit_args,\n",
    "  'feature_importance': True\n",
    "}\n",
    "```\n",
    "**Note:** Your hyperparameter choices may affect the size of the model package, which could result in additional time taken to upload your model and complete training. Including `'optimize_for_deployment'` in the list of `fit_args['presets']` is recommended to greatly reduce upload times.\n",
    "\n",
    "<br>"
   ]
  },
  {
   "cell_type": "code",
   "execution_count": 8,
   "metadata": {
    "Collapsed": "false"
   },
   "outputs": [],
   "source": [
    "# Define required label and optional additional parameters\n",
    "fit_args = {\n",
    "  'label': 'classes',\n",
    "  # Adding 'best_quality' to presets list will result in better performance (but longer runtime)\n",
    "  'presets': ['optimize_for_deployment'],\n",
    "}\n",
    "\n",
    "# Pass fit_args to SageMaker estimator hyperparameters\n",
    "hyperparameters = {\n",
    "  'fit_args': fit_args,\n",
    "  'feature_importance': True\n",
    "}\n",
    "\n",
    "tags = [{\n",
    "    'Key' : 'AlgorithmName',\n",
    "    'Value' : 'AutoGluon-Tabular'\n",
    "}]"
   ]
  },
  {
   "cell_type": "markdown",
   "metadata": {
    "Collapsed": "false"
   },
   "source": [
    "## 훈련\n",
    "훈련에는 로컬 모드와 세이지 메이커의 클라우드 클러스터에서 실행할 수 있습니다. 처음 실행시에는 **로컬 모드** 를 사용 하세요. 시간이 절약 됩니다.\n",
    "## Train \n",
    "\n",
    "For local training set `train_instance_type` to `local` .   \n",
    "For non-local training the recommended instance type is `ml.m5.2xlarge`.   \n",
    "\n",
    "**Note:** Depending on how many underlying models are trained, `train_volume_size` may need to be increased so that they all fit on disk."
   ]
  },
  {
   "cell_type": "code",
   "execution_count": 9,
   "metadata": {
    "Collapsed": "false"
   },
   "outputs": [
    {
     "name": "stdout",
     "output_type": "stream",
     "text": [
      "CPU times: user 40.1 ms, sys: 3.95 ms, total: 44.1 ms\n",
      "Wall time: 1.05 s\n"
     ]
    }
   ],
   "source": [
    "%%time\n",
    "\n",
    "instance_type = 'ml.m5.2xlarge'\n",
    "#instance_type = 'local'\n",
    "\n",
    "ecr_image = f'{ecr_uri_prefix}/{training_algorithm_name}:latest'\n",
    "\n",
    "estimator = Estimator(image_uri=ecr_image,\n",
    "                      role=role,\n",
    "                      instance_count=1,\n",
    "                      instance_type=instance_type,\n",
    "                      hyperparameters=hyperparameters,\n",
    "                      volume_size=100,\n",
    "                      tags=tags)\n",
    "\n",
    "# Set inputs. Test data is optional, but requires a label column.\n",
    "inputs = {'training': train_s3_path, 'testing': test_s3_path}\n",
    "\n"
   ]
  },
  {
   "cell_type": "code",
   "execution_count": 10,
   "metadata": {},
   "outputs": [
    {
     "name": "stdout",
     "output_type": "stream",
     "text": [
      "2020-11-17 09:19:09 Starting - Starting the training job...\n",
      "2020-11-17 09:19:12 Starting - Launching requested ML instances......\n",
      "2020-11-17 09:20:34 Starting - Preparing the instances for training......\n",
      "2020-11-17 09:21:37 Downloading - Downloading input data\n",
      "2020-11-17 09:21:37 Training - Downloading the training image.........\n",
      "2020-11-17 09:22:57 Training - Training image download completed. Training in progress.\u001b[34m2020-11-17 09:22:57,164 sagemaker-training-toolkit INFO     Imported framework sagemaker_mxnet_container.training\u001b[0m\n",
      "\u001b[34m2020-11-17 09:22:57,167 sagemaker-training-toolkit INFO     No GPUs detected (normal if no gpus installed)\u001b[0m\n",
      "\u001b[34m2020-11-17 09:22:57,167 sagemaker-training-toolkit INFO     Failed to parse hyperparameter fit_args value {'label': 'classes', 'presets': ['optimize_for_deployment']} to Json.\u001b[0m\n",
      "\u001b[34mReturning the value itself\u001b[0m\n",
      "\u001b[34m2020-11-17 09:22:57,167 sagemaker-training-toolkit INFO     Failed to parse hyperparameter feature_importance value True to Json.\u001b[0m\n",
      "\u001b[34mReturning the value itself\u001b[0m\n",
      "\u001b[34m2020-11-17 09:22:57,178 sagemaker_mxnet_container.training INFO     MXNet training environment: {'SM_HOSTS': '[\"algo-1\"]', 'SM_NETWORK_INTERFACE_NAME': 'eth0', 'SM_HPS': '{\"feature_importance\":\"True\",\"fit_args\":\"{\\'label\\': \\'classes\\', \\'presets\\': [\\'optimize_for_deployment\\']}\"}', 'SM_USER_ENTRY_POINT': 'train.py', 'SM_FRAMEWORK_PARAMS': '{}', 'SM_RESOURCE_CONFIG': '{\"current_host\":\"algo-1\",\"hosts\":[\"algo-1\"],\"network_interface_name\":\"eth0\"}', 'SM_INPUT_DATA_CONFIG': '{\"testing\":{\"RecordWrapperType\":\"None\",\"S3DistributionType\":\"FullyReplicated\",\"TrainingInputMode\":\"File\"},\"training\":{\"RecordWrapperType\":\"None\",\"S3DistributionType\":\"FullyReplicated\",\"TrainingInputMode\":\"File\"}}', 'SM_OUTPUT_DATA_DIR': '/opt/ml/output/data', 'SM_CHANNELS': '[\"testing\",\"training\"]', 'SM_CURRENT_HOST': 'algo-1', 'SM_MODULE_NAME': 'train', 'SM_LOG_LEVEL': '20', 'SM_FRAMEWORK_MODULE': 'sagemaker_mxnet_container.training:main', 'SM_INPUT_DIR': '/opt/ml/input', 'SM_INPUT_CONFIG_DIR': '/opt/ml/input/config', 'SM_OUTPUT_DIR': '/opt/ml/output', 'SM_NUM_CPUS': '8', 'SM_NUM_GPUS': '0', 'SM_MODEL_DIR': '/opt/ml/model', 'SM_MODULE_DIR': '/opt/ml/code', 'SM_TRAINING_ENV': '{\"additional_framework_parameters\":{},\"channel_input_dirs\":{\"testing\":\"/opt/ml/input/data/testing\",\"training\":\"/opt/ml/input/data/training\"},\"current_host\":\"algo-1\",\"framework_module\":\"sagemaker_mxnet_container.training:main\",\"hosts\":[\"algo-1\"],\"hyperparameters\":{\"feature_importance\":\"True\",\"fit_args\":\"{\\'label\\': \\'classes\\', \\'presets\\': [\\'optimize_for_deployment\\']}\"},\"input_config_dir\":\"/opt/ml/input/config\",\"input_data_config\":{\"testing\":{\"RecordWrapperType\":\"None\",\"S3DistributionType\":\"FullyReplicated\",\"TrainingInputMode\":\"File\"},\"training\":{\"RecordWrapperType\":\"None\",\"S3DistributionType\":\"FullyReplicated\",\"TrainingInputMode\":\"File\"}},\"input_dir\":\"/opt/ml/input\",\"is_master\":true,\"job_name\":\"autogluon-sagemaker-training-pdt-2020-11-17-09-19-09-315\",\"log_level\":20,\"master_hostname\":\"algo-1\",\"model_dir\":\"/opt/ml/model\",\"module_dir\":\"/opt/ml/code\",\"module_name\":\"train\",\"network_interface_name\":\"eth0\",\"num_cpus\":8,\"num_gpus\":0,\"output_data_dir\":\"/opt/ml/output/data\",\"output_dir\":\"/opt/ml/output\",\"output_intermediate_dir\":\"/opt/ml/output/intermediate\",\"resource_config\":{\"current_host\":\"algo-1\",\"hosts\":[\"algo-1\"],\"network_interface_name\":\"eth0\"},\"user_entry_point\":\"train.py\"}', 'SM_USER_ARGS': '[\"--feature_importance\",\"True\",\"--fit_args\",\"{\\'label\\': \\'classes\\', \\'presets\\': [\\'optimize_for_deployment\\']}\"]', 'SM_OUTPUT_INTERMEDIATE_DIR': '/opt/ml/output/intermediate', 'SM_CHANNEL_TESTING': '/opt/ml/input/data/testing', 'SM_CHANNEL_TRAINING': '/opt/ml/input/data/training', 'SM_HP_FIT_ARGS': \"{'label': 'classes', 'presets': ['optimize_for_deployment']}\", 'SM_HP_FEATURE_IMPORTANCE': 'True'}\u001b[0m\n",
      "\u001b[34m2020-11-17 09:22:57,180 sagemaker-training-toolkit INFO     No GPUs detected (normal if no gpus installed)\u001b[0m\n",
      "\u001b[34m2020-11-17 09:22:57,181 sagemaker-training-toolkit INFO     Failed to parse hyperparameter fit_args value {'label': 'classes', 'presets': ['optimize_for_deployment']} to Json.\u001b[0m\n",
      "\u001b[34mReturning the value itself\u001b[0m\n",
      "\u001b[34m2020-11-17 09:22:57,181 sagemaker-training-toolkit INFO     Failed to parse hyperparameter feature_importance value True to Json.\u001b[0m\n",
      "\u001b[34mReturning the value itself\u001b[0m\n",
      "\u001b[34m2020-11-17 09:23:00,217 sagemaker-training-toolkit INFO     No GPUs detected (normal if no gpus installed)\u001b[0m\n",
      "\u001b[34m2020-11-17 09:23:00,217 sagemaker-training-toolkit INFO     Failed to parse hyperparameter fit_args value {'label': 'classes', 'presets': ['optimize_for_deployment']} to Json.\u001b[0m\n",
      "\u001b[34mReturning the value itself\u001b[0m\n",
      "\u001b[34m2020-11-17 09:23:00,218 sagemaker-training-toolkit INFO     Failed to parse hyperparameter feature_importance value True to Json.\u001b[0m\n",
      "\u001b[34mReturning the value itself\u001b[0m\n",
      "\u001b[34m2020-11-17 09:23:00,230 sagemaker-training-toolkit INFO     No GPUs detected (normal if no gpus installed)\u001b[0m\n",
      "\u001b[34m2020-11-17 09:23:00,230 sagemaker-training-toolkit INFO     Failed to parse hyperparameter fit_args value {'label': 'classes', 'presets': ['optimize_for_deployment']} to Json.\u001b[0m\n",
      "\u001b[34mReturning the value itself\u001b[0m\n",
      "\u001b[34m2020-11-17 09:23:00,230 sagemaker-training-toolkit INFO     Failed to parse hyperparameter feature_importance value True to Json.\u001b[0m\n",
      "\u001b[34mReturning the value itself\u001b[0m\n",
      "\u001b[34m2020-11-17 09:23:00,255 sagemaker-training-toolkit INFO     Invoking user script\n",
      "\u001b[0m\n",
      "\u001b[34mTraining Env:\n",
      "\u001b[0m\n",
      "\u001b[34m{\n",
      "    \"additional_framework_parameters\": {},\n",
      "    \"channel_input_dirs\": {\n",
      "        \"testing\": \"/opt/ml/input/data/testing\",\n",
      "        \"training\": \"/opt/ml/input/data/training\"\n",
      "    },\n",
      "    \"current_host\": \"algo-1\",\n",
      "    \"framework_module\": \"sagemaker_mxnet_container.training:main\",\n",
      "    \"hosts\": [\n",
      "        \"algo-1\"\n",
      "    ],\n",
      "    \"hyperparameters\": {\n",
      "        \"fit_args\": \"{'label': 'classes', 'presets': ['optimize_for_deployment']}\",\n",
      "        \"feature_importance\": \"True\"\n",
      "    },\n",
      "    \"input_config_dir\": \"/opt/ml/input/config\",\n",
      "    \"input_data_config\": {\n",
      "        \"testing\": {\n",
      "            \"TrainingInputMode\": \"File\",\n",
      "            \"S3DistributionType\": \"FullyReplicated\",\n",
      "            \"RecordWrapperType\": \"None\"\n",
      "        },\n",
      "        \"training\": {\n",
      "            \"TrainingInputMode\": \"File\",\n",
      "            \"S3DistributionType\": \"FullyReplicated\",\n",
      "            \"RecordWrapperType\": \"None\"\n",
      "        }\n",
      "    },\n",
      "    \"input_dir\": \"/opt/ml/input\",\n",
      "    \"is_master\": true,\n",
      "    \"job_name\": \"autogluon-sagemaker-training-pdt-2020-11-17-09-19-09-315\",\n",
      "    \"log_level\": 20,\n",
      "    \"master_hostname\": \"algo-1\",\n",
      "    \"model_dir\": \"/opt/ml/model\",\n",
      "    \"module_dir\": \"/opt/ml/code\",\n",
      "    \"module_name\": \"train\",\n",
      "    \"network_interface_name\": \"eth0\",\n",
      "    \"num_cpus\": 8,\n",
      "    \"num_gpus\": 0,\n",
      "    \"output_data_dir\": \"/opt/ml/output/data\",\n",
      "    \"output_dir\": \"/opt/ml/output\",\n",
      "    \"output_intermediate_dir\": \"/opt/ml/output/intermediate\",\n",
      "    \"resource_config\": {\n",
      "        \"current_host\": \"algo-1\",\n",
      "        \"hosts\": [\n",
      "            \"algo-1\"\n",
      "        ],\n",
      "        \"network_interface_name\": \"eth0\"\n",
      "    },\n",
      "    \"user_entry_point\": \"train.py\"\u001b[0m\n",
      "\u001b[34m}\n",
      "\u001b[0m\n",
      "\u001b[34mEnvironment variables:\n",
      "\u001b[0m\n",
      "\u001b[34mSM_HOSTS=[\"algo-1\"]\u001b[0m\n",
      "\u001b[34mSM_NETWORK_INTERFACE_NAME=eth0\u001b[0m\n",
      "\u001b[34mSM_HPS={\"feature_importance\":\"True\",\"fit_args\":\"{'label': 'classes', 'presets': ['optimize_for_deployment']}\"}\u001b[0m\n",
      "\u001b[34mSM_USER_ENTRY_POINT=train.py\u001b[0m\n",
      "\u001b[34mSM_FRAMEWORK_PARAMS={}\u001b[0m\n",
      "\u001b[34mSM_RESOURCE_CONFIG={\"current_host\":\"algo-1\",\"hosts\":[\"algo-1\"],\"network_interface_name\":\"eth0\"}\u001b[0m\n",
      "\u001b[34mSM_INPUT_DATA_CONFIG={\"testing\":{\"RecordWrapperType\":\"None\",\"S3DistributionType\":\"FullyReplicated\",\"TrainingInputMode\":\"File\"},\"training\":{\"RecordWrapperType\":\"None\",\"S3DistributionType\":\"FullyReplicated\",\"TrainingInputMode\":\"File\"}}\u001b[0m\n",
      "\u001b[34mSM_OUTPUT_DATA_DIR=/opt/ml/output/data\u001b[0m\n",
      "\u001b[34mSM_CHANNELS=[\"testing\",\"training\"]\u001b[0m\n",
      "\u001b[34mSM_CURRENT_HOST=algo-1\u001b[0m\n",
      "\u001b[34mSM_MODULE_NAME=train\u001b[0m\n",
      "\u001b[34mSM_LOG_LEVEL=20\u001b[0m\n",
      "\u001b[34mSM_FRAMEWORK_MODULE=sagemaker_mxnet_container.training:main\u001b[0m\n",
      "\u001b[34mSM_INPUT_DIR=/opt/ml/input\u001b[0m\n",
      "\u001b[34mSM_INPUT_CONFIG_DIR=/opt/ml/input/config\u001b[0m\n",
      "\u001b[34mSM_OUTPUT_DIR=/opt/ml/output\u001b[0m\n",
      "\u001b[34mSM_NUM_CPUS=8\u001b[0m\n",
      "\u001b[34mSM_NUM_GPUS=0\u001b[0m\n",
      "\u001b[34mSM_MODEL_DIR=/opt/ml/model\u001b[0m\n",
      "\u001b[34mSM_MODULE_DIR=/opt/ml/code\u001b[0m\n",
      "\u001b[34mSM_TRAINING_ENV={\"additional_framework_parameters\":{},\"channel_input_dirs\":{\"testing\":\"/opt/ml/input/data/testing\",\"training\":\"/opt/ml/input/data/training\"},\"current_host\":\"algo-1\",\"framework_module\":\"sagemaker_mxnet_container.training:main\",\"hosts\":[\"algo-1\"],\"hyperparameters\":{\"feature_importance\":\"True\",\"fit_args\":\"{'label': 'classes', 'presets': ['optimize_for_deployment']}\"},\"input_config_dir\":\"/opt/ml/input/config\",\"input_data_config\":{\"testing\":{\"RecordWrapperType\":\"None\",\"S3DistributionType\":\"FullyReplicated\",\"TrainingInputMode\":\"File\"},\"training\":{\"RecordWrapperType\":\"None\",\"S3DistributionType\":\"FullyReplicated\",\"TrainingInputMode\":\"File\"}},\"input_dir\":\"/opt/ml/input\",\"is_master\":true,\"job_name\":\"autogluon-sagemaker-training-pdt-2020-11-17-09-19-09-315\",\"log_level\":20,\"master_hostname\":\"algo-1\",\"model_dir\":\"/opt/ml/model\",\"module_dir\":\"/opt/ml/code\",\"module_name\":\"train\",\"network_interface_name\":\"eth0\",\"num_cpus\":8,\"num_gpus\":0,\"output_data_dir\":\"/opt/ml/output/data\",\"output_dir\":\"/opt/ml/output\",\"output_intermediate_dir\":\"/opt/ml/output/intermediate\",\"resource_config\":{\"current_host\":\"algo-1\",\"hosts\":[\"algo-1\"],\"network_interface_name\":\"eth0\"},\"user_entry_point\":\"train.py\"}\u001b[0m\n",
      "\u001b[34mSM_USER_ARGS=[\"--feature_importance\",\"True\",\"--fit_args\",\"{'label': 'classes', 'presets': ['optimize_for_deployment']}\"]\u001b[0m\n",
      "\u001b[34mSM_OUTPUT_INTERMEDIATE_DIR=/opt/ml/output/intermediate\u001b[0m\n",
      "\u001b[34mSM_CHANNEL_TESTING=/opt/ml/input/data/testing\u001b[0m\n",
      "\u001b[34mSM_CHANNEL_TRAINING=/opt/ml/input/data/training\u001b[0m\n",
      "\u001b[34mSM_HP_FIT_ARGS={'label': 'classes', 'presets': ['optimize_for_deployment']}\u001b[0m\n",
      "\u001b[34mSM_HP_FEATURE_IMPORTANCE=True\u001b[0m\n",
      "\u001b[34mPYTHONPATH=/opt/ml/code:/usr/local/bin:/usr/local/lib/python36.zip:/usr/local/lib/python3.6:/usr/local/lib/python3.6/lib-dynload:/usr/local/lib/python3.6/site-packages\n",
      "\u001b[0m\n",
      "\u001b[34mInvoking script with the following command:\n",
      "\u001b[0m\n",
      "\u001b[34m/usr/local/bin/python3.6 train.py --feature_importance True --fit_args {'label': 'classes', 'presets': ['optimize_for_deployment']}\n",
      "\n",
      "\u001b[0m\n",
      "\u001b[34mDEBUG AutoGluon version : 0.0.14\u001b[0m\n",
      "\u001b[34m/opt/ml/input:\u001b[0m\n",
      "\u001b[34mtotal 8\u001b[0m\n",
      "\u001b[34mdrwxr-xr-x 2 root root 4096 Nov 17 09:21 config\u001b[0m\n",
      "\u001b[34mdrwxr-xr-x 4 root root 4096 Nov 17 09:21 data\n",
      "\u001b[0m\n",
      "\u001b[34m/opt/ml/input/config:\u001b[0m\n",
      "\u001b[34mtotal 28\u001b[0m\n",
      "\u001b[34m-rw-r--r-- 1 root root  103 Nov 17 09:21 hyperparameters.json\u001b[0m\n",
      "\u001b[34m-rw-r--r-- 1 root root  948 Nov 17 09:21 init-config.json\u001b[0m\n",
      "\u001b[34m-rw-r--r-- 1 root root  212 Nov 17 09:21 inputdataconfig.json\u001b[0m\n",
      "\u001b[34m-rw-r--r-- 1 root root    2 Nov 17 09:21 metric-definition-regex.json\u001b[0m\n",
      "\u001b[34m-rw-r--r-- 1 root root   81 Nov 17 09:21 resourceconfig.json\u001b[0m\n",
      "\u001b[34m-rw-r--r-- 1 root root 1698 Nov 17 09:21 trainingjobconfig.json\u001b[0m\n",
      "\u001b[34m-rw-r--r-- 1 root root    2 Nov 17 09:21 upstreamoutputdataconfig.json\n",
      "\u001b[0m\n",
      "\u001b[34m/opt/ml/input/data:\u001b[0m\n",
      "\u001b[34mtotal 16\u001b[0m\n",
      "\u001b[34mdrwxr-xr-x 2 root root 4096 Nov 17 09:21 testing\u001b[0m\n",
      "\u001b[34m-rw-r--r-- 1 root root  191 Nov 17 09:21 testing-manifest\u001b[0m\n",
      "\u001b[34mdrwxr-xr-x 2 root root 4096 Nov 17 09:21 training\u001b[0m\n",
      "\u001b[34m-rw-r--r-- 1 root root  195 Nov 17 09:21 training-manifest\n",
      "\u001b[0m\n",
      "\u001b[34m/opt/ml/input/data/testing:\u001b[0m\n",
      "\u001b[34mtotal 1668\u001b[0m\n",
      "\u001b[34m-rw-r--r-- 1 root root 1706447 Nov 17 09:21 test.csv\n",
      "\u001b[0m\n",
      "\u001b[34m/opt/ml/input/data/training:\u001b[0m\n",
      "\u001b[34mtotal 6672\u001b[0m\n",
      "\u001b[34m-rw-r--r-- 1 root root 6829951 Nov 17 09:21 train.csv\u001b[0m\n",
      "\u001b[34m0\u001b[0m\n",
      "\u001b[34mfit_args:\u001b[0m\n",
      "\u001b[34mlabel,  type: <class 'str'>,  value: classes\u001b[0m\n",
      "\u001b[34mpresets,  type: <class 'list'>,  value: ['optimize_for_deployment']\u001b[0m\n",
      "\u001b[34mTrain files: ['train.csv']\u001b[0m\n",
      "\u001b[34mBeginning AutoGluon training ...\u001b[0m\n",
      "\u001b[34mAutoGluon will save models to /opt/ml/model/\u001b[0m\n",
      "\u001b[34mAutoGluon Version:  0.0.14\u001b[0m\n",
      "\u001b[34mTrain Data Rows:    53740\u001b[0m\n",
      "\u001b[34mTrain Data Columns: 17\u001b[0m\n",
      "\u001b[34mPreprocessing data ...\u001b[0m\n",
      "\u001b[34mAutoGluon infers your prediction problem is: 'multiclass' (because dtype of label-column == int, but few unique label-values observed).\u001b[0m\n",
      "\u001b[34m#0115 unique label values:  [3, 2, 4, 1, 0]\u001b[0m\n",
      "\u001b[34m#011If 'multiclass' is not the correct problem_type, please manually specify the problem_type argument in fit() (You may specify problem_type as one of: ['binary', 'multiclass', 'regression'])\u001b[0m\n",
      "\u001b[34mTrain Data Class Count: 5\u001b[0m\n",
      "\u001b[34mUsing Feature Generators to preprocess the data ...\u001b[0m\n",
      "\u001b[34mFitting AutoMLPipelineFeatureGenerator...\u001b[0m\n",
      "\u001b[34m#011Available Memory:                    31211.46 MB\u001b[0m\n",
      "\u001b[34m#011Train Data (Original)  Memory Usage: 32.79 MB (0.1% of available memory)\u001b[0m\n",
      "\u001b[34m#011Inferring data type of each feature based on column values. Set feature_metadata_in to manually specify special dtypes of the features.\u001b[0m\n",
      "\u001b[34m#011Stage 1 Generators:\u001b[0m\n",
      "\u001b[34m#011#011Fitting AsTypeFeatureGenerator...\u001b[0m\n",
      "\u001b[34m#011Stage 2 Generators:\u001b[0m\n",
      "\u001b[34m#011#011Fitting FillNaFeatureGenerator...\u001b[0m\n",
      "\u001b[34m#011Stage 3 Generators:\u001b[0m\n",
      "\u001b[34m#011#011Fitting IdentityFeatureGenerator...\u001b[0m\n",
      "\u001b[34m#011#011Fitting CategoryFeatureGenerator...\u001b[0m\n",
      "\u001b[34m#011#011#011Fitting CategoryMemoryMinimizeFeatureGenerator...\u001b[0m\n",
      "\u001b[34m#011Stage 4 Generators:\u001b[0m\n",
      "\u001b[34m#011#011Fitting DropUniqueFeatureGenerator...\u001b[0m\n",
      "\u001b[34m#011Types of features in original data (raw dtype, special dtypes):\u001b[0m\n",
      "\u001b[34m#011#011('float', [])  : 4 | ['price', 'freight_value', 'product_weight_g', 'product_volume']\u001b[0m\n",
      "\u001b[34m#011#011('int', [])    : 5 | ['customer_zip_code_prefix', 'seller_zip_code_prefix', 'order_weekday', 'order_day', 'order_month']\u001b[0m\n",
      "\u001b[34m#011#011('object', []) : 8 | ['customer_city', 'customer_state', 'product_category_name_english', 'seller_city', 'seller_state', ...]\u001b[0m\n",
      "\u001b[34m#011Types of features in processed data (raw dtype, special dtypes):\u001b[0m\n",
      "\u001b[34m#011#011('category', []) : 8 | ['customer_city', 'customer_state', 'product_category_name_english', 'seller_city', 'seller_state', ...]\u001b[0m\n",
      "\u001b[34m#011#011('float', [])    : 4 | ['price', 'freight_value', 'product_weight_g', 'product_volume']\u001b[0m\n",
      "\u001b[34m#011#011('int', [])      : 5 | ['customer_zip_code_prefix', 'seller_zip_code_prefix', 'order_weekday', 'order_day', 'order_month']\u001b[0m\n",
      "\u001b[34m#0110.6s = Fit runtime\u001b[0m\n",
      "\u001b[34m#01117 features in original data used to generate 17 features in processed data.\u001b[0m\n",
      "\u001b[34m#011Train Data (Processed) Memory Usage: 5.71 MB (0.0% of available memory)\u001b[0m\n",
      "\u001b[34mData preprocessing and feature engineering runtime = 0.64s ...\u001b[0m\n",
      "\u001b[34mAutoGluon will gauge predictive performance using evaluation metric: 'accuracy'\u001b[0m\n",
      "\u001b[34m#011To change this, specify the eval_metric argument of fit()\u001b[0m\n",
      "\u001b[34mAutoGluon will early stop models using evaluation metric: 'accuracy'\u001b[0m\n",
      "\u001b[34mFitting model: NeuralNetClassifier ...\u001b[0m\n",
      "\u001b[34m#0110.458#011 = Validation accuracy score\u001b[0m\n",
      "\u001b[34m#011142.98s#011 = Training runtime\u001b[0m\n",
      "\u001b[34m#0112.49s#011 = Validation runtime\u001b[0m\n",
      "\u001b[34mFitting model: KNeighborsClassifierUnif ...\u001b[0m\n",
      "\u001b[34m#0110.3244#011 = Validation accuracy score\u001b[0m\n",
      "\u001b[34m#0110.08s#011 = Training runtime\u001b[0m\n",
      "\u001b[34m#0110.11s#011 = Validation runtime\u001b[0m\n",
      "\u001b[34mFitting model: KNeighborsClassifierDist ...\u001b[0m\n",
      "\u001b[34m#0110.322#011 = Validation accuracy score\u001b[0m\n",
      "\u001b[34m#0110.07s#011 = Training runtime\u001b[0m\n",
      "\u001b[34m#0110.11s#011 = Validation runtime\u001b[0m\n",
      "\u001b[34mFitting model: RandomForestClassifierGini ...\u001b[0m\n",
      "\u001b[34m#0110.4436#011 = Validation accuracy score\u001b[0m\n",
      "\u001b[34m#0118.52s#011 = Training runtime\u001b[0m\n",
      "\u001b[34m#0110.21s#011 = Validation runtime\u001b[0m\n",
      "\u001b[34mFitting model: RandomForestClassifierEntr ...\u001b[0m\n",
      "\u001b[34m#0110.4512#011 = Validation accuracy score\u001b[0m\n",
      "\u001b[34m#01117.94s#011 = Training runtime\u001b[0m\n",
      "\u001b[34m#0110.21s#011 = Validation runtime\u001b[0m\n",
      "\u001b[34mFitting model: ExtraTreesClassifierGini ...\u001b[0m\n",
      "\u001b[34m#0110.4304#011 = Validation accuracy score\u001b[0m\n",
      "\u001b[34m#0115.14s#011 = Training runtime\u001b[0m\n",
      "\u001b[34m#0110.21s#011 = Validation runtime\u001b[0m\n",
      "\u001b[34mFitting model: ExtraTreesClassifierEntr ...\u001b[0m\n",
      "\u001b[34m#0110.4308#011 = Validation accuracy score\u001b[0m\n",
      "\u001b[34m#0116.53s#011 = Training runtime\u001b[0m\n",
      "\u001b[34m#0110.21s#011 = Validation runtime\u001b[0m\n",
      "\u001b[34mFitting model: LightGBMClassifier ...\u001b[0m\n",
      "\u001b[34m#0110.4524#011 = Validation accuracy score\u001b[0m\n",
      "\u001b[34m#0112.49s#011 = Training runtime\u001b[0m\n",
      "\u001b[34m#0110.05s#011 = Validation runtime\u001b[0m\n",
      "\u001b[34mFitting model: LightGBMClassifierXT ...\u001b[0m\n",
      "\u001b[34m#0110.452#011 = Validation accuracy score\u001b[0m\n",
      "\u001b[34m#0111.94s#011 = Training runtime\u001b[0m\n",
      "\u001b[34m#0110.05s#011 = Validation runtime\u001b[0m\n",
      "\u001b[34mFitting model: CatboostClassifier ...\u001b[0m\n",
      "\u001b[34m#0110.4568#011 = Validation accuracy score\u001b[0m\n",
      "\u001b[34m#01120.69s#011 = Training runtime\u001b[0m\n",
      "\u001b[34m#0110.12s#011 = Validation runtime\u001b[0m\n",
      "\u001b[34mFitting model: LightGBMClassifierCustom ...\u001b[0m\n",
      "\u001b[34m#0110.4568#011 = Validation accuracy score\u001b[0m\n",
      "\u001b[34m#0115.38s#011 = Training runtime\u001b[0m\n",
      "\u001b[34m#0110.08s#011 = Validation runtime\u001b[0m\n",
      "\u001b[34mFitting model: weighted_ensemble_k0_l1 ...\u001b[0m\n",
      "\u001b[34m#0110.4768#011 = Validation accuracy score\u001b[0m\n",
      "\u001b[34m#0110.65s#011 = Training runtime\u001b[0m\n",
      "\u001b[34m#0110.0s#011 = Validation runtime\u001b[0m\n",
      "\u001b[34mAutoGluon training complete, total runtime = 255.3s ...\u001b[0m\n",
      "\u001b[34mDeleting model KNeighborsClassifierUnif. All files under /opt/ml/model/models/KNeighborsClassifierUnif/ will be removed.\u001b[0m\n",
      "\u001b[34mDeleting model KNeighborsClassifierDist. All files under /opt/ml/model/models/KNeighborsClassifierDist/ will be removed.\u001b[0m\n",
      "\u001b[34mDeleting model ExtraTreesClassifierEntr. All files under /opt/ml/model/models/ExtraTreesClassifierEntr/ will be removed.\u001b[0m\n",
      "\u001b[34m*** Summary of fit() ***\u001b[0m\n",
      "\u001b[34mEstimated performance of each model:\n",
      "                        model  score_val  pred_time_val    fit_time  pred_time_val_marginal  fit_time_marginal  stack_level  can_infer  fit_order\u001b[0m\n",
      "\u001b[34m0     weighted_ensemble_k0_l1     0.4768       3.416043  205.734965                0.001740           0.646103            1       True          9\u001b[0m\n",
      "\u001b[34m1         NeuralNetClassifier     0.4580       2.487860  142.984014                2.487860         142.984014            0       True          1\u001b[0m\n",
      "\u001b[34m2    LightGBMClassifierCustom     0.4568       0.077287    5.375180                0.077287           5.375180            0       True          8\u001b[0m\n",
      "\u001b[34m3          CatboostClassifier     0.4568       0.118879   20.690130                0.118879          20.690130            0       True          7\u001b[0m\n",
      "\u001b[34m4          LightGBMClassifier     0.4524       0.047669    2.489003                0.047669           2.489003            0       True          5\u001b[0m\n",
      "\u001b[34m5        LightGBMClassifierXT     0.4520       0.047779    1.943605                0.047779           1.943605            0       True          6\u001b[0m\n",
      "\u001b[34m6  RandomForestClassifierEntr     0.4512       0.211778   17.943079                0.211778          17.943079            0       True          3\u001b[0m\n",
      "\u001b[34m7  RandomForestClassifierGini     0.4436       0.211480    8.519139                0.211480           8.519139            0       True          2\u001b[0m\n",
      "\u001b[34m8    ExtraTreesClassifierGini     0.4304       0.211570    5.144712                0.211570           5.144712            0       True          4\u001b[0m\n",
      "\u001b[34mNumber of models trained: 9\u001b[0m\n",
      "\u001b[34mTypes of models trained:\u001b[0m\n",
      "\u001b[34m{'LGBModel', 'XTModel', 'RFModel', 'WeightedEnsembleModel', 'CatboostModel', 'TabularNeuralNetModel'}\u001b[0m\n",
      "\u001b[34mBagging used: False \u001b[0m\n",
      "\u001b[34mStack-ensembling used: False \u001b[0m\n",
      "\u001b[34mHyperparameter-tuning used: False \u001b[0m\n",
      "\u001b[34mUser-specified hyperparameters:\u001b[0m\n",
      "\u001b[34m{'default': {'NN': [{}], 'GBM': [{}, {'extra_trees': True, 'AG_args': {'name_suffix': 'XT'}}], 'CAT': [{}], 'RF': [{'criterion': 'gini', 'AG_args': {'name_suffix': 'Gini', 'problem_types': ['binary', 'multiclass']}}, {'criterion': 'entropy', 'AG_args': {'name_suffix': 'Entr', 'problem_types': ['binary', 'multiclass']}}], 'XT': [{'criterion': 'gini', 'AG_args': {'name_suffix': 'Gini', 'problem_types': ['binary', 'multiclass']}}, {'criterion': 'entropy', 'AG_args': {'name_suffix': 'Entr', 'problem_types': ['binary', 'multiclass']}}], 'KNN': [{'weights': 'uniform', 'AG_args': {'name_suffix': 'Unif'}}, {'weights': 'distance', 'AG_args': {'name_suffix': 'Dist'}}], 'custom': [{'num_boost_round': 10000, 'num_threads': -1, 'objective': 'multiclass', 'num_classes': 5, 'verbose': -1, 'boosting_type': 'gbdt', 'learning_rate': 0.03, 'num_leaves': 128, 'feature_fraction': 0.9, 'min_data_in_leaf': 3, 'two_round': True, 'seed_value': 0, 'AG_args': {'model_type': 'GBM', 'name_suffix': 'Custom', 'disable_in_hpo': True}}]}}\u001b[0m\n",
      "\u001b[34mFeature Metadata (Processed):\u001b[0m\n",
      "\u001b[34m(raw dtype, special dtypes):\u001b[0m\n",
      "\u001b[34m('category', []) : 8 | ['customer_city', 'customer_state', 'product_category_name_english', 'seller_city', 'seller_state', ...]\u001b[0m\n",
      "\u001b[34m('float', [])    : 4 | ['price', 'freight_value', 'product_weight_g', 'product_volume']\u001b[0m\n",
      "\u001b[34m('int', [])      : 5 | ['customer_zip_code_prefix', 'seller_zip_code_prefix', 'order_weekday', 'order_day', 'order_month']\u001b[0m\n",
      "\u001b[34mPlot summary of models saved to file: /opt/ml/model/SummaryOfModels.html\u001b[0m\n",
      "\u001b[34m*** End of fit() summary ***\u001b[0m\n",
      "\u001b[34m/usr/local/lib/python3.6/site-packages/pygraphviz/agraph.py:1390: RuntimeWarning: Warning: using box for unknown shape rectagle\n",
      "\n",
      "  warnings.warn(b\"\".join(errors).decode(self.encoding), RuntimeWarning)\u001b[0m\n",
      "\u001b[34mTest files: ['test.csv']\u001b[0m\n",
      "\u001b[34mRunning model on test data and getting Leaderboard...\u001b[0m\n",
      "\u001b[34m+----------------------------+---------------------+-----------+---------------------+---------------------+--------------------+-------------------------+------------------------+--------------------+-------------+-----------+-----------+\u001b[0m\n",
      "\u001b[34m|           model            |      score_test     | score_val |    pred_time_test   |    pred_time_val    |      fit_time      | pred_time_test_marginal | pred_time_val_marginal | fit_time_marginal  | stack_level | can_infer | fit_order |\u001b[0m\n",
      "\u001b[34m+----------------------------+---------------------+-----------+---------------------+---------------------+--------------------+-------------------------+------------------------+--------------------+-------------+-----------+-----------+\u001b[0m\n",
      "\u001b[34m|     CatboostClassifier     |  0.4575766597201548 |   0.4568  | 0.14699077606201172 | 0.11887931823730469 | 20.69012975692749  |   0.14699077606201172   |  0.11887931823730469   | 20.69012975692749  |      0      |    True   |     7     |\u001b[0m\n",
      "\u001b[34m|    LightGBMClassifierXT    |  0.4418725811253349 |   0.452   | 0.12632417678833008 | 0.04777884483337402 | 1.9436054229736328 |   0.12632417678833008   |  0.04777884483337402   | 1.9436054229736328 |      0      |    True   |     6     |\u001b[0m\n",
      "\u001b[34m| RandomForestClassifierEntr | 0.43777910092289374 |   0.4512  |  0.7113931179046631 |  0.211777925491333  | 17.943078756332397 |    0.7113931179046631   |   0.211777925491333    | 17.943078756332397 |      0      |    True   |     3     |\u001b[0m\n",
      "\u001b[34m|  LightGBMClassifierCustom  |  0.4356951473652873 |   0.4568  |  0.2989175319671631 | 0.07728743553161621 | 5.375179767608643  |    0.2989175319671631   |  0.07728743553161621   | 5.375179767608643  |      0      |    True   |     8     |\u001b[0m\n",
      "\u001b[34m|     LightGBMClassifier     |  0.4340577552843108 |   0.4524  | 0.12584757804870605 |  0.0476689338684082 | 2.4890027046203613 |   0.12584757804870605   |   0.0476689338684082   | 2.4890027046203613 |      0      |    True   |     5     |\u001b[0m\n",
      "\u001b[34m| RandomForestClassifierGini | 0.43204822863947606 |   0.4436  |  0.7485947608947754 | 0.21147966384887695 | 8.519138813018799  |    0.7485947608947754   |  0.21147966384887695   | 8.519138813018799  |      0      |    True   |     2     |\u001b[0m\n",
      "\u001b[34m|  weighted_ensemble_k0_l1   |  0.4285501637392081 |   0.4768  |  15.92093539237976  |  3.4160428047180176 | 205.73496460914612 |   0.010040760040283203  | 0.0017404556274414062  | 0.6461029052734375 |      1      |    True   |     9     |\u001b[0m\n",
      "\u001b[34m|  ExtraTreesClassifierGini  |  0.414409050312593  |   0.4304  |  2.635488510131836  | 0.21157002449035645 | 5.144712448120117  |    2.635488510131836    |  0.21157002449035645   | 5.144712448120117  |      0      |    True   |     4     |\u001b[0m\n",
      "\u001b[34m|    NeuralNetClassifier     | 0.28892527537957724 |   0.458   |  11.117338180541992 |  2.4878602027893066 | 142.98401403427124 |    11.117338180541992   |   2.4878602027893066   | 142.98401403427124 |      0      |    True   |     1     |\u001b[0m\n",
      "\u001b[34m+----------------------------+---------------------+-----------+---------------------+---------------------+--------------------+-------------------------+------------------------+--------------------+-------------+-----------+-----------+\n",
      "\u001b[0m\n",
      "\u001b[34mFeature importance:\u001b[0m\n",
      "\u001b[34mComputing raw permutation importance for 17 features on weighted_ensemble_k0_l1 ...\u001b[0m\n",
      "\u001b[34m#01170.81s#011= Expected runtime\u001b[0m\n",
      "\u001b[34m#01168.86s#011= Actual runtime\n",
      "                                 Importance score\u001b[0m\n",
      "\u001b[34mFeature                                          \u001b[0m\n",
      "\u001b[34morder_weekday                               0.100\u001b[0m\n",
      "\u001b[34mcustomer_seller_state                       0.026\u001b[0m\n",
      "\u001b[34mfreight_value                               0.026\u001b[0m\n",
      "\u001b[34mcustomer_city                               0.012\u001b[0m\n",
      "\u001b[34mseller_zip_code_prefix                      0.011\u001b[0m\n",
      "\u001b[34mseller_city                                 0.007\u001b[0m\n",
      "\u001b[34mcustomer_zip_code_prefix                    0.003\u001b[0m\n",
      "\u001b[34mseller_state                                0.001\u001b[0m\n",
      "\u001b[34morder_month                                 0.001\u001b[0m\n",
      "\u001b[34mcustomer_seller_zip_code_prefix             0.000\u001b[0m\n",
      "\u001b[34mcustomer_state                             -0.001\u001b[0m\n",
      "\u001b[34mproduct_category_name_english              -0.002\u001b[0m\n",
      "\u001b[34mproduct_weight_g                           -0.002\u001b[0m\n",
      "\u001b[34mprice                                      -0.002\u001b[0m\n",
      "\u001b[34morder_day                                  -0.004\u001b[0m\n",
      "\u001b[34mcustomer_seller_city                       -0.004\u001b[0m\n",
      "\u001b[34mproduct_volume                             -0.004\u001b[0m\n",
      "\u001b[34mModel export summary:\u001b[0m\n",
      "\u001b[34m/opt/ml/model/: ['SummaryOfModels.html', 'learner.pkl', 'models']\u001b[0m\n",
      "\u001b[34m/opt/ml/model/models: ['RandomForestClassifierGini', 'RandomForestClassifierEntr', 'LightGBMClassifierCustom', 'CatboostClassifier', 'LightGBMClassifierXT', 'LightGBMClassifier', 'ExtraTreesClassifierGini', 'NeuralNetClassifier', 'trainer.pkl', 'weighted_ensemble_k0_l1']\u001b[0m\n",
      "\u001b[34m/opt/ml/model directory size: 3.7G\n",
      "\u001b[0m\n",
      "\u001b[34mElapsed time: 404.682 seconds. Training Completed!\u001b[0m\n",
      "\u001b[34m2020-11-17 09:29:50,313 sagemaker-training-toolkit INFO     Reporting training SUCCESS\u001b[0m\n",
      "\n",
      "2020-11-17 09:29:51 Uploading - Uploading generated training model\n",
      "2020-11-17 09:34:08 Completed - Training job completed\n",
      "Training seconds: 763\n",
      "Billable seconds: 763\n",
      "CPU times: user 1.77 s, sys: 62.2 ms, total: 1.84 s\n",
      "Wall time: 15min 19s\n"
     ]
    }
   ],
   "source": [
    "%%time\n",
    "estimator.fit(inputs)"
   ]
  },
  {
   "cell_type": "markdown",
   "metadata": {},
   "source": [
    "### Review the performance of the trained model"
   ]
  },
  {
   "cell_type": "code",
   "execution_count": 11,
   "metadata": {},
   "outputs": [],
   "source": [
    "from utils.ag_utils import launch_viewer"
   ]
  },
  {
   "cell_type": "code",
   "execution_count": 12,
   "metadata": {},
   "outputs": [
    {
     "data": {
      "application/vnd.jupyter.widget-view+json": {
       "model_id": "690a2a1ce0d84c099e7638e4fb09c24c",
       "version_major": 2,
       "version_minor": 0
      },
      "text/plain": [
       "HTML(value=\"<b><font size=4 color='#0000ff'>Please choose one training job from the list</font></b>\")"
      ]
     },
     "metadata": {},
     "output_type": "display_data"
    }
   ],
   "source": [
    "from utils.ag_utils import launch_viewer\n",
    "\n",
    "launch_viewer(is_debug=False)"
   ]
  },
  {
   "cell_type": "markdown",
   "metadata": {
    "Collapsed": "false"
   },
   "source": [
    "### Create Model"
   ]
  },
  {
   "cell_type": "code",
   "execution_count": 13,
   "metadata": {
    "Collapsed": "false"
   },
   "outputs": [],
   "source": [
    "# Create predictor object\n",
    "class AutoGluonTabularPredictor(Predictor):\n",
    "    def __init__(self, *args, **kwargs):\n",
    "        super().__init__(*args, \n",
    "                         serializer=CSVSerializer(), \n",
    "                         deserializer=StringDeserializer(), **kwargs)"
   ]
  },
  {
   "cell_type": "code",
   "execution_count": 14,
   "metadata": {
    "Collapsed": "false"
   },
   "outputs": [],
   "source": [
    "ecr_image = f'{ecr_uri_prefix}/{inference_algorithm_name}:latest'\n",
    "\n",
    "if instance_type == 'local':\n",
    "    model = estimator.create_model(image_uri=ecr_image, role=role)\n",
    "else:\n",
    "    model_uri = os.path.join(estimator.output_path, estimator._current_job_name, \"output\", \"model.tar.gz\")\n",
    "    model = Model(ecr_image, model_data=model_uri, role=role, sagemaker_session=session, predictor_cls=AutoGluonTabularPredictor)"
   ]
  },
  {
   "cell_type": "markdown",
   "metadata": {
    "Collapsed": "false"
   },
   "source": [
    "### Batch Transform"
   ]
  },
  {
   "cell_type": "markdown",
   "metadata": {
    "Collapsed": "false"
   },
   "source": [
    "For local mode, either `s3://<bucket>/<prefix>/output/` or `file:///<absolute_local_path>` can be used as outputs.\n",
    "\n",
    "By including the label column in the test data, you can also evaluate prediction performance (In this case, passing `test_s3_path` instead of `X_test_s3_path`)."
   ]
  },
  {
   "cell_type": "code",
   "execution_count": 15,
   "metadata": {
    "Collapsed": "false"
   },
   "outputs": [
    {
     "name": "stdout",
     "output_type": "stream",
     "text": [
      "output_path:  s3://sagemaker-ap-northeast-2-057716757052/sagemaker/autogluon-tabular/output/\n",
      ".................................\u001b[34mWarning: Calling MMS with mxnet-model-server. Please move to multi-model-server.\u001b[0m\n",
      "\u001b[34m2020-11-17 09:39:39,836 [INFO ] main com.amazonaws.ml.mms.ModelServer - \u001b[0m\n",
      "\u001b[34mMMS Home: /usr/local/lib/python3.6/site-packages\u001b[0m\n",
      "\u001b[34mCurrent directory: /\u001b[0m\n",
      "\u001b[34mTemp directory: /home/model-server/tmp\u001b[0m\n",
      "\u001b[34mNumber of GPUs: 0\u001b[0m\n",
      "\u001b[34mNumber of CPUs: 8\u001b[0m\n",
      "\u001b[34mMax heap size: 6215 M\u001b[0m\n",
      "\u001b[34mPython executable: /usr/local/bin/python3.6\u001b[0m\n",
      "\u001b[34mConfig file: /etc/sagemaker-mms.properties\u001b[0m\n",
      "\u001b[34mInference address: http://0.0.0.0:8080\u001b[0m\n",
      "\u001b[34mManagement address: http://0.0.0.0:8080\u001b[0m\n",
      "\u001b[34mModel Store: /.sagemaker/mms/models\u001b[0m\n",
      "\u001b[34mInitial Models: ALL\u001b[0m\n",
      "\u001b[34mLog dir: /logs\u001b[0m\n",
      "\u001b[34mMetrics dir: /logs\u001b[0m\n",
      "\u001b[34mNetty threads: 0\u001b[0m\n",
      "\u001b[34mNetty client threads: 0\u001b[0m\n",
      "\u001b[34mDefault workers per model: 8\u001b[0m\n",
      "\u001b[34mBlacklist Regex: N/A\u001b[0m\n",
      "\u001b[34mMaximum Response Size: 6553500\u001b[0m\n",
      "\u001b[34mMaximum Request Size: 6553500\u001b[0m\n",
      "\u001b[34mPreload model: false\u001b[0m\n",
      "\u001b[34mPrefer direct buffer: false\u001b[0m\n",
      "\u001b[34m2020-11-17 09:39:39,902 [WARN ] W-9000-model com.amazonaws.ml.mms.wlm.WorkerLifeCycle - attachIOStreams() threadName=W-9000-model\u001b[0m\n",
      "\u001b[34m2020-11-17 09:39:40,019 [INFO ] W-9000-model-stdout com.amazonaws.ml.mms.wlm.WorkerLifeCycle - model_service_worker started with args: --sock-type unix --sock-name /home/model-server/tmp/.mms.sock.9000 --handler sagemaker_mxnet_serving_container.handler_service --model-path /.sagemaker/mms/models/model --model-name model --preload-model false --tmp-dir /home/model-server/tmp\u001b[0m\n",
      "\u001b[34m2020-11-17 09:39:40,020 [INFO ] W-9000-model-stdout com.amazonaws.ml.mms.wlm.WorkerLifeCycle - Listening on port: /home/model-server/tmp/.mms.sock.9000\u001b[0m\n",
      "\u001b[34m2020-11-17 09:39:40,020 [INFO ] W-9000-model-stdout com.amazonaws.ml.mms.wlm.WorkerLifeCycle - [PID] 69\u001b[0m\n",
      "\u001b[34m2020-11-17 09:39:40,020 [INFO ] W-9000-model-stdout com.amazonaws.ml.mms.wlm.WorkerLifeCycle - MMS worker started.\u001b[0m\n",
      "\u001b[34m2020-11-17 09:39:40,021 [INFO ] W-9000-model-stdout com.amazonaws.ml.mms.wlm.WorkerLifeCycle - Python runtime: 3.6.10\u001b[0m\n",
      "\u001b[34m2020-11-17 09:39:40,021 [INFO ] main com.amazonaws.ml.mms.wlm.ModelManager - Model model loaded.\u001b[0m\n",
      "\u001b[34m2020-11-17 09:39:40,026 [INFO ] main com.amazonaws.ml.mms.ModelServer - Initialize Inference server with: EpollServerSocketChannel.\u001b[0m\n",
      "\u001b[34m2020-11-17 09:39:40,036 [INFO ] W-9000-model com.amazonaws.ml.mms.wlm.WorkerThread - Connecting to: /home/model-server/tmp/.mms.sock.9000\u001b[0m\n",
      "\u001b[34m2020-11-17 09:39:40,036 [INFO ] W-9000-model com.amazonaws.ml.mms.wlm.WorkerThread - Connecting to: /home/model-server/tmp/.mms.sock.9000\u001b[0m\n",
      "\u001b[34m2020-11-17 09:39:40,037 [INFO ] W-9000-model com.amazonaws.ml.mms.wlm.WorkerThread - Connecting to: /home/model-server/tmp/.mms.sock.9000\u001b[0m\n",
      "\u001b[34m2020-11-17 09:39:40,036 [INFO ] W-9000-model com.amazonaws.ml.mms.wlm.WorkerThread - Connecting to: /home/model-server/tmp/.mms.sock.9000\u001b[0m\n",
      "\u001b[34m2020-11-17 09:39:40,036 [INFO ] W-9000-model com.amazonaws.ml.mms.wlm.WorkerThread - Connecting to: /home/model-server/tmp/.mms.sock.9000\u001b[0m\n",
      "\u001b[34m2020-11-17 09:39:40,037 [INFO ] W-9000-model com.amazonaws.ml.mms.wlm.WorkerThread - Connecting to: /home/model-server/tmp/.mms.sock.9000\u001b[0m\n",
      "\u001b[34m2020-11-17 09:39:40,036 [INFO ] W-9000-model com.amazonaws.ml.mms.wlm.WorkerThread - Connecting to: /home/model-server/tmp/.mms.sock.9000\u001b[0m\n",
      "\u001b[34m2020-11-17 09:39:40,037 [INFO ] W-9000-model com.amazonaws.ml.mms.wlm.WorkerThread - Connecting to: /home/model-server/tmp/.mms.sock.9000\u001b[0m\n",
      "\u001b[34m2020-11-17 09:39:40,100 [INFO ] main com.amazonaws.ml.mms.ModelServer - Inference API bind to: http://0.0.0.0:8080\u001b[0m\n",
      "\u001b[34mModel server started.\u001b[0m\n",
      "\u001b[34m2020-11-17 09:39:40,107 [INFO ] W-9000-model-stdout com.amazonaws.ml.mms.wlm.WorkerLifeCycle - Connection accepted: /home/model-server/tmp/.mms.sock.9000.\u001b[0m\n",
      "\u001b[34m2020-11-17 09:39:40,107 [INFO ] W-9000-model-stdout com.amazonaws.ml.mms.wlm.WorkerLifeCycle - Connection accepted: /home/model-server/tmp/.mms.sock.9000.\u001b[0m\n",
      "\u001b[34m2020-11-17 09:39:40,107 [INFO ] W-9000-model-stdout com.amazonaws.ml.mms.wlm.WorkerLifeCycle - Connection accepted: /home/model-server/tmp/.mms.sock.9000.\u001b[0m\n",
      "\u001b[34m2020-11-17 09:39:40,107 [INFO ] W-9000-model-stdout com.amazonaws.ml.mms.wlm.WorkerLifeCycle - Connection accepted: /home/model-server/tmp/.mms.sock.9000.\u001b[0m\n",
      "\u001b[34m2020-11-17 09:39:40,108 [INFO ] W-9000-model-stdout com.amazonaws.ml.mms.wlm.WorkerLifeCycle - Connection accepted: /home/model-server/tmp/.mms.sock.9000.\u001b[0m\n",
      "\u001b[34m2020-11-17 09:39:40,109 [INFO ] W-9000-model-stdout com.amazonaws.ml.mms.wlm.WorkerLifeCycle - Connection accepted: /home/model-server/tmp/.mms.sock.9000.\u001b[0m\n",
      "\u001b[34m2020-11-17 09:39:40,111 [INFO ] W-9000-model-stdout com.amazonaws.ml.mms.wlm.WorkerLifeCycle - Connection accepted: /home/model-server/tmp/.mms.sock.9000.\u001b[0m\n",
      "\u001b[34m2020-11-17 09:39:40,112 [WARN ] pool-2-thread-1 com.amazonaws.ml.mms.metrics.MetricCollector - worker pid is not available yet.\u001b[0m\n",
      "\u001b[34m2020-11-17 09:39:40,112 [INFO ] W-9000-model-stdout com.amazonaws.ml.mms.wlm.WorkerLifeCycle - Connection accepted: /home/model-server/tmp/.mms.sock.9000.\u001b[0m\n",
      "\u001b[34m2020-11-17 09:39:40,411 [INFO ] pool-1-thread-10 ACCESS_LOG - /169.254.255.130:53642 \"GET /ping HTTP/1.1\" 200 19\u001b[0m\n",
      "\u001b[34m2020-11-17 09:39:40,428 [INFO ] epollEventLoopGroup-3-2 ACCESS_LOG - /169.254.255.130:53646 \"GET /execution-parameters HTTP/1.1\" 404 1\u001b[0m\n",
      "\u001b[34m2020-11-17 09:39:43,056 [INFO ] W-9000-model-stdout com.amazonaws.ml.mms.wlm.WorkerLifeCycle - Generating new fontManager, this may take some time...\u001b[0m\n",
      "\u001b[34m2020-11-17 09:39:43,157 [INFO ] W-9000-model-stdout com.amazonaws.ml.mms.wlm.WorkerLifeCycle - Generating new fontManager, this may take some time...\u001b[0m\n",
      "\u001b[34m2020-11-17 09:39:43,175 [INFO ] W-9000-model-stdout com.amazonaws.ml.mms.wlm.WorkerLifeCycle - Generating new fontManager, this may take some time...\u001b[0m\n",
      "\u001b[34m2020-11-17 09:39:43,178 [INFO ] W-9000-model-stdout com.amazonaws.ml.mms.wlm.WorkerLifeCycle - Generating new fontManager, this may take some time...\u001b[0m\n",
      "\u001b[34m2020-11-17 09:39:43,262 [INFO ] W-9000-model-stdout com.amazonaws.ml.mms.wlm.WorkerLifeCycle - Generating new fontManager, this may take some time...\u001b[0m\n",
      "\u001b[34m2020-11-17 09:39:43,290 [INFO ] W-9000-model-stdout com.amazonaws.ml.mms.wlm.WorkerLifeCycle - Generating new fontManager, this may take some time...\u001b[0m\n",
      "\u001b[34m2020-11-17 09:39:43,311 [INFO ] W-9000-model-stdout com.amazonaws.ml.mms.wlm.WorkerLifeCycle - Generating new fontManager, this may take some time...\u001b[0m\n",
      "\u001b[34m2020-11-17 09:39:43,338 [INFO ] W-9000-model-stdout com.amazonaws.ml.mms.wlm.WorkerLifeCycle - Generating new fontManager, this may take some time...\u001b[0m\n",
      "\u001b[34m2020-11-17 09:39:44,469 [INFO ] W-9000-model-stdout com.amazonaws.ml.mms.wlm.WorkerLifeCycle - Loading model from /.sagemaker/mms/models/model with contents ['learner.pkl', 'MAR-INF', 'code', 'SummaryOfModels.html', 'models']\u001b[0m\n",
      "\u001b[34m2020-11-17 09:39:44,472 [INFO ] W-9000-model-stdout com.amazonaws.ml.mms.wlm.WorkerLifeCycle - Loading model from /.sagemaker/mms/models/model with contents ['learner.pkl', 'MAR-INF', 'code', 'SummaryOfModels.html', 'models']\u001b[0m\n",
      "\u001b[34m2020-11-17 09:39:44,498 [INFO ] W-9000-model com.amazonaws.ml.mms.wlm.WorkerThread - Backend response time: 4311\u001b[0m\n",
      "\u001b[32m2020-11-17T09:39:40.433:[sagemaker logs]: MaxConcurrentTransforms=1, MaxPayloadInMB=6, BatchStrategy=MULTI_RECORD\u001b[0m\n",
      "\u001b[34m2020-11-17 09:39:44,499 [WARN ] W-9000-model com.amazonaws.ml.mms.wlm.WorkerLifeCycle - attachIOStreams() threadName=W-model-2\u001b[0m\n",
      "\u001b[34m2020-11-17 09:39:44,500 [INFO ] W-9000-model com.amazonaws.ml.mms.wlm.WorkerThread - Backend response time: 4321\u001b[0m\n",
      "\u001b[34m2020-11-17 09:39:48,855 [INFO ] W-9000-model com.amazonaws.ml.mms.wlm.WorkerThread - Backend response time: 8678\u001b[0m\n",
      "\u001b[34m2020-11-17 09:39:48,822 [INFO ] W-9000-model com.amazonaws.ml.mms.wlm.WorkerThread - Backend response time: 8631\u001b[0m\n",
      "\u001b[35m2020-11-17 09:39:44,499 [WARN ] W-9000-model com.amazonaws.ml.mms.wlm.WorkerLifeCycle - attachIOStreams() threadName=W-model-2\u001b[0m\n",
      "\u001b[35m2020-11-17 09:39:44,500 [INFO ] W-9000-model com.amazonaws.ml.mms.wlm.WorkerThread - Backend response time: 4321\u001b[0m\n",
      "\u001b[35m2020-11-17 09:39:48,855 [INFO ] W-9000-model com.amazonaws.ml.mms.wlm.WorkerThread - Backend response time: 8678\u001b[0m\n",
      "\u001b[35m2020-11-17 09:39:48,822 [INFO ] W-9000-model com.amazonaws.ml.mms.wlm.WorkerThread - Backend response time: 8631\u001b[0m\n",
      "\u001b[34m2020-11-17 09:39:48,771 [INFO ] W-9000-model com.amazonaws.ml.mms.wlm.WorkerThread - Backend response time: 8598\u001b[0m\n",
      "\u001b[34m2020-11-17 09:40:01,723 [WARN ] W-9000-model com.amazonaws.ml.mms.wlm.WorkerLifeCycle - attachIOStreams() threadName=W-model-1\u001b[0m\n",
      "\u001b[34m2020-11-17 09:39:48,770 [INFO ] W-9000-model com.amazonaws.ml.mms.wlm.WorkerThread - Backend response time: 8596\u001b[0m\n",
      "\u001b[34m2020-11-17 09:39:48,724 [INFO ] W-9000-model com.amazonaws.ml.mms.wlm.WorkerThread - Backend response time: 8550\u001b[0m\n",
      "\u001b[34m2020-11-17 09:39:48,723 [INFO ] W-9000-model-stdout com.amazonaws.ml.mms.wlm.WorkerLifeCycle - Model model loaded io_fd=0242a9fffefeff83-0000002f-00000002-55bf8c61d792f78b-ed63489c\u001b[0m\n",
      "\u001b[34m2020-11-17 09:40:01,725 [WARN ] W-9000-model com.amazonaws.ml.mms.wlm.WorkerLifeCycle - attachIOStreams() threadName=W-model-3\u001b[0m\n",
      "\u001b[34m2020-11-17 09:40:01,726 [INFO ] W-9000-model-stdout com.amazonaws.ml.mms.wlm.WorkerLifeCycle - Model model loaded io_fd=0242a9fffefeff83-0000002f-00000004-7eca4c61d792f78b-dfb9a353\u001b[0m\n",
      "\u001b[34m2020-11-17 09:40:01,724 [WARN ] W-9000-model com.amazonaws.ml.mms.wlm.WorkerLifeCycle - attachIOStreams() threadName=W-model-4\u001b[0m\n",
      "\u001b[34m2020-11-17 09:40:01,724 [INFO ] W-model-2-stdout com.amazonaws.ml.mms.wlm.WorkerLifeCycle - Gonsoo Test 01 in transform_fn()\u001b[0m\n",
      "\u001b[34m2020-11-17 09:40:01,724 [WARN ] W-9000-model com.amazonaws.ml.mms.wlm.WorkerLifeCycle - attachIOStreams() threadName=W-model-7\u001b[0m\n",
      "\u001b[34m2020-11-17 09:40:01,723 [WARN ] W-9000-model com.amazonaws.ml.mms.wlm.WorkerLifeCycle - attachIOStreams() threadName=W-model-5\u001b[0m\n",
      "\u001b[34m2020-11-17 09:40:01,726 [INFO ] W-9000-model-stdout com.amazonaws.ml.mms.wlm.WorkerLifeCycle - Model model loaded io_fd=0242a9fffefeff83-0000002f-00000007-02c0cc61d792f78c-f69a40a1\u001b[0m\n",
      "\u001b[34m2020-11-17 09:40:01,726 [INFO ] W-9000-model-stdout com.amazonaws.ml.mms.wlm.WorkerLifeCycle - Model model loaded io_fd=0242a9fffefeff83-0000002f-00000003-90fc4c61d792f78b-155a7551\u001b[0m\n",
      "\u001b[34m2020-11-17 09:40:01,726 [INFO ] W-9000-model-stdout com.amazonaws.ml.mms.wlm.WorkerLifeCycle - Model model loaded io_fd=0242a9fffefeff83-0000002f-00000008-60cccc61d792f78c-a8e0273a\u001b[0m\n",
      "\u001b[34m2020-11-17 09:40:01,725 [WARN ] W-9000-model com.amazonaws.ml.mms.wlm.WorkerLifeCycle - attachIOStreams() threadName=W-model-8\u001b[0m\n",
      "\u001b[35m2020-11-17 09:39:48,771 [INFO ] W-9000-model com.amazonaws.ml.mms.wlm.WorkerThread - Backend response time: 8598\u001b[0m\n",
      "\u001b[35m2020-11-17 09:40:01,723 [WARN ] W-9000-model com.amazonaws.ml.mms.wlm.WorkerLifeCycle - attachIOStreams() threadName=W-model-1\u001b[0m\n",
      "\u001b[35m2020-11-17 09:39:48,770 [INFO ] W-9000-model com.amazonaws.ml.mms.wlm.WorkerThread - Backend response time: 8596\u001b[0m\n",
      "\u001b[35m2020-11-17 09:39:48,724 [INFO ] W-9000-model com.amazonaws.ml.mms.wlm.WorkerThread - Backend response time: 8550\u001b[0m\n",
      "\u001b[35m2020-11-17 09:39:48,723 [INFO ] W-9000-model-stdout com.amazonaws.ml.mms.wlm.WorkerLifeCycle - Model model loaded io_fd=0242a9fffefeff83-0000002f-00000002-55bf8c61d792f78b-ed63489c\u001b[0m\n",
      "\u001b[35m2020-11-17 09:40:01,725 [WARN ] W-9000-model com.amazonaws.ml.mms.wlm.WorkerLifeCycle - attachIOStreams() threadName=W-model-3\u001b[0m\n",
      "\u001b[35m2020-11-17 09:40:01,726 [INFO ] W-9000-model-stdout com.amazonaws.ml.mms.wlm.WorkerLifeCycle - Model model loaded io_fd=0242a9fffefeff83-0000002f-00000004-7eca4c61d792f78b-dfb9a353\u001b[0m\n",
      "\u001b[35m2020-11-17 09:40:01,724 [WARN ] W-9000-model com.amazonaws.ml.mms.wlm.WorkerLifeCycle - attachIOStreams() threadName=W-model-4\u001b[0m\n",
      "\u001b[35m2020-11-17 09:40:01,724 [INFO ] W-model-2-stdout com.amazonaws.ml.mms.wlm.WorkerLifeCycle - Gonsoo Test 01 in transform_fn()\u001b[0m\n",
      "\u001b[35m2020-11-17 09:40:01,724 [WARN ] W-9000-model com.amazonaws.ml.mms.wlm.WorkerLifeCycle - attachIOStreams() threadName=W-model-7\u001b[0m\n",
      "\u001b[35m2020-11-17 09:40:01,723 [WARN ] W-9000-model com.amazonaws.ml.mms.wlm.WorkerLifeCycle - attachIOStreams() threadName=W-model-5\u001b[0m\n",
      "\u001b[35m2020-11-17 09:40:01,726 [INFO ] W-9000-model-stdout com.amazonaws.ml.mms.wlm.WorkerLifeCycle - Model model loaded io_fd=0242a9fffefeff83-0000002f-00000007-02c0cc61d792f78c-f69a40a1\u001b[0m\n",
      "\u001b[35m2020-11-17 09:40:01,726 [INFO ] W-9000-model-stdout com.amazonaws.ml.mms.wlm.WorkerLifeCycle - Model model loaded io_fd=0242a9fffefeff83-0000002f-00000003-90fc4c61d792f78b-155a7551\u001b[0m\n",
      "\u001b[35m2020-11-17 09:40:01,726 [INFO ] W-9000-model-stdout com.amazonaws.ml.mms.wlm.WorkerLifeCycle - Model model loaded io_fd=0242a9fffefeff83-0000002f-00000008-60cccc61d792f78c-a8e0273a\u001b[0m\n",
      "\u001b[35m2020-11-17 09:40:01,725 [WARN ] W-9000-model com.amazonaws.ml.mms.wlm.WorkerLifeCycle - attachIOStreams() threadName=W-model-8\u001b[0m\n",
      "\u001b[34m2020-11-17 09:40:02,548 [INFO ] W-9000-model-stdout com.amazonaws.ml.mms.wlm.WorkerLifeCycle - Loading model from /.sagemaker/mms/models/model with contents ['learner.pkl', 'MAR-INF', 'code', 'SummaryOfModels.html', 'models']\u001b[0m\n",
      "\u001b[34m2020-11-17 09:40:02,576 [INFO ] W-9000-model com.amazonaws.ml.mms.wlm.WorkerThread - Backend response time: 22382\u001b[0m\n",
      "\u001b[34m2020-11-17 09:40:02,576 [WARN ] W-9000-model com.amazonaws.ml.mms.wlm.WorkerLifeCycle - attachIOStreams() threadName=W-model-6\u001b[0m\n",
      "\u001b[35m2020-11-17 09:40:02,548 [INFO ] W-9000-model-stdout com.amazonaws.ml.mms.wlm.WorkerLifeCycle - Loading model from /.sagemaker/mms/models/model with contents ['learner.pkl', 'MAR-INF', 'code', 'SummaryOfModels.html', 'models']\u001b[0m\n",
      "\u001b[35m2020-11-17 09:40:02,576 [INFO ] W-9000-model com.amazonaws.ml.mms.wlm.WorkerThread - Backend response time: 22382\u001b[0m\n",
      "\u001b[35m2020-11-17 09:40:02,576 [WARN ] W-9000-model com.amazonaws.ml.mms.wlm.WorkerLifeCycle - attachIOStreams() threadName=W-model-6\u001b[0m\n",
      "\n",
      "\u001b[34m2020-11-17 09:40:18,061 [INFO ] W-model-2-stdout com.amazonaws.ml.mms.wlm.WorkerLifeCycle - Elapsed time: 33.556 seconds\u001b[0m\n",
      "\u001b[34m2020-11-17 09:40:18,063 [INFO ] W-9000-model com.amazonaws.ml.mms.wlm.WorkerThread - Backend response time: 33561\u001b[0m\n",
      "\u001b[34m2020-11-17 09:40:18,063 [INFO ] W-9000-model ACCESS_LOG - /169.254.255.130:53650 \"POST /invocations HTTP/1.1\" 200 37312\u001b[0m\n",
      "\u001b[35m2020-11-17 09:40:18,061 [INFO ] W-model-2-stdout com.amazonaws.ml.mms.wlm.WorkerLifeCycle - Elapsed time: 33.556 seconds\u001b[0m\n",
      "\u001b[35m2020-11-17 09:40:18,063 [INFO ] W-9000-model com.amazonaws.ml.mms.wlm.WorkerThread - Backend response time: 33561\u001b[0m\n",
      "\u001b[35m2020-11-17 09:40:18,063 [INFO ] W-9000-model ACCESS_LOG - /169.254.255.130:53650 \"POST /invocations HTTP/1.1\" 200 37312\u001b[0m\n",
      "\u001b[34mWarning: Calling MMS with mxnet-model-server. Please move to multi-model-server.\u001b[0m\n",
      "\u001b[35mWarning: Calling MMS with mxnet-model-server. Please move to multi-model-server.\u001b[0m\n",
      "\u001b[34m2020-11-17 09:39:39,836 [INFO ] main com.amazonaws.ml.mms.ModelServer - \u001b[0m\n",
      "\u001b[34mMMS Home: /usr/local/lib/python3.6/site-packages\u001b[0m\n",
      "\u001b[34mCurrent directory: /\u001b[0m\n",
      "\u001b[34mTemp directory: /home/model-server/tmp\u001b[0m\n",
      "\u001b[34mNumber of GPUs: 0\u001b[0m\n",
      "\u001b[34mNumber of CPUs: 8\u001b[0m\n",
      "\u001b[34mMax heap size: 6215 M\u001b[0m\n",
      "\u001b[34mPython executable: /usr/local/bin/python3.6\u001b[0m\n",
      "\u001b[34mConfig file: /etc/sagemaker-mms.properties\u001b[0m\n",
      "\u001b[34mInference address: http://0.0.0.0:8080\u001b[0m\n",
      "\u001b[34mManagement address: http://0.0.0.0:8080\u001b[0m\n",
      "\u001b[34mModel Store: /.sagemaker/mms/models\u001b[0m\n",
      "\u001b[34mInitial Models: ALL\u001b[0m\n",
      "\u001b[34mLog dir: /logs\u001b[0m\n",
      "\u001b[34mMetrics dir: /logs\u001b[0m\n",
      "\u001b[34mNetty threads: 0\u001b[0m\n",
      "\u001b[34mNetty client threads: 0\u001b[0m\n",
      "\u001b[34mDefault workers per model: 8\u001b[0m\n",
      "\u001b[35m2020-11-17 09:39:39,836 [INFO ] main com.amazonaws.ml.mms.ModelServer - \u001b[0m\n",
      "\u001b[35mMMS Home: /usr/local/lib/python3.6/site-packages\u001b[0m\n",
      "\u001b[35mCurrent directory: /\u001b[0m\n",
      "\u001b[35mTemp directory: /home/model-server/tmp\u001b[0m\n",
      "\u001b[35mNumber of GPUs: 0\u001b[0m\n",
      "\u001b[35mNumber of CPUs: 8\u001b[0m\n",
      "\u001b[35mMax heap size: 6215 M\u001b[0m\n",
      "\u001b[35mPython executable: /usr/local/bin/python3.6\u001b[0m\n",
      "\u001b[35mConfig file: /etc/sagemaker-mms.properties\u001b[0m\n",
      "\u001b[35mInference address: http://0.0.0.0:8080\u001b[0m\n",
      "\u001b[35mManagement address: http://0.0.0.0:8080\u001b[0m\n",
      "\u001b[35mModel Store: /.sagemaker/mms/models\u001b[0m\n",
      "\u001b[35mInitial Models: ALL\u001b[0m\n",
      "\u001b[35mLog dir: /logs\u001b[0m\n",
      "\u001b[35mMetrics dir: /logs\u001b[0m\n",
      "\u001b[35mNetty threads: 0\u001b[0m\n",
      "\u001b[35mNetty client threads: 0\u001b[0m\n",
      "\u001b[35mDefault workers per model: 8\u001b[0m\n",
      "\u001b[34mBlacklist Regex: N/A\u001b[0m\n",
      "\u001b[34mMaximum Response Size: 6553500\u001b[0m\n",
      "\u001b[34mMaximum Request Size: 6553500\u001b[0m\n",
      "\u001b[34mPreload model: false\u001b[0m\n",
      "\u001b[34mPrefer direct buffer: false\u001b[0m\n",
      "\u001b[34m2020-11-17 09:39:39,902 [WARN ] W-9000-model com.amazonaws.ml.mms.wlm.WorkerLifeCycle - attachIOStreams() threadName=W-9000-model\u001b[0m\n",
      "\u001b[34m2020-11-17 09:39:40,019 [INFO ] W-9000-model-stdout com.amazonaws.ml.mms.wlm.WorkerLifeCycle - model_service_worker started with args: --sock-type unix --sock-name /home/model-server/tmp/.mms.sock.9000 --handler sagemaker_mxnet_serving_container.handler_service --model-path /.sagemaker/mms/models/model --model-name model --preload-model false --tmp-dir /home/model-server/tmp\u001b[0m\n",
      "\u001b[34m2020-11-17 09:39:40,020 [INFO ] W-9000-model-stdout com.amazonaws.ml.mms.wlm.WorkerLifeCycle - Listening on port: /home/model-server/tmp/.mms.sock.9000\u001b[0m\n",
      "\u001b[34m2020-11-17 09:39:40,020 [INFO ] W-9000-model-stdout com.amazonaws.ml.mms.wlm.WorkerLifeCycle - [PID] 69\u001b[0m\n",
      "\u001b[34m2020-11-17 09:39:40,020 [INFO ] W-9000-model-stdout com.amazonaws.ml.mms.wlm.WorkerLifeCycle - MMS worker started.\u001b[0m\n",
      "\u001b[34m2020-11-17 09:39:40,021 [INFO ] W-9000-model-stdout com.amazonaws.ml.mms.wlm.WorkerLifeCycle - Python runtime: 3.6.10\u001b[0m\n",
      "\u001b[34m2020-11-17 09:39:40,021 [INFO ] main com.amazonaws.ml.mms.wlm.ModelManager - Model model loaded.\u001b[0m\n",
      "\u001b[34m2020-11-17 09:39:40,026 [INFO ] main com.amazonaws.ml.mms.ModelServer - Initialize Inference server with: EpollServerSocketChannel.\u001b[0m\n",
      "\u001b[34m2020-11-17 09:39:40,036 [INFO ] W-9000-model com.amazonaws.ml.mms.wlm.WorkerThread - Connecting to: /home/model-server/tmp/.mms.sock.9000\u001b[0m\n",
      "\u001b[34m2020-11-17 09:39:40,036 [INFO ] W-9000-model com.amazonaws.ml.mms.wlm.WorkerThread - Connecting to: /home/model-server/tmp/.mms.sock.9000\u001b[0m\n",
      "\u001b[34m2020-11-17 09:39:40,037 [INFO ] W-9000-model com.amazonaws.ml.mms.wlm.WorkerThread - Connecting to: /home/model-server/tmp/.mms.sock.9000\u001b[0m\n",
      "\u001b[34m2020-11-17 09:39:40,036 [INFO ] W-9000-model com.amazonaws.ml.mms.wlm.WorkerThread - Connecting to: /home/model-server/tmp/.mms.sock.9000\u001b[0m\n",
      "\u001b[34m2020-11-17 09:39:40,036 [INFO ] W-9000-model com.amazonaws.ml.mms.wlm.WorkerThread - Connecting to: /home/model-server/tmp/.mms.sock.9000\u001b[0m\n",
      "\u001b[34m2020-11-17 09:39:40,037 [INFO ] W-9000-model com.amazonaws.ml.mms.wlm.WorkerThread - Connecting to: /home/model-server/tmp/.mms.sock.9000\u001b[0m\n",
      "\u001b[34m2020-11-17 09:39:40,036 [INFO ] W-9000-model com.amazonaws.ml.mms.wlm.WorkerThread - Connecting to: /home/model-server/tmp/.mms.sock.9000\u001b[0m\n",
      "\u001b[34m2020-11-17 09:39:40,037 [INFO ] W-9000-model com.amazonaws.ml.mms.wlm.WorkerThread - Connecting to: /home/model-server/tmp/.mms.sock.9000\u001b[0m\n",
      "\u001b[34m2020-11-17 09:39:40,100 [INFO ] main com.amazonaws.ml.mms.ModelServer - Inference API bind to: http://0.0.0.0:8080\u001b[0m\n",
      "\u001b[34mModel server started.\u001b[0m\n",
      "\u001b[34m2020-11-17 09:39:40,107 [INFO ] W-9000-model-stdout com.amazonaws.ml.mms.wlm.WorkerLifeCycle - Connection accepted: /home/model-server/tmp/.mms.sock.9000.\u001b[0m\n",
      "\u001b[34m2020-11-17 09:39:40,107 [INFO ] W-9000-model-stdout com.amazonaws.ml.mms.wlm.WorkerLifeCycle - Connection accepted: /home/model-server/tmp/.mms.sock.9000.\u001b[0m\n",
      "\u001b[34m2020-11-17 09:39:40,107 [INFO ] W-9000-model-stdout com.amazonaws.ml.mms.wlm.WorkerLifeCycle - Connection accepted: /home/model-server/tmp/.mms.sock.9000.\u001b[0m\n",
      "\u001b[34m2020-11-17 09:39:40,107 [INFO ] W-9000-model-stdout com.amazonaws.ml.mms.wlm.WorkerLifeCycle - Connection accepted: /home/model-server/tmp/.mms.sock.9000.\u001b[0m\n",
      "\u001b[34m2020-11-17 09:39:40,108 [INFO ] W-9000-model-stdout com.amazonaws.ml.mms.wlm.WorkerLifeCycle - Connection accepted: /home/model-server/tmp/.mms.sock.9000.\u001b[0m\n",
      "\u001b[34m2020-11-17 09:39:40,109 [INFO ] W-9000-model-stdout com.amazonaws.ml.mms.wlm.WorkerLifeCycle - Connection accepted: /home/model-server/tmp/.mms.sock.9000.\u001b[0m\n",
      "\u001b[35mBlacklist Regex: N/A\u001b[0m\n",
      "\u001b[35mMaximum Response Size: 6553500\u001b[0m\n",
      "\u001b[35mMaximum Request Size: 6553500\u001b[0m\n",
      "\u001b[35mPreload model: false\u001b[0m\n",
      "\u001b[35mPrefer direct buffer: false\u001b[0m\n",
      "\u001b[35m2020-11-17 09:39:39,902 [WARN ] W-9000-model com.amazonaws.ml.mms.wlm.WorkerLifeCycle - attachIOStreams() threadName=W-9000-model\u001b[0m\n",
      "\u001b[35m2020-11-17 09:39:40,019 [INFO ] W-9000-model-stdout com.amazonaws.ml.mms.wlm.WorkerLifeCycle - model_service_worker started with args: --sock-type unix --sock-name /home/model-server/tmp/.mms.sock.9000 --handler sagemaker_mxnet_serving_container.handler_service --model-path /.sagemaker/mms/models/model --model-name model --preload-model false --tmp-dir /home/model-server/tmp\u001b[0m\n",
      "\u001b[35m2020-11-17 09:39:40,020 [INFO ] W-9000-model-stdout com.amazonaws.ml.mms.wlm.WorkerLifeCycle - Listening on port: /home/model-server/tmp/.mms.sock.9000\u001b[0m\n",
      "\u001b[35m2020-11-17 09:39:40,020 [INFO ] W-9000-model-stdout com.amazonaws.ml.mms.wlm.WorkerLifeCycle - [PID] 69\u001b[0m\n",
      "\u001b[35m2020-11-17 09:39:40,020 [INFO ] W-9000-model-stdout com.amazonaws.ml.mms.wlm.WorkerLifeCycle - MMS worker started.\u001b[0m\n",
      "\u001b[35m2020-11-17 09:39:40,021 [INFO ] W-9000-model-stdout com.amazonaws.ml.mms.wlm.WorkerLifeCycle - Python runtime: 3.6.10\u001b[0m\n",
      "\u001b[35m2020-11-17 09:39:40,021 [INFO ] main com.amazonaws.ml.mms.wlm.ModelManager - Model model loaded.\u001b[0m\n",
      "\u001b[35m2020-11-17 09:39:40,026 [INFO ] main com.amazonaws.ml.mms.ModelServer - Initialize Inference server with: EpollServerSocketChannel.\u001b[0m\n",
      "\u001b[35m2020-11-17 09:39:40,036 [INFO ] W-9000-model com.amazonaws.ml.mms.wlm.WorkerThread - Connecting to: /home/model-server/tmp/.mms.sock.9000\u001b[0m\n",
      "\u001b[35m2020-11-17 09:39:40,036 [INFO ] W-9000-model com.amazonaws.ml.mms.wlm.WorkerThread - Connecting to: /home/model-server/tmp/.mms.sock.9000\u001b[0m\n",
      "\u001b[35m2020-11-17 09:39:40,037 [INFO ] W-9000-model com.amazonaws.ml.mms.wlm.WorkerThread - Connecting to: /home/model-server/tmp/.mms.sock.9000\u001b[0m\n",
      "\u001b[35m2020-11-17 09:39:40,036 [INFO ] W-9000-model com.amazonaws.ml.mms.wlm.WorkerThread - Connecting to: /home/model-server/tmp/.mms.sock.9000\u001b[0m\n",
      "\u001b[35m2020-11-17 09:39:40,036 [INFO ] W-9000-model com.amazonaws.ml.mms.wlm.WorkerThread - Connecting to: /home/model-server/tmp/.mms.sock.9000\u001b[0m\n",
      "\u001b[35m2020-11-17 09:39:40,037 [INFO ] W-9000-model com.amazonaws.ml.mms.wlm.WorkerThread - Connecting to: /home/model-server/tmp/.mms.sock.9000\u001b[0m\n",
      "\u001b[35m2020-11-17 09:39:40,036 [INFO ] W-9000-model com.amazonaws.ml.mms.wlm.WorkerThread - Connecting to: /home/model-server/tmp/.mms.sock.9000\u001b[0m\n",
      "\u001b[35m2020-11-17 09:39:40,037 [INFO ] W-9000-model com.amazonaws.ml.mms.wlm.WorkerThread - Connecting to: /home/model-server/tmp/.mms.sock.9000\u001b[0m\n",
      "\u001b[35m2020-11-17 09:39:40,100 [INFO ] main com.amazonaws.ml.mms.ModelServer - Inference API bind to: http://0.0.0.0:8080\u001b[0m\n",
      "\u001b[35mModel server started.\u001b[0m\n",
      "\u001b[35m2020-11-17 09:39:40,107 [INFO ] W-9000-model-stdout com.amazonaws.ml.mms.wlm.WorkerLifeCycle - Connection accepted: /home/model-server/tmp/.mms.sock.9000.\u001b[0m\n",
      "\u001b[35m2020-11-17 09:39:40,107 [INFO ] W-9000-model-stdout com.amazonaws.ml.mms.wlm.WorkerLifeCycle - Connection accepted: /home/model-server/tmp/.mms.sock.9000.\u001b[0m\n",
      "\u001b[35m2020-11-17 09:39:40,107 [INFO ] W-9000-model-stdout com.amazonaws.ml.mms.wlm.WorkerLifeCycle - Connection accepted: /home/model-server/tmp/.mms.sock.9000.\u001b[0m\n",
      "\u001b[35m2020-11-17 09:39:40,107 [INFO ] W-9000-model-stdout com.amazonaws.ml.mms.wlm.WorkerLifeCycle - Connection accepted: /home/model-server/tmp/.mms.sock.9000.\u001b[0m\n",
      "\u001b[35m2020-11-17 09:39:40,108 [INFO ] W-9000-model-stdout com.amazonaws.ml.mms.wlm.WorkerLifeCycle - Connection accepted: /home/model-server/tmp/.mms.sock.9000.\u001b[0m\n",
      "\u001b[35m2020-11-17 09:39:40,109 [INFO ] W-9000-model-stdout com.amazonaws.ml.mms.wlm.WorkerLifeCycle - Connection accepted: /home/model-server/tmp/.mms.sock.9000.\u001b[0m\n",
      "\u001b[34m2020-11-17 09:39:40,111 [INFO ] W-9000-model-stdout com.amazonaws.ml.mms.wlm.WorkerLifeCycle - Connection accepted: /home/model-server/tmp/.mms.sock.9000.\u001b[0m\n",
      "\u001b[34m2020-11-17 09:39:40,112 [WARN ] pool-2-thread-1 com.amazonaws.ml.mms.metrics.MetricCollector - worker pid is not available yet.\u001b[0m\n",
      "\u001b[34m2020-11-17 09:39:40,112 [INFO ] W-9000-model-stdout com.amazonaws.ml.mms.wlm.WorkerLifeCycle - Connection accepted: /home/model-server/tmp/.mms.sock.9000.\u001b[0m\n",
      "\u001b[34m2020-11-17 09:39:40,411 [INFO ] pool-1-thread-10 ACCESS_LOG - /169.254.255.130:53642 \"GET /ping HTTP/1.1\" 200 19\u001b[0m\n",
      "\u001b[34m2020-11-17 09:39:40,428 [INFO ] epollEventLoopGroup-3-2 ACCESS_LOG - /169.254.255.130:53646 \"GET /execution-parameters HTTP/1.1\" 404 1\u001b[0m\n",
      "\u001b[35m2020-11-17 09:39:40,111 [INFO ] W-9000-model-stdout com.amazonaws.ml.mms.wlm.WorkerLifeCycle - Connection accepted: /home/model-server/tmp/.mms.sock.9000.\u001b[0m\n",
      "\u001b[35m2020-11-17 09:39:40,112 [WARN ] pool-2-thread-1 com.amazonaws.ml.mms.metrics.MetricCollector - worker pid is not available yet.\u001b[0m\n",
      "\u001b[35m2020-11-17 09:39:40,112 [INFO ] W-9000-model-stdout com.amazonaws.ml.mms.wlm.WorkerLifeCycle - Connection accepted: /home/model-server/tmp/.mms.sock.9000.\u001b[0m\n",
      "\u001b[35m2020-11-17 09:39:40,411 [INFO ] pool-1-thread-10 ACCESS_LOG - /169.254.255.130:53642 \"GET /ping HTTP/1.1\" 200 19\u001b[0m\n",
      "\u001b[35m2020-11-17 09:39:40,428 [INFO ] epollEventLoopGroup-3-2 ACCESS_LOG - /169.254.255.130:53646 \"GET /execution-parameters HTTP/1.1\" 404 1\u001b[0m\n",
      "\u001b[34m2020-11-17 09:39:43,056 [INFO ] W-9000-model-stdout com.amazonaws.ml.mms.wlm.WorkerLifeCycle - Generating new fontManager, this may take some time...\u001b[0m\n",
      "\u001b[34m2020-11-17 09:39:43,157 [INFO ] W-9000-model-stdout com.amazonaws.ml.mms.wlm.WorkerLifeCycle - Generating new fontManager, this may take some time...\u001b[0m\n",
      "\u001b[34m2020-11-17 09:39:43,175 [INFO ] W-9000-model-stdout com.amazonaws.ml.mms.wlm.WorkerLifeCycle - Generating new fontManager, this may take some time...\u001b[0m\n",
      "\u001b[34m2020-11-17 09:39:43,178 [INFO ] W-9000-model-stdout com.amazonaws.ml.mms.wlm.WorkerLifeCycle - Generating new fontManager, this may take some time...\u001b[0m\n",
      "\u001b[34m2020-11-17 09:39:43,262 [INFO ] W-9000-model-stdout com.amazonaws.ml.mms.wlm.WorkerLifeCycle - Generating new fontManager, this may take some time...\u001b[0m\n",
      "\u001b[34m2020-11-17 09:39:43,290 [INFO ] W-9000-model-stdout com.amazonaws.ml.mms.wlm.WorkerLifeCycle - Generating new fontManager, this may take some time...\u001b[0m\n",
      "\u001b[34m2020-11-17 09:39:43,311 [INFO ] W-9000-model-stdout com.amazonaws.ml.mms.wlm.WorkerLifeCycle - Generating new fontManager, this may take some time...\u001b[0m\n",
      "\u001b[34m2020-11-17 09:39:43,338 [INFO ] W-9000-model-stdout com.amazonaws.ml.mms.wlm.WorkerLifeCycle - Generating new fontManager, this may take some time...\u001b[0m\n",
      "\u001b[35m2020-11-17 09:39:43,056 [INFO ] W-9000-model-stdout com.amazonaws.ml.mms.wlm.WorkerLifeCycle - Generating new fontManager, this may take some time...\u001b[0m\n",
      "\u001b[35m2020-11-17 09:39:43,157 [INFO ] W-9000-model-stdout com.amazonaws.ml.mms.wlm.WorkerLifeCycle - Generating new fontManager, this may take some time...\u001b[0m\n",
      "\u001b[35m2020-11-17 09:39:43,175 [INFO ] W-9000-model-stdout com.amazonaws.ml.mms.wlm.WorkerLifeCycle - Generating new fontManager, this may take some time...\u001b[0m\n",
      "\u001b[35m2020-11-17 09:39:43,178 [INFO ] W-9000-model-stdout com.amazonaws.ml.mms.wlm.WorkerLifeCycle - Generating new fontManager, this may take some time...\u001b[0m\n",
      "\u001b[35m2020-11-17 09:39:43,262 [INFO ] W-9000-model-stdout com.amazonaws.ml.mms.wlm.WorkerLifeCycle - Generating new fontManager, this may take some time...\u001b[0m\n",
      "\u001b[35m2020-11-17 09:39:43,290 [INFO ] W-9000-model-stdout com.amazonaws.ml.mms.wlm.WorkerLifeCycle - Generating new fontManager, this may take some time...\u001b[0m\n",
      "\u001b[35m2020-11-17 09:39:43,311 [INFO ] W-9000-model-stdout com.amazonaws.ml.mms.wlm.WorkerLifeCycle - Generating new fontManager, this may take some time...\u001b[0m\n",
      "\u001b[35m2020-11-17 09:39:43,338 [INFO ] W-9000-model-stdout com.amazonaws.ml.mms.wlm.WorkerLifeCycle - Generating new fontManager, this may take some time...\u001b[0m\n",
      "\u001b[34m2020-11-17 09:39:44,469 [INFO ] W-9000-model-stdout com.amazonaws.ml.mms.wlm.WorkerLifeCycle - Loading model from /.sagemaker/mms/models/model with contents ['learner.pkl', 'MAR-INF', 'code', 'SummaryOfModels.html', 'models']\u001b[0m\n",
      "\u001b[34m2020-11-17 09:39:44,472 [INFO ] W-9000-model-stdout com.amazonaws.ml.mms.wlm.WorkerLifeCycle - Loading model from /.sagemaker/mms/models/model with contents ['learner.pkl', 'MAR-INF', 'code', 'SummaryOfModels.html', 'models']\u001b[0m\n",
      "\u001b[34m2020-11-17 09:39:44,498 [INFO ] W-9000-model com.amazonaws.ml.mms.wlm.WorkerThread - Backend response time: 4311\u001b[0m\n",
      "\u001b[35m2020-11-17 09:39:44,469 [INFO ] W-9000-model-stdout com.amazonaws.ml.mms.wlm.WorkerLifeCycle - Loading model from /.sagemaker/mms/models/model with contents ['learner.pkl', 'MAR-INF', 'code', 'SummaryOfModels.html', 'models']\u001b[0m\n",
      "\u001b[35m2020-11-17 09:39:44,472 [INFO ] W-9000-model-stdout com.amazonaws.ml.mms.wlm.WorkerLifeCycle - Loading model from /.sagemaker/mms/models/model with contents ['learner.pkl', 'MAR-INF', 'code', 'SummaryOfModels.html', 'models']\u001b[0m\n",
      "\u001b[35m2020-11-17 09:39:44,498 [INFO ] W-9000-model com.amazonaws.ml.mms.wlm.WorkerThread - Backend response time: 4311\u001b[0m\n",
      "\u001b[32m2020-11-17T09:39:40.433:[sagemaker logs]: MaxConcurrentTransforms=1, MaxPayloadInMB=6, BatchStrategy=MULTI_RECORD\u001b[0m\n",
      "\u001b[34m2020-11-17 09:39:44,499 [WARN ] W-9000-model com.amazonaws.ml.mms.wlm.WorkerLifeCycle - attachIOStreams() threadName=W-model-2\u001b[0m\n",
      "\u001b[34m2020-11-17 09:39:44,500 [INFO ] W-9000-model com.amazonaws.ml.mms.wlm.WorkerThread - Backend response time: 4321\u001b[0m\n",
      "\u001b[34m2020-11-17 09:39:48,855 [INFO ] W-9000-model com.amazonaws.ml.mms.wlm.WorkerThread - Backend response time: 8678\u001b[0m\n",
      "\u001b[34m2020-11-17 09:39:48,822 [INFO ] W-9000-model com.amazonaws.ml.mms.wlm.WorkerThread - Backend response time: 8631\u001b[0m\n",
      "\u001b[35m2020-11-17 09:39:44,499 [WARN ] W-9000-model com.amazonaws.ml.mms.wlm.WorkerLifeCycle - attachIOStreams() threadName=W-model-2\u001b[0m\n",
      "\u001b[35m2020-11-17 09:39:44,500 [INFO ] W-9000-model com.amazonaws.ml.mms.wlm.WorkerThread - Backend response time: 4321\u001b[0m\n",
      "\u001b[35m2020-11-17 09:39:48,855 [INFO ] W-9000-model com.amazonaws.ml.mms.wlm.WorkerThread - Backend response time: 8678\u001b[0m\n",
      "\u001b[35m2020-11-17 09:39:48,822 [INFO ] W-9000-model com.amazonaws.ml.mms.wlm.WorkerThread - Backend response time: 8631\u001b[0m\n",
      "\u001b[34m2020-11-17 09:39:48,771 [INFO ] W-9000-model com.amazonaws.ml.mms.wlm.WorkerThread - Backend response time: 8598\u001b[0m\n",
      "\u001b[34m2020-11-17 09:40:01,723 [WARN ] W-9000-model com.amazonaws.ml.mms.wlm.WorkerLifeCycle - attachIOStreams() threadName=W-model-1\u001b[0m\n",
      "\u001b[34m2020-11-17 09:39:48,770 [INFO ] W-9000-model com.amazonaws.ml.mms.wlm.WorkerThread - Backend response time: 8596\u001b[0m\n",
      "\u001b[34m2020-11-17 09:39:48,724 [INFO ] W-9000-model com.amazonaws.ml.mms.wlm.WorkerThread - Backend response time: 8550\u001b[0m\n",
      "\u001b[34m2020-11-17 09:39:48,723 [INFO ] W-9000-model-stdout com.amazonaws.ml.mms.wlm.WorkerLifeCycle - Model model loaded io_fd=0242a9fffefeff83-0000002f-00000002-55bf8c61d792f78b-ed63489c\u001b[0m\n",
      "\u001b[34m2020-11-17 09:40:01,725 [WARN ] W-9000-model com.amazonaws.ml.mms.wlm.WorkerLifeCycle - attachIOStreams() threadName=W-model-3\u001b[0m\n",
      "\u001b[34m2020-11-17 09:40:01,726 [INFO ] W-9000-model-stdout com.amazonaws.ml.mms.wlm.WorkerLifeCycle - Model model loaded io_fd=0242a9fffefeff83-0000002f-00000004-7eca4c61d792f78b-dfb9a353\u001b[0m\n",
      "\u001b[34m2020-11-17 09:40:01,724 [WARN ] W-9000-model com.amazonaws.ml.mms.wlm.WorkerLifeCycle - attachIOStreams() threadName=W-model-4\u001b[0m\n",
      "\u001b[34m2020-11-17 09:40:01,724 [INFO ] W-model-2-stdout com.amazonaws.ml.mms.wlm.WorkerLifeCycle - Gonsoo Test 01 in transform_fn()\u001b[0m\n",
      "\u001b[34m2020-11-17 09:40:01,724 [WARN ] W-9000-model com.amazonaws.ml.mms.wlm.WorkerLifeCycle - attachIOStreams() threadName=W-model-7\u001b[0m\n",
      "\u001b[34m2020-11-17 09:40:01,723 [WARN ] W-9000-model com.amazonaws.ml.mms.wlm.WorkerLifeCycle - attachIOStreams() threadName=W-model-5\u001b[0m\n",
      "\u001b[34m2020-11-17 09:40:01,726 [INFO ] W-9000-model-stdout com.amazonaws.ml.mms.wlm.WorkerLifeCycle - Model model loaded io_fd=0242a9fffefeff83-0000002f-00000007-02c0cc61d792f78c-f69a40a1\u001b[0m\n",
      "\u001b[34m2020-11-17 09:40:01,726 [INFO ] W-9000-model-stdout com.amazonaws.ml.mms.wlm.WorkerLifeCycle - Model model loaded io_fd=0242a9fffefeff83-0000002f-00000003-90fc4c61d792f78b-155a7551\u001b[0m\n",
      "\u001b[34m2020-11-17 09:40:01,726 [INFO ] W-9000-model-stdout com.amazonaws.ml.mms.wlm.WorkerLifeCycle - Model model loaded io_fd=0242a9fffefeff83-0000002f-00000008-60cccc61d792f78c-a8e0273a\u001b[0m\n",
      "\u001b[34m2020-11-17 09:40:01,725 [WARN ] W-9000-model com.amazonaws.ml.mms.wlm.WorkerLifeCycle - attachIOStreams() threadName=W-model-8\u001b[0m\n",
      "\u001b[35m2020-11-17 09:39:48,771 [INFO ] W-9000-model com.amazonaws.ml.mms.wlm.WorkerThread - Backend response time: 8598\u001b[0m\n",
      "\u001b[35m2020-11-17 09:40:01,723 [WARN ] W-9000-model com.amazonaws.ml.mms.wlm.WorkerLifeCycle - attachIOStreams() threadName=W-model-1\u001b[0m\n",
      "\u001b[35m2020-11-17 09:39:48,770 [INFO ] W-9000-model com.amazonaws.ml.mms.wlm.WorkerThread - Backend response time: 8596\u001b[0m\n",
      "\u001b[35m2020-11-17 09:39:48,724 [INFO ] W-9000-model com.amazonaws.ml.mms.wlm.WorkerThread - Backend response time: 8550\u001b[0m\n",
      "\u001b[35m2020-11-17 09:39:48,723 [INFO ] W-9000-model-stdout com.amazonaws.ml.mms.wlm.WorkerLifeCycle - Model model loaded io_fd=0242a9fffefeff83-0000002f-00000002-55bf8c61d792f78b-ed63489c\u001b[0m\n",
      "\u001b[35m2020-11-17 09:40:01,725 [WARN ] W-9000-model com.amazonaws.ml.mms.wlm.WorkerLifeCycle - attachIOStreams() threadName=W-model-3\u001b[0m\n",
      "\u001b[35m2020-11-17 09:40:01,726 [INFO ] W-9000-model-stdout com.amazonaws.ml.mms.wlm.WorkerLifeCycle - Model model loaded io_fd=0242a9fffefeff83-0000002f-00000004-7eca4c61d792f78b-dfb9a353\u001b[0m\n",
      "\u001b[35m2020-11-17 09:40:01,724 [WARN ] W-9000-model com.amazonaws.ml.mms.wlm.WorkerLifeCycle - attachIOStreams() threadName=W-model-4\u001b[0m\n",
      "\u001b[35m2020-11-17 09:40:01,724 [INFO ] W-model-2-stdout com.amazonaws.ml.mms.wlm.WorkerLifeCycle - Gonsoo Test 01 in transform_fn()\u001b[0m\n",
      "\u001b[35m2020-11-17 09:40:01,724 [WARN ] W-9000-model com.amazonaws.ml.mms.wlm.WorkerLifeCycle - attachIOStreams() threadName=W-model-7\u001b[0m\n",
      "\u001b[35m2020-11-17 09:40:01,723 [WARN ] W-9000-model com.amazonaws.ml.mms.wlm.WorkerLifeCycle - attachIOStreams() threadName=W-model-5\u001b[0m\n",
      "\u001b[35m2020-11-17 09:40:01,726 [INFO ] W-9000-model-stdout com.amazonaws.ml.mms.wlm.WorkerLifeCycle - Model model loaded io_fd=0242a9fffefeff83-0000002f-00000007-02c0cc61d792f78c-f69a40a1\u001b[0m\n",
      "\u001b[35m2020-11-17 09:40:01,726 [INFO ] W-9000-model-stdout com.amazonaws.ml.mms.wlm.WorkerLifeCycle - Model model loaded io_fd=0242a9fffefeff83-0000002f-00000003-90fc4c61d792f78b-155a7551\u001b[0m\n",
      "\u001b[35m2020-11-17 09:40:01,726 [INFO ] W-9000-model-stdout com.amazonaws.ml.mms.wlm.WorkerLifeCycle - Model model loaded io_fd=0242a9fffefeff83-0000002f-00000008-60cccc61d792f78c-a8e0273a\u001b[0m\n",
      "\u001b[35m2020-11-17 09:40:01,725 [WARN ] W-9000-model com.amazonaws.ml.mms.wlm.WorkerLifeCycle - attachIOStreams() threadName=W-model-8\u001b[0m\n",
      "\u001b[34m2020-11-17 09:40:02,548 [INFO ] W-9000-model-stdout com.amazonaws.ml.mms.wlm.WorkerLifeCycle - Loading model from /.sagemaker/mms/models/model with contents ['learner.pkl', 'MAR-INF', 'code', 'SummaryOfModels.html', 'models']\u001b[0m\n",
      "\u001b[34m2020-11-17 09:40:02,576 [INFO ] W-9000-model com.amazonaws.ml.mms.wlm.WorkerThread - Backend response time: 22382\u001b[0m\n",
      "\u001b[34m2020-11-17 09:40:02,576 [WARN ] W-9000-model com.amazonaws.ml.mms.wlm.WorkerLifeCycle - attachIOStreams() threadName=W-model-6\u001b[0m\n",
      "\u001b[35m2020-11-17 09:40:02,548 [INFO ] W-9000-model-stdout com.amazonaws.ml.mms.wlm.WorkerLifeCycle - Loading model from /.sagemaker/mms/models/model with contents ['learner.pkl', 'MAR-INF', 'code', 'SummaryOfModels.html', 'models']\u001b[0m\n",
      "\u001b[35m2020-11-17 09:40:02,576 [INFO ] W-9000-model com.amazonaws.ml.mms.wlm.WorkerThread - Backend response time: 22382\u001b[0m\n",
      "\u001b[35m2020-11-17 09:40:02,576 [WARN ] W-9000-model com.amazonaws.ml.mms.wlm.WorkerLifeCycle - attachIOStreams() threadName=W-model-6\u001b[0m\n",
      "\u001b[34m2020-11-17 09:40:17,995 [INFO ] W-model-2-stdout com.amazonaws.ml.mms.wlm.WorkerLifeCycle - Prediction counts: Counter({2: 5510, 3: 3534, 1: 2007, 0: 1266, 4: 1119})\u001b[0m\n",
      "\u001b[35m2020-11-17 09:40:17,995 [INFO ] W-model-2-stdout com.amazonaws.ml.mms.wlm.WorkerLifeCycle - Prediction counts: Counter({2: 5510, 3: 3534, 1: 2007, 0: 1266, 4: 1119})\u001b[0m\n",
      "\u001b[34m2020-11-17 09:40:18,009 [INFO ] W-model-2-stdout com.amazonaws.ml.mms.wlm.WorkerLifeCycle - Label column (classes) found in input data. Therefore, evaluating prediction performance...\u001b[0m\n",
      "\u001b[34m2020-11-17 09:40:18,061 [INFO ] W-model-2-stdout com.amazonaws.ml.mms.wlm.WorkerLifeCycle - Exception: Encoders require their input to be uniformly strings or numbers. Got ['int', 'str']\u001b[0m\n",
      "\u001b[34m2020-11-17 09:40:18,061 [INFO ] W-model-2-stdout com.amazonaws.ml.mms.wlm.WorkerLifeCycle - Elapsed time: 33.556 seconds\u001b[0m\n",
      "\u001b[34m2020-11-17 09:40:18,063 [INFO ] W-9000-model com.amazonaws.ml.mms.wlm.WorkerThread - Backend response time: 33561\u001b[0m\n",
      "\u001b[34m2020-11-17 09:40:18,063 [INFO ] W-9000-model ACCESS_LOG - /169.254.255.130:53650 \"POST /invocations HTTP/1.1\" 200 37312\u001b[0m\n",
      "\u001b[35m2020-11-17 09:40:18,009 [INFO ] W-model-2-stdout com.amazonaws.ml.mms.wlm.WorkerLifeCycle - Label column (classes) found in input data. Therefore, evaluating prediction performance...\u001b[0m\n",
      "\u001b[35m2020-11-17 09:40:18,061 [INFO ] W-model-2-stdout com.amazonaws.ml.mms.wlm.WorkerLifeCycle - Exception: Encoders require their input to be uniformly strings or numbers. Got ['int', 'str']\u001b[0m\n",
      "\u001b[35m2020-11-17 09:40:18,061 [INFO ] W-model-2-stdout com.amazonaws.ml.mms.wlm.WorkerLifeCycle - Elapsed time: 33.556 seconds\u001b[0m\n",
      "\u001b[35m2020-11-17 09:40:18,063 [INFO ] W-9000-model com.amazonaws.ml.mms.wlm.WorkerThread - Backend response time: 33561\u001b[0m\n",
      "\u001b[35m2020-11-17 09:40:18,063 [INFO ] W-9000-model ACCESS_LOG - /169.254.255.130:53650 \"POST /invocations HTTP/1.1\" 200 37312\u001b[0m\n"
     ]
    }
   ],
   "source": [
    "output_path = f's3://{bucket}/{prefix}/output/'\n",
    "print(\"output_path: \", output_path)\n",
    "\n",
    "transformer = model.transformer(instance_count=1, \n",
    "                                instance_type=instance_type,\n",
    "                                strategy='MultiRecord',\n",
    "                                max_payload=6,\n",
    "                                max_concurrent_transforms=1,                              \n",
    "                                output_path=output_path)\n",
    "\n",
    "transformer.transform(test_s3_path, content_type='text/csv', split_type='Line')\n",
    "transformer.wait()"
   ]
  },
  {
   "cell_type": "code",
   "execution_count": 16,
   "metadata": {},
   "outputs": [
    {
     "data": {
      "text/plain": [
       "'s3://sagemaker-ap-northeast-2-057716757052/sagemaker/autogluon-tabular/output/'"
      ]
     },
     "execution_count": 16,
     "metadata": {},
     "output_type": "execute_result"
    }
   ],
   "source": [
    "output_path"
   ]
  },
  {
   "cell_type": "code",
   "execution_count": 27,
   "metadata": {},
   "outputs": [
    {
     "name": "stdout",
     "output_type": "stream",
     "text": [
      "2020-11-17 09:40:19      26872 test.csv.out\n",
      "download: s3://sagemaker-ap-northeast-2-057716757052/sagemaker/autogluon-tabular/output/test.csv.out to ./test.csv.out\n"
     ]
    }
   ],
   "source": [
    "!aws s3 ls {output_path}\n",
    "!aws s3 cp {output_path} . --recursive"
   ]
  },
  {
   "cell_type": "code",
   "execution_count": 28,
   "metadata": {},
   "outputs": [
    {
     "name": "stdout",
     "output_type": "stream",
     "text": [
      "2\n",
      "2\n",
      "2\n",
      "2\n",
      "2\n"
     ]
    }
   ],
   "source": [
    "! head -n5 test.csv.out"
   ]
  },
  {
   "cell_type": "markdown",
   "metadata": {
    "Collapsed": "false"
   },
   "source": [
    "### Endpoint"
   ]
  },
  {
   "cell_type": "markdown",
   "metadata": {
    "Collapsed": "false"
   },
   "source": [
    "##### Deploy remote or local endpoint"
   ]
  },
  {
   "cell_type": "code",
   "execution_count": 17,
   "metadata": {
    "Collapsed": "false"
   },
   "outputs": [
    {
     "name": "stdout",
     "output_type": "stream",
     "text": [
      "---------------!"
     ]
    }
   ],
   "source": [
    "instance_type = 'ml.m5.2xlarge'\n",
    "#instance_type = 'local'\n",
    "\n",
    "predictor = model.deploy(initial_instance_count=1, \n",
    "                         instance_type=instance_type)"
   ]
  },
  {
   "cell_type": "markdown",
   "metadata": {
    "Collapsed": "false"
   },
   "source": [
    "##### Attach to endpoint (or reattach if kernel was restarted)"
   ]
  },
  {
   "cell_type": "code",
   "execution_count": 18,
   "metadata": {
    "Collapsed": "false"
   },
   "outputs": [
    {
     "name": "stderr",
     "output_type": "stream",
     "text": [
      "The endpoint attribute has been renamed in sagemaker>=2.\n",
      "See: https://sagemaker.readthedocs.io/en/stable/v2.html for details.\n"
     ]
    }
   ],
   "source": [
    "# Select standard or local session based on instance_type\n",
    "if instance_type == 'local': \n",
    "    sess = local_session\n",
    "else: \n",
    "    sess = session\n",
    "\n",
    "# Attach to endpoint\n",
    "predictor = AutoGluonTabularPredictor(predictor.endpoint, sagemaker_session=sess)"
   ]
  },
  {
   "cell_type": "markdown",
   "metadata": {
    "Collapsed": "false"
   },
   "source": [
    "##### Predict on unlabeled test data"
   ]
  },
  {
   "cell_type": "code",
   "execution_count": 19,
   "metadata": {
    "Collapsed": "false"
   },
   "outputs": [
    {
     "name": "stdout",
     "output_type": "stream",
     "text": [
      "Counter({'2': 5510, '3': 3534, '1': 2007, '0': 1266, '4': 1119})\n"
     ]
    }
   ],
   "source": [
    "results = predictor.predict(X_test.to_csv(index=False)).splitlines()\n",
    "\n",
    "# Check output\n",
    "print(Counter(results))"
   ]
  },
  {
   "cell_type": "markdown",
   "metadata": {
    "Collapsed": "false"
   },
   "source": [
    "##### Predict on data that includes label column  \n",
    "Prediction performance metrics will be printed to endpoint logs."
   ]
  },
  {
   "cell_type": "code",
   "execution_count": 20,
   "metadata": {
    "Collapsed": "false"
   },
   "outputs": [
    {
     "name": "stdout",
     "output_type": "stream",
     "text": [
      "Counter({'2': 5510, '3': 3534, '1': 2007, '0': 1266, '4': 1119})\n"
     ]
    }
   ],
   "source": [
    "results = predictor.predict(test.to_csv(index=False)).splitlines()\n",
    "\n",
    "# Check output\n",
    "print(Counter(results))"
   ]
  },
  {
   "cell_type": "markdown",
   "metadata": {
    "Collapsed": "false"
   },
   "source": [
    "##### Check that classification performance metrics match evaluation printed to endpoint logs as expected"
   ]
  },
  {
   "cell_type": "code",
   "execution_count": 21,
   "metadata": {},
   "outputs": [],
   "source": [
    "y_results = list(map(int, results)) # Convert String to int"
   ]
  },
  {
   "cell_type": "code",
   "execution_count": 22,
   "metadata": {
    "Collapsed": "false"
   },
   "outputs": [
    {
     "name": "stdout",
     "output_type": "stream",
     "text": [
      "accuracy: 0.4285501637392081\n",
      "              precision    recall  f1-score   support\n",
      "\n",
      "           0   0.629542  0.467449  0.536520      1705\n",
      "           1   0.544594  0.262614  0.354352      4162\n",
      "           2   0.439564  0.534068  0.482230      4535\n",
      "           3   0.327108  0.533210  0.405472      2168\n",
      "           4   0.259160  0.334873  0.292191       866\n",
      "\n",
      "    accuracy                       0.428550     13436\n",
      "   macro avg   0.439994  0.426443  0.414153     13436\n",
      "weighted avg   0.466433  0.428550  0.424873     13436\n",
      "\n"
     ]
    }
   ],
   "source": [
    "# y_results = np.array(results)\n",
    "\n",
    "print(\"accuracy: {}\".format(accuracy_score(y_true=y_test, y_pred=y_results)))\n",
    "print(classification_report(y_true=y_test, y_pred=y_results, digits=6))"
   ]
  },
  {
   "cell_type": "code",
   "execution_count": 23,
   "metadata": {},
   "outputs": [
    {
     "data": {
      "text/plain": [
       "<Figure size 432x288 with 0 Axes>"
      ]
     },
     "execution_count": 23,
     "metadata": {},
     "output_type": "execute_result"
    },
    {
     "name": "stdout",
     "output_type": "stream",
     "text": [
      "[[ 797  462  418   25    3]\n",
      " [ 258 1093 1809  904   98]\n",
      " [ 150  293 2422 1185  485]\n",
      " [  47  117  605 1156  243]\n",
      " [  14   42  256  264  290]]\n"
     ]
    },
    {
     "data": {
      "text/plain": [
       "<Figure size 432x288 with 0 Axes>"
      ]
     },
     "metadata": {},
     "output_type": "display_data"
    },
    {
     "data": {
      "image/png": "[encoded data removed]",
      "text/plain": [
       "<Figure size 720x360 with 2 Axes>"
      ]
     },
     "metadata": {
      "image/png": {
       "height": 351,
       "width": 413
      },
      "needs_background": "light"
     },
     "output_type": "display_data"
    }
   ],
   "source": [
    "from p_utils import plot_conf_mat\n",
    "\n",
    "\n",
    "from sklearn.metrics import confusion_matrix\n",
    "import matplotlib.pyplot as plt\n",
    "%matplotlib inline\n",
    "%config InlineBackend.figure_format='retina'\n",
    "\n",
    "cm = confusion_matrix(y_true= y_test, y_pred= y_results)\n",
    "\n",
    "plt.figure()\n",
    "fig, ax = plt.subplots(figsize=(10,5))\n",
    "plot_conf_mat(cm, \n",
    "              classes=['0','1', '2', '3', '4'], \n",
    "              title='Confusion Matrix')\n",
    "plt.show()"
   ]
  },
  {
   "cell_type": "markdown",
   "metadata": {
    "Collapsed": "false"
   },
   "source": [
    "##### Clean up endpoint"
   ]
  },
  {
   "cell_type": "code",
   "execution_count": 24,
   "metadata": {
    "Collapsed": "false"
   },
   "outputs": [],
   "source": [
    "predictor.delete_endpoint()"
   ]
  }
 ],
 "metadata": {
  "kernelspec": {
   "display_name": "conda_mxnet_p36",
   "language": "python",
   "name": "conda_mxnet_p36"
  },
  "language_info": {
   "codemirror_mode": {
    "name": "ipython",
    "version": 3
   },
   "file_extension": ".py",
   "mimetype": "text/x-python",
   "name": "python",
   "nbconvert_exporter": "python",
   "pygments_lexer": "ipython3",
   "version": "3.6.10"
  }
 },
 "nbformat": 4,
 "nbformat_minor": 4
}
