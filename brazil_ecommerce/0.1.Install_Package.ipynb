{
 "cells": [
  {
   "cell_type": "markdown",
   "metadata": {},
   "source": [
    "# [Module 0.1] 추가 Python Package 설치\n",
    "\n",
    "이 워크샵은 기본 커널을 conda_python3를 사용하겠습니다.\n",
    "이 노트북은 아래 Python Package추가 설치 및 업그레이드 합니다.\n",
    "- AutoGluon 설치\n",
    "- CatBoost 설치\n",
    "- SageMaker Pyton SDK 업그레이드"
   ]
  },
  {
   "cell_type": "markdown",
   "metadata": {},
   "source": [
    "## AutoGluon 설치 "
   ]
  },
  {
   "cell_type": "code",
   "execution_count": 1,
   "metadata": {},
   "outputs": [
    {
     "name": "stdout",
     "output_type": "stream",
     "text": [
      "Requirement already satisfied: pip in /home/ec2-user/anaconda3/envs/python3/lib/python3.6/site-packages (20.3.3)\n",
      "Requirement already satisfied: setuptools in /home/ec2-user/anaconda3/envs/python3/lib/python3.6/site-packages (51.1.1)\n",
      "Collecting setuptools\n",
      "  Downloading setuptools-51.3.1-py3-none-any.whl (786 kB)\n",
      "\u001b[K     |████████████████████████████████| 786 kB 2.6 MB/s eta 0:00:01\n",
      "\u001b[?25hInstalling collected packages: setuptools\n",
      "  Attempting uninstall: setuptools\n",
      "    Found existing installation: setuptools 51.1.1\n",
      "    Uninstalling setuptools-51.1.1:\n",
      "      Successfully uninstalled setuptools-51.1.1\n",
      "Successfully installed setuptools-51.3.1\n",
      "Requirement already satisfied: mxnet<2.0.0 in /home/ec2-user/anaconda3/envs/python3/lib/python3.6/site-packages (1.7.0.post1)\n",
      "Requirement already satisfied: graphviz<0.9.0,>=0.8.1 in /home/ec2-user/anaconda3/envs/python3/lib/python3.6/site-packages (from mxnet<2.0.0) (0.8.4)\n",
      "Requirement already satisfied: numpy<2.0.0,>1.16.0 in /home/ec2-user/anaconda3/envs/python3/lib/python3.6/site-packages (from mxnet<2.0.0) (1.18.1)\n",
      "Requirement already satisfied: requests<3,>=2.20.0 in /home/ec2-user/anaconda3/envs/python3/lib/python3.6/site-packages (from mxnet<2.0.0) (2.22.0)\n",
      "Requirement already satisfied: idna<2.9,>=2.5 in /home/ec2-user/anaconda3/envs/python3/lib/python3.6/site-packages (from requests<3,>=2.20.0->mxnet<2.0.0) (2.8)\n",
      "Requirement already satisfied: certifi>=2017.4.17 in /home/ec2-user/anaconda3/envs/python3/lib/python3.6/site-packages (from requests<3,>=2.20.0->mxnet<2.0.0) (2020.6.20)\n",
      "Requirement already satisfied: chardet<3.1.0,>=3.0.2 in /home/ec2-user/anaconda3/envs/python3/lib/python3.6/site-packages (from requests<3,>=2.20.0->mxnet<2.0.0) (3.0.4)\n",
      "Requirement already satisfied: urllib3!=1.25.0,!=1.25.1,<1.26,>=1.21.1 in /home/ec2-user/anaconda3/envs/python3/lib/python3.6/site-packages (from requests<3,>=2.20.0->mxnet<2.0.0) (1.25.10)\n",
      "Requirement already satisfied: autogluon in /home/ec2-user/anaconda3/envs/python3/lib/python3.6/site-packages (0.0.15)\n",
      "Requirement already satisfied: pandas<2.0,>=1.0.0 in /home/ec2-user/anaconda3/envs/python3/lib/python3.6/site-packages (from autogluon) (1.0.1)\n",
      "Requirement already satisfied: dask>=2.6.0 in /home/ec2-user/anaconda3/envs/python3/lib/python3.6/site-packages (from autogluon) (2.11.0)\n",
      "Requirement already satisfied: distributed>=2.6.0 in /home/ec2-user/anaconda3/envs/python3/lib/python3.6/site-packages (from autogluon) (2.11.0)\n",
      "Requirement already satisfied: ConfigSpace<=0.4.10 in /home/ec2-user/anaconda3/envs/python3/lib/python3.6/site-packages (from autogluon) (0.4.10)\n",
      "Requirement already satisfied: cryptography>=2.8 in /home/ec2-user/anaconda3/envs/python3/lib/python3.6/site-packages (from autogluon) (2.8)\n",
      "Requirement already satisfied: psutil<=5.7.0,>=5.0.0 in /home/ec2-user/anaconda3/envs/python3/lib/python3.6/site-packages (from autogluon) (5.6.7)\n",
      "Requirement already satisfied: pyarrow<=1.0.0 in /home/ec2-user/anaconda3/envs/python3/lib/python3.6/site-packages (from autogluon) (1.0.0)\n",
      "Requirement already satisfied: tqdm>=4.38.0 in /home/ec2-user/anaconda3/envs/python3/lib/python3.6/site-packages (from autogluon) (4.42.1)\n",
      "Requirement already satisfied: numpy>=1.16.0 in /home/ec2-user/anaconda3/envs/python3/lib/python3.6/site-packages (from autogluon) (1.18.1)\n",
      "Requirement already satisfied: scikit-learn<0.24,>=0.22.0 in /home/ec2-user/anaconda3/envs/python3/lib/python3.6/site-packages (from autogluon) (0.22.1)\n",
      "Requirement already satisfied: scikit-optimize in /home/ec2-user/anaconda3/envs/python3/lib/python3.6/site-packages (from autogluon) (0.8.1)\n",
      "Requirement already satisfied: Pillow<=6.2.1 in /home/ec2-user/anaconda3/envs/python3/lib/python3.6/site-packages (from autogluon) (6.2.1)\n",
      "Requirement already satisfied: openml in /home/ec2-user/anaconda3/envs/python3/lib/python3.6/site-packages (from autogluon) (0.11.0)\n",
      "Requirement already satisfied: cython in /home/ec2-user/anaconda3/envs/python3/lib/python3.6/site-packages (from autogluon) (0.29.15)\n",
      "Requirement already satisfied: paramiko>=2.4 in /home/ec2-user/anaconda3/envs/python3/lib/python3.6/site-packages (from autogluon) (2.7.2)\n",
      "Requirement already satisfied: lightgbm<4.0,>=3.0 in /home/ec2-user/anaconda3/envs/python3/lib/python3.6/site-packages (from autogluon) (3.1.1)\n",
      "Requirement already satisfied: networkx<3.0,>=2.3 in /home/ec2-user/anaconda3/envs/python3/lib/python3.6/site-packages (from autogluon) (2.4)\n",
      "Requirement already satisfied: autogluon-contrib-nlp in /home/ec2-user/anaconda3/envs/python3/lib/python3.6/site-packages (from autogluon) (0.0.1b20201009)\n",
      "Requirement already satisfied: boto3 in /home/ec2-user/anaconda3/envs/python3/lib/python3.6/site-packages (from autogluon) (1.16.19)\n",
      "Requirement already satisfied: tornado>=5.0.1 in /home/ec2-user/anaconda3/envs/python3/lib/python3.6/site-packages (from autogluon) (6.0.3)\n",
      "Requirement already satisfied: pytest in /home/ec2-user/anaconda3/envs/python3/lib/python3.6/site-packages (from autogluon) (5.3.5)\n",
      "Requirement already satisfied: fastparquet==0.4.1 in /home/ec2-user/anaconda3/envs/python3/lib/python3.6/site-packages (from autogluon) (0.4.1)\n",
      "Requirement already satisfied: catboost<0.25,>=0.23.0 in /home/ec2-user/anaconda3/envs/python3/lib/python3.6/site-packages (from autogluon) (0.24.3)\n",
      "Requirement already satisfied: matplotlib in /home/ec2-user/anaconda3/envs/python3/lib/python3.6/site-packages (from autogluon) (3.1.3)\n",
      "Requirement already satisfied: graphviz<0.9.0,>=0.8.1 in /home/ec2-user/anaconda3/envs/python3/lib/python3.6/site-packages (from autogluon) (0.8.4)\n",
      "Requirement already satisfied: scipy>=1.3.3 in /home/ec2-user/anaconda3/envs/python3/lib/python3.6/site-packages (from autogluon) (1.4.1)\n",
      "Requirement already satisfied: gluoncv<0.9.0,>=0.5.0 in /home/ec2-user/anaconda3/envs/python3/lib/python3.6/site-packages (from autogluon) (0.8.0)\n",
      "Requirement already satisfied: requests in /home/ec2-user/anaconda3/envs/python3/lib/python3.6/site-packages (from autogluon) (2.22.0)\n",
      "Requirement already satisfied: six in /home/ec2-user/anaconda3/envs/python3/lib/python3.6/site-packages (from fastparquet==0.4.1->autogluon) (1.14.0)\n",
      "Requirement already satisfied: packaging in /home/ec2-user/anaconda3/envs/python3/lib/python3.6/site-packages (from fastparquet==0.4.1->autogluon) (20.1)\n",
      "Requirement already satisfied: numba>=0.28 in /home/ec2-user/anaconda3/envs/python3/lib/python3.6/site-packages (from fastparquet==0.4.1->autogluon) (0.48.0)\n",
      "Requirement already satisfied: thrift>=0.11.0 in /home/ec2-user/anaconda3/envs/python3/lib/python3.6/site-packages (from fastparquet==0.4.1->autogluon) (0.13.0)\n",
      "Requirement already satisfied: plotly in /home/ec2-user/anaconda3/envs/python3/lib/python3.6/site-packages (from catboost<0.25,>=0.23.0->autogluon) (4.12.0)\n",
      "Requirement already satisfied: typing in /home/ec2-user/anaconda3/envs/python3/lib/python3.6/site-packages (from ConfigSpace<=0.4.10->autogluon) (3.7.4.3)\n",
      "Requirement already satisfied: pyparsing in /home/ec2-user/anaconda3/envs/python3/lib/python3.6/site-packages (from ConfigSpace<=0.4.10->autogluon) (2.4.6)\n",
      "Requirement already satisfied: cffi!=1.11.3,>=1.8 in /home/ec2-user/anaconda3/envs/python3/lib/python3.6/site-packages (from cryptography>=2.8->autogluon) (1.14.0)\n",
      "Requirement already satisfied: pycparser in /home/ec2-user/anaconda3/envs/python3/lib/python3.6/site-packages (from cffi!=1.11.3,>=1.8->cryptography>=2.8->autogluon) (2.19)\n",
      "Requirement already satisfied: tblib>=1.6.0 in /home/ec2-user/anaconda3/envs/python3/lib/python3.6/site-packages (from distributed>=2.6.0->autogluon) (1.6.0)\n",
      "Requirement already satisfied: cloudpickle>=0.2.2 in /home/ec2-user/anaconda3/envs/python3/lib/python3.6/site-packages (from distributed>=2.6.0->autogluon) (1.3.0)\n",
      "Requirement already satisfied: setuptools in /home/ec2-user/anaconda3/envs/python3/lib/python3.6/site-packages (from distributed>=2.6.0->autogluon) (51.3.1)\n",
      "Requirement already satisfied: toolz>=0.7.4 in /home/ec2-user/anaconda3/envs/python3/lib/python3.6/site-packages (from distributed>=2.6.0->autogluon) (0.10.0)\n",
      "Requirement already satisfied: pyyaml in /home/ec2-user/anaconda3/envs/python3/lib/python3.6/site-packages (from distributed>=2.6.0->autogluon) (5.3.1)\n",
      "Requirement already satisfied: click>=6.6 in /home/ec2-user/anaconda3/envs/python3/lib/python3.6/site-packages (from distributed>=2.6.0->autogluon) (7.0)\n",
      "Requirement already satisfied: msgpack>=0.6.0 in /home/ec2-user/anaconda3/envs/python3/lib/python3.6/site-packages (from distributed>=2.6.0->autogluon) (0.6.1)\n",
      "Requirement already satisfied: zict>=0.1.3 in /home/ec2-user/anaconda3/envs/python3/lib/python3.6/site-packages (from distributed>=2.6.0->autogluon) (1.0.0)\n",
      "Requirement already satisfied: sortedcontainers!=2.0.0,!=2.0.1 in /home/ec2-user/anaconda3/envs/python3/lib/python3.6/site-packages (from distributed>=2.6.0->autogluon) (2.1.0)\n",
      "Requirement already satisfied: portalocker in /home/ec2-user/anaconda3/envs/python3/lib/python3.6/site-packages (from gluoncv<0.9.0,>=0.5.0->autogluon) (2.0.0)\n",
      "Requirement already satisfied: wheel in /home/ec2-user/anaconda3/envs/python3/lib/python3.6/site-packages (from lightgbm<4.0,>=3.0->autogluon) (0.34.2)\n",
      "Requirement already satisfied: decorator>=4.3.0 in /home/ec2-user/anaconda3/envs/python3/lib/python3.6/site-packages (from networkx<3.0,>=2.3->autogluon) (4.4.1)\n",
      "Requirement already satisfied: llvmlite<0.32.0,>=0.31.0dev0 in /home/ec2-user/anaconda3/envs/python3/lib/python3.6/site-packages (from numba>=0.28->fastparquet==0.4.1->autogluon) (0.31.0)\n",
      "Requirement already satisfied: pytz>=2017.2 in /home/ec2-user/anaconda3/envs/python3/lib/python3.6/site-packages (from pandas<2.0,>=1.0.0->autogluon) (2019.3)\n",
      "Requirement already satisfied: python-dateutil>=2.6.1 in /home/ec2-user/anaconda3/envs/python3/lib/python3.6/site-packages (from pandas<2.0,>=1.0.0->autogluon) (2.8.1)\n",
      "Requirement already satisfied: bcrypt>=3.1.3 in /home/ec2-user/anaconda3/envs/python3/lib/python3.6/site-packages (from paramiko>=2.4->autogluon) (3.2.0)\n",
      "Requirement already satisfied: pynacl>=1.0.1 in /home/ec2-user/anaconda3/envs/python3/lib/python3.6/site-packages (from paramiko>=2.4->autogluon) (1.4.0)\n",
      "Requirement already satisfied: joblib>=0.11 in /home/ec2-user/anaconda3/envs/python3/lib/python3.6/site-packages (from scikit-learn<0.24,>=0.22.0->autogluon) (0.14.1)\n",
      "Requirement already satisfied: heapdict in /home/ec2-user/anaconda3/envs/python3/lib/python3.6/site-packages (from zict>=0.1.3->distributed>=2.6.0->autogluon) (1.0.1)\n",
      "Requirement already satisfied: regex in /home/ec2-user/anaconda3/envs/python3/lib/python3.6/site-packages (from autogluon-contrib-nlp->autogluon) (2020.11.13)\n",
      "Requirement already satisfied: contextvars in /home/ec2-user/anaconda3/envs/python3/lib/python3.6/site-packages (from autogluon-contrib-nlp->autogluon) (2.4)\n",
      "Requirement already satisfied: sacrebleu in /home/ec2-user/anaconda3/envs/python3/lib/python3.6/site-packages (from autogluon-contrib-nlp->autogluon) (1.4.14)\n",
      "Requirement already satisfied: tokenizers<0.9.0,>=0.7.0 in /home/ec2-user/anaconda3/envs/python3/lib/python3.6/site-packages (from autogluon-contrib-nlp->autogluon) (0.8.1)\n",
      "Requirement already satisfied: protobuf in /home/ec2-user/anaconda3/envs/python3/lib/python3.6/site-packages (from autogluon-contrib-nlp->autogluon) (3.11.4)\n",
      "Requirement already satisfied: flake8 in /home/ec2-user/anaconda3/envs/python3/lib/python3.6/site-packages (from autogluon-contrib-nlp->autogluon) (3.7.9)\n",
      "Requirement already satisfied: yacs>=0.1.6 in /home/ec2-user/anaconda3/envs/python3/lib/python3.6/site-packages (from autogluon-contrib-nlp->autogluon) (0.1.8)\n",
      "Requirement already satisfied: sentencepiece in /home/ec2-user/anaconda3/envs/python3/lib/python3.6/site-packages (from autogluon-contrib-nlp->autogluon) (0.1.94)\n",
      "Requirement already satisfied: sacremoses>=0.0.38 in /home/ec2-user/anaconda3/envs/python3/lib/python3.6/site-packages (from autogluon-contrib-nlp->autogluon) (0.0.43)\n",
      "Requirement already satisfied: jmespath<1.0.0,>=0.7.1 in /home/ec2-user/anaconda3/envs/python3/lib/python3.6/site-packages (from boto3->autogluon) (0.10.0)\n",
      "Requirement already satisfied: botocore<1.20.0,>=1.19.19 in /home/ec2-user/anaconda3/envs/python3/lib/python3.6/site-packages (from boto3->autogluon) (1.19.19)\n",
      "Requirement already satisfied: s3transfer<0.4.0,>=0.3.0 in /home/ec2-user/anaconda3/envs/python3/lib/python3.6/site-packages (from boto3->autogluon) (0.3.3)\n",
      "Requirement already satisfied: urllib3<1.27,>=1.25.4 in /home/ec2-user/anaconda3/envs/python3/lib/python3.6/site-packages (from botocore<1.20.0,>=1.19.19->boto3->autogluon) (1.25.10)\n",
      "Requirement already satisfied: immutables>=0.9 in /home/ec2-user/anaconda3/envs/python3/lib/python3.6/site-packages (from contextvars->autogluon-contrib-nlp->autogluon) (0.14)\n",
      "Requirement already satisfied: pyflakes<2.2.0,>=2.1.0 in /home/ec2-user/anaconda3/envs/python3/lib/python3.6/site-packages (from flake8->autogluon-contrib-nlp->autogluon) (2.1.1)\n",
      "Requirement already satisfied: pycodestyle<2.6.0,>=2.5.0 in /home/ec2-user/anaconda3/envs/python3/lib/python3.6/site-packages (from flake8->autogluon-contrib-nlp->autogluon) (2.5.0)\n",
      "Requirement already satisfied: entrypoints<0.4.0,>=0.3.0 in /home/ec2-user/anaconda3/envs/python3/lib/python3.6/site-packages (from flake8->autogluon-contrib-nlp->autogluon) (0.3)\n",
      "Requirement already satisfied: mccabe<0.7.0,>=0.6.0 in /home/ec2-user/anaconda3/envs/python3/lib/python3.6/site-packages (from flake8->autogluon-contrib-nlp->autogluon) (0.6.1)\n",
      "Requirement already satisfied: cycler>=0.10 in /home/ec2-user/anaconda3/envs/python3/lib/python3.6/site-packages (from matplotlib->autogluon) (0.10.0)\n",
      "Requirement already satisfied: kiwisolver>=1.0.1 in /home/ec2-user/anaconda3/envs/python3/lib/python3.6/site-packages (from matplotlib->autogluon) (1.1.0)\n",
      "Requirement already satisfied: xmltodict in /home/ec2-user/anaconda3/envs/python3/lib/python3.6/site-packages (from openml->autogluon) (0.12.0)\n",
      "Requirement already satisfied: liac-arff>=2.4.0 in /home/ec2-user/anaconda3/envs/python3/lib/python3.6/site-packages (from openml->autogluon) (2.5.0)\n",
      "Requirement already satisfied: retrying>=1.3.3 in /home/ec2-user/anaconda3/envs/python3/lib/python3.6/site-packages (from plotly->catboost<0.25,>=0.23.0->autogluon) (1.3.3)\n",
      "Requirement already satisfied: py>=1.5.0 in /home/ec2-user/anaconda3/envs/python3/lib/python3.6/site-packages (from pytest->autogluon) (1.8.1)\n",
      "Requirement already satisfied: attrs>=17.4.0 in /home/ec2-user/anaconda3/envs/python3/lib/python3.6/site-packages (from pytest->autogluon) (19.3.0)\n",
      "Requirement already satisfied: more-itertools>=4.0.0 in /home/ec2-user/anaconda3/envs/python3/lib/python3.6/site-packages (from pytest->autogluon) (8.2.0)\n",
      "Requirement already satisfied: pluggy<1.0,>=0.12 in /home/ec2-user/anaconda3/envs/python3/lib/python3.6/site-packages (from pytest->autogluon) (0.13.1)\n",
      "Requirement already satisfied: wcwidth in /home/ec2-user/anaconda3/envs/python3/lib/python3.6/site-packages (from pytest->autogluon) (0.1.8)\n",
      "Requirement already satisfied: importlib-metadata>=0.12 in /home/ec2-user/anaconda3/envs/python3/lib/python3.6/site-packages (from pytest->autogluon) (1.5.0)\n",
      "Requirement already satisfied: zipp>=0.5 in /home/ec2-user/anaconda3/envs/python3/lib/python3.6/site-packages (from importlib-metadata>=0.12->pytest->autogluon) (2.2.0)\n",
      "Requirement already satisfied: chardet<3.1.0,>=3.0.2 in /home/ec2-user/anaconda3/envs/python3/lib/python3.6/site-packages (from requests->autogluon) (3.0.4)\n",
      "Requirement already satisfied: idna<2.9,>=2.5 in /home/ec2-user/anaconda3/envs/python3/lib/python3.6/site-packages (from requests->autogluon) (2.8)\n",
      "Requirement already satisfied: certifi>=2017.4.17 in /home/ec2-user/anaconda3/envs/python3/lib/python3.6/site-packages (from requests->autogluon) (2020.6.20)\n",
      "Requirement already satisfied: pyaml>=16.9 in /home/ec2-user/anaconda3/envs/python3/lib/python3.6/site-packages (from scikit-optimize->autogluon) (20.4.0)\n"
     ]
    }
   ],
   "source": [
    "# First install package from terminal:\n",
    "! pip install --upgrade pip\n",
    "! pip install --upgrade setuptools\n",
    "! pip install --upgrade \"mxnet<2.0.0\"\n",
    "# ! pip install --pre autogluon # 0.0.15 Version - dev\n",
    "! pip install autogluon # 0.0.14 Version - stable\n",
    "\n",
    "# from autogluon import TabularPrediction as task"
   ]
  },
  {
   "cell_type": "markdown",
   "metadata": {},
   "source": [
    "## Catboost 설치"
   ]
  },
  {
   "cell_type": "code",
   "execution_count": 2,
   "metadata": {},
   "outputs": [
    {
     "name": "stdout",
     "output_type": "stream",
     "text": [
      "Requirement already satisfied: catboost in /home/ec2-user/anaconda3/envs/python3/lib/python3.6/site-packages (0.24.3)\n",
      "Requirement already satisfied: pandas>=0.24.0 in /home/ec2-user/anaconda3/envs/python3/lib/python3.6/site-packages (from catboost) (1.0.1)\n",
      "Requirement already satisfied: six in /home/ec2-user/anaconda3/envs/python3/lib/python3.6/site-packages (from catboost) (1.14.0)\n",
      "Requirement already satisfied: scipy in /home/ec2-user/anaconda3/envs/python3/lib/python3.6/site-packages (from catboost) (1.4.1)\n",
      "Requirement already satisfied: plotly in /home/ec2-user/anaconda3/envs/python3/lib/python3.6/site-packages (from catboost) (4.12.0)\n",
      "Requirement already satisfied: matplotlib in /home/ec2-user/anaconda3/envs/python3/lib/python3.6/site-packages (from catboost) (3.1.3)\n",
      "Requirement already satisfied: graphviz in /home/ec2-user/anaconda3/envs/python3/lib/python3.6/site-packages (from catboost) (0.8.4)\n",
      "Requirement already satisfied: numpy>=1.16.0 in /home/ec2-user/anaconda3/envs/python3/lib/python3.6/site-packages (from catboost) (1.18.1)\n",
      "Requirement already satisfied: pytz>=2017.2 in /home/ec2-user/anaconda3/envs/python3/lib/python3.6/site-packages (from pandas>=0.24.0->catboost) (2019.3)\n",
      "Requirement already satisfied: python-dateutil>=2.6.1 in /home/ec2-user/anaconda3/envs/python3/lib/python3.6/site-packages (from pandas>=0.24.0->catboost) (2.8.1)\n",
      "Requirement already satisfied: pyparsing!=2.0.4,!=2.1.2,!=2.1.6,>=2.0.1 in /home/ec2-user/anaconda3/envs/python3/lib/python3.6/site-packages (from matplotlib->catboost) (2.4.6)\n",
      "Requirement already satisfied: cycler>=0.10 in /home/ec2-user/anaconda3/envs/python3/lib/python3.6/site-packages (from matplotlib->catboost) (0.10.0)\n",
      "Requirement already satisfied: kiwisolver>=1.0.1 in /home/ec2-user/anaconda3/envs/python3/lib/python3.6/site-packages (from matplotlib->catboost) (1.1.0)\n",
      "Requirement already satisfied: setuptools in /home/ec2-user/anaconda3/envs/python3/lib/python3.6/site-packages (from kiwisolver>=1.0.1->matplotlib->catboost) (51.3.1)\n",
      "Requirement already satisfied: retrying>=1.3.3 in /home/ec2-user/anaconda3/envs/python3/lib/python3.6/site-packages (from plotly->catboost) (1.3.3)\n"
     ]
    }
   ],
   "source": [
    "! pip install catboost"
   ]
  },
  {
   "cell_type": "markdown",
   "metadata": {},
   "source": [
    "## SageMaker 최신 버전으로 업그레이드"
   ]
  },
  {
   "cell_type": "code",
   "execution_count": 3,
   "metadata": {},
   "outputs": [
    {
     "name": "stdout",
     "output_type": "stream",
     "text": [
      "Requirement already satisfied: sagemaker in /home/ec2-user/anaconda3/envs/python3/lib/python3.6/site-packages (2.16.4.dev0)\n",
      "Collecting sagemaker\n",
      "  Downloading sagemaker-2.23.4.post0.tar.gz (396 kB)\n",
      "\u001b[K     |████████████████████████████████| 396 kB 2.5 MB/s eta 0:00:01\n",
      "\u001b[?25hRequirement already satisfied: attrs in /home/ec2-user/anaconda3/envs/python3/lib/python3.6/site-packages (from sagemaker) (19.3.0)\n",
      "Requirement already satisfied: google-pasta in /home/ec2-user/anaconda3/envs/python3/lib/python3.6/site-packages (from sagemaker) (0.2.0)\n",
      "Requirement already satisfied: numpy>=1.9.0 in /home/ec2-user/anaconda3/envs/python3/lib/python3.6/site-packages (from sagemaker) (1.18.1)\n",
      "Requirement already satisfied: protobuf>=3.1 in /home/ec2-user/anaconda3/envs/python3/lib/python3.6/site-packages (from sagemaker) (3.11.4)\n",
      "Requirement already satisfied: protobuf3-to-dict>=0.1.5 in /home/ec2-user/anaconda3/envs/python3/lib/python3.6/site-packages (from sagemaker) (0.1.5)\n",
      "Requirement already satisfied: importlib-metadata>=1.4.0 in /home/ec2-user/anaconda3/envs/python3/lib/python3.6/site-packages (from sagemaker) (1.5.0)\n",
      "Requirement already satisfied: packaging>=20.0 in /home/ec2-user/anaconda3/envs/python3/lib/python3.6/site-packages (from sagemaker) (20.1)\n",
      "Collecting smdebug_rulesconfig==1.0.1\n",
      "  Downloading smdebug_rulesconfig-1.0.1-py2.py3-none-any.whl (20 kB)\n",
      "Collecting boto3>=1.16.32\n",
      "  Downloading boto3-1.16.56-py2.py3-none-any.whl (130 kB)\n",
      "\u001b[K     |████████████████████████████████| 130 kB 6.7 MB/s eta 0:00:01\n",
      "\u001b[?25hRequirement already satisfied: jmespath<1.0.0,>=0.7.1 in /home/ec2-user/anaconda3/envs/python3/lib/python3.6/site-packages (from boto3>=1.16.32->sagemaker) (0.10.0)\n",
      "Requirement already satisfied: s3transfer<0.4.0,>=0.3.0 in /home/ec2-user/anaconda3/envs/python3/lib/python3.6/site-packages (from boto3>=1.16.32->sagemaker) (0.3.3)\n",
      "Collecting botocore<1.20.0,>=1.19.56\n",
      "  Downloading botocore-1.19.56-py2.py3-none-any.whl (7.2 MB)\n",
      "\u001b[K     |████████████████████████████████| 7.2 MB 6.7 MB/s eta 0:00:01\n",
      "\u001b[?25hRequirement already satisfied: python-dateutil<3.0.0,>=2.1 in /home/ec2-user/anaconda3/envs/python3/lib/python3.6/site-packages (from botocore<1.20.0,>=1.19.56->boto3>=1.16.32->sagemaker) (2.8.1)\n",
      "Requirement already satisfied: urllib3<1.27,>=1.25.4 in /home/ec2-user/anaconda3/envs/python3/lib/python3.6/site-packages (from botocore<1.20.0,>=1.19.56->boto3>=1.16.32->sagemaker) (1.25.10)\n",
      "Requirement already satisfied: zipp>=0.5 in /home/ec2-user/anaconda3/envs/python3/lib/python3.6/site-packages (from importlib-metadata>=1.4.0->sagemaker) (2.2.0)\n",
      "Requirement already satisfied: pyparsing>=2.0.2 in /home/ec2-user/anaconda3/envs/python3/lib/python3.6/site-packages (from packaging>=20.0->sagemaker) (2.4.6)\n",
      "Requirement already satisfied: six in /home/ec2-user/anaconda3/envs/python3/lib/python3.6/site-packages (from packaging>=20.0->sagemaker) (1.14.0)\n",
      "Requirement already satisfied: setuptools in /home/ec2-user/anaconda3/envs/python3/lib/python3.6/site-packages (from protobuf>=3.1->sagemaker) (51.3.1)\n",
      "Building wheels for collected packages: sagemaker\n",
      "  Building wheel for sagemaker (setup.py) ... \u001b[?25ldone\n",
      "\u001b[?25h  Created wheel for sagemaker: filename=sagemaker-2.23.4.post0-py2.py3-none-any.whl size=559728 sha256=17f3b9785d581958542410bac1af04260398858cbd8eec1cd77d402bbc7f1838\n",
      "  Stored in directory: /home/ec2-user/.cache/pip/wheels/f4/bf/4d/b0f85f925dd2e323e2e159e33204ae7340fd55bf4745797a3d\n",
      "Successfully built sagemaker\n",
      "Installing collected packages: botocore, smdebug-rulesconfig, boto3, sagemaker\n",
      "  Attempting uninstall: botocore\n",
      "    Found existing installation: botocore 1.19.19\n",
      "    Uninstalling botocore-1.19.19:\n",
      "      Successfully uninstalled botocore-1.19.19\n",
      "  Attempting uninstall: smdebug-rulesconfig\n",
      "    Found existing installation: smdebug-rulesconfig 0.1.6\n",
      "    Uninstalling smdebug-rulesconfig-0.1.6:\n",
      "      Successfully uninstalled smdebug-rulesconfig-0.1.6\n",
      "  Attempting uninstall: boto3\n",
      "    Found existing installation: boto3 1.16.19\n",
      "    Uninstalling boto3-1.16.19:\n",
      "      Successfully uninstalled boto3-1.16.19\n",
      "  Attempting uninstall: sagemaker\n",
      "    Found existing installation: sagemaker 2.16.4.dev0\n",
      "    Uninstalling sagemaker-2.16.4.dev0:\n",
      "      Successfully uninstalled sagemaker-2.16.4.dev0\n",
      "\u001b[31mERROR: pip's dependency resolver does not currently take into account all the packages that are installed. This behaviour is the source of the following dependency conflicts.\n",
      "awscli 1.18.179 requires botocore==1.19.19, but you have botocore 1.19.56 which is incompatible.\u001b[0m\n",
      "Successfully installed boto3-1.16.56 botocore-1.19.56 sagemaker-2.23.4.post0 smdebug-rulesconfig-1.0.1\n"
     ]
    }
   ],
   "source": [
    "! pip install -U sagemaker"
   ]
  },
  {
   "cell_type": "code",
   "execution_count": null,
   "metadata": {},
   "outputs": [],
   "source": []
  }
 ],
 "metadata": {
  "kernelspec": {
   "display_name": "conda_python3",
   "language": "python",
   "name": "conda_python3"
  },
  "language_info": {
   "codemirror_mode": {
    "name": "ipython",
    "version": 3
   },
   "file_extension": ".py",
   "mimetype": "text/x-python",
   "name": "python",
   "nbconvert_exporter": "python",
   "pygments_lexer": "ipython3",
   "version": "3.6.10"
  }
 },
 "nbformat": 4,
 "nbformat_minor": 4
}
